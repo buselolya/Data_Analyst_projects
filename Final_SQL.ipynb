{
 "cells": [
  {
   "cell_type": "markdown",
   "metadata": {},
   "source": [
    "# SQL"
   ]
  },
  {
   "cell_type": "markdown",
   "metadata": {},
   "source": [
    "Был преобретен крупный сервис для чтения книг по подписке. Имеется база данных с информацией о книгах, издательствах, авторах, а также пользовательские обзоры книг.\n",
    "\n",
    "Цель: сформулировать ценностное предложение для нового продукта\n",
    "\n",
    "Задача: проанализировать базу данных:\n",
    "    - посчитать количество книг, вышедших после 1 января 2000 года;\n",
    "    - для каждой книги посчитайте количество обзоров и среднюю оценку;\n",
    "    - определить издательство, которое выпустило наибольшее число книг толще 50 страниц;\n",
    "    - определить автора с самой высокой средней оценкой книг;\n",
    "    - посчитать среднее количество обзоров от пользователей, которые поставили больше 48 оценок.\n",
    "    \n",
    "Ход исследования:\n",
    "    1. Загрузка данных\n",
    "    2. Исследование данных\n",
    "    3. Выводы"
   ]
  },
  {
   "cell_type": "markdown",
   "metadata": {},
   "source": [
    "# Загрузка данных"
   ]
  },
  {
   "cell_type": "code",
   "execution_count": 1,
   "metadata": {},
   "outputs": [],
   "source": [
    "# импортируем библиотеки\n",
    "import pandas as pd\n",
    "from sqlalchemy import text, create_engine\n",
    "\n",
    "# устанавливаем параметры\n",
    "db_config = {'user': 'praktikum_student', # имя пользователя\n",
    "'pwd': 'Sdf4$2;d-d30pp', # пароль\n",
    "'host': 'rc1b-wcoijxj3yxfsf3fs.mdb.yandexcloud.net',\n",
    "'port': 6432, # порт подключения\n",
    "'db': 'data-analyst-final-project-db'} # название базы данных\n",
    "connection_string = 'postgresql://{user}:{pwd}@{host}:{port}/{db}'.format(**db_config)\n",
    "\n",
    "# сохраняем коннектор\n",
    "engine = create_engine(connection_string, connect_args={'sslmode':'require'})\n",
    "\n",
    "# чтобы выполнить SQL-запрос, используем Pandas\n",
    "#query = '''SELECT * FROM books LIMIT 5'''\n",
    "\n",
    "con=engine.connect()"
   ]
  },
  {
   "cell_type": "markdown",
   "metadata": {},
   "source": [
    "## Изучение данных"
   ]
  },
  {
   "cell_type": "markdown",
   "metadata": {},
   "source": [
    "Выведем первые пять строк каждого датасета"
   ]
  },
  {
   "cell_type": "code",
   "execution_count": 2,
   "metadata": {},
   "outputs": [],
   "source": [
    "def data_descr(data):\n",
    "    query = '''\n",
    "    SELECT *\n",
    "    FROM '''+data+'''\n",
    "    LIMIT 5 '''\n",
    "    \n",
    "    print(f'Вывод первых 5 строк датасета {data}:')\n",
    "    display(pd.io.sql.read_sql(sql=text(query), con = con))\n",
    "    print('='*50)"
   ]
  },
  {
   "cell_type": "code",
   "execution_count": 3,
   "metadata": {},
   "outputs": [
    {
     "name": "stdout",
     "output_type": "stream",
     "text": [
      "Вывод первых 5 строк датасета books:\n"
     ]
    },
    {
     "data": {
      "text/html": [
       "<div>\n",
       "<style scoped>\n",
       "    .dataframe tbody tr th:only-of-type {\n",
       "        vertical-align: middle;\n",
       "    }\n",
       "\n",
       "    .dataframe tbody tr th {\n",
       "        vertical-align: top;\n",
       "    }\n",
       "\n",
       "    .dataframe thead th {\n",
       "        text-align: right;\n",
       "    }\n",
       "</style>\n",
       "<table border=\"1\" class=\"dataframe\">\n",
       "  <thead>\n",
       "    <tr style=\"text-align: right;\">\n",
       "      <th></th>\n",
       "      <th>book_id</th>\n",
       "      <th>author_id</th>\n",
       "      <th>title</th>\n",
       "      <th>num_pages</th>\n",
       "      <th>publication_date</th>\n",
       "      <th>publisher_id</th>\n",
       "    </tr>\n",
       "  </thead>\n",
       "  <tbody>\n",
       "    <tr>\n",
       "      <th>0</th>\n",
       "      <td>1</td>\n",
       "      <td>546</td>\n",
       "      <td>'Salem's Lot</td>\n",
       "      <td>594</td>\n",
       "      <td>2005-11-01</td>\n",
       "      <td>93</td>\n",
       "    </tr>\n",
       "    <tr>\n",
       "      <th>1</th>\n",
       "      <td>2</td>\n",
       "      <td>465</td>\n",
       "      <td>1 000 Places to See Before You Die</td>\n",
       "      <td>992</td>\n",
       "      <td>2003-05-22</td>\n",
       "      <td>336</td>\n",
       "    </tr>\n",
       "    <tr>\n",
       "      <th>2</th>\n",
       "      <td>3</td>\n",
       "      <td>407</td>\n",
       "      <td>13 Little Blue Envelopes (Little Blue Envelope...</td>\n",
       "      <td>322</td>\n",
       "      <td>2010-12-21</td>\n",
       "      <td>135</td>\n",
       "    </tr>\n",
       "    <tr>\n",
       "      <th>3</th>\n",
       "      <td>4</td>\n",
       "      <td>82</td>\n",
       "      <td>1491: New Revelations of the Americas Before C...</td>\n",
       "      <td>541</td>\n",
       "      <td>2006-10-10</td>\n",
       "      <td>309</td>\n",
       "    </tr>\n",
       "    <tr>\n",
       "      <th>4</th>\n",
       "      <td>5</td>\n",
       "      <td>125</td>\n",
       "      <td>1776</td>\n",
       "      <td>386</td>\n",
       "      <td>2006-07-04</td>\n",
       "      <td>268</td>\n",
       "    </tr>\n",
       "  </tbody>\n",
       "</table>\n",
       "</div>"
      ],
      "text/plain": [
       "   book_id  author_id                                              title  \\\n",
       "0        1        546                                       'Salem's Lot   \n",
       "1        2        465                 1 000 Places to See Before You Die   \n",
       "2        3        407  13 Little Blue Envelopes (Little Blue Envelope...   \n",
       "3        4         82  1491: New Revelations of the Americas Before C...   \n",
       "4        5        125                                               1776   \n",
       "\n",
       "   num_pages publication_date  publisher_id  \n",
       "0        594       2005-11-01            93  \n",
       "1        992       2003-05-22           336  \n",
       "2        322       2010-12-21           135  \n",
       "3        541       2006-10-10           309  \n",
       "4        386       2006-07-04           268  "
      ]
     },
     "metadata": {},
     "output_type": "display_data"
    },
    {
     "name": "stdout",
     "output_type": "stream",
     "text": [
      "==================================================\n",
      "Вывод первых 5 строк датасета authors:\n"
     ]
    },
    {
     "data": {
      "text/html": [
       "<div>\n",
       "<style scoped>\n",
       "    .dataframe tbody tr th:only-of-type {\n",
       "        vertical-align: middle;\n",
       "    }\n",
       "\n",
       "    .dataframe tbody tr th {\n",
       "        vertical-align: top;\n",
       "    }\n",
       "\n",
       "    .dataframe thead th {\n",
       "        text-align: right;\n",
       "    }\n",
       "</style>\n",
       "<table border=\"1\" class=\"dataframe\">\n",
       "  <thead>\n",
       "    <tr style=\"text-align: right;\">\n",
       "      <th></th>\n",
       "      <th>author_id</th>\n",
       "      <th>author</th>\n",
       "    </tr>\n",
       "  </thead>\n",
       "  <tbody>\n",
       "    <tr>\n",
       "      <th>0</th>\n",
       "      <td>1</td>\n",
       "      <td>A.S. Byatt</td>\n",
       "    </tr>\n",
       "    <tr>\n",
       "      <th>1</th>\n",
       "      <td>2</td>\n",
       "      <td>Aesop/Laura Harris/Laura Gibbs</td>\n",
       "    </tr>\n",
       "    <tr>\n",
       "      <th>2</th>\n",
       "      <td>3</td>\n",
       "      <td>Agatha Christie</td>\n",
       "    </tr>\n",
       "    <tr>\n",
       "      <th>3</th>\n",
       "      <td>4</td>\n",
       "      <td>Alan Brennert</td>\n",
       "    </tr>\n",
       "    <tr>\n",
       "      <th>4</th>\n",
       "      <td>5</td>\n",
       "      <td>Alan Moore/David   Lloyd</td>\n",
       "    </tr>\n",
       "  </tbody>\n",
       "</table>\n",
       "</div>"
      ],
      "text/plain": [
       "   author_id                          author\n",
       "0          1                      A.S. Byatt\n",
       "1          2  Aesop/Laura Harris/Laura Gibbs\n",
       "2          3                 Agatha Christie\n",
       "3          4                   Alan Brennert\n",
       "4          5        Alan Moore/David   Lloyd"
      ]
     },
     "metadata": {},
     "output_type": "display_data"
    },
    {
     "name": "stdout",
     "output_type": "stream",
     "text": [
      "==================================================\n",
      "Вывод первых 5 строк датасета publishers:\n"
     ]
    },
    {
     "data": {
      "text/html": [
       "<div>\n",
       "<style scoped>\n",
       "    .dataframe tbody tr th:only-of-type {\n",
       "        vertical-align: middle;\n",
       "    }\n",
       "\n",
       "    .dataframe tbody tr th {\n",
       "        vertical-align: top;\n",
       "    }\n",
       "\n",
       "    .dataframe thead th {\n",
       "        text-align: right;\n",
       "    }\n",
       "</style>\n",
       "<table border=\"1\" class=\"dataframe\">\n",
       "  <thead>\n",
       "    <tr style=\"text-align: right;\">\n",
       "      <th></th>\n",
       "      <th>publisher_id</th>\n",
       "      <th>publisher</th>\n",
       "    </tr>\n",
       "  </thead>\n",
       "  <tbody>\n",
       "    <tr>\n",
       "      <th>0</th>\n",
       "      <td>1</td>\n",
       "      <td>Ace</td>\n",
       "    </tr>\n",
       "    <tr>\n",
       "      <th>1</th>\n",
       "      <td>2</td>\n",
       "      <td>Ace Book</td>\n",
       "    </tr>\n",
       "    <tr>\n",
       "      <th>2</th>\n",
       "      <td>3</td>\n",
       "      <td>Ace Books</td>\n",
       "    </tr>\n",
       "    <tr>\n",
       "      <th>3</th>\n",
       "      <td>4</td>\n",
       "      <td>Ace Hardcover</td>\n",
       "    </tr>\n",
       "    <tr>\n",
       "      <th>4</th>\n",
       "      <td>5</td>\n",
       "      <td>Addison Wesley Publishing Company</td>\n",
       "    </tr>\n",
       "  </tbody>\n",
       "</table>\n",
       "</div>"
      ],
      "text/plain": [
       "   publisher_id                          publisher\n",
       "0             1                                Ace\n",
       "1             2                           Ace Book\n",
       "2             3                          Ace Books\n",
       "3             4                      Ace Hardcover\n",
       "4             5  Addison Wesley Publishing Company"
      ]
     },
     "metadata": {},
     "output_type": "display_data"
    },
    {
     "name": "stdout",
     "output_type": "stream",
     "text": [
      "==================================================\n",
      "Вывод первых 5 строк датасета ratings:\n"
     ]
    },
    {
     "data": {
      "text/html": [
       "<div>\n",
       "<style scoped>\n",
       "    .dataframe tbody tr th:only-of-type {\n",
       "        vertical-align: middle;\n",
       "    }\n",
       "\n",
       "    .dataframe tbody tr th {\n",
       "        vertical-align: top;\n",
       "    }\n",
       "\n",
       "    .dataframe thead th {\n",
       "        text-align: right;\n",
       "    }\n",
       "</style>\n",
       "<table border=\"1\" class=\"dataframe\">\n",
       "  <thead>\n",
       "    <tr style=\"text-align: right;\">\n",
       "      <th></th>\n",
       "      <th>rating_id</th>\n",
       "      <th>book_id</th>\n",
       "      <th>username</th>\n",
       "      <th>rating</th>\n",
       "    </tr>\n",
       "  </thead>\n",
       "  <tbody>\n",
       "    <tr>\n",
       "      <th>0</th>\n",
       "      <td>1</td>\n",
       "      <td>1</td>\n",
       "      <td>ryanfranco</td>\n",
       "      <td>4</td>\n",
       "    </tr>\n",
       "    <tr>\n",
       "      <th>1</th>\n",
       "      <td>2</td>\n",
       "      <td>1</td>\n",
       "      <td>grantpatricia</td>\n",
       "      <td>2</td>\n",
       "    </tr>\n",
       "    <tr>\n",
       "      <th>2</th>\n",
       "      <td>3</td>\n",
       "      <td>1</td>\n",
       "      <td>brandtandrea</td>\n",
       "      <td>5</td>\n",
       "    </tr>\n",
       "    <tr>\n",
       "      <th>3</th>\n",
       "      <td>4</td>\n",
       "      <td>2</td>\n",
       "      <td>lorichen</td>\n",
       "      <td>3</td>\n",
       "    </tr>\n",
       "    <tr>\n",
       "      <th>4</th>\n",
       "      <td>5</td>\n",
       "      <td>2</td>\n",
       "      <td>mariokeller</td>\n",
       "      <td>2</td>\n",
       "    </tr>\n",
       "  </tbody>\n",
       "</table>\n",
       "</div>"
      ],
      "text/plain": [
       "   rating_id  book_id       username  rating\n",
       "0          1        1     ryanfranco       4\n",
       "1          2        1  grantpatricia       2\n",
       "2          3        1   brandtandrea       5\n",
       "3          4        2       lorichen       3\n",
       "4          5        2    mariokeller       2"
      ]
     },
     "metadata": {},
     "output_type": "display_data"
    },
    {
     "name": "stdout",
     "output_type": "stream",
     "text": [
      "==================================================\n",
      "Вывод первых 5 строк датасета reviews:\n"
     ]
    },
    {
     "data": {
      "text/html": [
       "<div>\n",
       "<style scoped>\n",
       "    .dataframe tbody tr th:only-of-type {\n",
       "        vertical-align: middle;\n",
       "    }\n",
       "\n",
       "    .dataframe tbody tr th {\n",
       "        vertical-align: top;\n",
       "    }\n",
       "\n",
       "    .dataframe thead th {\n",
       "        text-align: right;\n",
       "    }\n",
       "</style>\n",
       "<table border=\"1\" class=\"dataframe\">\n",
       "  <thead>\n",
       "    <tr style=\"text-align: right;\">\n",
       "      <th></th>\n",
       "      <th>review_id</th>\n",
       "      <th>book_id</th>\n",
       "      <th>username</th>\n",
       "      <th>text</th>\n",
       "    </tr>\n",
       "  </thead>\n",
       "  <tbody>\n",
       "    <tr>\n",
       "      <th>0</th>\n",
       "      <td>1</td>\n",
       "      <td>1</td>\n",
       "      <td>brandtandrea</td>\n",
       "      <td>Mention society tell send professor analysis. ...</td>\n",
       "    </tr>\n",
       "    <tr>\n",
       "      <th>1</th>\n",
       "      <td>2</td>\n",
       "      <td>1</td>\n",
       "      <td>ryanfranco</td>\n",
       "      <td>Foot glass pretty audience hit themselves. Amo...</td>\n",
       "    </tr>\n",
       "    <tr>\n",
       "      <th>2</th>\n",
       "      <td>3</td>\n",
       "      <td>2</td>\n",
       "      <td>lorichen</td>\n",
       "      <td>Listen treat keep worry. Miss husband tax but ...</td>\n",
       "    </tr>\n",
       "    <tr>\n",
       "      <th>3</th>\n",
       "      <td>4</td>\n",
       "      <td>3</td>\n",
       "      <td>johnsonamanda</td>\n",
       "      <td>Finally month interesting blue could nature cu...</td>\n",
       "    </tr>\n",
       "    <tr>\n",
       "      <th>4</th>\n",
       "      <td>5</td>\n",
       "      <td>3</td>\n",
       "      <td>scotttamara</td>\n",
       "      <td>Nation purpose heavy give wait song will. List...</td>\n",
       "    </tr>\n",
       "  </tbody>\n",
       "</table>\n",
       "</div>"
      ],
      "text/plain": [
       "   review_id  book_id       username  \\\n",
       "0          1        1   brandtandrea   \n",
       "1          2        1     ryanfranco   \n",
       "2          3        2       lorichen   \n",
       "3          4        3  johnsonamanda   \n",
       "4          5        3    scotttamara   \n",
       "\n",
       "                                                text  \n",
       "0  Mention society tell send professor analysis. ...  \n",
       "1  Foot glass pretty audience hit themselves. Amo...  \n",
       "2  Listen treat keep worry. Miss husband tax but ...  \n",
       "3  Finally month interesting blue could nature cu...  \n",
       "4  Nation purpose heavy give wait song will. List...  "
      ]
     },
     "metadata": {},
     "output_type": "display_data"
    },
    {
     "name": "stdout",
     "output_type": "stream",
     "text": [
      "==================================================\n"
     ]
    }
   ],
   "source": [
    "data = ['books', 'authors', 'publishers', 'ratings', 'reviews']\n",
    "\n",
    "for i in data:\n",
    "    data_descr(i)"
   ]
  },
  {
   "cell_type": "code",
   "execution_count": 4,
   "metadata": {},
   "outputs": [
    {
     "data": {
      "text/html": [
       "<div>\n",
       "<style scoped>\n",
       "    .dataframe tbody tr th:only-of-type {\n",
       "        vertical-align: middle;\n",
       "    }\n",
       "\n",
       "    .dataframe tbody tr th {\n",
       "        vertical-align: top;\n",
       "    }\n",
       "\n",
       "    .dataframe thead th {\n",
       "        text-align: right;\n",
       "    }\n",
       "</style>\n",
       "<table border=\"1\" class=\"dataframe\">\n",
       "  <thead>\n",
       "    <tr style=\"text-align: right;\">\n",
       "      <th></th>\n",
       "      <th>book_id</th>\n",
       "      <th>author_id</th>\n",
       "      <th>title</th>\n",
       "      <th>num_pages</th>\n",
       "      <th>publication_date</th>\n",
       "      <th>publisher_id</th>\n",
       "    </tr>\n",
       "  </thead>\n",
       "  <tbody>\n",
       "  </tbody>\n",
       "</table>\n",
       "</div>"
      ],
      "text/plain": [
       "Empty DataFrame\n",
       "Columns: [book_id, author_id, title, num_pages, publication_date, publisher_id]\n",
       "Index: []"
      ]
     },
     "execution_count": 4,
     "metadata": {},
     "output_type": "execute_result"
    }
   ],
   "source": [
    "query_NB = '''\n",
    "    SELECT *\n",
    "    FROM books\n",
    "    WHERE book_id IS NULL\n",
    "    OR title IS NULL \n",
    "    OR num_pages IS NULL \n",
    "    OR publication_date IS NULL\n",
    "    OR publisher_id IS NULL'''\n",
    "    \n",
    "pd.io.sql.read_sql(sql=text(query_NB), con = con)\n"
   ]
  },
  {
   "cell_type": "code",
   "execution_count": 5,
   "metadata": {},
   "outputs": [
    {
     "data": {
      "text/html": [
       "<div>\n",
       "<style scoped>\n",
       "    .dataframe tbody tr th:only-of-type {\n",
       "        vertical-align: middle;\n",
       "    }\n",
       "\n",
       "    .dataframe tbody tr th {\n",
       "        vertical-align: top;\n",
       "    }\n",
       "\n",
       "    .dataframe thead th {\n",
       "        text-align: right;\n",
       "    }\n",
       "</style>\n",
       "<table border=\"1\" class=\"dataframe\">\n",
       "  <thead>\n",
       "    <tr style=\"text-align: right;\">\n",
       "      <th></th>\n",
       "      <th>author_id</th>\n",
       "      <th>author</th>\n",
       "    </tr>\n",
       "  </thead>\n",
       "  <tbody>\n",
       "  </tbody>\n",
       "</table>\n",
       "</div>"
      ],
      "text/plain": [
       "Empty DataFrame\n",
       "Columns: [author_id, author]\n",
       "Index: []"
      ]
     },
     "execution_count": 5,
     "metadata": {},
     "output_type": "execute_result"
    }
   ],
   "source": [
    "query_NA = '''\n",
    "    SELECT *\n",
    "    FROM authors\n",
    "    WHERE author_id IS NULL\n",
    "    OR author IS NULL\n",
    "\n",
    "    '''\n",
    "    \n",
    "pd.io.sql.read_sql(sql=text(query_NA), con = con)"
   ]
  },
  {
   "cell_type": "code",
   "execution_count": 6,
   "metadata": {},
   "outputs": [
    {
     "data": {
      "text/html": [
       "<div>\n",
       "<style scoped>\n",
       "    .dataframe tbody tr th:only-of-type {\n",
       "        vertical-align: middle;\n",
       "    }\n",
       "\n",
       "    .dataframe tbody tr th {\n",
       "        vertical-align: top;\n",
       "    }\n",
       "\n",
       "    .dataframe thead th {\n",
       "        text-align: right;\n",
       "    }\n",
       "</style>\n",
       "<table border=\"1\" class=\"dataframe\">\n",
       "  <thead>\n",
       "    <tr style=\"text-align: right;\">\n",
       "      <th></th>\n",
       "      <th>publisher_id</th>\n",
       "      <th>publisher</th>\n",
       "    </tr>\n",
       "  </thead>\n",
       "  <tbody>\n",
       "  </tbody>\n",
       "</table>\n",
       "</div>"
      ],
      "text/plain": [
       "Empty DataFrame\n",
       "Columns: [publisher_id, publisher]\n",
       "Index: []"
      ]
     },
     "execution_count": 6,
     "metadata": {},
     "output_type": "execute_result"
    }
   ],
   "source": [
    "query_NP = '''\n",
    "    SELECT *\n",
    "    FROM publishers\n",
    "    WHERE publisher IS NULL\n",
    "    OR publisher_id IS NULL\n",
    "\n",
    "    '''\n",
    "    \n",
    "pd.io.sql.read_sql(sql=text(query_NP), con = con)"
   ]
  },
  {
   "cell_type": "code",
   "execution_count": 7,
   "metadata": {},
   "outputs": [
    {
     "data": {
      "text/html": [
       "<div>\n",
       "<style scoped>\n",
       "    .dataframe tbody tr th:only-of-type {\n",
       "        vertical-align: middle;\n",
       "    }\n",
       "\n",
       "    .dataframe tbody tr th {\n",
       "        vertical-align: top;\n",
       "    }\n",
       "\n",
       "    .dataframe thead th {\n",
       "        text-align: right;\n",
       "    }\n",
       "</style>\n",
       "<table border=\"1\" class=\"dataframe\">\n",
       "  <thead>\n",
       "    <tr style=\"text-align: right;\">\n",
       "      <th></th>\n",
       "      <th>rating_id</th>\n",
       "      <th>book_id</th>\n",
       "      <th>username</th>\n",
       "      <th>rating</th>\n",
       "    </tr>\n",
       "  </thead>\n",
       "  <tbody>\n",
       "  </tbody>\n",
       "</table>\n",
       "</div>"
      ],
      "text/plain": [
       "Empty DataFrame\n",
       "Columns: [rating_id, book_id, username, rating]\n",
       "Index: []"
      ]
     },
     "execution_count": 7,
     "metadata": {},
     "output_type": "execute_result"
    }
   ],
   "source": [
    "query_NR = '''\n",
    "    SELECT *\n",
    "    FROM ratings\n",
    "    WHERE rating_id IS NULL\n",
    "    OR book_id IS NULL\n",
    "    OR rating IS NULL\n",
    "    OR username IS NULL\n",
    "    '''\n",
    "\n",
    "pd.io.sql.read_sql(sql=text(query_NR), con = con)"
   ]
  },
  {
   "cell_type": "code",
   "execution_count": 8,
   "metadata": {},
   "outputs": [
    {
     "data": {
      "text/html": [
       "<div>\n",
       "<style scoped>\n",
       "    .dataframe tbody tr th:only-of-type {\n",
       "        vertical-align: middle;\n",
       "    }\n",
       "\n",
       "    .dataframe tbody tr th {\n",
       "        vertical-align: top;\n",
       "    }\n",
       "\n",
       "    .dataframe thead th {\n",
       "        text-align: right;\n",
       "    }\n",
       "</style>\n",
       "<table border=\"1\" class=\"dataframe\">\n",
       "  <thead>\n",
       "    <tr style=\"text-align: right;\">\n",
       "      <th></th>\n",
       "      <th>review_id</th>\n",
       "      <th>book_id</th>\n",
       "      <th>username</th>\n",
       "      <th>text</th>\n",
       "    </tr>\n",
       "  </thead>\n",
       "  <tbody>\n",
       "  </tbody>\n",
       "</table>\n",
       "</div>"
      ],
      "text/plain": [
       "Empty DataFrame\n",
       "Columns: [review_id, book_id, username, text]\n",
       "Index: []"
      ]
     },
     "execution_count": 8,
     "metadata": {},
     "output_type": "execute_result"
    }
   ],
   "source": [
    "query_NRW = '''\n",
    "    SELECT *\n",
    "    FROM reviews\n",
    "    WHERE review_id IS NULL\n",
    "    OR book_id IS NULL\n",
    "    OR text IS NULL\n",
    "    OR username IS NULL\n",
    "    '''\n",
    "\n",
    "pd.io.sql.read_sql(sql=text(query_NRW), con = con)"
   ]
  },
  {
   "cell_type": "markdown",
   "metadata": {},
   "source": [
    "Проверим еще на возможные дубликаты таблицы books. autors, publishers.\n",
    "Пользователей проверить корректно у нас не выйдет: есть полные тезки, пользователи могут некорректно заполнять данные (а-ля Иванов Иван Ивановочич).\n",
    "\n",
    "В данном исследовании нам интереснее будет их активность."
   ]
  },
  {
   "cell_type": "code",
   "execution_count": 9,
   "metadata": {},
   "outputs": [
    {
     "data": {
      "text/html": [
       "<div>\n",
       "<style scoped>\n",
       "    .dataframe tbody tr th:only-of-type {\n",
       "        vertical-align: middle;\n",
       "    }\n",
       "\n",
       "    .dataframe tbody tr th {\n",
       "        vertical-align: top;\n",
       "    }\n",
       "\n",
       "    .dataframe thead th {\n",
       "        text-align: right;\n",
       "    }\n",
       "</style>\n",
       "<table border=\"1\" class=\"dataframe\">\n",
       "  <thead>\n",
       "    <tr style=\"text-align: right;\">\n",
       "      <th></th>\n",
       "      <th>author</th>\n",
       "      <th>count</th>\n",
       "    </tr>\n",
       "  </thead>\n",
       "  <tbody>\n",
       "  </tbody>\n",
       "</table>\n",
       "</div>"
      ],
      "text/plain": [
       "Empty DataFrame\n",
       "Columns: [author, count]\n",
       "Index: []"
      ]
     },
     "execution_count": 9,
     "metadata": {},
     "output_type": "execute_result"
    }
   ],
   "source": [
    "query_DA = '''\n",
    "    SELECT author, COUNT(author)\n",
    "    FROM authors\n",
    "    GROUP BY author\n",
    "    HAVING COUNT(author)>1\n",
    "    '''\n",
    "\n",
    "pd.io.sql.read_sql(sql=text(query_DA), con = con)"
   ]
  },
  {
   "cell_type": "code",
   "execution_count": 10,
   "metadata": {},
   "outputs": [
    {
     "data": {
      "text/html": [
       "<div>\n",
       "<style scoped>\n",
       "    .dataframe tbody tr th:only-of-type {\n",
       "        vertical-align: middle;\n",
       "    }\n",
       "\n",
       "    .dataframe tbody tr th {\n",
       "        vertical-align: top;\n",
       "    }\n",
       "\n",
       "    .dataframe thead th {\n",
       "        text-align: right;\n",
       "    }\n",
       "</style>\n",
       "<table border=\"1\" class=\"dataframe\">\n",
       "  <thead>\n",
       "    <tr style=\"text-align: right;\">\n",
       "      <th></th>\n",
       "      <th>publisher</th>\n",
       "      <th>count</th>\n",
       "    </tr>\n",
       "  </thead>\n",
       "  <tbody>\n",
       "  </tbody>\n",
       "</table>\n",
       "</div>"
      ],
      "text/plain": [
       "Empty DataFrame\n",
       "Columns: [publisher, count]\n",
       "Index: []"
      ]
     },
     "execution_count": 10,
     "metadata": {},
     "output_type": "execute_result"
    }
   ],
   "source": [
    "query_DP = '''\n",
    "    SELECT publisher, COUNT(publisher)\n",
    "    FROM publishers\n",
    "    GROUP BY publisher\n",
    "    HAVING COUNT(publisher)>1\n",
    "    '''\n",
    "\n",
    "pd.io.sql.read_sql(sql=text(query_DP), con = con)"
   ]
  },
  {
   "cell_type": "code",
   "execution_count": 11,
   "metadata": {},
   "outputs": [
    {
     "data": {
      "text/html": [
       "<div>\n",
       "<style scoped>\n",
       "    .dataframe tbody tr th:only-of-type {\n",
       "        vertical-align: middle;\n",
       "    }\n",
       "\n",
       "    .dataframe tbody tr th {\n",
       "        vertical-align: top;\n",
       "    }\n",
       "\n",
       "    .dataframe thead th {\n",
       "        text-align: right;\n",
       "    }\n",
       "</style>\n",
       "<table border=\"1\" class=\"dataframe\">\n",
       "  <thead>\n",
       "    <tr style=\"text-align: right;\">\n",
       "      <th></th>\n",
       "      <th>title</th>\n",
       "      <th>count</th>\n",
       "    </tr>\n",
       "  </thead>\n",
       "  <tbody>\n",
       "    <tr>\n",
       "      <th>0</th>\n",
       "      <td>Memoirs of a Geisha</td>\n",
       "      <td>2</td>\n",
       "    </tr>\n",
       "  </tbody>\n",
       "</table>\n",
       "</div>"
      ],
      "text/plain": [
       "                 title  count\n",
       "0  Memoirs of a Geisha      2"
      ]
     },
     "execution_count": 11,
     "metadata": {},
     "output_type": "execute_result"
    }
   ],
   "source": [
    "query_DB = '''\n",
    "    SELECT title, COUNT(title)\n",
    "    FROM books\n",
    "    GROUP BY title\n",
    "    HAVING COUNT(title)>1\n",
    "    '''\n",
    "\n",
    "pd.io.sql.read_sql(sql=text(query_DB), con = con)"
   ]
  },
  {
   "cell_type": "code",
   "execution_count": 12,
   "metadata": {},
   "outputs": [
    {
     "data": {
      "text/html": [
       "<div>\n",
       "<style scoped>\n",
       "    .dataframe tbody tr th:only-of-type {\n",
       "        vertical-align: middle;\n",
       "    }\n",
       "\n",
       "    .dataframe tbody tr th {\n",
       "        vertical-align: top;\n",
       "    }\n",
       "\n",
       "    .dataframe thead th {\n",
       "        text-align: right;\n",
       "    }\n",
       "</style>\n",
       "<table border=\"1\" class=\"dataframe\">\n",
       "  <thead>\n",
       "    <tr style=\"text-align: right;\">\n",
       "      <th></th>\n",
       "      <th>book_id</th>\n",
       "      <th>author_id</th>\n",
       "      <th>title</th>\n",
       "      <th>num_pages</th>\n",
       "      <th>publication_date</th>\n",
       "      <th>publisher_id</th>\n",
       "    </tr>\n",
       "  </thead>\n",
       "  <tbody>\n",
       "    <tr>\n",
       "      <th>0</th>\n",
       "      <td>426</td>\n",
       "      <td>39</td>\n",
       "      <td>Memoirs of a Geisha</td>\n",
       "      <td>434</td>\n",
       "      <td>2005-11-15</td>\n",
       "      <td>241</td>\n",
       "    </tr>\n",
       "    <tr>\n",
       "      <th>1</th>\n",
       "      <td>427</td>\n",
       "      <td>39</td>\n",
       "      <td>Memoirs of a Geisha</td>\n",
       "      <td>503</td>\n",
       "      <td>2005-11-22</td>\n",
       "      <td>311</td>\n",
       "    </tr>\n",
       "  </tbody>\n",
       "</table>\n",
       "</div>"
      ],
      "text/plain": [
       "   book_id  author_id                title  num_pages publication_date  \\\n",
       "0      426         39  Memoirs of a Geisha        434       2005-11-15   \n",
       "1      427         39  Memoirs of a Geisha        503       2005-11-22   \n",
       "\n",
       "   publisher_id  \n",
       "0           241  \n",
       "1           311  "
      ]
     },
     "execution_count": 12,
     "metadata": {},
     "output_type": "execute_result"
    }
   ],
   "source": [
    "query_DB1 = '''\n",
    "    SELECT *\n",
    "    FROM books\n",
    "    WHERE title LIKE 'Memoirs of a Geisha'\n",
    "    '''\n",
    "\n",
    "pd.io.sql.read_sql(sql=text(query_DB1), con = con)"
   ]
  },
  {
   "cell_type": "markdown",
   "metadata": {},
   "source": [
    "Мемуары гейши были опубликованы 2 разными издательствами в один год. "
   ]
  },
  {
   "cell_type": "markdown",
   "metadata": {},
   "source": [
    "**Вывод**\n",
    "\n",
    "База данных состоит из 5 датасетов: 'books', 'authors', 'publishers', 'ratings', 'reviews'.\n",
    "Пропусков и дубликатов нет.\n",
    "\n"
   ]
  },
  {
   "cell_type": "markdown",
   "metadata": {},
   "source": [
    "## Количество книг, вышедших после 1 января 2000 года"
   ]
  },
  {
   "cell_type": "code",
   "execution_count": 13,
   "metadata": {},
   "outputs": [
    {
     "data": {
      "text/html": [
       "<div>\n",
       "<style scoped>\n",
       "    .dataframe tbody tr th:only-of-type {\n",
       "        vertical-align: middle;\n",
       "    }\n",
       "\n",
       "    .dataframe tbody tr th {\n",
       "        vertical-align: top;\n",
       "    }\n",
       "\n",
       "    .dataframe thead th {\n",
       "        text-align: right;\n",
       "    }\n",
       "</style>\n",
       "<table border=\"1\" class=\"dataframe\">\n",
       "  <thead>\n",
       "    <tr style=\"text-align: right;\">\n",
       "      <th></th>\n",
       "      <th>count</th>\n",
       "    </tr>\n",
       "  </thead>\n",
       "  <tbody>\n",
       "    <tr>\n",
       "      <th>0</th>\n",
       "      <td>819</td>\n",
       "    </tr>\n",
       "  </tbody>\n",
       "</table>\n",
       "</div>"
      ],
      "text/plain": [
       "   count\n",
       "0    819"
      ]
     },
     "execution_count": 13,
     "metadata": {},
     "output_type": "execute_result"
    }
   ],
   "source": [
    "query1 = '''\n",
    "            SELECT COUNT(DISTINCT book_id)\n",
    "            FROM books\n",
    "            WHERE publication_date >'2000-01-01'\n",
    "        '''\n",
    "pd.io.sql.read_sql(sql=text(query1), con = con)\n"
   ]
  },
  {
   "cell_type": "markdown",
   "metadata": {},
   "source": [
    "База данных содержит **819** книг, которые вышли после 1.01.2020 годаа"
   ]
  },
  {
   "cell_type": "markdown",
   "metadata": {},
   "source": [
    "## Расчет количества обзоров и средней оценки для каждой книги."
   ]
  },
  {
   "cell_type": "code",
   "execution_count": 14,
   "metadata": {
    "scrolled": true
   },
   "outputs": [
    {
     "data": {
      "text/html": [
       "<div>\n",
       "<style scoped>\n",
       "    .dataframe tbody tr th:only-of-type {\n",
       "        vertical-align: middle;\n",
       "    }\n",
       "\n",
       "    .dataframe tbody tr th {\n",
       "        vertical-align: top;\n",
       "    }\n",
       "\n",
       "    .dataframe thead th {\n",
       "        text-align: right;\n",
       "    }\n",
       "</style>\n",
       "<table border=\"1\" class=\"dataframe\">\n",
       "  <thead>\n",
       "    <tr style=\"text-align: right;\">\n",
       "      <th></th>\n",
       "      <th>book_id</th>\n",
       "      <th>title</th>\n",
       "      <th>avg_rating</th>\n",
       "      <th>count_view</th>\n",
       "    </tr>\n",
       "  </thead>\n",
       "  <tbody>\n",
       "    <tr>\n",
       "      <th>0</th>\n",
       "      <td>948</td>\n",
       "      <td>Twilight (Twilight  #1)</td>\n",
       "      <td>3.7</td>\n",
       "      <td>7</td>\n",
       "    </tr>\n",
       "    <tr>\n",
       "      <th>1</th>\n",
       "      <td>302</td>\n",
       "      <td>Harry Potter and the Prisoner of Azkaban (Harr...</td>\n",
       "      <td>4.4</td>\n",
       "      <td>6</td>\n",
       "    </tr>\n",
       "    <tr>\n",
       "      <th>2</th>\n",
       "      <td>656</td>\n",
       "      <td>The Book Thief</td>\n",
       "      <td>4.3</td>\n",
       "      <td>6</td>\n",
       "    </tr>\n",
       "    <tr>\n",
       "      <th>3</th>\n",
       "      <td>299</td>\n",
       "      <td>Harry Potter and the Chamber of Secrets (Harry...</td>\n",
       "      <td>4.3</td>\n",
       "      <td>6</td>\n",
       "    </tr>\n",
       "    <tr>\n",
       "      <th>4</th>\n",
       "      <td>734</td>\n",
       "      <td>The Glass Castle</td>\n",
       "      <td>4.2</td>\n",
       "      <td>6</td>\n",
       "    </tr>\n",
       "    <tr>\n",
       "      <th>...</th>\n",
       "      <td>...</td>\n",
       "      <td>...</td>\n",
       "      <td>...</td>\n",
       "      <td>...</td>\n",
       "    </tr>\n",
       "    <tr>\n",
       "      <th>995</th>\n",
       "      <td>191</td>\n",
       "      <td>Disney's Beauty and the Beast (A Little Golden...</td>\n",
       "      <td>4.0</td>\n",
       "      <td>0</td>\n",
       "    </tr>\n",
       "    <tr>\n",
       "      <th>996</th>\n",
       "      <td>387</td>\n",
       "      <td>Leonardo's Notebooks</td>\n",
       "      <td>4.0</td>\n",
       "      <td>0</td>\n",
       "    </tr>\n",
       "    <tr>\n",
       "      <th>997</th>\n",
       "      <td>221</td>\n",
       "      <td>Essential Tales and Poems</td>\n",
       "      <td>4.0</td>\n",
       "      <td>0</td>\n",
       "    </tr>\n",
       "    <tr>\n",
       "      <th>998</th>\n",
       "      <td>83</td>\n",
       "      <td>Anne Rice's The Vampire Lestat: A Graphic Novel</td>\n",
       "      <td>3.7</td>\n",
       "      <td>0</td>\n",
       "    </tr>\n",
       "    <tr>\n",
       "      <th>999</th>\n",
       "      <td>808</td>\n",
       "      <td>The Natural Way to Draw</td>\n",
       "      <td>3.0</td>\n",
       "      <td>0</td>\n",
       "    </tr>\n",
       "  </tbody>\n",
       "</table>\n",
       "<p>1000 rows × 4 columns</p>\n",
       "</div>"
      ],
      "text/plain": [
       "     book_id                                              title  avg_rating  \\\n",
       "0        948                            Twilight (Twilight  #1)         3.7   \n",
       "1        302  Harry Potter and the Prisoner of Azkaban (Harr...         4.4   \n",
       "2        656                                     The Book Thief         4.3   \n",
       "3        299  Harry Potter and the Chamber of Secrets (Harry...         4.3   \n",
       "4        734                                   The Glass Castle         4.2   \n",
       "..       ...                                                ...         ...   \n",
       "995      191  Disney's Beauty and the Beast (A Little Golden...         4.0   \n",
       "996      387                               Leonardo's Notebooks         4.0   \n",
       "997      221                          Essential Tales and Poems         4.0   \n",
       "998       83    Anne Rice's The Vampire Lestat: A Graphic Novel         3.7   \n",
       "999      808                            The Natural Way to Draw         3.0   \n",
       "\n",
       "     count_view  \n",
       "0             7  \n",
       "1             6  \n",
       "2             6  \n",
       "3             6  \n",
       "4             6  \n",
       "..          ...  \n",
       "995           0  \n",
       "996           0  \n",
       "997           0  \n",
       "998           0  \n",
       "999           0  \n",
       "\n",
       "[1000 rows x 4 columns]"
      ]
     },
     "execution_count": 14,
     "metadata": {},
     "output_type": "execute_result"
    }
   ],
   "source": [
    "query2 = '''\n",
    "    SELECT b.book_id,\n",
    "           b.title,\n",
    "           ROUND(AVG(r.rating),1) AS avg_rating,\n",
    "           COUNT(DISTINCT review_id) AS count_view\n",
    "    FROM books AS b\n",
    "    LEFT JOIN ratings AS r ON b.book_id =r.book_id\n",
    "    LEFT JOIN reviews AS rev ON b.book_id=rev.book_id\n",
    "    GROUP BY b.book_id\n",
    "    ORDER BY count_view DESC,\n",
    "             avg_rating DESC\n",
    "             '''\n",
    "\n",
    "pd.read_sql_query(sql=text(query2), con = con)\n"
   ]
  },
  {
   "cell_type": "markdown",
   "metadata": {},
   "source": [
    "## Издательство, которое выпустило наибольшее число книг толще 50 страниц "
   ]
  },
  {
   "cell_type": "code",
   "execution_count": 15,
   "metadata": {},
   "outputs": [
    {
     "data": {
      "text/html": [
       "<div>\n",
       "<style scoped>\n",
       "    .dataframe tbody tr th:only-of-type {\n",
       "        vertical-align: middle;\n",
       "    }\n",
       "\n",
       "    .dataframe tbody tr th {\n",
       "        vertical-align: top;\n",
       "    }\n",
       "\n",
       "    .dataframe thead th {\n",
       "        text-align: right;\n",
       "    }\n",
       "</style>\n",
       "<table border=\"1\" class=\"dataframe\">\n",
       "  <thead>\n",
       "    <tr style=\"text-align: right;\">\n",
       "      <th></th>\n",
       "      <th>publisher</th>\n",
       "      <th>count_books</th>\n",
       "    </tr>\n",
       "  </thead>\n",
       "  <tbody>\n",
       "    <tr>\n",
       "      <th>0</th>\n",
       "      <td>Penguin Books</td>\n",
       "      <td>42</td>\n",
       "    </tr>\n",
       "  </tbody>\n",
       "</table>\n",
       "</div>"
      ],
      "text/plain": [
       "       publisher  count_books\n",
       "0  Penguin Books           42"
      ]
     },
     "execution_count": 15,
     "metadata": {},
     "output_type": "execute_result"
    }
   ],
   "source": [
    "query3 = '''\n",
    "    SELECT p.publisher,\n",
    "           COUNT(DISTINCT b.book_id) AS count_books\n",
    "    FROM books AS b\n",
    "    JOIN publishers AS p ON b.publisher_id = p.publisher_id\n",
    "    WHERE b.num_pages > 50\n",
    "    GROUP BY p.publisher\n",
    "    ORDER BY count_books DESC\n",
    "    LIMIT 1\n",
    "    '''\n",
    "\n",
    "pd.read_sql_query(sql=text(query3), con = con)"
   ]
  },
  {
   "cell_type": "markdown",
   "metadata": {},
   "source": [
    "**Penguin Books** выпустило наибольшее число книг."
   ]
  },
  {
   "cell_type": "markdown",
   "metadata": {},
   "source": [
    "## Автор с самой высокой средней оценкой книг"
   ]
  },
  {
   "cell_type": "code",
   "execution_count": 16,
   "metadata": {},
   "outputs": [
    {
     "data": {
      "text/html": [
       "<div>\n",
       "<style scoped>\n",
       "    .dataframe tbody tr th:only-of-type {\n",
       "        vertical-align: middle;\n",
       "    }\n",
       "\n",
       "    .dataframe tbody tr th {\n",
       "        vertical-align: top;\n",
       "    }\n",
       "\n",
       "    .dataframe thead th {\n",
       "        text-align: right;\n",
       "    }\n",
       "</style>\n",
       "<table border=\"1\" class=\"dataframe\">\n",
       "  <thead>\n",
       "    <tr style=\"text-align: right;\">\n",
       "      <th></th>\n",
       "      <th>author</th>\n",
       "      <th>avg_all</th>\n",
       "    </tr>\n",
       "  </thead>\n",
       "  <tbody>\n",
       "    <tr>\n",
       "      <th>0</th>\n",
       "      <td>J.K. Rowling/Mary GrandPré</td>\n",
       "      <td>4.284</td>\n",
       "    </tr>\n",
       "  </tbody>\n",
       "</table>\n",
       "</div>"
      ],
      "text/plain": [
       "                       author  avg_all\n",
       "0  J.K. Rowling/Mary GrandPré    4.284"
      ]
     },
     "execution_count": 16,
     "metadata": {},
     "output_type": "execute_result"
    }
   ],
   "source": [
    "query4 = '''\n",
    "    SELECT a.author,\n",
    "    ROUND(AVG(br.avg_rating),3) AS avg_all\n",
    "    FROM books AS b\n",
    "    JOIN authors AS a ON b.author_id = a.author_id\n",
    "    JOIN (\n",
    "        SELECT book_id,\n",
    "        COUNT(rating_id) AS count_rat,\n",
    "        AVG(rating) AS avg_rating\n",
    "        FROM ratings\n",
    "        GROUP BY book_id) AS br ON b.book_id = br.book_id\n",
    "    WHERE count_rat >= 50\n",
    "    GROUP BY author\n",
    "    ORDER BY avg_all DESC\n",
    "    LIMIT 1\n",
    "    '''\n",
    "\n",
    "pd.read_sql_query(sql=text(query4), con = con)"
   ]
  },
  {
   "cell_type": "markdown",
   "metadata": {},
   "source": [
    "Самую высокую оценку получила автор J.K. Rowling/Mary GrandPré.\n",
    "Успешная колобарация знаменитой писательницы и талантливого иллюстратора :)"
   ]
  },
  {
   "cell_type": "markdown",
   "metadata": {},
   "source": [
    "## Среднее количество обзоров от пользователей, которые поставили больше 48 оценок"
   ]
  },
  {
   "cell_type": "code",
   "execution_count": 17,
   "metadata": {},
   "outputs": [
    {
     "data": {
      "text/html": [
       "<div>\n",
       "<style scoped>\n",
       "    .dataframe tbody tr th:only-of-type {\n",
       "        vertical-align: middle;\n",
       "    }\n",
       "\n",
       "    .dataframe tbody tr th {\n",
       "        vertical-align: top;\n",
       "    }\n",
       "\n",
       "    .dataframe thead th {\n",
       "        text-align: right;\n",
       "    }\n",
       "</style>\n",
       "<table border=\"1\" class=\"dataframe\">\n",
       "  <thead>\n",
       "    <tr style=\"text-align: right;\">\n",
       "      <th></th>\n",
       "      <th>avg</th>\n",
       "    </tr>\n",
       "  </thead>\n",
       "  <tbody>\n",
       "    <tr>\n",
       "      <th>0</th>\n",
       "      <td>24.0</td>\n",
       "    </tr>\n",
       "  </tbody>\n",
       "</table>\n",
       "</div>"
      ],
      "text/plain": [
       "    avg\n",
       "0  24.0"
      ]
     },
     "execution_count": 17,
     "metadata": {},
     "output_type": "execute_result"
    }
   ],
   "source": [
    "query5 = '''\n",
    "    WITH rt AS (\n",
    "        SELECT username,\n",
    "            COUNT(rating_id) AS count_rating\n",
    "            FROM ratings\n",
    "            GROUP BY ratings.username\n",
    "            HAVING COUNT(rating_id) > 48)\n",
    "    SELECT AVG(count_rev)\n",
    "    FROM rt\n",
    "    JOIN (SELECT reviews.username,\n",
    "              COUNT(review_id) AS count_rev\n",
    "              FROM reviews\n",
    "              GROUP BY reviews.username) AS rew ON rew.username= rt.username\n",
    "    \n",
    "    '''\n",
    "pd.read_sql_query(sql=text(query5), con = con)"
   ]
  },
  {
   "cell_type": "markdown",
   "metadata": {},
   "source": [
    "Пользователи, которые поставили более 48 оценок, в среднем оставляют 24 обзора."
   ]
  },
  {
   "cell_type": "markdown",
   "metadata": {},
   "source": [
    "## Выводы"
   ]
  },
  {
   "cell_type": "markdown",
   "metadata": {},
   "source": [
    "Была Загружена база данных с информацией о книгах, издательствах, авторах, а также пользовательские обзоры книг.\n",
    "\n",
    "Все датасеты были изучены, проверны на пропуски и дубликаты в данных.\n",
    "\n",
    "Был проведен исследовательский анализ:\n",
    " - Количество книг, вышедших после 1 января 2000 года - 819.\n",
    " - Был получен расчет количества обзоров и средней оценки для каждой книги.\n",
    " - Издательство, которое выпустило наибольшее число книг толще 50 страниц - Penguin Books\n",
    " - Автор с самой высокой средней оценкой книг - J.K. Rowling/Mary GrandPré.\n",
    " - Среднее количество обзоров от пользователей, которые поставили больше 48 оценок - 24."
   ]
  }
 ],
 "metadata": {
  "ExecuteTimeLog": [
   {
    "duration": 7697,
    "start_time": "2023-06-17T12:45:50.634Z"
   },
   {
    "duration": 3,
    "start_time": "2023-06-17T12:46:38.832Z"
   },
   {
    "duration": 51,
    "start_time": "2023-06-17T12:46:47.398Z"
   },
   {
    "duration": 9,
    "start_time": "2023-06-17T12:48:41.300Z"
   },
   {
    "duration": 97,
    "start_time": "2023-06-17T12:49:54.510Z"
   },
   {
    "duration": 34,
    "start_time": "2023-06-17T12:50:27.903Z"
   },
   {
    "duration": 17,
    "start_time": "2023-06-17T12:51:30.743Z"
   },
   {
    "duration": 10,
    "start_time": "2023-06-17T12:52:43.199Z"
   },
   {
    "duration": 17,
    "start_time": "2023-06-17T12:53:43.295Z"
   },
   {
    "duration": 19,
    "start_time": "2023-06-17T12:54:00.397Z"
   },
   {
    "duration": 19,
    "start_time": "2023-06-17T12:55:39.179Z"
   },
   {
    "duration": 17,
    "start_time": "2023-06-17T12:56:03.330Z"
   },
   {
    "duration": 26,
    "start_time": "2023-06-17T12:56:31.096Z"
   },
   {
    "duration": 11,
    "start_time": "2023-06-17T13:08:22.137Z"
   },
   {
    "duration": 13,
    "start_time": "2023-06-17T13:08:43.997Z"
   },
   {
    "duration": 17,
    "start_time": "2023-06-17T13:10:53.484Z"
   },
   {
    "duration": 17,
    "start_time": "2023-06-17T13:12:48.319Z"
   },
   {
    "duration": 20,
    "start_time": "2023-06-17T13:16:25.624Z"
   },
   {
    "duration": 32,
    "start_time": "2023-06-17T13:18:55.250Z"
   },
   {
    "duration": 37,
    "start_time": "2023-06-17T13:21:45.310Z"
   },
   {
    "duration": 21,
    "start_time": "2023-06-17T13:24:12.011Z"
   },
   {
    "duration": 8494,
    "start_time": "2023-06-17T13:24:39.568Z"
   },
   {
    "duration": 10,
    "start_time": "2023-06-17T13:24:48.064Z"
   },
   {
    "duration": 67,
    "start_time": "2023-06-17T13:24:48.078Z"
   },
   {
    "duration": 8,
    "start_time": "2023-06-17T13:24:48.146Z"
   },
   {
    "duration": 48,
    "start_time": "2023-06-17T13:24:48.156Z"
   },
   {
    "duration": 9,
    "start_time": "2023-06-17T13:24:48.205Z"
   },
   {
    "duration": 22,
    "start_time": "2023-06-17T13:24:48.215Z"
   },
   {
    "duration": 102,
    "start_time": "2023-06-17T13:24:48.239Z"
   },
   {
    "duration": 0,
    "start_time": "2023-06-17T13:24:48.343Z"
   },
   {
    "duration": 12,
    "start_time": "2023-06-17T13:25:32.101Z"
   },
   {
    "duration": 18,
    "start_time": "2023-06-17T13:26:05.530Z"
   },
   {
    "duration": 26,
    "start_time": "2023-06-17T13:26:35.163Z"
   },
   {
    "duration": 55,
    "start_time": "2023-06-17T13:26:42.781Z"
   },
   {
    "duration": 13,
    "start_time": "2023-06-17T13:26:56.116Z"
   },
   {
    "duration": 11,
    "start_time": "2023-06-17T13:30:08.201Z"
   },
   {
    "duration": 108,
    "start_time": "2023-06-17T13:33:11.011Z"
   },
   {
    "duration": 87,
    "start_time": "2023-06-17T13:33:29.035Z"
   },
   {
    "duration": 12,
    "start_time": "2023-06-17T13:35:01.212Z"
   },
   {
    "duration": 11,
    "start_time": "2023-06-17T13:41:31.509Z"
   },
   {
    "duration": 14,
    "start_time": "2023-06-17T13:45:31.297Z"
   },
   {
    "duration": 13,
    "start_time": "2023-06-17T13:46:00.411Z"
   },
   {
    "duration": 14,
    "start_time": "2023-06-17T13:46:30.651Z"
   },
   {
    "duration": 12,
    "start_time": "2023-06-17T13:46:48.309Z"
   },
   {
    "duration": 12,
    "start_time": "2023-06-17T13:47:16.301Z"
   },
   {
    "duration": 97,
    "start_time": "2023-06-17T13:47:45.353Z"
   },
   {
    "duration": 85,
    "start_time": "2023-06-17T13:47:59.596Z"
   },
   {
    "duration": 79,
    "start_time": "2023-06-17T13:48:04.702Z"
   },
   {
    "duration": 82,
    "start_time": "2023-06-17T13:48:16.344Z"
   },
   {
    "duration": 7491,
    "start_time": "2023-06-17T13:48:20.595Z"
   },
   {
    "duration": 4,
    "start_time": "2023-06-17T13:48:28.088Z"
   },
   {
    "duration": 50,
    "start_time": "2023-06-17T13:48:28.094Z"
   },
   {
    "duration": 9,
    "start_time": "2023-06-17T13:48:28.146Z"
   },
   {
    "duration": 31,
    "start_time": "2023-06-17T13:48:28.169Z"
   },
   {
    "duration": 8,
    "start_time": "2023-06-17T13:48:28.202Z"
   },
   {
    "duration": 10,
    "start_time": "2023-06-17T13:48:28.211Z"
   },
   {
    "duration": 9,
    "start_time": "2023-06-17T13:48:28.222Z"
   },
   {
    "duration": 9,
    "start_time": "2023-06-17T13:48:28.232Z"
   },
   {
    "duration": 182,
    "start_time": "2023-06-17T13:48:28.242Z"
   },
   {
    "duration": 87,
    "start_time": "2023-06-17T13:50:14.125Z"
   },
   {
    "duration": 16,
    "start_time": "2023-06-17T13:50:20.425Z"
   },
   {
    "duration": 14,
    "start_time": "2023-06-17T13:50:35.546Z"
   },
   {
    "duration": 22,
    "start_time": "2023-06-17T13:50:39.461Z"
   },
   {
    "duration": 13,
    "start_time": "2023-06-17T13:50:43.236Z"
   },
   {
    "duration": 14,
    "start_time": "2023-06-17T13:50:46.815Z"
   },
   {
    "duration": 13,
    "start_time": "2023-06-17T13:50:53.021Z"
   },
   {
    "duration": 84,
    "start_time": "2023-06-17T13:50:58.713Z"
   },
   {
    "duration": 69,
    "start_time": "2023-06-17T13:58:56.840Z"
   },
   {
    "duration": 111,
    "start_time": "2023-06-17T13:59:06.029Z"
   },
   {
    "duration": 10,
    "start_time": "2023-06-17T13:59:21.401Z"
   },
   {
    "duration": 39,
    "start_time": "2023-06-17T14:00:02.669Z"
   },
   {
    "duration": 12,
    "start_time": "2023-06-17T14:02:40.127Z"
   },
   {
    "duration": 8,
    "start_time": "2023-06-17T14:08:30.592Z"
   },
   {
    "duration": 7496,
    "start_time": "2023-06-17T14:09:24.057Z"
   },
   {
    "duration": 3,
    "start_time": "2023-06-17T14:09:31.555Z"
   },
   {
    "duration": 80,
    "start_time": "2023-06-17T14:09:31.560Z"
   },
   {
    "duration": 8,
    "start_time": "2023-06-17T14:09:31.642Z"
   },
   {
    "duration": 45,
    "start_time": "2023-06-17T14:09:31.651Z"
   },
   {
    "duration": 10,
    "start_time": "2023-06-17T14:09:31.697Z"
   },
   {
    "duration": 26,
    "start_time": "2023-06-17T14:09:31.708Z"
   },
   {
    "duration": 11,
    "start_time": "2023-06-17T14:09:31.736Z"
   },
   {
    "duration": 14,
    "start_time": "2023-06-17T14:09:31.749Z"
   },
   {
    "duration": 31,
    "start_time": "2023-06-17T14:09:31.766Z"
   },
   {
    "duration": 81,
    "start_time": "2023-06-17T14:09:31.799Z"
   },
   {
    "duration": 11,
    "start_time": "2023-06-17T14:17:07.025Z"
   },
   {
    "duration": 22,
    "start_time": "2023-06-17T14:18:31.091Z"
   },
   {
    "duration": 13,
    "start_time": "2023-06-17T14:18:47.498Z"
   },
   {
    "duration": 62,
    "start_time": "2023-06-17T14:21:00.683Z"
   },
   {
    "duration": 13,
    "start_time": "2023-06-17T14:21:24.729Z"
   },
   {
    "duration": 95,
    "start_time": "2023-06-17T14:21:47.737Z"
   },
   {
    "duration": 15,
    "start_time": "2023-06-17T14:21:53.239Z"
   },
   {
    "duration": 13,
    "start_time": "2023-06-17T14:22:12.649Z"
   },
   {
    "duration": 118,
    "start_time": "2023-06-17T14:24:10.780Z"
   },
   {
    "duration": 18,
    "start_time": "2023-06-17T14:30:41.656Z"
   },
   {
    "duration": 57,
    "start_time": "2023-06-17T14:45:36.915Z"
   },
   {
    "duration": 14,
    "start_time": "2023-06-17T14:45:57.358Z"
   },
   {
    "duration": 11,
    "start_time": "2023-06-17T14:46:24.637Z"
   },
   {
    "duration": 3,
    "start_time": "2023-06-17T14:49:44.611Z"
   },
   {
    "duration": 63,
    "start_time": "2023-06-17T14:49:49.051Z"
   },
   {
    "duration": 4,
    "start_time": "2023-06-17T14:49:57.430Z"
   },
   {
    "duration": 37,
    "start_time": "2023-06-17T14:50:00.267Z"
   },
   {
    "duration": 3,
    "start_time": "2023-06-17T14:50:09.526Z"
   },
   {
    "duration": 37,
    "start_time": "2023-06-17T14:50:11.957Z"
   },
   {
    "duration": 3,
    "start_time": "2023-06-17T14:50:25.703Z"
   },
   {
    "duration": 49,
    "start_time": "2023-06-17T14:50:27.533Z"
   },
   {
    "duration": 4,
    "start_time": "2023-06-17T14:51:00.787Z"
   },
   {
    "duration": 8,
    "start_time": "2023-06-17T14:51:54.851Z"
   },
   {
    "duration": 16,
    "start_time": "2023-06-17T14:52:13.737Z"
   },
   {
    "duration": 4,
    "start_time": "2023-06-17T14:52:51.529Z"
   },
   {
    "duration": 49,
    "start_time": "2023-06-17T14:52:55.092Z"
   },
   {
    "duration": 5,
    "start_time": "2023-06-17T14:53:08.023Z"
   },
   {
    "duration": 29,
    "start_time": "2023-06-17T14:53:10.160Z"
   },
   {
    "duration": 4,
    "start_time": "2023-06-17T14:53:51.195Z"
   },
   {
    "duration": 44,
    "start_time": "2023-06-17T14:53:53.682Z"
   },
   {
    "duration": 3,
    "start_time": "2023-06-17T14:55:27.804Z"
   },
   {
    "duration": 25,
    "start_time": "2023-06-17T14:55:28.509Z"
   },
   {
    "duration": 6,
    "start_time": "2023-06-17T14:55:49.092Z"
   },
   {
    "duration": 63,
    "start_time": "2023-06-17T14:55:52.358Z"
   },
   {
    "duration": 6,
    "start_time": "2023-06-17T14:57:23.999Z"
   },
   {
    "duration": 4,
    "start_time": "2023-06-17T14:57:41.619Z"
   },
   {
    "duration": 3,
    "start_time": "2023-06-17T14:58:02.912Z"
   },
   {
    "duration": 33,
    "start_time": "2023-06-17T14:58:14.638Z"
   },
   {
    "duration": 8043,
    "start_time": "2023-06-17T15:07:10.999Z"
   },
   {
    "duration": 65,
    "start_time": "2023-06-17T15:07:19.044Z"
   },
   {
    "duration": 0,
    "start_time": "2023-06-17T15:07:19.111Z"
   },
   {
    "duration": 0,
    "start_time": "2023-06-17T15:07:19.112Z"
   },
   {
    "duration": 0,
    "start_time": "2023-06-17T15:07:19.113Z"
   },
   {
    "duration": 0,
    "start_time": "2023-06-17T15:07:19.114Z"
   },
   {
    "duration": 0,
    "start_time": "2023-06-17T15:07:19.115Z"
   },
   {
    "duration": 0,
    "start_time": "2023-06-17T15:07:19.116Z"
   },
   {
    "duration": 0,
    "start_time": "2023-06-17T15:07:19.117Z"
   },
   {
    "duration": 4,
    "start_time": "2023-06-17T15:07:34.189Z"
   },
   {
    "duration": 8079,
    "start_time": "2023-06-17T15:07:43.649Z"
   },
   {
    "duration": 3,
    "start_time": "2023-06-17T15:07:51.730Z"
   },
   {
    "duration": 190,
    "start_time": "2023-06-17T15:07:51.734Z"
   },
   {
    "duration": 71,
    "start_time": "2023-06-17T15:07:51.925Z"
   },
   {
    "duration": 0,
    "start_time": "2023-06-17T15:07:51.998Z"
   },
   {
    "duration": 0,
    "start_time": "2023-06-17T15:07:51.999Z"
   },
   {
    "duration": 0,
    "start_time": "2023-06-17T15:07:52.000Z"
   },
   {
    "duration": 0,
    "start_time": "2023-06-17T15:07:52.001Z"
   },
   {
    "duration": 0,
    "start_time": "2023-06-17T15:07:52.002Z"
   },
   {
    "duration": 17,
    "start_time": "2023-06-17T15:10:56.758Z"
   },
   {
    "duration": 7,
    "start_time": "2023-06-17T15:13:35.830Z"
   },
   {
    "duration": 6,
    "start_time": "2023-06-17T15:24:14.240Z"
   },
   {
    "duration": 660,
    "start_time": "2023-06-17T15:24:25.072Z"
   },
   {
    "duration": 8,
    "start_time": "2023-06-17T15:25:34.892Z"
   },
   {
    "duration": 34,
    "start_time": "2023-06-17T15:25:40.696Z"
   },
   {
    "duration": 19,
    "start_time": "2023-06-17T15:25:59.240Z"
   },
   {
    "duration": 10,
    "start_time": "2023-06-17T15:26:32.751Z"
   },
   {
    "duration": 8,
    "start_time": "2023-06-17T15:27:04.511Z"
   },
   {
    "duration": 19,
    "start_time": "2023-06-17T15:27:22.096Z"
   },
   {
    "duration": 22,
    "start_time": "2023-06-17T15:27:31.602Z"
   },
   {
    "duration": 10,
    "start_time": "2023-06-17T15:27:56.358Z"
   },
   {
    "duration": 10,
    "start_time": "2023-06-17T15:29:16.501Z"
   },
   {
    "duration": 14,
    "start_time": "2023-06-17T15:30:14.097Z"
   },
   {
    "duration": 14,
    "start_time": "2023-06-17T15:34:57.000Z"
   },
   {
    "duration": 22,
    "start_time": "2023-06-17T15:35:27.050Z"
   },
   {
    "duration": 18,
    "start_time": "2023-06-17T15:35:42.912Z"
   },
   {
    "duration": 11,
    "start_time": "2023-06-17T15:36:11.913Z"
   },
   {
    "duration": 18,
    "start_time": "2023-06-17T15:37:10.768Z"
   },
   {
    "duration": 27,
    "start_time": "2023-06-17T15:38:20.659Z"
   },
   {
    "duration": 10,
    "start_time": "2023-06-17T15:38:25.892Z"
   },
   {
    "duration": 22,
    "start_time": "2023-06-17T15:38:34.028Z"
   },
   {
    "duration": 20,
    "start_time": "2023-06-17T15:39:04.830Z"
   },
   {
    "duration": 21,
    "start_time": "2023-06-17T15:39:27.499Z"
   },
   {
    "duration": 31,
    "start_time": "2023-06-17T15:39:34.135Z"
   },
   {
    "duration": 18,
    "start_time": "2023-06-17T15:39:48.611Z"
   },
   {
    "duration": 11,
    "start_time": "2023-06-17T15:40:12.554Z"
   },
   {
    "duration": 18,
    "start_time": "2023-06-17T15:40:48.213Z"
   },
   {
    "duration": 15,
    "start_time": "2023-06-17T15:40:54.041Z"
   },
   {
    "duration": 11,
    "start_time": "2023-06-17T15:43:32.924Z"
   },
   {
    "duration": 7299,
    "start_time": "2023-06-17T15:54:11.262Z"
   },
   {
    "duration": 5,
    "start_time": "2023-06-17T15:54:18.565Z"
   },
   {
    "duration": 73,
    "start_time": "2023-06-17T15:54:18.572Z"
   },
   {
    "duration": 70,
    "start_time": "2023-06-17T15:54:18.646Z"
   },
   {
    "duration": 0,
    "start_time": "2023-06-17T15:54:18.718Z"
   },
   {
    "duration": 0,
    "start_time": "2023-06-17T15:54:18.719Z"
   },
   {
    "duration": 0,
    "start_time": "2023-06-17T15:54:18.720Z"
   },
   {
    "duration": 0,
    "start_time": "2023-06-17T15:54:18.721Z"
   },
   {
    "duration": 0,
    "start_time": "2023-06-17T15:54:18.723Z"
   },
   {
    "duration": 0,
    "start_time": "2023-06-17T15:54:18.724Z"
   },
   {
    "duration": 0,
    "start_time": "2023-06-17T15:54:18.725Z"
   },
   {
    "duration": 0,
    "start_time": "2023-06-17T15:54:18.726Z"
   },
   {
    "duration": 0,
    "start_time": "2023-06-17T15:54:18.727Z"
   },
   {
    "duration": 0,
    "start_time": "2023-06-17T15:54:18.728Z"
   },
   {
    "duration": 0,
    "start_time": "2023-06-17T15:54:18.729Z"
   },
   {
    "duration": 0,
    "start_time": "2023-06-17T15:54:18.730Z"
   },
   {
    "duration": 1,
    "start_time": "2023-06-17T15:54:18.731Z"
   },
   {
    "duration": 7345,
    "start_time": "2023-06-17T15:55:16.316Z"
   },
   {
    "duration": 4,
    "start_time": "2023-06-17T15:55:23.663Z"
   },
   {
    "duration": 45,
    "start_time": "2023-06-17T15:55:23.668Z"
   },
   {
    "duration": 90,
    "start_time": "2023-06-17T15:55:23.714Z"
   },
   {
    "duration": 0,
    "start_time": "2023-06-17T15:55:23.806Z"
   },
   {
    "duration": 0,
    "start_time": "2023-06-17T15:55:23.807Z"
   },
   {
    "duration": 0,
    "start_time": "2023-06-17T15:55:23.808Z"
   },
   {
    "duration": 0,
    "start_time": "2023-06-17T15:55:23.809Z"
   },
   {
    "duration": 0,
    "start_time": "2023-06-17T15:55:23.809Z"
   },
   {
    "duration": 0,
    "start_time": "2023-06-17T15:55:23.810Z"
   },
   {
    "duration": 0,
    "start_time": "2023-06-17T15:55:23.811Z"
   },
   {
    "duration": 0,
    "start_time": "2023-06-17T15:55:23.813Z"
   },
   {
    "duration": 0,
    "start_time": "2023-06-17T15:55:23.814Z"
   },
   {
    "duration": 0,
    "start_time": "2023-06-17T15:55:23.815Z"
   },
   {
    "duration": 0,
    "start_time": "2023-06-17T15:55:23.816Z"
   },
   {
    "duration": 0,
    "start_time": "2023-06-17T15:55:23.816Z"
   },
   {
    "duration": 0,
    "start_time": "2023-06-17T15:55:23.818Z"
   },
   {
    "duration": 10,
    "start_time": "2023-06-17T15:55:54.342Z"
   },
   {
    "duration": 8,
    "start_time": "2023-06-17T15:55:55.924Z"
   },
   {
    "duration": 9,
    "start_time": "2023-06-17T15:55:56.696Z"
   },
   {
    "duration": 9,
    "start_time": "2023-06-17T15:55:57.348Z"
   },
   {
    "duration": 9,
    "start_time": "2023-06-17T15:55:58.152Z"
   },
   {
    "duration": 9,
    "start_time": "2023-06-17T15:55:59.799Z"
   },
   {
    "duration": 8,
    "start_time": "2023-06-17T15:56:00.615Z"
   },
   {
    "duration": 10,
    "start_time": "2023-06-17T15:56:01.203Z"
   },
   {
    "duration": 11,
    "start_time": "2023-06-17T15:56:01.950Z"
   },
   {
    "duration": 9,
    "start_time": "2023-06-17T15:56:04.410Z"
   },
   {
    "duration": 28,
    "start_time": "2023-06-17T15:56:06.248Z"
   },
   {
    "duration": 7473,
    "start_time": "2023-06-17T15:56:29.685Z"
   },
   {
    "duration": 4,
    "start_time": "2023-06-17T15:56:37.159Z"
   },
   {
    "duration": 51,
    "start_time": "2023-06-17T15:56:37.164Z"
   },
   {
    "duration": 10,
    "start_time": "2023-06-17T15:56:37.217Z"
   },
   {
    "duration": 7,
    "start_time": "2023-06-17T15:56:37.229Z"
   },
   {
    "duration": 10,
    "start_time": "2023-06-17T15:56:37.237Z"
   },
   {
    "duration": 21,
    "start_time": "2023-06-17T15:56:37.249Z"
   },
   {
    "duration": 10,
    "start_time": "2023-06-17T15:56:37.273Z"
   },
   {
    "duration": 10,
    "start_time": "2023-06-17T15:56:37.284Z"
   },
   {
    "duration": 8,
    "start_time": "2023-06-17T15:56:37.296Z"
   },
   {
    "duration": 9,
    "start_time": "2023-06-17T15:56:37.305Z"
   },
   {
    "duration": 9,
    "start_time": "2023-06-17T15:56:37.315Z"
   },
   {
    "duration": 6,
    "start_time": "2023-06-17T15:56:37.326Z"
   },
   {
    "duration": 46,
    "start_time": "2023-06-17T15:56:37.333Z"
   },
   {
    "duration": 8,
    "start_time": "2023-06-17T15:56:37.380Z"
   },
   {
    "duration": 10,
    "start_time": "2023-06-17T15:56:37.390Z"
   },
   {
    "duration": 9,
    "start_time": "2023-06-17T15:56:37.401Z"
   },
   {
    "duration": 12692,
    "start_time": "2023-06-17T18:33:35.076Z"
   },
   {
    "duration": 3,
    "start_time": "2023-06-17T18:33:47.770Z"
   },
   {
    "duration": 51,
    "start_time": "2023-06-17T18:33:47.774Z"
   },
   {
    "duration": 9,
    "start_time": "2023-06-17T18:33:47.826Z"
   },
   {
    "duration": 8,
    "start_time": "2023-06-17T18:33:47.836Z"
   },
   {
    "duration": 32,
    "start_time": "2023-06-17T18:33:47.845Z"
   },
   {
    "duration": 8,
    "start_time": "2023-06-17T18:33:47.879Z"
   },
   {
    "duration": 8,
    "start_time": "2023-06-17T18:33:47.889Z"
   },
   {
    "duration": 9,
    "start_time": "2023-06-17T18:33:47.898Z"
   },
   {
    "duration": 7,
    "start_time": "2023-06-17T18:33:47.909Z"
   },
   {
    "duration": 8,
    "start_time": "2023-06-17T18:33:47.918Z"
   },
   {
    "duration": 41,
    "start_time": "2023-06-17T18:33:47.928Z"
   },
   {
    "duration": 8,
    "start_time": "2023-06-17T18:33:47.971Z"
   },
   {
    "duration": 27,
    "start_time": "2023-06-17T18:33:47.981Z"
   },
   {
    "duration": 9,
    "start_time": "2023-06-17T18:33:48.009Z"
   },
   {
    "duration": 12,
    "start_time": "2023-06-17T18:33:48.020Z"
   },
   {
    "duration": 8,
    "start_time": "2023-06-17T18:33:48.034Z"
   }
  ],
  "kernelspec": {
   "display_name": "Python 3",
   "language": "python",
   "name": "python3"
  },
  "language_info": {
   "codemirror_mode": {
    "name": "ipython",
    "version": 3
   },
   "file_extension": ".py",
   "mimetype": "text/x-python",
   "name": "python",
   "nbconvert_exporter": "python",
   "pygments_lexer": "ipython3",
   "version": "3.7.0"
  },
  "toc": {
   "base_numbering": 1,
   "nav_menu": {},
   "number_sections": true,
   "sideBar": true,
   "skip_h1_title": true,
   "title_cell": "Table of Contents",
   "title_sidebar": "Contents",
   "toc_cell": false,
   "toc_position": {},
   "toc_section_display": true,
   "toc_window_display": true
  }
 },
 "nbformat": 4,
 "nbformat_minor": 2
}
