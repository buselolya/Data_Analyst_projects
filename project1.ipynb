{
 "cells": [
  {
   "cell_type": "markdown",
   "metadata": {},
   "source": [
    "# Исследование объявлений о продаже квартир\n",
    "\n",
    "В вашем распоряжении данные сервиса Яндекс.Недвижимость — архив объявлений о продаже квартир в Санкт-Петербурге и соседних населённых пунктов за несколько лет. Нужно научиться определять рыночную стоимость объектов недвижимости. Ваша задача — установить параметры. Это позволит построить автоматизированную систему: она отследит аномалии и мошенническую деятельность. \n",
    "\n",
    "По каждой квартире на продажу доступны два вида данных. Первые вписаны пользователем, вторые — получены автоматически на основе картографических данных. Например, расстояние до центра, аэропорта, ближайшего парка и водоёма. \n",
    "\n",
    "**Цель исследования -**  провести исследовательский анализ рынка недвижимости.\n",
    "\n",
    "**Ход исследования -** выгрузка архива объявлений о продаже квартир в Санкт-Петербурге и соседних населённых пунктов за период с 2014 по 2019 год находится в файле '/datasets/real_estate_data.csv'.\n",
    "Проверим данные на наличие пропусков, дубликатов, аномальных значений. Затем дополним датасет необходимыми столбцами и проведем исследовательский анализ.\n",
    "Таким образом исследование будет включать следующие этапы:\n",
    "    1. Обзор данных.\n",
    "    2. Предобработка данных.\n",
    "    3. Добавление новых столбцов.\n",
    "    4. Исследовательский анализ."
   ]
  },
  {
   "cell_type": "code",
   "execution_count": 1,
   "metadata": {
    "scrolled": false
   },
   "outputs": [
    {
     "name": "stdout",
     "output_type": "stream",
     "text": [
      "   total_images  last_price  total_area first_day_exposition  rooms  \\\n",
      "0            20  13000000.0       108.0  2019-03-07T00:00:00      3   \n",
      "1             7   3350000.0        40.4  2018-12-04T00:00:00      1   \n",
      "2            10   5196000.0        56.0  2015-08-20T00:00:00      2   \n",
      "3             0  64900000.0       159.0  2015-07-24T00:00:00      3   \n",
      "4             2  10000000.0       100.0  2018-06-19T00:00:00      2   \n",
      "\n",
      "   ceiling_height  floors_total  living_area  floor is_apartment  ...  \\\n",
      "0            2.70          16.0         51.0      8          NaN  ...   \n",
      "1             NaN          11.0         18.6      1          NaN  ...   \n",
      "2             NaN           5.0         34.3      4          NaN  ...   \n",
      "3             NaN          14.0          NaN      9          NaN  ...   \n",
      "4            3.03          14.0         32.0     13          NaN  ...   \n",
      "\n",
      "   kitchen_area  balcony    locality_name  airports_nearest  \\\n",
      "0          25.0      NaN  Санкт-Петербург           18863.0   \n",
      "1          11.0      2.0   посёлок Шушары           12817.0   \n",
      "2           8.3      0.0  Санкт-Петербург           21741.0   \n",
      "3           NaN      0.0  Санкт-Петербург           28098.0   \n",
      "4          41.0      NaN  Санкт-Петербург           31856.0   \n",
      "\n",
      "  cityCenters_nearest  parks_around3000  parks_nearest  ponds_around3000  \\\n",
      "0             16028.0               1.0          482.0               2.0   \n",
      "1             18603.0               0.0            NaN               0.0   \n",
      "2             13933.0               1.0           90.0               2.0   \n",
      "3              6800.0               2.0           84.0               3.0   \n",
      "4              8098.0               2.0          112.0               1.0   \n",
      "\n",
      "   ponds_nearest  days_exposition  \n",
      "0          755.0              NaN  \n",
      "1            NaN             81.0  \n",
      "2          574.0            558.0  \n",
      "3          234.0            424.0  \n",
      "4           48.0            121.0  \n",
      "\n",
      "[5 rows x 22 columns]\n",
      "<class 'pandas.core.frame.DataFrame'>\n",
      "RangeIndex: 23699 entries, 0 to 23698\n",
      "Data columns (total 22 columns):\n",
      " #   Column                Non-Null Count  Dtype  \n",
      "---  ------                --------------  -----  \n",
      " 0   total_images          23699 non-null  int64  \n",
      " 1   last_price            23699 non-null  float64\n",
      " 2   total_area            23699 non-null  float64\n",
      " 3   first_day_exposition  23699 non-null  object \n",
      " 4   rooms                 23699 non-null  int64  \n",
      " 5   ceiling_height        14504 non-null  float64\n",
      " 6   floors_total          23613 non-null  float64\n",
      " 7   living_area           21796 non-null  float64\n",
      " 8   floor                 23699 non-null  int64  \n",
      " 9   is_apartment          2775 non-null   object \n",
      " 10  studio                23699 non-null  bool   \n",
      " 11  open_plan             23699 non-null  bool   \n",
      " 12  kitchen_area          21421 non-null  float64\n",
      " 13  balcony               12180 non-null  float64\n",
      " 14  locality_name         23650 non-null  object \n",
      " 15  airports_nearest      18157 non-null  float64\n",
      " 16  cityCenters_nearest   18180 non-null  float64\n",
      " 17  parks_around3000      18181 non-null  float64\n",
      " 18  parks_nearest         8079 non-null   float64\n",
      " 19  ponds_around3000      18181 non-null  float64\n",
      " 20  ponds_nearest         9110 non-null   float64\n",
      " 21  days_exposition       20518 non-null  float64\n",
      "dtypes: bool(2), float64(14), int64(3), object(3)\n",
      "memory usage: 3.7+ MB\n"
     ]
    },
    {
     "data": {
      "image/png": "[encoded data removed]",
      "text/plain": [
       "<Figure size 648x648 with 20 Axes>"
      ]
     },
     "metadata": {
      "needs_background": "light"
     },
     "output_type": "display_data"
    }
   ],
   "source": [
    "import pandas as pd\n",
    "import matplotlib.pyplot as plt\n",
    "try:\n",
    "    data = pd.read_csv('/datasets/real_estate_data.csv', sep='\\t')\n",
    "except:\n",
    "    data = pd.read_csv('real_estate_data.csv', sep='\\t')\n",
    "print(data.head(5))\n",
    "data.info()\n",
    "data.duplicated().sum()\n",
    "data.describe()\n",
    "data.hist(figsize=(9,9))\n",
    "plt.show()"
   ]
  },
  {
   "cell_type": "markdown",
   "metadata": {},
   "source": [
    "В исследуемом датасете данные о **23699 объектах недвижимости**. Однако, необходимо выполнить **предобработку данных:**\n",
    "    - удалить/заполнить пропуски в 12 из 21 столбца;\n",
    "    - изменить тип данных в 5 столбцах.\n",
    "   "
   ]
  },
  {
   "cell_type": "markdown",
   "metadata": {},
   "source": [
    "### 2. Предобработка данных"
   ]
  },
  {
   "cell_type": "markdown",
   "metadata": {},
   "source": [
    "В первую очередь пройдемся по **пропущенным значениям** и заполним там, где это возможно."
   ]
  },
  {
   "cell_type": "code",
   "execution_count": 2,
   "metadata": {},
   "outputs": [
    {
     "data": {
      "text/html": [
       "<style  type=\"text/css\" >\n",
       "#T_4f67e_row0_col0,#T_4f67e_row1_col0,#T_4f67e_row2_col0,#T_4f67e_row3_col0,#T_4f67e_row4_col0,#T_4f67e_row6_col0,#T_4f67e_row8_col0,#T_4f67e_row10_col0,#T_4f67e_row11_col0,#T_4f67e_row14_col0{\n",
       "            background-color:  #3b4cc0;\n",
       "            color:  #f1f1f1;\n",
       "        }#T_4f67e_row5_col0{\n",
       "            background-color:  #cdd9ec;\n",
       "            color:  #000000;\n",
       "        }#T_4f67e_row7_col0{\n",
       "            background-color:  #5673e0;\n",
       "            color:  #000000;\n",
       "        }#T_4f67e_row9_col0{\n",
       "            background-color:  #b40426;\n",
       "            color:  #f1f1f1;\n",
       "        }#T_4f67e_row12_col0{\n",
       "            background-color:  #5e7de7;\n",
       "            color:  #000000;\n",
       "        }#T_4f67e_row13_col0{\n",
       "            background-color:  #ead4c8;\n",
       "            color:  #000000;\n",
       "        }#T_4f67e_row15_col0,#T_4f67e_row16_col0,#T_4f67e_row17_col0,#T_4f67e_row19_col0{\n",
       "            background-color:  #90b2fe;\n",
       "            color:  #000000;\n",
       "        }#T_4f67e_row18_col0{\n",
       "            background-color:  #f4987a;\n",
       "            color:  #000000;\n",
       "        }#T_4f67e_row20_col0{\n",
       "            background-color:  #f7aa8c;\n",
       "            color:  #000000;\n",
       "        }#T_4f67e_row21_col0{\n",
       "            background-color:  #688aef;\n",
       "            color:  #000000;\n",
       "        }</style><table id=\"T_4f67e_\" ><thead>    <tr>        <th class=\"blank level0\" ></th>        <th class=\"col_heading level0 col0\" >0</th>    </tr></thead><tbody>\n",
       "                <tr>\n",
       "                        <th id=\"T_4f67e_level0_row0\" class=\"row_heading level0 row0\" >total_images</th>\n",
       "                        <td id=\"T_4f67e_row0_col0\" class=\"data row0 col0\" >0.000000</td>\n",
       "            </tr>\n",
       "            <tr>\n",
       "                        <th id=\"T_4f67e_level0_row1\" class=\"row_heading level0 row1\" >last_price</th>\n",
       "                        <td id=\"T_4f67e_row1_col0\" class=\"data row1 col0\" >0.000000</td>\n",
       "            </tr>\n",
       "            <tr>\n",
       "                        <th id=\"T_4f67e_level0_row2\" class=\"row_heading level0 row2\" >total_area</th>\n",
       "                        <td id=\"T_4f67e_row2_col0\" class=\"data row2 col0\" >0.000000</td>\n",
       "            </tr>\n",
       "            <tr>\n",
       "                        <th id=\"T_4f67e_level0_row3\" class=\"row_heading level0 row3\" >first_day_exposition</th>\n",
       "                        <td id=\"T_4f67e_row3_col0\" class=\"data row3 col0\" >0.000000</td>\n",
       "            </tr>\n",
       "            <tr>\n",
       "                        <th id=\"T_4f67e_level0_row4\" class=\"row_heading level0 row4\" >rooms</th>\n",
       "                        <td id=\"T_4f67e_row4_col0\" class=\"data row4 col0\" >0.000000</td>\n",
       "            </tr>\n",
       "            <tr>\n",
       "                        <th id=\"T_4f67e_level0_row5\" class=\"row_heading level0 row5\" >ceiling_height</th>\n",
       "                        <td id=\"T_4f67e_row5_col0\" class=\"data row5 col0\" >39.000000</td>\n",
       "            </tr>\n",
       "            <tr>\n",
       "                        <th id=\"T_4f67e_level0_row6\" class=\"row_heading level0 row6\" >floors_total</th>\n",
       "                        <td id=\"T_4f67e_row6_col0\" class=\"data row6 col0\" >0.000000</td>\n",
       "            </tr>\n",
       "            <tr>\n",
       "                        <th id=\"T_4f67e_level0_row7\" class=\"row_heading level0 row7\" >living_area</th>\n",
       "                        <td id=\"T_4f67e_row7_col0\" class=\"data row7 col0\" >8.000000</td>\n",
       "            </tr>\n",
       "            <tr>\n",
       "                        <th id=\"T_4f67e_level0_row8\" class=\"row_heading level0 row8\" >floor</th>\n",
       "                        <td id=\"T_4f67e_row8_col0\" class=\"data row8 col0\" >0.000000</td>\n",
       "            </tr>\n",
       "            <tr>\n",
       "                        <th id=\"T_4f67e_level0_row9\" class=\"row_heading level0 row9\" >is_apartment</th>\n",
       "                        <td id=\"T_4f67e_row9_col0\" class=\"data row9 col0\" >88.000000</td>\n",
       "            </tr>\n",
       "            <tr>\n",
       "                        <th id=\"T_4f67e_level0_row10\" class=\"row_heading level0 row10\" >studio</th>\n",
       "                        <td id=\"T_4f67e_row10_col0\" class=\"data row10 col0\" >0.000000</td>\n",
       "            </tr>\n",
       "            <tr>\n",
       "                        <th id=\"T_4f67e_level0_row11\" class=\"row_heading level0 row11\" >open_plan</th>\n",
       "                        <td id=\"T_4f67e_row11_col0\" class=\"data row11 col0\" >0.000000</td>\n",
       "            </tr>\n",
       "            <tr>\n",
       "                        <th id=\"T_4f67e_level0_row12\" class=\"row_heading level0 row12\" >kitchen_area</th>\n",
       "                        <td id=\"T_4f67e_row12_col0\" class=\"data row12 col0\" >10.000000</td>\n",
       "            </tr>\n",
       "            <tr>\n",
       "                        <th id=\"T_4f67e_level0_row13\" class=\"row_heading level0 row13\" >balcony</th>\n",
       "                        <td id=\"T_4f67e_row13_col0\" class=\"data row13 col0\" >49.000000</td>\n",
       "            </tr>\n",
       "            <tr>\n",
       "                        <th id=\"T_4f67e_level0_row14\" class=\"row_heading level0 row14\" >locality_name</th>\n",
       "                        <td id=\"T_4f67e_row14_col0\" class=\"data row14 col0\" >0.000000</td>\n",
       "            </tr>\n",
       "            <tr>\n",
       "                        <th id=\"T_4f67e_level0_row15\" class=\"row_heading level0 row15\" >airports_nearest</th>\n",
       "                        <td id=\"T_4f67e_row15_col0\" class=\"data row15 col0\" >23.000000</td>\n",
       "            </tr>\n",
       "            <tr>\n",
       "                        <th id=\"T_4f67e_level0_row16\" class=\"row_heading level0 row16\" >cityCenters_nearest</th>\n",
       "                        <td id=\"T_4f67e_row16_col0\" class=\"data row16 col0\" >23.000000</td>\n",
       "            </tr>\n",
       "            <tr>\n",
       "                        <th id=\"T_4f67e_level0_row17\" class=\"row_heading level0 row17\" >parks_around3000</th>\n",
       "                        <td id=\"T_4f67e_row17_col0\" class=\"data row17 col0\" >23.000000</td>\n",
       "            </tr>\n",
       "            <tr>\n",
       "                        <th id=\"T_4f67e_level0_row18\" class=\"row_heading level0 row18\" >parks_nearest</th>\n",
       "                        <td id=\"T_4f67e_row18_col0\" class=\"data row18 col0\" >66.000000</td>\n",
       "            </tr>\n",
       "            <tr>\n",
       "                        <th id=\"T_4f67e_level0_row19\" class=\"row_heading level0 row19\" >ponds_around3000</th>\n",
       "                        <td id=\"T_4f67e_row19_col0\" class=\"data row19 col0\" >23.000000</td>\n",
       "            </tr>\n",
       "            <tr>\n",
       "                        <th id=\"T_4f67e_level0_row20\" class=\"row_heading level0 row20\" >ponds_nearest</th>\n",
       "                        <td id=\"T_4f67e_row20_col0\" class=\"data row20 col0\" >62.000000</td>\n",
       "            </tr>\n",
       "            <tr>\n",
       "                        <th id=\"T_4f67e_level0_row21\" class=\"row_heading level0 row21\" >days_exposition</th>\n",
       "                        <td id=\"T_4f67e_row21_col0\" class=\"data row21 col0\" >13.000000</td>\n",
       "            </tr>\n",
       "    </tbody></table>"
      ],
      "text/plain": [
       "<pandas.io.formats.style.Styler at 0x7f40282fd6d0>"
      ]
     },
     "execution_count": 2,
     "metadata": {},
     "output_type": "execute_result"
    }
   ],
   "source": [
    "data.isnull().sum()\n",
    "pd.DataFrame(round(data.isna().mean()*100,)).style.background_gradient('coolwarm')"
   ]
  },
  {
   "cell_type": "markdown",
   "metadata": {},
   "source": [
    "Начнем по порядку и поработаем с пропущенными данными в столбце **\"ceiling_height\"**."
   ]
  },
  {
   "cell_type": "code",
   "execution_count": 3,
   "metadata": {},
   "outputs": [
    {
     "name": "stdout",
     "output_type": "stream",
     "text": [
      "Доля пропущенных значений в столбце ceiling_height составляет 39%\n",
      "2.50     3515\n",
      "2.60     1646\n",
      "2.70     1574\n",
      "3.00     1112\n",
      "2.80      993\n",
      "         ... \n",
      "4.25        1\n",
      "3.39        1\n",
      "3.93        1\n",
      "10.30       1\n",
      "4.65        1\n",
      "Name: ceiling_height, Length: 183, dtype: int64\n"
     ]
    }
   ],
   "source": [
    "print('Доля пропущенных значений в столбце ceiling_height составляет {:.0%}'\\\n",
    "      .format(len(data[data['ceiling_height'].isna()])/len(data)))\n",
    "\n",
    "print(data['ceiling_height'].value_counts())"
   ]
  },
  {
   "cell_type": "markdown",
   "metadata": {},
   "source": [
    "Из выведенных данных видим, что есть **нетипичные значения** (возможно, жилье элитное или внесены некорректные значения). чтобы заполнить пропуски можем использовать медианное значение, которое устоячиво к аномальным значениям."
   ]
  },
  {
   "cell_type": "code",
   "execution_count": 4,
   "metadata": {
    "scrolled": true
   },
   "outputs": [
    {
     "name": "stderr",
     "output_type": "stream",
     "text": [
      "/opt/conda/lib/python3.9/site-packages/numpy/lib/nanfunctions.py:1117: RuntimeWarning: Mean of empty slice\n",
      "  return np.nanmean(a, axis, out=out, keepdims=keepdims)\n",
      "/opt/conda/lib/python3.9/site-packages/numpy/lib/nanfunctions.py:1117: RuntimeWarning: Mean of empty slice\n",
      "  return np.nanmean(a, axis, out=out, keepdims=keepdims)\n",
      "/opt/conda/lib/python3.9/site-packages/numpy/lib/nanfunctions.py:1117: RuntimeWarning: Mean of empty slice\n",
      "  return np.nanmean(a, axis, out=out, keepdims=keepdims)\n",
      "/opt/conda/lib/python3.9/site-packages/numpy/lib/nanfunctions.py:1117: RuntimeWarning: Mean of empty slice\n",
      "  return np.nanmean(a, axis, out=out, keepdims=keepdims)\n",
      "/opt/conda/lib/python3.9/site-packages/numpy/lib/nanfunctions.py:1117: RuntimeWarning: Mean of empty slice\n",
      "  return np.nanmean(a, axis, out=out, keepdims=keepdims)\n",
      "/opt/conda/lib/python3.9/site-packages/numpy/lib/nanfunctions.py:1117: RuntimeWarning: Mean of empty slice\n",
      "  return np.nanmean(a, axis, out=out, keepdims=keepdims)\n",
      "/opt/conda/lib/python3.9/site-packages/numpy/lib/nanfunctions.py:1117: RuntimeWarning: Mean of empty slice\n",
      "  return np.nanmean(a, axis, out=out, keepdims=keepdims)\n",
      "/opt/conda/lib/python3.9/site-packages/numpy/lib/nanfunctions.py:1117: RuntimeWarning: Mean of empty slice\n",
      "  return np.nanmean(a, axis, out=out, keepdims=keepdims)\n",
      "/opt/conda/lib/python3.9/site-packages/numpy/lib/nanfunctions.py:1117: RuntimeWarning: Mean of empty slice\n",
      "  return np.nanmean(a, axis, out=out, keepdims=keepdims)\n",
      "/opt/conda/lib/python3.9/site-packages/numpy/lib/nanfunctions.py:1117: RuntimeWarning: Mean of empty slice\n",
      "  return np.nanmean(a, axis, out=out, keepdims=keepdims)\n",
      "/opt/conda/lib/python3.9/site-packages/numpy/lib/nanfunctions.py:1117: RuntimeWarning: Mean of empty slice\n",
      "  return np.nanmean(a, axis, out=out, keepdims=keepdims)\n",
      "/opt/conda/lib/python3.9/site-packages/numpy/lib/nanfunctions.py:1117: RuntimeWarning: Mean of empty slice\n",
      "  return np.nanmean(a, axis, out=out, keepdims=keepdims)\n",
      "/opt/conda/lib/python3.9/site-packages/numpy/lib/nanfunctions.py:1117: RuntimeWarning: Mean of empty slice\n",
      "  return np.nanmean(a, axis, out=out, keepdims=keepdims)\n",
      "/opt/conda/lib/python3.9/site-packages/numpy/lib/nanfunctions.py:1117: RuntimeWarning: Mean of empty slice\n",
      "  return np.nanmean(a, axis, out=out, keepdims=keepdims)\n",
      "/opt/conda/lib/python3.9/site-packages/numpy/lib/nanfunctions.py:1117: RuntimeWarning: Mean of empty slice\n",
      "  return np.nanmean(a, axis, out=out, keepdims=keepdims)\n",
      "/opt/conda/lib/python3.9/site-packages/numpy/lib/nanfunctions.py:1117: RuntimeWarning: Mean of empty slice\n",
      "  return np.nanmean(a, axis, out=out, keepdims=keepdims)\n",
      "/opt/conda/lib/python3.9/site-packages/numpy/lib/nanfunctions.py:1117: RuntimeWarning: Mean of empty slice\n",
      "  return np.nanmean(a, axis, out=out, keepdims=keepdims)\n",
      "/opt/conda/lib/python3.9/site-packages/numpy/lib/nanfunctions.py:1117: RuntimeWarning: Mean of empty slice\n",
      "  return np.nanmean(a, axis, out=out, keepdims=keepdims)\n",
      "/opt/conda/lib/python3.9/site-packages/numpy/lib/nanfunctions.py:1117: RuntimeWarning: Mean of empty slice\n",
      "  return np.nanmean(a, axis, out=out, keepdims=keepdims)\n",
      "/opt/conda/lib/python3.9/site-packages/numpy/lib/nanfunctions.py:1117: RuntimeWarning: Mean of empty slice\n",
      "  return np.nanmean(a, axis, out=out, keepdims=keepdims)\n",
      "/opt/conda/lib/python3.9/site-packages/numpy/lib/nanfunctions.py:1117: RuntimeWarning: Mean of empty slice\n",
      "  return np.nanmean(a, axis, out=out, keepdims=keepdims)\n",
      "/opt/conda/lib/python3.9/site-packages/numpy/lib/nanfunctions.py:1117: RuntimeWarning: Mean of empty slice\n",
      "  return np.nanmean(a, axis, out=out, keepdims=keepdims)\n",
      "/opt/conda/lib/python3.9/site-packages/numpy/lib/nanfunctions.py:1117: RuntimeWarning: Mean of empty slice\n",
      "  return np.nanmean(a, axis, out=out, keepdims=keepdims)\n",
      "/opt/conda/lib/python3.9/site-packages/numpy/lib/nanfunctions.py:1117: RuntimeWarning: Mean of empty slice\n",
      "  return np.nanmean(a, axis, out=out, keepdims=keepdims)\n",
      "/opt/conda/lib/python3.9/site-packages/numpy/lib/nanfunctions.py:1117: RuntimeWarning: Mean of empty slice\n",
      "  return np.nanmean(a, axis, out=out, keepdims=keepdims)\n",
      "/opt/conda/lib/python3.9/site-packages/numpy/lib/nanfunctions.py:1117: RuntimeWarning: Mean of empty slice\n",
      "  return np.nanmean(a, axis, out=out, keepdims=keepdims)\n",
      "/opt/conda/lib/python3.9/site-packages/numpy/lib/nanfunctions.py:1117: RuntimeWarning: Mean of empty slice\n",
      "  return np.nanmean(a, axis, out=out, keepdims=keepdims)\n",
      "/opt/conda/lib/python3.9/site-packages/numpy/lib/nanfunctions.py:1117: RuntimeWarning: Mean of empty slice\n",
      "  return np.nanmean(a, axis, out=out, keepdims=keepdims)\n",
      "/opt/conda/lib/python3.9/site-packages/numpy/lib/nanfunctions.py:1117: RuntimeWarning: Mean of empty slice\n",
      "  return np.nanmean(a, axis, out=out, keepdims=keepdims)\n",
      "/opt/conda/lib/python3.9/site-packages/numpy/lib/nanfunctions.py:1117: RuntimeWarning: Mean of empty slice\n",
      "  return np.nanmean(a, axis, out=out, keepdims=keepdims)\n",
      "/opt/conda/lib/python3.9/site-packages/numpy/lib/nanfunctions.py:1117: RuntimeWarning: Mean of empty slice\n",
      "  return np.nanmean(a, axis, out=out, keepdims=keepdims)\n",
      "/opt/conda/lib/python3.9/site-packages/numpy/lib/nanfunctions.py:1117: RuntimeWarning: Mean of empty slice\n",
      "  return np.nanmean(a, axis, out=out, keepdims=keepdims)\n",
      "/opt/conda/lib/python3.9/site-packages/numpy/lib/nanfunctions.py:1117: RuntimeWarning: Mean of empty slice\n",
      "  return np.nanmean(a, axis, out=out, keepdims=keepdims)\n",
      "/opt/conda/lib/python3.9/site-packages/numpy/lib/nanfunctions.py:1117: RuntimeWarning: Mean of empty slice\n",
      "  return np.nanmean(a, axis, out=out, keepdims=keepdims)\n",
      "/opt/conda/lib/python3.9/site-packages/numpy/lib/nanfunctions.py:1117: RuntimeWarning: Mean of empty slice\n",
      "  return np.nanmean(a, axis, out=out, keepdims=keepdims)\n",
      "/opt/conda/lib/python3.9/site-packages/numpy/lib/nanfunctions.py:1117: RuntimeWarning: Mean of empty slice\n",
      "  return np.nanmean(a, axis, out=out, keepdims=keepdims)\n",
      "/opt/conda/lib/python3.9/site-packages/numpy/lib/nanfunctions.py:1117: RuntimeWarning: Mean of empty slice\n",
      "  return np.nanmean(a, axis, out=out, keepdims=keepdims)\n",
      "/opt/conda/lib/python3.9/site-packages/numpy/lib/nanfunctions.py:1117: RuntimeWarning: Mean of empty slice\n",
      "  return np.nanmean(a, axis, out=out, keepdims=keepdims)\n",
      "/opt/conda/lib/python3.9/site-packages/numpy/lib/nanfunctions.py:1117: RuntimeWarning: Mean of empty slice\n",
      "  return np.nanmean(a, axis, out=out, keepdims=keepdims)\n",
      "/opt/conda/lib/python3.9/site-packages/numpy/lib/nanfunctions.py:1117: RuntimeWarning: Mean of empty slice\n",
      "  return np.nanmean(a, axis, out=out, keepdims=keepdims)\n",
      "/opt/conda/lib/python3.9/site-packages/numpy/lib/nanfunctions.py:1117: RuntimeWarning: Mean of empty slice\n",
      "  return np.nanmean(a, axis, out=out, keepdims=keepdims)\n",
      "/opt/conda/lib/python3.9/site-packages/numpy/lib/nanfunctions.py:1117: RuntimeWarning: Mean of empty slice\n",
      "  return np.nanmean(a, axis, out=out, keepdims=keepdims)\n",
      "/opt/conda/lib/python3.9/site-packages/numpy/lib/nanfunctions.py:1117: RuntimeWarning: Mean of empty slice\n",
      "  return np.nanmean(a, axis, out=out, keepdims=keepdims)\n",
      "/opt/conda/lib/python3.9/site-packages/numpy/lib/nanfunctions.py:1117: RuntimeWarning: Mean of empty slice\n",
      "  return np.nanmean(a, axis, out=out, keepdims=keepdims)\n",
      "/opt/conda/lib/python3.9/site-packages/numpy/lib/nanfunctions.py:1117: RuntimeWarning: Mean of empty slice\n",
      "  return np.nanmean(a, axis, out=out, keepdims=keepdims)\n",
      "/opt/conda/lib/python3.9/site-packages/numpy/lib/nanfunctions.py:1117: RuntimeWarning: Mean of empty slice\n",
      "  return np.nanmean(a, axis, out=out, keepdims=keepdims)\n",
      "/opt/conda/lib/python3.9/site-packages/numpy/lib/nanfunctions.py:1117: RuntimeWarning: Mean of empty slice\n",
      "  return np.nanmean(a, axis, out=out, keepdims=keepdims)\n",
      "/opt/conda/lib/python3.9/site-packages/numpy/lib/nanfunctions.py:1117: RuntimeWarning: Mean of empty slice\n",
      "  return np.nanmean(a, axis, out=out, keepdims=keepdims)\n",
      "/opt/conda/lib/python3.9/site-packages/numpy/lib/nanfunctions.py:1117: RuntimeWarning: Mean of empty slice\n",
      "  return np.nanmean(a, axis, out=out, keepdims=keepdims)\n",
      "/opt/conda/lib/python3.9/site-packages/numpy/lib/nanfunctions.py:1117: RuntimeWarning: Mean of empty slice\n",
      "  return np.nanmean(a, axis, out=out, keepdims=keepdims)\n",
      "/opt/conda/lib/python3.9/site-packages/numpy/lib/nanfunctions.py:1117: RuntimeWarning: Mean of empty slice\n",
      "  return np.nanmean(a, axis, out=out, keepdims=keepdims)\n",
      "/opt/conda/lib/python3.9/site-packages/numpy/lib/nanfunctions.py:1117: RuntimeWarning: Mean of empty slice\n",
      "  return np.nanmean(a, axis, out=out, keepdims=keepdims)\n",
      "/opt/conda/lib/python3.9/site-packages/numpy/lib/nanfunctions.py:1117: RuntimeWarning: Mean of empty slice\n",
      "  return np.nanmean(a, axis, out=out, keepdims=keepdims)\n",
      "/opt/conda/lib/python3.9/site-packages/numpy/lib/nanfunctions.py:1117: RuntimeWarning: Mean of empty slice\n",
      "  return np.nanmean(a, axis, out=out, keepdims=keepdims)\n",
      "/opt/conda/lib/python3.9/site-packages/numpy/lib/nanfunctions.py:1117: RuntimeWarning: Mean of empty slice\n",
      "  return np.nanmean(a, axis, out=out, keepdims=keepdims)\n",
      "/opt/conda/lib/python3.9/site-packages/numpy/lib/nanfunctions.py:1117: RuntimeWarning: Mean of empty slice\n",
      "  return np.nanmean(a, axis, out=out, keepdims=keepdims)\n",
      "/opt/conda/lib/python3.9/site-packages/numpy/lib/nanfunctions.py:1117: RuntimeWarning: Mean of empty slice\n",
      "  return np.nanmean(a, axis, out=out, keepdims=keepdims)\n",
      "/opt/conda/lib/python3.9/site-packages/numpy/lib/nanfunctions.py:1117: RuntimeWarning: Mean of empty slice\n",
      "  return np.nanmean(a, axis, out=out, keepdims=keepdims)\n",
      "/opt/conda/lib/python3.9/site-packages/numpy/lib/nanfunctions.py:1117: RuntimeWarning: Mean of empty slice\n",
      "  return np.nanmean(a, axis, out=out, keepdims=keepdims)\n",
      "/opt/conda/lib/python3.9/site-packages/numpy/lib/nanfunctions.py:1117: RuntimeWarning: Mean of empty slice\n",
      "  return np.nanmean(a, axis, out=out, keepdims=keepdims)\n",
      "/opt/conda/lib/python3.9/site-packages/numpy/lib/nanfunctions.py:1117: RuntimeWarning: Mean of empty slice\n",
      "  return np.nanmean(a, axis, out=out, keepdims=keepdims)\n",
      "/opt/conda/lib/python3.9/site-packages/numpy/lib/nanfunctions.py:1117: RuntimeWarning: Mean of empty slice\n",
      "  return np.nanmean(a, axis, out=out, keepdims=keepdims)\n",
      "/opt/conda/lib/python3.9/site-packages/numpy/lib/nanfunctions.py:1117: RuntimeWarning: Mean of empty slice\n",
      "  return np.nanmean(a, axis, out=out, keepdims=keepdims)\n",
      "/opt/conda/lib/python3.9/site-packages/numpy/lib/nanfunctions.py:1117: RuntimeWarning: Mean of empty slice\n",
      "  return np.nanmean(a, axis, out=out, keepdims=keepdims)\n",
      "/opt/conda/lib/python3.9/site-packages/numpy/lib/nanfunctions.py:1117: RuntimeWarning: Mean of empty slice\n",
      "  return np.nanmean(a, axis, out=out, keepdims=keepdims)\n",
      "/opt/conda/lib/python3.9/site-packages/numpy/lib/nanfunctions.py:1117: RuntimeWarning: Mean of empty slice\n",
      "  return np.nanmean(a, axis, out=out, keepdims=keepdims)\n",
      "/opt/conda/lib/python3.9/site-packages/numpy/lib/nanfunctions.py:1117: RuntimeWarning: Mean of empty slice\n",
      "  return np.nanmean(a, axis, out=out, keepdims=keepdims)\n",
      "/opt/conda/lib/python3.9/site-packages/numpy/lib/nanfunctions.py:1117: RuntimeWarning: Mean of empty slice\n",
      "  return np.nanmean(a, axis, out=out, keepdims=keepdims)\n",
      "/opt/conda/lib/python3.9/site-packages/numpy/lib/nanfunctions.py:1117: RuntimeWarning: Mean of empty slice\n",
      "  return np.nanmean(a, axis, out=out, keepdims=keepdims)\n",
      "/opt/conda/lib/python3.9/site-packages/numpy/lib/nanfunctions.py:1117: RuntimeWarning: Mean of empty slice\n",
      "  return np.nanmean(a, axis, out=out, keepdims=keepdims)\n",
      "/opt/conda/lib/python3.9/site-packages/numpy/lib/nanfunctions.py:1117: RuntimeWarning: Mean of empty slice\n",
      "  return np.nanmean(a, axis, out=out, keepdims=keepdims)\n",
      "/opt/conda/lib/python3.9/site-packages/numpy/lib/nanfunctions.py:1117: RuntimeWarning: Mean of empty slice\n",
      "  return np.nanmean(a, axis, out=out, keepdims=keepdims)\n",
      "/opt/conda/lib/python3.9/site-packages/numpy/lib/nanfunctions.py:1117: RuntimeWarning: Mean of empty slice\n",
      "  return np.nanmean(a, axis, out=out, keepdims=keepdims)\n",
      "/opt/conda/lib/python3.9/site-packages/numpy/lib/nanfunctions.py:1117: RuntimeWarning: Mean of empty slice\n",
      "  return np.nanmean(a, axis, out=out, keepdims=keepdims)\n",
      "/opt/conda/lib/python3.9/site-packages/numpy/lib/nanfunctions.py:1117: RuntimeWarning: Mean of empty slice\n",
      "  return np.nanmean(a, axis, out=out, keepdims=keepdims)\n",
      "/opt/conda/lib/python3.9/site-packages/numpy/lib/nanfunctions.py:1117: RuntimeWarning: Mean of empty slice\n",
      "  return np.nanmean(a, axis, out=out, keepdims=keepdims)\n",
      "/opt/conda/lib/python3.9/site-packages/numpy/lib/nanfunctions.py:1117: RuntimeWarning: Mean of empty slice\n",
      "  return np.nanmean(a, axis, out=out, keepdims=keepdims)\n",
      "/opt/conda/lib/python3.9/site-packages/numpy/lib/nanfunctions.py:1117: RuntimeWarning: Mean of empty slice\n",
      "  return np.nanmean(a, axis, out=out, keepdims=keepdims)\n",
      "/opt/conda/lib/python3.9/site-packages/numpy/lib/nanfunctions.py:1117: RuntimeWarning: Mean of empty slice\n",
      "  return np.nanmean(a, axis, out=out, keepdims=keepdims)\n",
      "/opt/conda/lib/python3.9/site-packages/numpy/lib/nanfunctions.py:1117: RuntimeWarning: Mean of empty slice\n",
      "  return np.nanmean(a, axis, out=out, keepdims=keepdims)\n",
      "/opt/conda/lib/python3.9/site-packages/numpy/lib/nanfunctions.py:1117: RuntimeWarning: Mean of empty slice\n",
      "  return np.nanmean(a, axis, out=out, keepdims=keepdims)\n",
      "/opt/conda/lib/python3.9/site-packages/numpy/lib/nanfunctions.py:1117: RuntimeWarning: Mean of empty slice\n",
      "  return np.nanmean(a, axis, out=out, keepdims=keepdims)\n",
      "/opt/conda/lib/python3.9/site-packages/numpy/lib/nanfunctions.py:1117: RuntimeWarning: Mean of empty slice\n",
      "  return np.nanmean(a, axis, out=out, keepdims=keepdims)\n",
      "/opt/conda/lib/python3.9/site-packages/numpy/lib/nanfunctions.py:1117: RuntimeWarning: Mean of empty slice\n",
      "  return np.nanmean(a, axis, out=out, keepdims=keepdims)\n",
      "/opt/conda/lib/python3.9/site-packages/numpy/lib/nanfunctions.py:1117: RuntimeWarning: Mean of empty slice\n",
      "  return np.nanmean(a, axis, out=out, keepdims=keepdims)\n",
      "/opt/conda/lib/python3.9/site-packages/numpy/lib/nanfunctions.py:1117: RuntimeWarning: Mean of empty slice\n",
      "  return np.nanmean(a, axis, out=out, keepdims=keepdims)\n",
      "/opt/conda/lib/python3.9/site-packages/numpy/lib/nanfunctions.py:1117: RuntimeWarning: Mean of empty slice\n",
      "  return np.nanmean(a, axis, out=out, keepdims=keepdims)\n",
      "/opt/conda/lib/python3.9/site-packages/numpy/lib/nanfunctions.py:1117: RuntimeWarning: Mean of empty slice\n",
      "  return np.nanmean(a, axis, out=out, keepdims=keepdims)\n",
      "/opt/conda/lib/python3.9/site-packages/numpy/lib/nanfunctions.py:1117: RuntimeWarning: Mean of empty slice\n",
      "  return np.nanmean(a, axis, out=out, keepdims=keepdims)\n",
      "/opt/conda/lib/python3.9/site-packages/numpy/lib/nanfunctions.py:1117: RuntimeWarning: Mean of empty slice\n",
      "  return np.nanmean(a, axis, out=out, keepdims=keepdims)\n",
      "/opt/conda/lib/python3.9/site-packages/numpy/lib/nanfunctions.py:1117: RuntimeWarning: Mean of empty slice\n",
      "  return np.nanmean(a, axis, out=out, keepdims=keepdims)\n",
      "/opt/conda/lib/python3.9/site-packages/numpy/lib/nanfunctions.py:1117: RuntimeWarning: Mean of empty slice\n",
      "  return np.nanmean(a, axis, out=out, keepdims=keepdims)\n",
      "/opt/conda/lib/python3.9/site-packages/numpy/lib/nanfunctions.py:1117: RuntimeWarning: Mean of empty slice\n",
      "  return np.nanmean(a, axis, out=out, keepdims=keepdims)\n",
      "/opt/conda/lib/python3.9/site-packages/numpy/lib/nanfunctions.py:1117: RuntimeWarning: Mean of empty slice\n",
      "  return np.nanmean(a, axis, out=out, keepdims=keepdims)\n",
      "/opt/conda/lib/python3.9/site-packages/numpy/lib/nanfunctions.py:1117: RuntimeWarning: Mean of empty slice\n",
      "  return np.nanmean(a, axis, out=out, keepdims=keepdims)\n",
      "/opt/conda/lib/python3.9/site-packages/numpy/lib/nanfunctions.py:1117: RuntimeWarning: Mean of empty slice\n",
      "  return np.nanmean(a, axis, out=out, keepdims=keepdims)\n",
      "/opt/conda/lib/python3.9/site-packages/numpy/lib/nanfunctions.py:1117: RuntimeWarning: Mean of empty slice\n",
      "  return np.nanmean(a, axis, out=out, keepdims=keepdims)\n",
      "/opt/conda/lib/python3.9/site-packages/numpy/lib/nanfunctions.py:1117: RuntimeWarning: Mean of empty slice\n",
      "  return np.nanmean(a, axis, out=out, keepdims=keepdims)\n",
      "/opt/conda/lib/python3.9/site-packages/numpy/lib/nanfunctions.py:1117: RuntimeWarning: Mean of empty slice\n",
      "  return np.nanmean(a, axis, out=out, keepdims=keepdims)\n",
      "/opt/conda/lib/python3.9/site-packages/numpy/lib/nanfunctions.py:1117: RuntimeWarning: Mean of empty slice\n",
      "  return np.nanmean(a, axis, out=out, keepdims=keepdims)\n",
      "/opt/conda/lib/python3.9/site-packages/numpy/lib/nanfunctions.py:1117: RuntimeWarning: Mean of empty slice\n",
      "  return np.nanmean(a, axis, out=out, keepdims=keepdims)\n",
      "/opt/conda/lib/python3.9/site-packages/numpy/lib/nanfunctions.py:1117: RuntimeWarning: Mean of empty slice\n",
      "  return np.nanmean(a, axis, out=out, keepdims=keepdims)\n",
      "/opt/conda/lib/python3.9/site-packages/numpy/lib/nanfunctions.py:1117: RuntimeWarning: Mean of empty slice\n",
      "  return np.nanmean(a, axis, out=out, keepdims=keepdims)\n",
      "/opt/conda/lib/python3.9/site-packages/numpy/lib/nanfunctions.py:1117: RuntimeWarning: Mean of empty slice\n",
      "  return np.nanmean(a, axis, out=out, keepdims=keepdims)\n",
      "/opt/conda/lib/python3.9/site-packages/numpy/lib/nanfunctions.py:1117: RuntimeWarning: Mean of empty slice\n",
      "  return np.nanmean(a, axis, out=out, keepdims=keepdims)\n",
      "/opt/conda/lib/python3.9/site-packages/numpy/lib/nanfunctions.py:1117: RuntimeWarning: Mean of empty slice\n",
      "  return np.nanmean(a, axis, out=out, keepdims=keepdims)\n",
      "/opt/conda/lib/python3.9/site-packages/numpy/lib/nanfunctions.py:1117: RuntimeWarning: Mean of empty slice\n",
      "  return np.nanmean(a, axis, out=out, keepdims=keepdims)\n",
      "/opt/conda/lib/python3.9/site-packages/numpy/lib/nanfunctions.py:1117: RuntimeWarning: Mean of empty slice\n",
      "  return np.nanmean(a, axis, out=out, keepdims=keepdims)\n",
      "/opt/conda/lib/python3.9/site-packages/numpy/lib/nanfunctions.py:1117: RuntimeWarning: Mean of empty slice\n",
      "  return np.nanmean(a, axis, out=out, keepdims=keepdims)\n",
      "/opt/conda/lib/python3.9/site-packages/numpy/lib/nanfunctions.py:1117: RuntimeWarning: Mean of empty slice\n",
      "  return np.nanmean(a, axis, out=out, keepdims=keepdims)\n",
      "/opt/conda/lib/python3.9/site-packages/numpy/lib/nanfunctions.py:1117: RuntimeWarning: Mean of empty slice\n",
      "  return np.nanmean(a, axis, out=out, keepdims=keepdims)\n",
      "/opt/conda/lib/python3.9/site-packages/numpy/lib/nanfunctions.py:1117: RuntimeWarning: Mean of empty slice\n",
      "  return np.nanmean(a, axis, out=out, keepdims=keepdims)\n",
      "/opt/conda/lib/python3.9/site-packages/numpy/lib/nanfunctions.py:1117: RuntimeWarning: Mean of empty slice\n",
      "  return np.nanmean(a, axis, out=out, keepdims=keepdims)\n",
      "/opt/conda/lib/python3.9/site-packages/numpy/lib/nanfunctions.py:1117: RuntimeWarning: Mean of empty slice\n",
      "  return np.nanmean(a, axis, out=out, keepdims=keepdims)\n",
      "/opt/conda/lib/python3.9/site-packages/numpy/lib/nanfunctions.py:1117: RuntimeWarning: Mean of empty slice\n",
      "  return np.nanmean(a, axis, out=out, keepdims=keepdims)\n",
      "/opt/conda/lib/python3.9/site-packages/numpy/lib/nanfunctions.py:1117: RuntimeWarning: Mean of empty slice\n",
      "  return np.nanmean(a, axis, out=out, keepdims=keepdims)\n",
      "/opt/conda/lib/python3.9/site-packages/numpy/lib/nanfunctions.py:1117: RuntimeWarning: Mean of empty slice\n",
      "  return np.nanmean(a, axis, out=out, keepdims=keepdims)\n",
      "/opt/conda/lib/python3.9/site-packages/numpy/lib/nanfunctions.py:1117: RuntimeWarning: Mean of empty slice\n",
      "  return np.nanmean(a, axis, out=out, keepdims=keepdims)\n",
      "/opt/conda/lib/python3.9/site-packages/numpy/lib/nanfunctions.py:1117: RuntimeWarning: Mean of empty slice\n",
      "  return np.nanmean(a, axis, out=out, keepdims=keepdims)\n",
      "/opt/conda/lib/python3.9/site-packages/numpy/lib/nanfunctions.py:1117: RuntimeWarning: Mean of empty slice\n",
      "  return np.nanmean(a, axis, out=out, keepdims=keepdims)\n",
      "/opt/conda/lib/python3.9/site-packages/numpy/lib/nanfunctions.py:1117: RuntimeWarning: Mean of empty slice\n",
      "  return np.nanmean(a, axis, out=out, keepdims=keepdims)\n",
      "/opt/conda/lib/python3.9/site-packages/numpy/lib/nanfunctions.py:1117: RuntimeWarning: Mean of empty slice\n",
      "  return np.nanmean(a, axis, out=out, keepdims=keepdims)\n",
      "/opt/conda/lib/python3.9/site-packages/numpy/lib/nanfunctions.py:1117: RuntimeWarning: Mean of empty slice\n",
      "  return np.nanmean(a, axis, out=out, keepdims=keepdims)\n",
      "/opt/conda/lib/python3.9/site-packages/numpy/lib/nanfunctions.py:1117: RuntimeWarning: Mean of empty slice\n",
      "  return np.nanmean(a, axis, out=out, keepdims=keepdims)\n",
      "/opt/conda/lib/python3.9/site-packages/numpy/lib/nanfunctions.py:1117: RuntimeWarning: Mean of empty slice\n",
      "  return np.nanmean(a, axis, out=out, keepdims=keepdims)\n",
      "/opt/conda/lib/python3.9/site-packages/numpy/lib/nanfunctions.py:1117: RuntimeWarning: Mean of empty slice\n",
      "  return np.nanmean(a, axis, out=out, keepdims=keepdims)\n",
      "/opt/conda/lib/python3.9/site-packages/numpy/lib/nanfunctions.py:1117: RuntimeWarning: Mean of empty slice\n",
      "  return np.nanmean(a, axis, out=out, keepdims=keepdims)\n",
      "/opt/conda/lib/python3.9/site-packages/numpy/lib/nanfunctions.py:1117: RuntimeWarning: Mean of empty slice\n",
      "  return np.nanmean(a, axis, out=out, keepdims=keepdims)\n",
      "/opt/conda/lib/python3.9/site-packages/numpy/lib/nanfunctions.py:1117: RuntimeWarning: Mean of empty slice\n",
      "  return np.nanmean(a, axis, out=out, keepdims=keepdims)\n",
      "/opt/conda/lib/python3.9/site-packages/numpy/lib/nanfunctions.py:1117: RuntimeWarning: Mean of empty slice\n",
      "  return np.nanmean(a, axis, out=out, keepdims=keepdims)\n",
      "/opt/conda/lib/python3.9/site-packages/numpy/lib/nanfunctions.py:1117: RuntimeWarning: Mean of empty slice\n",
      "  return np.nanmean(a, axis, out=out, keepdims=keepdims)\n",
      "/opt/conda/lib/python3.9/site-packages/numpy/lib/nanfunctions.py:1117: RuntimeWarning: Mean of empty slice\n",
      "  return np.nanmean(a, axis, out=out, keepdims=keepdims)\n",
      "/opt/conda/lib/python3.9/site-packages/numpy/lib/nanfunctions.py:1117: RuntimeWarning: Mean of empty slice\n",
      "  return np.nanmean(a, axis, out=out, keepdims=keepdims)\n",
      "/opt/conda/lib/python3.9/site-packages/numpy/lib/nanfunctions.py:1117: RuntimeWarning: Mean of empty slice\n",
      "  return np.nanmean(a, axis, out=out, keepdims=keepdims)\n",
      "/opt/conda/lib/python3.9/site-packages/numpy/lib/nanfunctions.py:1117: RuntimeWarning: Mean of empty slice\n",
      "  return np.nanmean(a, axis, out=out, keepdims=keepdims)\n",
      "/opt/conda/lib/python3.9/site-packages/numpy/lib/nanfunctions.py:1117: RuntimeWarning: Mean of empty slice\n",
      "  return np.nanmean(a, axis, out=out, keepdims=keepdims)\n",
      "/opt/conda/lib/python3.9/site-packages/numpy/lib/nanfunctions.py:1117: RuntimeWarning: Mean of empty slice\n",
      "  return np.nanmean(a, axis, out=out, keepdims=keepdims)\n",
      "/opt/conda/lib/python3.9/site-packages/numpy/lib/nanfunctions.py:1117: RuntimeWarning: Mean of empty slice\n",
      "  return np.nanmean(a, axis, out=out, keepdims=keepdims)\n",
      "/opt/conda/lib/python3.9/site-packages/numpy/lib/nanfunctions.py:1117: RuntimeWarning: Mean of empty slice\n",
      "  return np.nanmean(a, axis, out=out, keepdims=keepdims)\n",
      "/opt/conda/lib/python3.9/site-packages/numpy/lib/nanfunctions.py:1117: RuntimeWarning: Mean of empty slice\n",
      "  return np.nanmean(a, axis, out=out, keepdims=keepdims)\n",
      "/opt/conda/lib/python3.9/site-packages/numpy/lib/nanfunctions.py:1117: RuntimeWarning: Mean of empty slice\n",
      "  return np.nanmean(a, axis, out=out, keepdims=keepdims)\n",
      "/opt/conda/lib/python3.9/site-packages/numpy/lib/nanfunctions.py:1117: RuntimeWarning: Mean of empty slice\n",
      "  return np.nanmean(a, axis, out=out, keepdims=keepdims)\n",
      "/opt/conda/lib/python3.9/site-packages/numpy/lib/nanfunctions.py:1117: RuntimeWarning: Mean of empty slice\n",
      "  return np.nanmean(a, axis, out=out, keepdims=keepdims)\n",
      "/opt/conda/lib/python3.9/site-packages/numpy/lib/nanfunctions.py:1117: RuntimeWarning: Mean of empty slice\n",
      "  return np.nanmean(a, axis, out=out, keepdims=keepdims)\n",
      "/opt/conda/lib/python3.9/site-packages/numpy/lib/nanfunctions.py:1117: RuntimeWarning: Mean of empty slice\n",
      "  return np.nanmean(a, axis, out=out, keepdims=keepdims)\n",
      "/opt/conda/lib/python3.9/site-packages/numpy/lib/nanfunctions.py:1117: RuntimeWarning: Mean of empty slice\n",
      "  return np.nanmean(a, axis, out=out, keepdims=keepdims)\n",
      "/opt/conda/lib/python3.9/site-packages/numpy/lib/nanfunctions.py:1117: RuntimeWarning: Mean of empty slice\n",
      "  return np.nanmean(a, axis, out=out, keepdims=keepdims)\n",
      "/opt/conda/lib/python3.9/site-packages/numpy/lib/nanfunctions.py:1117: RuntimeWarning: Mean of empty slice\n",
      "  return np.nanmean(a, axis, out=out, keepdims=keepdims)\n",
      "/opt/conda/lib/python3.9/site-packages/numpy/lib/nanfunctions.py:1117: RuntimeWarning: Mean of empty slice\n",
      "  return np.nanmean(a, axis, out=out, keepdims=keepdims)\n",
      "/opt/conda/lib/python3.9/site-packages/numpy/lib/nanfunctions.py:1117: RuntimeWarning: Mean of empty slice\n",
      "  return np.nanmean(a, axis, out=out, keepdims=keepdims)\n",
      "/opt/conda/lib/python3.9/site-packages/numpy/lib/nanfunctions.py:1117: RuntimeWarning: Mean of empty slice\n",
      "  return np.nanmean(a, axis, out=out, keepdims=keepdims)\n",
      "/opt/conda/lib/python3.9/site-packages/numpy/lib/nanfunctions.py:1117: RuntimeWarning: Mean of empty slice\n",
      "  return np.nanmean(a, axis, out=out, keepdims=keepdims)\n",
      "/opt/conda/lib/python3.9/site-packages/numpy/lib/nanfunctions.py:1117: RuntimeWarning: Mean of empty slice\n",
      "  return np.nanmean(a, axis, out=out, keepdims=keepdims)\n",
      "/opt/conda/lib/python3.9/site-packages/numpy/lib/nanfunctions.py:1117: RuntimeWarning: Mean of empty slice\n",
      "  return np.nanmean(a, axis, out=out, keepdims=keepdims)\n",
      "/opt/conda/lib/python3.9/site-packages/numpy/lib/nanfunctions.py:1117: RuntimeWarning: Mean of empty slice\n",
      "  return np.nanmean(a, axis, out=out, keepdims=keepdims)\n",
      "/opt/conda/lib/python3.9/site-packages/numpy/lib/nanfunctions.py:1117: RuntimeWarning: Mean of empty slice\n",
      "  return np.nanmean(a, axis, out=out, keepdims=keepdims)\n",
      "/opt/conda/lib/python3.9/site-packages/numpy/lib/nanfunctions.py:1117: RuntimeWarning: Mean of empty slice\n",
      "  return np.nanmean(a, axis, out=out, keepdims=keepdims)\n",
      "/opt/conda/lib/python3.9/site-packages/numpy/lib/nanfunctions.py:1117: RuntimeWarning: Mean of empty slice\n",
      "  return np.nanmean(a, axis, out=out, keepdims=keepdims)\n",
      "/opt/conda/lib/python3.9/site-packages/numpy/lib/nanfunctions.py:1117: RuntimeWarning: Mean of empty slice\n",
      "  return np.nanmean(a, axis, out=out, keepdims=keepdims)\n",
      "/opt/conda/lib/python3.9/site-packages/numpy/lib/nanfunctions.py:1117: RuntimeWarning: Mean of empty slice\n",
      "  return np.nanmean(a, axis, out=out, keepdims=keepdims)\n",
      "/opt/conda/lib/python3.9/site-packages/numpy/lib/nanfunctions.py:1117: RuntimeWarning: Mean of empty slice\n",
      "  return np.nanmean(a, axis, out=out, keepdims=keepdims)\n",
      "/opt/conda/lib/python3.9/site-packages/numpy/lib/nanfunctions.py:1117: RuntimeWarning: Mean of empty slice\n",
      "  return np.nanmean(a, axis, out=out, keepdims=keepdims)\n",
      "/opt/conda/lib/python3.9/site-packages/numpy/lib/nanfunctions.py:1117: RuntimeWarning: Mean of empty slice\n",
      "  return np.nanmean(a, axis, out=out, keepdims=keepdims)\n",
      "/opt/conda/lib/python3.9/site-packages/numpy/lib/nanfunctions.py:1117: RuntimeWarning: Mean of empty slice\n",
      "  return np.nanmean(a, axis, out=out, keepdims=keepdims)\n",
      "/opt/conda/lib/python3.9/site-packages/numpy/lib/nanfunctions.py:1117: RuntimeWarning: Mean of empty slice\n",
      "  return np.nanmean(a, axis, out=out, keepdims=keepdims)\n",
      "/opt/conda/lib/python3.9/site-packages/numpy/lib/nanfunctions.py:1117: RuntimeWarning: Mean of empty slice\n",
      "  return np.nanmean(a, axis, out=out, keepdims=keepdims)\n",
      "/opt/conda/lib/python3.9/site-packages/numpy/lib/nanfunctions.py:1117: RuntimeWarning: Mean of empty slice\n",
      "  return np.nanmean(a, axis, out=out, keepdims=keepdims)\n",
      "/opt/conda/lib/python3.9/site-packages/numpy/lib/nanfunctions.py:1117: RuntimeWarning: Mean of empty slice\n",
      "  return np.nanmean(a, axis, out=out, keepdims=keepdims)\n",
      "/opt/conda/lib/python3.9/site-packages/numpy/lib/nanfunctions.py:1117: RuntimeWarning: Mean of empty slice\n",
      "  return np.nanmean(a, axis, out=out, keepdims=keepdims)\n",
      "/opt/conda/lib/python3.9/site-packages/numpy/lib/nanfunctions.py:1117: RuntimeWarning: Mean of empty slice\n",
      "  return np.nanmean(a, axis, out=out, keepdims=keepdims)\n",
      "/opt/conda/lib/python3.9/site-packages/numpy/lib/nanfunctions.py:1117: RuntimeWarning: Mean of empty slice\n",
      "  return np.nanmean(a, axis, out=out, keepdims=keepdims)\n",
      "/opt/conda/lib/python3.9/site-packages/numpy/lib/nanfunctions.py:1117: RuntimeWarning: Mean of empty slice\n",
      "  return np.nanmean(a, axis, out=out, keepdims=keepdims)\n",
      "/opt/conda/lib/python3.9/site-packages/numpy/lib/nanfunctions.py:1117: RuntimeWarning: Mean of empty slice\n",
      "  return np.nanmean(a, axis, out=out, keepdims=keepdims)\n",
      "/opt/conda/lib/python3.9/site-packages/numpy/lib/nanfunctions.py:1117: RuntimeWarning: Mean of empty slice\n",
      "  return np.nanmean(a, axis, out=out, keepdims=keepdims)\n",
      "/opt/conda/lib/python3.9/site-packages/numpy/lib/nanfunctions.py:1117: RuntimeWarning: Mean of empty slice\n",
      "  return np.nanmean(a, axis, out=out, keepdims=keepdims)\n",
      "/opt/conda/lib/python3.9/site-packages/numpy/lib/nanfunctions.py:1117: RuntimeWarning: Mean of empty slice\n",
      "  return np.nanmean(a, axis, out=out, keepdims=keepdims)\n",
      "/opt/conda/lib/python3.9/site-packages/numpy/lib/nanfunctions.py:1117: RuntimeWarning: Mean of empty slice\n",
      "  return np.nanmean(a, axis, out=out, keepdims=keepdims)\n",
      "/opt/conda/lib/python3.9/site-packages/numpy/lib/nanfunctions.py:1117: RuntimeWarning: Mean of empty slice\n",
      "  return np.nanmean(a, axis, out=out, keepdims=keepdims)\n",
      "/opt/conda/lib/python3.9/site-packages/numpy/lib/nanfunctions.py:1117: RuntimeWarning: Mean of empty slice\n",
      "  return np.nanmean(a, axis, out=out, keepdims=keepdims)\n",
      "/opt/conda/lib/python3.9/site-packages/numpy/lib/nanfunctions.py:1117: RuntimeWarning: Mean of empty slice\n",
      "  return np.nanmean(a, axis, out=out, keepdims=keepdims)\n",
      "/opt/conda/lib/python3.9/site-packages/numpy/lib/nanfunctions.py:1117: RuntimeWarning: Mean of empty slice\n",
      "  return np.nanmean(a, axis, out=out, keepdims=keepdims)\n",
      "/opt/conda/lib/python3.9/site-packages/numpy/lib/nanfunctions.py:1117: RuntimeWarning: Mean of empty slice\n",
      "  return np.nanmean(a, axis, out=out, keepdims=keepdims)\n",
      "/opt/conda/lib/python3.9/site-packages/numpy/lib/nanfunctions.py:1117: RuntimeWarning: Mean of empty slice\n",
      "  return np.nanmean(a, axis, out=out, keepdims=keepdims)\n",
      "/opt/conda/lib/python3.9/site-packages/numpy/lib/nanfunctions.py:1117: RuntimeWarning: Mean of empty slice\n",
      "  return np.nanmean(a, axis, out=out, keepdims=keepdims)\n",
      "/opt/conda/lib/python3.9/site-packages/numpy/lib/nanfunctions.py:1117: RuntimeWarning: Mean of empty slice\n",
      "  return np.nanmean(a, axis, out=out, keepdims=keepdims)\n",
      "/opt/conda/lib/python3.9/site-packages/numpy/lib/nanfunctions.py:1117: RuntimeWarning: Mean of empty slice\n",
      "  return np.nanmean(a, axis, out=out, keepdims=keepdims)\n",
      "/opt/conda/lib/python3.9/site-packages/numpy/lib/nanfunctions.py:1117: RuntimeWarning: Mean of empty slice\n",
      "  return np.nanmean(a, axis, out=out, keepdims=keepdims)\n",
      "/opt/conda/lib/python3.9/site-packages/numpy/lib/nanfunctions.py:1117: RuntimeWarning: Mean of empty slice\n",
      "  return np.nanmean(a, axis, out=out, keepdims=keepdims)\n",
      "/opt/conda/lib/python3.9/site-packages/numpy/lib/nanfunctions.py:1117: RuntimeWarning: Mean of empty slice\n",
      "  return np.nanmean(a, axis, out=out, keepdims=keepdims)\n",
      "/opt/conda/lib/python3.9/site-packages/numpy/lib/nanfunctions.py:1117: RuntimeWarning: Mean of empty slice\n",
      "  return np.nanmean(a, axis, out=out, keepdims=keepdims)\n",
      "/opt/conda/lib/python3.9/site-packages/numpy/lib/nanfunctions.py:1117: RuntimeWarning: Mean of empty slice\n",
      "  return np.nanmean(a, axis, out=out, keepdims=keepdims)\n",
      "/opt/conda/lib/python3.9/site-packages/numpy/lib/nanfunctions.py:1117: RuntimeWarning: Mean of empty slice\n",
      "  return np.nanmean(a, axis, out=out, keepdims=keepdims)\n",
      "/opt/conda/lib/python3.9/site-packages/numpy/lib/nanfunctions.py:1117: RuntimeWarning: Mean of empty slice\n",
      "  return np.nanmean(a, axis, out=out, keepdims=keepdims)\n",
      "/opt/conda/lib/python3.9/site-packages/numpy/lib/nanfunctions.py:1117: RuntimeWarning: Mean of empty slice\n",
      "  return np.nanmean(a, axis, out=out, keepdims=keepdims)\n",
      "/opt/conda/lib/python3.9/site-packages/numpy/lib/nanfunctions.py:1117: RuntimeWarning: Mean of empty slice\n",
      "  return np.nanmean(a, axis, out=out, keepdims=keepdims)\n",
      "/opt/conda/lib/python3.9/site-packages/numpy/lib/nanfunctions.py:1117: RuntimeWarning: Mean of empty slice\n",
      "  return np.nanmean(a, axis, out=out, keepdims=keepdims)\n",
      "/opt/conda/lib/python3.9/site-packages/numpy/lib/nanfunctions.py:1117: RuntimeWarning: Mean of empty slice\n",
      "  return np.nanmean(a, axis, out=out, keepdims=keepdims)\n",
      "/opt/conda/lib/python3.9/site-packages/numpy/lib/nanfunctions.py:1117: RuntimeWarning: Mean of empty slice\n",
      "  return np.nanmean(a, axis, out=out, keepdims=keepdims)\n",
      "/opt/conda/lib/python3.9/site-packages/numpy/lib/nanfunctions.py:1117: RuntimeWarning: Mean of empty slice\n",
      "  return np.nanmean(a, axis, out=out, keepdims=keepdims)\n",
      "/opt/conda/lib/python3.9/site-packages/numpy/lib/nanfunctions.py:1117: RuntimeWarning: Mean of empty slice\n",
      "  return np.nanmean(a, axis, out=out, keepdims=keepdims)\n",
      "/opt/conda/lib/python3.9/site-packages/numpy/lib/nanfunctions.py:1117: RuntimeWarning: Mean of empty slice\n",
      "  return np.nanmean(a, axis, out=out, keepdims=keepdims)\n",
      "/opt/conda/lib/python3.9/site-packages/numpy/lib/nanfunctions.py:1117: RuntimeWarning: Mean of empty slice\n",
      "  return np.nanmean(a, axis, out=out, keepdims=keepdims)\n",
      "/opt/conda/lib/python3.9/site-packages/numpy/lib/nanfunctions.py:1117: RuntimeWarning: Mean of empty slice\n",
      "  return np.nanmean(a, axis, out=out, keepdims=keepdims)\n",
      "/opt/conda/lib/python3.9/site-packages/numpy/lib/nanfunctions.py:1117: RuntimeWarning: Mean of empty slice\n",
      "  return np.nanmean(a, axis, out=out, keepdims=keepdims)\n",
      "/opt/conda/lib/python3.9/site-packages/numpy/lib/nanfunctions.py:1117: RuntimeWarning: Mean of empty slice\n",
      "  return np.nanmean(a, axis, out=out, keepdims=keepdims)\n",
      "/opt/conda/lib/python3.9/site-packages/numpy/lib/nanfunctions.py:1117: RuntimeWarning: Mean of empty slice\n",
      "  return np.nanmean(a, axis, out=out, keepdims=keepdims)\n",
      "/opt/conda/lib/python3.9/site-packages/numpy/lib/nanfunctions.py:1117: RuntimeWarning: Mean of empty slice\n",
      "  return np.nanmean(a, axis, out=out, keepdims=keepdims)\n",
      "/opt/conda/lib/python3.9/site-packages/numpy/lib/nanfunctions.py:1117: RuntimeWarning: Mean of empty slice\n",
      "  return np.nanmean(a, axis, out=out, keepdims=keepdims)\n",
      "/opt/conda/lib/python3.9/site-packages/numpy/lib/nanfunctions.py:1117: RuntimeWarning: Mean of empty slice\n",
      "  return np.nanmean(a, axis, out=out, keepdims=keepdims)\n",
      "/opt/conda/lib/python3.9/site-packages/numpy/lib/nanfunctions.py:1117: RuntimeWarning: Mean of empty slice\n",
      "  return np.nanmean(a, axis, out=out, keepdims=keepdims)\n",
      "/opt/conda/lib/python3.9/site-packages/numpy/lib/nanfunctions.py:1117: RuntimeWarning: Mean of empty slice\n",
      "  return np.nanmean(a, axis, out=out, keepdims=keepdims)\n",
      "/opt/conda/lib/python3.9/site-packages/numpy/lib/nanfunctions.py:1117: RuntimeWarning: Mean of empty slice\n",
      "  return np.nanmean(a, axis, out=out, keepdims=keepdims)\n",
      "/opt/conda/lib/python3.9/site-packages/numpy/lib/nanfunctions.py:1117: RuntimeWarning: Mean of empty slice\n",
      "  return np.nanmean(a, axis, out=out, keepdims=keepdims)\n",
      "/opt/conda/lib/python3.9/site-packages/numpy/lib/nanfunctions.py:1117: RuntimeWarning: Mean of empty slice\n",
      "  return np.nanmean(a, axis, out=out, keepdims=keepdims)\n",
      "/opt/conda/lib/python3.9/site-packages/numpy/lib/nanfunctions.py:1117: RuntimeWarning: Mean of empty slice\n",
      "  return np.nanmean(a, axis, out=out, keepdims=keepdims)\n",
      "/opt/conda/lib/python3.9/site-packages/numpy/lib/nanfunctions.py:1117: RuntimeWarning: Mean of empty slice\n",
      "  return np.nanmean(a, axis, out=out, keepdims=keepdims)\n",
      "/opt/conda/lib/python3.9/site-packages/numpy/lib/nanfunctions.py:1117: RuntimeWarning: Mean of empty slice\n",
      "  return np.nanmean(a, axis, out=out, keepdims=keepdims)\n",
      "/opt/conda/lib/python3.9/site-packages/numpy/lib/nanfunctions.py:1117: RuntimeWarning: Mean of empty slice\n",
      "  return np.nanmean(a, axis, out=out, keepdims=keepdims)\n",
      "/opt/conda/lib/python3.9/site-packages/numpy/lib/nanfunctions.py:1117: RuntimeWarning: Mean of empty slice\n",
      "  return np.nanmean(a, axis, out=out, keepdims=keepdims)\n",
      "/opt/conda/lib/python3.9/site-packages/numpy/lib/nanfunctions.py:1117: RuntimeWarning: Mean of empty slice\n",
      "  return np.nanmean(a, axis, out=out, keepdims=keepdims)\n",
      "/opt/conda/lib/python3.9/site-packages/numpy/lib/nanfunctions.py:1117: RuntimeWarning: Mean of empty slice\n",
      "  return np.nanmean(a, axis, out=out, keepdims=keepdims)\n",
      "/opt/conda/lib/python3.9/site-packages/numpy/lib/nanfunctions.py:1117: RuntimeWarning: Mean of empty slice\n",
      "  return np.nanmean(a, axis, out=out, keepdims=keepdims)\n",
      "/opt/conda/lib/python3.9/site-packages/numpy/lib/nanfunctions.py:1117: RuntimeWarning: Mean of empty slice\n",
      "  return np.nanmean(a, axis, out=out, keepdims=keepdims)\n",
      "/opt/conda/lib/python3.9/site-packages/numpy/lib/nanfunctions.py:1117: RuntimeWarning: Mean of empty slice\n",
      "  return np.nanmean(a, axis, out=out, keepdims=keepdims)\n",
      "/opt/conda/lib/python3.9/site-packages/numpy/lib/nanfunctions.py:1117: RuntimeWarning: Mean of empty slice\n",
      "  return np.nanmean(a, axis, out=out, keepdims=keepdims)\n",
      "/opt/conda/lib/python3.9/site-packages/numpy/lib/nanfunctions.py:1117: RuntimeWarning: Mean of empty slice\n",
      "  return np.nanmean(a, axis, out=out, keepdims=keepdims)\n",
      "/opt/conda/lib/python3.9/site-packages/numpy/lib/nanfunctions.py:1117: RuntimeWarning: Mean of empty slice\n",
      "  return np.nanmean(a, axis, out=out, keepdims=keepdims)\n",
      "/opt/conda/lib/python3.9/site-packages/numpy/lib/nanfunctions.py:1117: RuntimeWarning: Mean of empty slice\n",
      "  return np.nanmean(a, axis, out=out, keepdims=keepdims)\n",
      "/opt/conda/lib/python3.9/site-packages/numpy/lib/nanfunctions.py:1117: RuntimeWarning: Mean of empty slice\n",
      "  return np.nanmean(a, axis, out=out, keepdims=keepdims)\n",
      "/opt/conda/lib/python3.9/site-packages/numpy/lib/nanfunctions.py:1117: RuntimeWarning: Mean of empty slice\n",
      "  return np.nanmean(a, axis, out=out, keepdims=keepdims)\n",
      "/opt/conda/lib/python3.9/site-packages/numpy/lib/nanfunctions.py:1117: RuntimeWarning: Mean of empty slice\n",
      "  return np.nanmean(a, axis, out=out, keepdims=keepdims)\n",
      "/opt/conda/lib/python3.9/site-packages/numpy/lib/nanfunctions.py:1117: RuntimeWarning: Mean of empty slice\n",
      "  return np.nanmean(a, axis, out=out, keepdims=keepdims)\n",
      "/opt/conda/lib/python3.9/site-packages/numpy/lib/nanfunctions.py:1117: RuntimeWarning: Mean of empty slice\n",
      "  return np.nanmean(a, axis, out=out, keepdims=keepdims)\n",
      "/opt/conda/lib/python3.9/site-packages/numpy/lib/nanfunctions.py:1117: RuntimeWarning: Mean of empty slice\n",
      "  return np.nanmean(a, axis, out=out, keepdims=keepdims)\n",
      "/opt/conda/lib/python3.9/site-packages/numpy/lib/nanfunctions.py:1117: RuntimeWarning: Mean of empty slice\n",
      "  return np.nanmean(a, axis, out=out, keepdims=keepdims)\n",
      "/opt/conda/lib/python3.9/site-packages/numpy/lib/nanfunctions.py:1117: RuntimeWarning: Mean of empty slice\n",
      "  return np.nanmean(a, axis, out=out, keepdims=keepdims)\n",
      "/opt/conda/lib/python3.9/site-packages/numpy/lib/nanfunctions.py:1117: RuntimeWarning: Mean of empty slice\n",
      "  return np.nanmean(a, axis, out=out, keepdims=keepdims)\n",
      "/opt/conda/lib/python3.9/site-packages/numpy/lib/nanfunctions.py:1117: RuntimeWarning: Mean of empty slice\n",
      "  return np.nanmean(a, axis, out=out, keepdims=keepdims)\n",
      "/opt/conda/lib/python3.9/site-packages/numpy/lib/nanfunctions.py:1117: RuntimeWarning: Mean of empty slice\n",
      "  return np.nanmean(a, axis, out=out, keepdims=keepdims)\n",
      "/opt/conda/lib/python3.9/site-packages/numpy/lib/nanfunctions.py:1117: RuntimeWarning: Mean of empty slice\n",
      "  return np.nanmean(a, axis, out=out, keepdims=keepdims)\n",
      "/opt/conda/lib/python3.9/site-packages/numpy/lib/nanfunctions.py:1117: RuntimeWarning: Mean of empty slice\n",
      "  return np.nanmean(a, axis, out=out, keepdims=keepdims)\n",
      "/opt/conda/lib/python3.9/site-packages/numpy/lib/nanfunctions.py:1117: RuntimeWarning: Mean of empty slice\n",
      "  return np.nanmean(a, axis, out=out, keepdims=keepdims)\n",
      "/opt/conda/lib/python3.9/site-packages/numpy/lib/nanfunctions.py:1117: RuntimeWarning: Mean of empty slice\n",
      "  return np.nanmean(a, axis, out=out, keepdims=keepdims)\n",
      "/opt/conda/lib/python3.9/site-packages/numpy/lib/nanfunctions.py:1117: RuntimeWarning: Mean of empty slice\n",
      "  return np.nanmean(a, axis, out=out, keepdims=keepdims)\n",
      "/opt/conda/lib/python3.9/site-packages/numpy/lib/nanfunctions.py:1117: RuntimeWarning: Mean of empty slice\n",
      "  return np.nanmean(a, axis, out=out, keepdims=keepdims)\n",
      "/opt/conda/lib/python3.9/site-packages/numpy/lib/nanfunctions.py:1117: RuntimeWarning: Mean of empty slice\n",
      "  return np.nanmean(a, axis, out=out, keepdims=keepdims)\n",
      "/opt/conda/lib/python3.9/site-packages/numpy/lib/nanfunctions.py:1117: RuntimeWarning: Mean of empty slice\n",
      "  return np.nanmean(a, axis, out=out, keepdims=keepdims)\n",
      "/opt/conda/lib/python3.9/site-packages/numpy/lib/nanfunctions.py:1117: RuntimeWarning: Mean of empty slice\n",
      "  return np.nanmean(a, axis, out=out, keepdims=keepdims)\n",
      "/opt/conda/lib/python3.9/site-packages/numpy/lib/nanfunctions.py:1117: RuntimeWarning: Mean of empty slice\n",
      "  return np.nanmean(a, axis, out=out, keepdims=keepdims)\n",
      "/opt/conda/lib/python3.9/site-packages/numpy/lib/nanfunctions.py:1117: RuntimeWarning: Mean of empty slice\n",
      "  return np.nanmean(a, axis, out=out, keepdims=keepdims)\n",
      "/opt/conda/lib/python3.9/site-packages/numpy/lib/nanfunctions.py:1117: RuntimeWarning: Mean of empty slice\n",
      "  return np.nanmean(a, axis, out=out, keepdims=keepdims)\n",
      "/opt/conda/lib/python3.9/site-packages/numpy/lib/nanfunctions.py:1117: RuntimeWarning: Mean of empty slice\n",
      "  return np.nanmean(a, axis, out=out, keepdims=keepdims)\n",
      "/opt/conda/lib/python3.9/site-packages/numpy/lib/nanfunctions.py:1117: RuntimeWarning: Mean of empty slice\n",
      "  return np.nanmean(a, axis, out=out, keepdims=keepdims)\n",
      "/opt/conda/lib/python3.9/site-packages/numpy/lib/nanfunctions.py:1117: RuntimeWarning: Mean of empty slice\n",
      "  return np.nanmean(a, axis, out=out, keepdims=keepdims)\n",
      "/opt/conda/lib/python3.9/site-packages/numpy/lib/nanfunctions.py:1117: RuntimeWarning: Mean of empty slice\n",
      "  return np.nanmean(a, axis, out=out, keepdims=keepdims)\n",
      "/opt/conda/lib/python3.9/site-packages/numpy/lib/nanfunctions.py:1117: RuntimeWarning: Mean of empty slice\n",
      "  return np.nanmean(a, axis, out=out, keepdims=keepdims)\n",
      "/opt/conda/lib/python3.9/site-packages/numpy/lib/nanfunctions.py:1117: RuntimeWarning: Mean of empty slice\n",
      "  return np.nanmean(a, axis, out=out, keepdims=keepdims)\n",
      "/opt/conda/lib/python3.9/site-packages/numpy/lib/nanfunctions.py:1117: RuntimeWarning: Mean of empty slice\n",
      "  return np.nanmean(a, axis, out=out, keepdims=keepdims)\n",
      "/opt/conda/lib/python3.9/site-packages/numpy/lib/nanfunctions.py:1117: RuntimeWarning: Mean of empty slice\n",
      "  return np.nanmean(a, axis, out=out, keepdims=keepdims)\n",
      "/opt/conda/lib/python3.9/site-packages/numpy/lib/nanfunctions.py:1117: RuntimeWarning: Mean of empty slice\n",
      "  return np.nanmean(a, axis, out=out, keepdims=keepdims)\n",
      "/opt/conda/lib/python3.9/site-packages/numpy/lib/nanfunctions.py:1117: RuntimeWarning: Mean of empty slice\n",
      "  return np.nanmean(a, axis, out=out, keepdims=keepdims)\n",
      "/opt/conda/lib/python3.9/site-packages/numpy/lib/nanfunctions.py:1117: RuntimeWarning: Mean of empty slice\n",
      "  return np.nanmean(a, axis, out=out, keepdims=keepdims)\n",
      "/opt/conda/lib/python3.9/site-packages/numpy/lib/nanfunctions.py:1117: RuntimeWarning: Mean of empty slice\n",
      "  return np.nanmean(a, axis, out=out, keepdims=keepdims)\n",
      "/opt/conda/lib/python3.9/site-packages/numpy/lib/nanfunctions.py:1117: RuntimeWarning: Mean of empty slice\n",
      "  return np.nanmean(a, axis, out=out, keepdims=keepdims)\n",
      "/opt/conda/lib/python3.9/site-packages/numpy/lib/nanfunctions.py:1117: RuntimeWarning: Mean of empty slice\n",
      "  return np.nanmean(a, axis, out=out, keepdims=keepdims)\n",
      "/opt/conda/lib/python3.9/site-packages/numpy/lib/nanfunctions.py:1117: RuntimeWarning: Mean of empty slice\n",
      "  return np.nanmean(a, axis, out=out, keepdims=keepdims)\n",
      "/opt/conda/lib/python3.9/site-packages/numpy/lib/nanfunctions.py:1117: RuntimeWarning: Mean of empty slice\n",
      "  return np.nanmean(a, axis, out=out, keepdims=keepdims)\n",
      "/opt/conda/lib/python3.9/site-packages/numpy/lib/nanfunctions.py:1117: RuntimeWarning: Mean of empty slice\n",
      "  return np.nanmean(a, axis, out=out, keepdims=keepdims)\n",
      "/opt/conda/lib/python3.9/site-packages/numpy/lib/nanfunctions.py:1117: RuntimeWarning: Mean of empty slice\n",
      "  return np.nanmean(a, axis, out=out, keepdims=keepdims)\n",
      "/opt/conda/lib/python3.9/site-packages/numpy/lib/nanfunctions.py:1117: RuntimeWarning: Mean of empty slice\n",
      "  return np.nanmean(a, axis, out=out, keepdims=keepdims)\n",
      "/opt/conda/lib/python3.9/site-packages/numpy/lib/nanfunctions.py:1117: RuntimeWarning: Mean of empty slice\n",
      "  return np.nanmean(a, axis, out=out, keepdims=keepdims)\n",
      "/opt/conda/lib/python3.9/site-packages/numpy/lib/nanfunctions.py:1117: RuntimeWarning: Mean of empty slice\n",
      "  return np.nanmean(a, axis, out=out, keepdims=keepdims)\n",
      "/opt/conda/lib/python3.9/site-packages/numpy/lib/nanfunctions.py:1117: RuntimeWarning: Mean of empty slice\n",
      "  return np.nanmean(a, axis, out=out, keepdims=keepdims)\n",
      "/opt/conda/lib/python3.9/site-packages/numpy/lib/nanfunctions.py:1117: RuntimeWarning: Mean of empty slice\n",
      "  return np.nanmean(a, axis, out=out, keepdims=keepdims)\n",
      "/opt/conda/lib/python3.9/site-packages/numpy/lib/nanfunctions.py:1117: RuntimeWarning: Mean of empty slice\n",
      "  return np.nanmean(a, axis, out=out, keepdims=keepdims)\n",
      "/opt/conda/lib/python3.9/site-packages/numpy/lib/nanfunctions.py:1117: RuntimeWarning: Mean of empty slice\n",
      "  return np.nanmean(a, axis, out=out, keepdims=keepdims)\n",
      "/opt/conda/lib/python3.9/site-packages/numpy/lib/nanfunctions.py:1117: RuntimeWarning: Mean of empty slice\n",
      "  return np.nanmean(a, axis, out=out, keepdims=keepdims)\n",
      "/opt/conda/lib/python3.9/site-packages/numpy/lib/nanfunctions.py:1117: RuntimeWarning: Mean of empty slice\n",
      "  return np.nanmean(a, axis, out=out, keepdims=keepdims)\n",
      "/opt/conda/lib/python3.9/site-packages/numpy/lib/nanfunctions.py:1117: RuntimeWarning: Mean of empty slice\n",
      "  return np.nanmean(a, axis, out=out, keepdims=keepdims)\n",
      "/opt/conda/lib/python3.9/site-packages/numpy/lib/nanfunctions.py:1117: RuntimeWarning: Mean of empty slice\n",
      "  return np.nanmean(a, axis, out=out, keepdims=keepdims)\n",
      "/opt/conda/lib/python3.9/site-packages/numpy/lib/nanfunctions.py:1117: RuntimeWarning: Mean of empty slice\n",
      "  return np.nanmean(a, axis, out=out, keepdims=keepdims)\n",
      "/opt/conda/lib/python3.9/site-packages/numpy/lib/nanfunctions.py:1117: RuntimeWarning: Mean of empty slice\n",
      "  return np.nanmean(a, axis, out=out, keepdims=keepdims)\n",
      "/opt/conda/lib/python3.9/site-packages/numpy/lib/nanfunctions.py:1117: RuntimeWarning: Mean of empty slice\n",
      "  return np.nanmean(a, axis, out=out, keepdims=keepdims)\n",
      "/opt/conda/lib/python3.9/site-packages/numpy/lib/nanfunctions.py:1117: RuntimeWarning: Mean of empty slice\n",
      "  return np.nanmean(a, axis, out=out, keepdims=keepdims)\n",
      "/opt/conda/lib/python3.9/site-packages/numpy/lib/nanfunctions.py:1117: RuntimeWarning: Mean of empty slice\n",
      "  return np.nanmean(a, axis, out=out, keepdims=keepdims)\n",
      "/opt/conda/lib/python3.9/site-packages/numpy/lib/nanfunctions.py:1117: RuntimeWarning: Mean of empty slice\n",
      "  return np.nanmean(a, axis, out=out, keepdims=keepdims)\n",
      "/opt/conda/lib/python3.9/site-packages/numpy/lib/nanfunctions.py:1117: RuntimeWarning: Mean of empty slice\n",
      "  return np.nanmean(a, axis, out=out, keepdims=keepdims)\n",
      "/opt/conda/lib/python3.9/site-packages/numpy/lib/nanfunctions.py:1117: RuntimeWarning: Mean of empty slice\n",
      "  return np.nanmean(a, axis, out=out, keepdims=keepdims)\n",
      "/opt/conda/lib/python3.9/site-packages/numpy/lib/nanfunctions.py:1117: RuntimeWarning: Mean of empty slice\n",
      "  return np.nanmean(a, axis, out=out, keepdims=keepdims)\n",
      "/opt/conda/lib/python3.9/site-packages/numpy/lib/nanfunctions.py:1117: RuntimeWarning: Mean of empty slice\n",
      "  return np.nanmean(a, axis, out=out, keepdims=keepdims)\n",
      "/opt/conda/lib/python3.9/site-packages/numpy/lib/nanfunctions.py:1117: RuntimeWarning: Mean of empty slice\n",
      "  return np.nanmean(a, axis, out=out, keepdims=keepdims)\n",
      "/opt/conda/lib/python3.9/site-packages/numpy/lib/nanfunctions.py:1117: RuntimeWarning: Mean of empty slice\n",
      "  return np.nanmean(a, axis, out=out, keepdims=keepdims)\n",
      "/opt/conda/lib/python3.9/site-packages/numpy/lib/nanfunctions.py:1117: RuntimeWarning: Mean of empty slice\n",
      "  return np.nanmean(a, axis, out=out, keepdims=keepdims)\n",
      "/opt/conda/lib/python3.9/site-packages/numpy/lib/nanfunctions.py:1117: RuntimeWarning: Mean of empty slice\n",
      "  return np.nanmean(a, axis, out=out, keepdims=keepdims)\n",
      "/opt/conda/lib/python3.9/site-packages/numpy/lib/nanfunctions.py:1117: RuntimeWarning: Mean of empty slice\n",
      "  return np.nanmean(a, axis, out=out, keepdims=keepdims)\n",
      "/opt/conda/lib/python3.9/site-packages/numpy/lib/nanfunctions.py:1117: RuntimeWarning: Mean of empty slice\n",
      "  return np.nanmean(a, axis, out=out, keepdims=keepdims)\n",
      "/opt/conda/lib/python3.9/site-packages/numpy/lib/nanfunctions.py:1117: RuntimeWarning: Mean of empty slice\n",
      "  return np.nanmean(a, axis, out=out, keepdims=keepdims)\n",
      "/opt/conda/lib/python3.9/site-packages/numpy/lib/nanfunctions.py:1117: RuntimeWarning: Mean of empty slice\n",
      "  return np.nanmean(a, axis, out=out, keepdims=keepdims)\n",
      "/opt/conda/lib/python3.9/site-packages/numpy/lib/nanfunctions.py:1117: RuntimeWarning: Mean of empty slice\n",
      "  return np.nanmean(a, axis, out=out, keepdims=keepdims)\n",
      "/opt/conda/lib/python3.9/site-packages/numpy/lib/nanfunctions.py:1117: RuntimeWarning: Mean of empty slice\n",
      "  return np.nanmean(a, axis, out=out, keepdims=keepdims)\n",
      "/opt/conda/lib/python3.9/site-packages/numpy/lib/nanfunctions.py:1117: RuntimeWarning: Mean of empty slice\n",
      "  return np.nanmean(a, axis, out=out, keepdims=keepdims)\n",
      "/opt/conda/lib/python3.9/site-packages/numpy/lib/nanfunctions.py:1117: RuntimeWarning: Mean of empty slice\n",
      "  return np.nanmean(a, axis, out=out, keepdims=keepdims)\n",
      "/opt/conda/lib/python3.9/site-packages/numpy/lib/nanfunctions.py:1117: RuntimeWarning: Mean of empty slice\n",
      "  return np.nanmean(a, axis, out=out, keepdims=keepdims)\n",
      "/opt/conda/lib/python3.9/site-packages/numpy/lib/nanfunctions.py:1117: RuntimeWarning: Mean of empty slice\n",
      "  return np.nanmean(a, axis, out=out, keepdims=keepdims)\n",
      "/opt/conda/lib/python3.9/site-packages/numpy/lib/nanfunctions.py:1117: RuntimeWarning: Mean of empty slice\n",
      "  return np.nanmean(a, axis, out=out, keepdims=keepdims)\n",
      "/opt/conda/lib/python3.9/site-packages/numpy/lib/nanfunctions.py:1117: RuntimeWarning: Mean of empty slice\n",
      "  return np.nanmean(a, axis, out=out, keepdims=keepdims)\n",
      "/opt/conda/lib/python3.9/site-packages/numpy/lib/nanfunctions.py:1117: RuntimeWarning: Mean of empty slice\n",
      "  return np.nanmean(a, axis, out=out, keepdims=keepdims)\n",
      "/opt/conda/lib/python3.9/site-packages/numpy/lib/nanfunctions.py:1117: RuntimeWarning: Mean of empty slice\n",
      "  return np.nanmean(a, axis, out=out, keepdims=keepdims)\n",
      "/opt/conda/lib/python3.9/site-packages/numpy/lib/nanfunctions.py:1117: RuntimeWarning: Mean of empty slice\n",
      "  return np.nanmean(a, axis, out=out, keepdims=keepdims)\n",
      "/opt/conda/lib/python3.9/site-packages/numpy/lib/nanfunctions.py:1117: RuntimeWarning: Mean of empty slice\n",
      "  return np.nanmean(a, axis, out=out, keepdims=keepdims)\n",
      "/opt/conda/lib/python3.9/site-packages/numpy/lib/nanfunctions.py:1117: RuntimeWarning: Mean of empty slice\n",
      "  return np.nanmean(a, axis, out=out, keepdims=keepdims)\n",
      "/opt/conda/lib/python3.9/site-packages/numpy/lib/nanfunctions.py:1117: RuntimeWarning: Mean of empty slice\n",
      "  return np.nanmean(a, axis, out=out, keepdims=keepdims)\n",
      "/opt/conda/lib/python3.9/site-packages/numpy/lib/nanfunctions.py:1117: RuntimeWarning: Mean of empty slice\n",
      "  return np.nanmean(a, axis, out=out, keepdims=keepdims)\n",
      "/opt/conda/lib/python3.9/site-packages/numpy/lib/nanfunctions.py:1117: RuntimeWarning: Mean of empty slice\n",
      "  return np.nanmean(a, axis, out=out, keepdims=keepdims)\n",
      "/opt/conda/lib/python3.9/site-packages/numpy/lib/nanfunctions.py:1117: RuntimeWarning: Mean of empty slice\n",
      "  return np.nanmean(a, axis, out=out, keepdims=keepdims)\n",
      "/opt/conda/lib/python3.9/site-packages/numpy/lib/nanfunctions.py:1117: RuntimeWarning: Mean of empty slice\n",
      "  return np.nanmean(a, axis, out=out, keepdims=keepdims)\n",
      "/opt/conda/lib/python3.9/site-packages/numpy/lib/nanfunctions.py:1117: RuntimeWarning: Mean of empty slice\n",
      "  return np.nanmean(a, axis, out=out, keepdims=keepdims)\n",
      "/opt/conda/lib/python3.9/site-packages/numpy/lib/nanfunctions.py:1117: RuntimeWarning: Mean of empty slice\n",
      "  return np.nanmean(a, axis, out=out, keepdims=keepdims)\n",
      "/opt/conda/lib/python3.9/site-packages/numpy/lib/nanfunctions.py:1117: RuntimeWarning: Mean of empty slice\n",
      "  return np.nanmean(a, axis, out=out, keepdims=keepdims)\n",
      "/opt/conda/lib/python3.9/site-packages/numpy/lib/nanfunctions.py:1117: RuntimeWarning: Mean of empty slice\n",
      "  return np.nanmean(a, axis, out=out, keepdims=keepdims)\n",
      "/opt/conda/lib/python3.9/site-packages/numpy/lib/nanfunctions.py:1117: RuntimeWarning: Mean of empty slice\n",
      "  return np.nanmean(a, axis, out=out, keepdims=keepdims)\n",
      "/opt/conda/lib/python3.9/site-packages/numpy/lib/nanfunctions.py:1117: RuntimeWarning: Mean of empty slice\n",
      "  return np.nanmean(a, axis, out=out, keepdims=keepdims)\n",
      "/opt/conda/lib/python3.9/site-packages/numpy/lib/nanfunctions.py:1117: RuntimeWarning: Mean of empty slice\n",
      "  return np.nanmean(a, axis, out=out, keepdims=keepdims)\n",
      "/opt/conda/lib/python3.9/site-packages/numpy/lib/nanfunctions.py:1117: RuntimeWarning: Mean of empty slice\n",
      "  return np.nanmean(a, axis, out=out, keepdims=keepdims)\n",
      "/opt/conda/lib/python3.9/site-packages/numpy/lib/nanfunctions.py:1117: RuntimeWarning: Mean of empty slice\n",
      "  return np.nanmean(a, axis, out=out, keepdims=keepdims)\n",
      "/opt/conda/lib/python3.9/site-packages/numpy/lib/nanfunctions.py:1117: RuntimeWarning: Mean of empty slice\n",
      "  return np.nanmean(a, axis, out=out, keepdims=keepdims)\n",
      "/opt/conda/lib/python3.9/site-packages/numpy/lib/nanfunctions.py:1117: RuntimeWarning: Mean of empty slice\n",
      "  return np.nanmean(a, axis, out=out, keepdims=keepdims)\n",
      "/opt/conda/lib/python3.9/site-packages/numpy/lib/nanfunctions.py:1117: RuntimeWarning: Mean of empty slice\n",
      "  return np.nanmean(a, axis, out=out, keepdims=keepdims)\n",
      "/opt/conda/lib/python3.9/site-packages/numpy/lib/nanfunctions.py:1117: RuntimeWarning: Mean of empty slice\n",
      "  return np.nanmean(a, axis, out=out, keepdims=keepdims)\n",
      "/opt/conda/lib/python3.9/site-packages/numpy/lib/nanfunctions.py:1117: RuntimeWarning: Mean of empty slice\n",
      "  return np.nanmean(a, axis, out=out, keepdims=keepdims)\n",
      "/opt/conda/lib/python3.9/site-packages/numpy/lib/nanfunctions.py:1117: RuntimeWarning: Mean of empty slice\n",
      "  return np.nanmean(a, axis, out=out, keepdims=keepdims)\n",
      "/opt/conda/lib/python3.9/site-packages/numpy/lib/nanfunctions.py:1117: RuntimeWarning: Mean of empty slice\n",
      "  return np.nanmean(a, axis, out=out, keepdims=keepdims)\n",
      "/opt/conda/lib/python3.9/site-packages/numpy/lib/nanfunctions.py:1117: RuntimeWarning: Mean of empty slice\n",
      "  return np.nanmean(a, axis, out=out, keepdims=keepdims)\n",
      "/opt/conda/lib/python3.9/site-packages/numpy/lib/nanfunctions.py:1117: RuntimeWarning: Mean of empty slice\n",
      "  return np.nanmean(a, axis, out=out, keepdims=keepdims)\n",
      "/opt/conda/lib/python3.9/site-packages/numpy/lib/nanfunctions.py:1117: RuntimeWarning: Mean of empty slice\n",
      "  return np.nanmean(a, axis, out=out, keepdims=keepdims)\n",
      "/opt/conda/lib/python3.9/site-packages/numpy/lib/nanfunctions.py:1117: RuntimeWarning: Mean of empty slice\n",
      "  return np.nanmean(a, axis, out=out, keepdims=keepdims)\n",
      "/opt/conda/lib/python3.9/site-packages/numpy/lib/nanfunctions.py:1117: RuntimeWarning: Mean of empty slice\n",
      "  return np.nanmean(a, axis, out=out, keepdims=keepdims)\n",
      "/opt/conda/lib/python3.9/site-packages/numpy/lib/nanfunctions.py:1117: RuntimeWarning: Mean of empty slice\n",
      "  return np.nanmean(a, axis, out=out, keepdims=keepdims)\n",
      "/opt/conda/lib/python3.9/site-packages/numpy/lib/nanfunctions.py:1117: RuntimeWarning: Mean of empty slice\n",
      "  return np.nanmean(a, axis, out=out, keepdims=keepdims)\n",
      "/opt/conda/lib/python3.9/site-packages/numpy/lib/nanfunctions.py:1117: RuntimeWarning: Mean of empty slice\n",
      "  return np.nanmean(a, axis, out=out, keepdims=keepdims)\n",
      "/opt/conda/lib/python3.9/site-packages/numpy/lib/nanfunctions.py:1117: RuntimeWarning: Mean of empty slice\n",
      "  return np.nanmean(a, axis, out=out, keepdims=keepdims)\n",
      "/opt/conda/lib/python3.9/site-packages/numpy/lib/nanfunctions.py:1117: RuntimeWarning: Mean of empty slice\n",
      "  return np.nanmean(a, axis, out=out, keepdims=keepdims)\n",
      "/opt/conda/lib/python3.9/site-packages/numpy/lib/nanfunctions.py:1117: RuntimeWarning: Mean of empty slice\n",
      "  return np.nanmean(a, axis, out=out, keepdims=keepdims)\n",
      "/opt/conda/lib/python3.9/site-packages/numpy/lib/nanfunctions.py:1117: RuntimeWarning: Mean of empty slice\n",
      "  return np.nanmean(a, axis, out=out, keepdims=keepdims)\n",
      "/opt/conda/lib/python3.9/site-packages/numpy/lib/nanfunctions.py:1117: RuntimeWarning: Mean of empty slice\n",
      "  return np.nanmean(a, axis, out=out, keepdims=keepdims)\n",
      "/opt/conda/lib/python3.9/site-packages/numpy/lib/nanfunctions.py:1117: RuntimeWarning: Mean of empty slice\n",
      "  return np.nanmean(a, axis, out=out, keepdims=keepdims)\n",
      "/opt/conda/lib/python3.9/site-packages/numpy/lib/nanfunctions.py:1117: RuntimeWarning: Mean of empty slice\n",
      "  return np.nanmean(a, axis, out=out, keepdims=keepdims)\n",
      "/opt/conda/lib/python3.9/site-packages/numpy/lib/nanfunctions.py:1117: RuntimeWarning: Mean of empty slice\n",
      "  return np.nanmean(a, axis, out=out, keepdims=keepdims)\n",
      "/opt/conda/lib/python3.9/site-packages/numpy/lib/nanfunctions.py:1117: RuntimeWarning: Mean of empty slice\n",
      "  return np.nanmean(a, axis, out=out, keepdims=keepdims)\n",
      "/opt/conda/lib/python3.9/site-packages/numpy/lib/nanfunctions.py:1117: RuntimeWarning: Mean of empty slice\n",
      "  return np.nanmean(a, axis, out=out, keepdims=keepdims)\n",
      "/opt/conda/lib/python3.9/site-packages/numpy/lib/nanfunctions.py:1117: RuntimeWarning: Mean of empty slice\n",
      "  return np.nanmean(a, axis, out=out, keepdims=keepdims)\n",
      "/opt/conda/lib/python3.9/site-packages/numpy/lib/nanfunctions.py:1117: RuntimeWarning: Mean of empty slice\n",
      "  return np.nanmean(a, axis, out=out, keepdims=keepdims)\n",
      "/opt/conda/lib/python3.9/site-packages/numpy/lib/nanfunctions.py:1117: RuntimeWarning: Mean of empty slice\n",
      "  return np.nanmean(a, axis, out=out, keepdims=keepdims)\n",
      "/opt/conda/lib/python3.9/site-packages/numpy/lib/nanfunctions.py:1117: RuntimeWarning: Mean of empty slice\n",
      "  return np.nanmean(a, axis, out=out, keepdims=keepdims)\n",
      "/opt/conda/lib/python3.9/site-packages/numpy/lib/nanfunctions.py:1117: RuntimeWarning: Mean of empty slice\n",
      "  return np.nanmean(a, axis, out=out, keepdims=keepdims)\n",
      "/opt/conda/lib/python3.9/site-packages/numpy/lib/nanfunctions.py:1117: RuntimeWarning: Mean of empty slice\n",
      "  return np.nanmean(a, axis, out=out, keepdims=keepdims)\n",
      "/opt/conda/lib/python3.9/site-packages/numpy/lib/nanfunctions.py:1117: RuntimeWarning: Mean of empty slice\n",
      "  return np.nanmean(a, axis, out=out, keepdims=keepdims)\n",
      "/opt/conda/lib/python3.9/site-packages/numpy/lib/nanfunctions.py:1117: RuntimeWarning: Mean of empty slice\n",
      "  return np.nanmean(a, axis, out=out, keepdims=keepdims)\n",
      "/opt/conda/lib/python3.9/site-packages/numpy/lib/nanfunctions.py:1117: RuntimeWarning: Mean of empty slice\n",
      "  return np.nanmean(a, axis, out=out, keepdims=keepdims)\n",
      "/opt/conda/lib/python3.9/site-packages/numpy/lib/nanfunctions.py:1117: RuntimeWarning: Mean of empty slice\n",
      "  return np.nanmean(a, axis, out=out, keepdims=keepdims)\n",
      "/opt/conda/lib/python3.9/site-packages/numpy/lib/nanfunctions.py:1117: RuntimeWarning: Mean of empty slice\n",
      "  return np.nanmean(a, axis, out=out, keepdims=keepdims)\n",
      "/opt/conda/lib/python3.9/site-packages/numpy/lib/nanfunctions.py:1117: RuntimeWarning: Mean of empty slice\n",
      "  return np.nanmean(a, axis, out=out, keepdims=keepdims)\n",
      "/opt/conda/lib/python3.9/site-packages/numpy/lib/nanfunctions.py:1117: RuntimeWarning: Mean of empty slice\n",
      "  return np.nanmean(a, axis, out=out, keepdims=keepdims)\n",
      "/opt/conda/lib/python3.9/site-packages/numpy/lib/nanfunctions.py:1117: RuntimeWarning: Mean of empty slice\n",
      "  return np.nanmean(a, axis, out=out, keepdims=keepdims)\n",
      "/opt/conda/lib/python3.9/site-packages/numpy/lib/nanfunctions.py:1117: RuntimeWarning: Mean of empty slice\n",
      "  return np.nanmean(a, axis, out=out, keepdims=keepdims)\n",
      "/opt/conda/lib/python3.9/site-packages/numpy/lib/nanfunctions.py:1117: RuntimeWarning: Mean of empty slice\n",
      "  return np.nanmean(a, axis, out=out, keepdims=keepdims)\n",
      "/opt/conda/lib/python3.9/site-packages/numpy/lib/nanfunctions.py:1117: RuntimeWarning: Mean of empty slice\n",
      "  return np.nanmean(a, axis, out=out, keepdims=keepdims)\n",
      "/opt/conda/lib/python3.9/site-packages/numpy/lib/nanfunctions.py:1117: RuntimeWarning: Mean of empty slice\n",
      "  return np.nanmean(a, axis, out=out, keepdims=keepdims)\n",
      "/opt/conda/lib/python3.9/site-packages/numpy/lib/nanfunctions.py:1117: RuntimeWarning: Mean of empty slice\n",
      "  return np.nanmean(a, axis, out=out, keepdims=keepdims)\n",
      "/opt/conda/lib/python3.9/site-packages/numpy/lib/nanfunctions.py:1117: RuntimeWarning: Mean of empty slice\n",
      "  return np.nanmean(a, axis, out=out, keepdims=keepdims)\n",
      "/opt/conda/lib/python3.9/site-packages/numpy/lib/nanfunctions.py:1117: RuntimeWarning: Mean of empty slice\n",
      "  return np.nanmean(a, axis, out=out, keepdims=keepdims)\n",
      "/opt/conda/lib/python3.9/site-packages/numpy/lib/nanfunctions.py:1117: RuntimeWarning: Mean of empty slice\n",
      "  return np.nanmean(a, axis, out=out, keepdims=keepdims)\n",
      "/opt/conda/lib/python3.9/site-packages/numpy/lib/nanfunctions.py:1117: RuntimeWarning: Mean of empty slice\n",
      "  return np.nanmean(a, axis, out=out, keepdims=keepdims)\n",
      "/opt/conda/lib/python3.9/site-packages/numpy/lib/nanfunctions.py:1117: RuntimeWarning: Mean of empty slice\n",
      "  return np.nanmean(a, axis, out=out, keepdims=keepdims)\n",
      "/opt/conda/lib/python3.9/site-packages/numpy/lib/nanfunctions.py:1117: RuntimeWarning: Mean of empty slice\n",
      "  return np.nanmean(a, axis, out=out, keepdims=keepdims)\n",
      "/opt/conda/lib/python3.9/site-packages/numpy/lib/nanfunctions.py:1117: RuntimeWarning: Mean of empty slice\n",
      "  return np.nanmean(a, axis, out=out, keepdims=keepdims)\n",
      "/opt/conda/lib/python3.9/site-packages/numpy/lib/nanfunctions.py:1117: RuntimeWarning: Mean of empty slice\n",
      "  return np.nanmean(a, axis, out=out, keepdims=keepdims)\n",
      "/opt/conda/lib/python3.9/site-packages/numpy/lib/nanfunctions.py:1117: RuntimeWarning: Mean of empty slice\n",
      "  return np.nanmean(a, axis, out=out, keepdims=keepdims)\n",
      "/opt/conda/lib/python3.9/site-packages/numpy/lib/nanfunctions.py:1117: RuntimeWarning: Mean of empty slice\n",
      "  return np.nanmean(a, axis, out=out, keepdims=keepdims)\n",
      "/opt/conda/lib/python3.9/site-packages/numpy/lib/nanfunctions.py:1117: RuntimeWarning: Mean of empty slice\n",
      "  return np.nanmean(a, axis, out=out, keepdims=keepdims)\n",
      "/opt/conda/lib/python3.9/site-packages/numpy/lib/nanfunctions.py:1117: RuntimeWarning: Mean of empty slice\n",
      "  return np.nanmean(a, axis, out=out, keepdims=keepdims)\n",
      "/opt/conda/lib/python3.9/site-packages/numpy/lib/nanfunctions.py:1117: RuntimeWarning: Mean of empty slice\n",
      "  return np.nanmean(a, axis, out=out, keepdims=keepdims)\n",
      "/opt/conda/lib/python3.9/site-packages/numpy/lib/nanfunctions.py:1117: RuntimeWarning: Mean of empty slice\n",
      "  return np.nanmean(a, axis, out=out, keepdims=keepdims)\n",
      "/opt/conda/lib/python3.9/site-packages/numpy/lib/nanfunctions.py:1117: RuntimeWarning: Mean of empty slice\n",
      "  return np.nanmean(a, axis, out=out, keepdims=keepdims)\n",
      "/opt/conda/lib/python3.9/site-packages/numpy/lib/nanfunctions.py:1117: RuntimeWarning: Mean of empty slice\n",
      "  return np.nanmean(a, axis, out=out, keepdims=keepdims)\n",
      "/opt/conda/lib/python3.9/site-packages/numpy/lib/nanfunctions.py:1117: RuntimeWarning: Mean of empty slice\n",
      "  return np.nanmean(a, axis, out=out, keepdims=keepdims)\n",
      "/opt/conda/lib/python3.9/site-packages/numpy/lib/nanfunctions.py:1117: RuntimeWarning: Mean of empty slice\n",
      "  return np.nanmean(a, axis, out=out, keepdims=keepdims)\n",
      "/opt/conda/lib/python3.9/site-packages/numpy/lib/nanfunctions.py:1117: RuntimeWarning: Mean of empty slice\n",
      "  return np.nanmean(a, axis, out=out, keepdims=keepdims)\n",
      "/opt/conda/lib/python3.9/site-packages/numpy/lib/nanfunctions.py:1117: RuntimeWarning: Mean of empty slice\n",
      "  return np.nanmean(a, axis, out=out, keepdims=keepdims)\n",
      "/opt/conda/lib/python3.9/site-packages/numpy/lib/nanfunctions.py:1117: RuntimeWarning: Mean of empty slice\n",
      "  return np.nanmean(a, axis, out=out, keepdims=keepdims)\n",
      "/opt/conda/lib/python3.9/site-packages/numpy/lib/nanfunctions.py:1117: RuntimeWarning: Mean of empty slice\n",
      "  return np.nanmean(a, axis, out=out, keepdims=keepdims)\n",
      "/opt/conda/lib/python3.9/site-packages/numpy/lib/nanfunctions.py:1117: RuntimeWarning: Mean of empty slice\n",
      "  return np.nanmean(a, axis, out=out, keepdims=keepdims)\n",
      "/opt/conda/lib/python3.9/site-packages/numpy/lib/nanfunctions.py:1117: RuntimeWarning: Mean of empty slice\n",
      "  return np.nanmean(a, axis, out=out, keepdims=keepdims)\n",
      "/opt/conda/lib/python3.9/site-packages/numpy/lib/nanfunctions.py:1117: RuntimeWarning: Mean of empty slice\n",
      "  return np.nanmean(a, axis, out=out, keepdims=keepdims)\n",
      "/opt/conda/lib/python3.9/site-packages/numpy/lib/nanfunctions.py:1117: RuntimeWarning: Mean of empty slice\n",
      "  return np.nanmean(a, axis, out=out, keepdims=keepdims)\n",
      "/opt/conda/lib/python3.9/site-packages/numpy/lib/nanfunctions.py:1117: RuntimeWarning: Mean of empty slice\n",
      "  return np.nanmean(a, axis, out=out, keepdims=keepdims)\n",
      "/opt/conda/lib/python3.9/site-packages/numpy/lib/nanfunctions.py:1117: RuntimeWarning: Mean of empty slice\n",
      "  return np.nanmean(a, axis, out=out, keepdims=keepdims)\n",
      "/opt/conda/lib/python3.9/site-packages/numpy/lib/nanfunctions.py:1117: RuntimeWarning: Mean of empty slice\n",
      "  return np.nanmean(a, axis, out=out, keepdims=keepdims)\n",
      "/opt/conda/lib/python3.9/site-packages/numpy/lib/nanfunctions.py:1117: RuntimeWarning: Mean of empty slice\n",
      "  return np.nanmean(a, axis, out=out, keepdims=keepdims)\n",
      "/opt/conda/lib/python3.9/site-packages/numpy/lib/nanfunctions.py:1117: RuntimeWarning: Mean of empty slice\n",
      "  return np.nanmean(a, axis, out=out, keepdims=keepdims)\n",
      "/opt/conda/lib/python3.9/site-packages/numpy/lib/nanfunctions.py:1117: RuntimeWarning: Mean of empty slice\n",
      "  return np.nanmean(a, axis, out=out, keepdims=keepdims)\n",
      "/opt/conda/lib/python3.9/site-packages/numpy/lib/nanfunctions.py:1117: RuntimeWarning: Mean of empty slice\n",
      "  return np.nanmean(a, axis, out=out, keepdims=keepdims)\n",
      "/opt/conda/lib/python3.9/site-packages/numpy/lib/nanfunctions.py:1117: RuntimeWarning: Mean of empty slice\n",
      "  return np.nanmean(a, axis, out=out, keepdims=keepdims)\n",
      "/opt/conda/lib/python3.9/site-packages/numpy/lib/nanfunctions.py:1117: RuntimeWarning: Mean of empty slice\n",
      "  return np.nanmean(a, axis, out=out, keepdims=keepdims)\n",
      "/opt/conda/lib/python3.9/site-packages/numpy/lib/nanfunctions.py:1117: RuntimeWarning: Mean of empty slice\n",
      "  return np.nanmean(a, axis, out=out, keepdims=keepdims)\n",
      "/opt/conda/lib/python3.9/site-packages/numpy/lib/nanfunctions.py:1117: RuntimeWarning: Mean of empty slice\n",
      "  return np.nanmean(a, axis, out=out, keepdims=keepdims)\n",
      "/opt/conda/lib/python3.9/site-packages/numpy/lib/nanfunctions.py:1117: RuntimeWarning: Mean of empty slice\n",
      "  return np.nanmean(a, axis, out=out, keepdims=keepdims)\n",
      "/opt/conda/lib/python3.9/site-packages/numpy/lib/nanfunctions.py:1117: RuntimeWarning: Mean of empty slice\n",
      "  return np.nanmean(a, axis, out=out, keepdims=keepdims)\n",
      "/opt/conda/lib/python3.9/site-packages/numpy/lib/nanfunctions.py:1117: RuntimeWarning: Mean of empty slice\n",
      "  return np.nanmean(a, axis, out=out, keepdims=keepdims)\n",
      "/opt/conda/lib/python3.9/site-packages/numpy/lib/nanfunctions.py:1117: RuntimeWarning: Mean of empty slice\n",
      "  return np.nanmean(a, axis, out=out, keepdims=keepdims)\n",
      "/opt/conda/lib/python3.9/site-packages/numpy/lib/nanfunctions.py:1117: RuntimeWarning: Mean of empty slice\n",
      "  return np.nanmean(a, axis, out=out, keepdims=keepdims)\n",
      "/opt/conda/lib/python3.9/site-packages/numpy/lib/nanfunctions.py:1117: RuntimeWarning: Mean of empty slice\n",
      "  return np.nanmean(a, axis, out=out, keepdims=keepdims)\n",
      "/opt/conda/lib/python3.9/site-packages/numpy/lib/nanfunctions.py:1117: RuntimeWarning: Mean of empty slice\n",
      "  return np.nanmean(a, axis, out=out, keepdims=keepdims)\n",
      "/opt/conda/lib/python3.9/site-packages/numpy/lib/nanfunctions.py:1117: RuntimeWarning: Mean of empty slice\n",
      "  return np.nanmean(a, axis, out=out, keepdims=keepdims)\n",
      "/opt/conda/lib/python3.9/site-packages/numpy/lib/nanfunctions.py:1117: RuntimeWarning: Mean of empty slice\n",
      "  return np.nanmean(a, axis, out=out, keepdims=keepdims)\n",
      "/opt/conda/lib/python3.9/site-packages/numpy/lib/nanfunctions.py:1117: RuntimeWarning: Mean of empty slice\n",
      "  return np.nanmean(a, axis, out=out, keepdims=keepdims)\n",
      "/opt/conda/lib/python3.9/site-packages/numpy/lib/nanfunctions.py:1117: RuntimeWarning: Mean of empty slice\n",
      "  return np.nanmean(a, axis, out=out, keepdims=keepdims)\n"
     ]
    }
   ],
   "source": [
    "for locality_name in data['locality_name'].unique():\n",
    "    median = data.loc[data['locality_name'] == locality_name, 'ceiling_height'].median()\n",
    "    data.loc[(data['ceiling_height'].isna()) & (data['locality_name'] == locality_name), 'ceiling_height'] = median\n",
    "    \n",
    "data.loc[data['ceiling_height'].isna(), 'ceiling_height'] = data['ceiling_height'].median()\n",
    "\n",
    "for locality_name in data['locality_name'].unique():\n",
    "    median = data.loc[data['locality_name'] == locality_name, 'cityCenters_nearest'].median()\n",
    "    data.loc[(data['cityCenters_nearest'].isna()) & (data['locality_name'] == locality_name), 'cityCenters_nearest'] = median"
   ]
  },
  {
   "cell_type": "markdown",
   "metadata": {},
   "source": [
    "Данное сообщение - нормально, так как в данных содержатся категории по которым не сущесвуют медианы\n",
    "Не получится обработать в цикле - на этом этапе предлагаю оставить как есть."
   ]
  },
  {
   "cell_type": "markdown",
   "metadata": {},
   "source": [
    "Посмотрим на долю пропущенных значений сразу в двух столбцах, где количество пропусков небольшое по сравнению с массивом."
   ]
  },
  {
   "cell_type": "code",
   "execution_count": 5,
   "metadata": {},
   "outputs": [
    {
     "name": "stdout",
     "output_type": "stream",
     "text": [
      "Доля пропущенных значений в столбце floors_total составляет 0.4%\n",
      "Доля пропущенных значений в столбце locality_name составляет 0.2%\n"
     ]
    }
   ],
   "source": [
    "print('Доля пропущенных значений в столбце floors_total составляет {:.1%}'\\\n",
    "      .format(len(data[data['floors_total'].isna()])/len(data)))\n",
    "\n",
    "print('Доля пропущенных значений в столбце locality_name составляет {:.1%}'\\\n",
    "      .format(len(data[data['locality_name'].isna()])/len(data)))"
   ]
  },
  {
   "cell_type": "markdown",
   "metadata": {},
   "source": [
    "Доля пропусков менее 0,5%, можем ими пренебречь и удалим данные сроки из датасета"
   ]
  },
  {
   "cell_type": "code",
   "execution_count": 6,
   "metadata": {},
   "outputs": [],
   "source": [
    "data.dropna(subset=['locality_name', 'floors_total'], inplace=True)\n",
    "data['floors_total'] = data['floors_total'].astype(int)"
   ]
  },
  {
   "cell_type": "code",
   "execution_count": 7,
   "metadata": {},
   "outputs": [
    {
     "name": "stdout",
     "output_type": "stream",
     "text": [
      "Доля пропущенных значений в столбце kitchen_area составляет 9.4%\n",
      "Доля пропущенных значений в столбце living_area составляет 7.9%\n"
     ]
    }
   ],
   "source": [
    "print('Доля пропущенных значений в столбце kitchen_area составляет {:.1%}'\\\n",
    "      .format(len(data[data['kitchen_area'].isna()])/len(data)))\n",
    "print('Доля пропущенных значений в столбце living_area составляет {:.1%}'\\\n",
    "      .format(len(data[data['living_area'].isna()])/len(data)))"
   ]
  },
  {
   "cell_type": "markdown",
   "metadata": {},
   "source": [
    "Данные о жилой площади и площади кухни человек/продавец не может не знать: эти данные находятся в **техническом паспорте квартиры**. Причина пропусков - человеческий фактор, техническая ошибка.\n",
    "\n",
    "Для заполнения пропусков в столбцах 'living_area' и 'kitchen_area' рассчитаем не общую среднюю, а среднюю от количества комнат в квартире.\n",
    "Но прежде убедимся, что нет нудевых значений в столбце 'rooms':"
   ]
  },
  {
   "cell_type": "code",
   "execution_count": 8,
   "metadata": {},
   "outputs": [
    {
     "name": "stdout",
     "output_type": "stream",
     "text": [
      "False    23371\n",
      "True       194\n",
      "Name: rooms, dtype: int64\n"
     ]
    }
   ],
   "source": [
    "print((data['rooms']==0).value_counts())"
   ]
  },
  {
   "cell_type": "markdown",
   "metadata": {},
   "source": [
    "0-комнатных квартир не бывает. минимальное количество комнат -1. Чтобы заменить 0 на корректное значение, соотнесу количество комнат и жилую площадь:"
   ]
  },
  {
   "cell_type": "code",
   "execution_count": 9,
   "metadata": {},
   "outputs": [
    {
     "name": "stdout",
     "output_type": "stream",
     "text": [
      "       living_area\n",
      "rooms             \n",
      "0        18.865246\n",
      "1        17.899507\n",
      "2        31.731865\n",
      "3        47.374108\n",
      "4        66.994806\n",
      "5       100.009247\n",
      "6       131.799796\n",
      "7       163.564151\n",
      "8       168.683333\n",
      "9       190.257143\n",
      "10      165.566667\n",
      "11      133.900000\n",
      "12      409.700000\n",
      "14      195.150000\n",
      "15      409.000000\n",
      "16      180.000000\n",
      "19      264.500000\n"
     ]
    }
   ],
   "source": [
    "print(data.pivot_table(index='rooms', values='living_area', aggfunc='mean'))"
   ]
  },
  {
   "cell_type": "markdown",
   "metadata": {},
   "source": [
    "Из сводной таблицы видно, что средняя площадь с нулевым значением количества комнат ~18кв.м. Делаю вывод, что можно безошибочно заменить 0 на 1 в столбце 'rooms':"
   ]
  },
  {
   "cell_type": "code",
   "execution_count": 10,
   "metadata": {},
   "outputs": [],
   "source": [
    "data.loc[data['rooms'] == 0, 'rooms'] = 1"
   ]
  },
  {
   "cell_type": "markdown",
   "metadata": {},
   "source": [
    "Теперь можно перейти к обработке пропусков в столбцах 'living_area' и 'kitchen_area':"
   ]
  },
  {
   "cell_type": "code",
   "execution_count": 11,
   "metadata": {},
   "outputs": [],
   "source": [
    "for room in data['rooms'].unique():\n",
    "    data.loc[(data['rooms'] == room)& (data['living_area'].isna()), 'living_area'] = \\\n",
    "    data.loc[(data['rooms'] == room), 'living_area'].mean()\n",
    "    \n",
    "for room in data['rooms'].unique():\n",
    "    data.loc[(data['rooms'] == room)& (data['kitchen_area'].isna()), 'kitchen_area'] = \\\n",
    "    data.loc[(data['rooms'] == room), 'kitchen_area'].mean()"
   ]
  },
  {
   "cell_type": "markdown",
   "metadata": {},
   "source": [
    "Столбец \"is_apartment\" - булев тип, проверим заполнение:"
   ]
  },
  {
   "cell_type": "code",
   "execution_count": 12,
   "metadata": {},
   "outputs": [
    {
     "name": "stdout",
     "output_type": "stream",
     "text": [
      "is_apartment\n",
      "False    2710\n",
      "True       50\n",
      "Name: total_area, dtype: int64\n"
     ]
    }
   ],
   "source": [
    "print(data.groupby('is_apartment')['total_area'].count())"
   ]
  },
  {
   "cell_type": "markdown",
   "metadata": {},
   "source": [
    "Данный столбце считаю заполненным корректно: значение \"True\" получили квартиры, с типом \"апартаменты\", а пропущенные значения можем трактовать как отрицание типа \"апартаменты\"(при заполнении можно было игнорировать ячейку для заполнения).\n",
    "Поэтому заполним пропуски значением \"False\" и приведем к нужному типу данных:"
   ]
  },
  {
   "cell_type": "code",
   "execution_count": 13,
   "metadata": {},
   "outputs": [
    {
     "data": {
      "text/plain": [
       "False    23515\n",
       "True        50\n",
       "Name: is_apartment, dtype: int64"
      ]
     },
     "execution_count": 13,
     "metadata": {},
     "output_type": "execute_result"
    }
   ],
   "source": [
    "data['is_apartment'] = data['is_apartment'].fillna(False).astype(bool)\n",
    "data['is_apartment'].value_counts()"
   ]
  },
  {
   "cell_type": "code",
   "execution_count": 14,
   "metadata": {},
   "outputs": [
    {
     "name": "stdout",
     "output_type": "stream",
     "text": [
      "Доля пропущенных значений в столбце balcony составляет 49%\n"
     ]
    }
   ],
   "source": [
    "print('Доля пропущенных значений в столбце balcony составляет {:.0%}'\\\n",
    "      .format(len(data[data['balcony'].isna()])/len(data)))"
   ]
  },
  {
   "cell_type": "markdown",
   "metadata": {},
   "source": [
    "Столбец \"balcony\" содержит информацию о числе балконов(следовательно, это целочисленное значение). \n",
    "Полагаю, что пропуски - это отсутствие балкона (пользователь мог игнорировать ячейку для заполнения)\n",
    "Также заполним нулями и приведем сразу к нужному формату данных"
   ]
  },
  {
   "cell_type": "code",
   "execution_count": 15,
   "metadata": {},
   "outputs": [],
   "source": [
    "data['balcony'] = data['balcony'].fillna(value=0).astype(int)"
   ]
  },
  {
   "cell_type": "markdown",
   "metadata": {},
   "source": [
    "Столбцы \"parks_around3000\" и \"ponds_around3000\" должны иметь целочисленные значения. Чтобы заменить пропуски на 0 (т.е отсутствие водоемов и парков поблизости) проверим, нет ли рядом парков и водоемов. Применим сводные таблицы:"
   ]
  },
  {
   "cell_type": "code",
   "execution_count": 16,
   "metadata": {},
   "outputs": [
    {
     "name": "stdout",
     "output_type": "stream",
     "text": [
      "                  ponds_nearest\n",
      "ponds_around3000               \n",
      "1.0                        20.0\n",
      "2.0                        13.0\n",
      "3.0                        22.0\n",
      "                  parks_nearest\n",
      "parks_around3000               \n",
      "0.0                      3013.0\n",
      "1.0                         1.0\n",
      "2.0                         9.0\n",
      "3.0                         4.0\n"
     ]
    }
   ],
   "source": [
    "print(data.pivot_table(index='ponds_around3000', values='ponds_nearest', aggfunc='min'))\n",
    "print(data.pivot_table(index='parks_around3000', values='parks_nearest', aggfunc='min'))"
   ]
  },
  {
   "cell_type": "markdown",
   "metadata": {},
   "source": [
    "Можем заменить пропущенные значения в обоих столбцах и привести к целочисленному формату "
   ]
  },
  {
   "cell_type": "code",
   "execution_count": 17,
   "metadata": {},
   "outputs": [],
   "source": [
    "data['ponds_around3000'] = data['ponds_around3000'].fillna(value=0).astype(int)\n",
    "data['parks_around3000'] = data['parks_around3000'].fillna(value=0).astype(int)"
   ]
  },
  {
   "cell_type": "markdown",
   "metadata": {},
   "source": [
    "Пропуски, на мой взгляд, которые могли обработать на данном этапе, обработали. Необходимо преобразовать столбец 'first_day_exposition'"
   ]
  },
  {
   "cell_type": "code",
   "execution_count": 18,
   "metadata": {},
   "outputs": [],
   "source": [
    "data['first_day_exposition'] = pd.to_datetime(data['first_day_exposition'], format='%Y-%m-%dT%H:%M:%S')"
   ]
  },
  {
   "cell_type": "markdown",
   "metadata": {},
   "source": [
    "Для удобства анализа и восприятия это формат столбца **last_price**:"
   ]
  },
  {
   "cell_type": "code",
   "execution_count": 19,
   "metadata": {},
   "outputs": [
    {
     "data": {
      "text/plain": [
       "12190.0"
      ]
     },
     "execution_count": 19,
     "metadata": {},
     "output_type": "execute_result"
    }
   ],
   "source": [
    "data['last_price'].min()"
   ]
  },
  {
   "cell_type": "markdown",
   "metadata": {},
   "source": [
    "Минимальное значение - 12190, можем изменить разряд суммы:"
   ]
  },
  {
   "cell_type": "code",
   "execution_count": 20,
   "metadata": {},
   "outputs": [
    {
     "data": {
      "text/html": [
       "<div>\n",
       "<style scoped>\n",
       "    .dataframe tbody tr th:only-of-type {\n",
       "        vertical-align: middle;\n",
       "    }\n",
       "\n",
       "    .dataframe tbody tr th {\n",
       "        vertical-align: top;\n",
       "    }\n",
       "\n",
       "    .dataframe thead th {\n",
       "        text-align: right;\n",
       "    }\n",
       "</style>\n",
       "<table border=\"1\" class=\"dataframe\">\n",
       "  <thead>\n",
       "    <tr style=\"text-align: right;\">\n",
       "      <th></th>\n",
       "      <th>total_images</th>\n",
       "      <th>last_price_thousand</th>\n",
       "      <th>total_area</th>\n",
       "      <th>first_day_exposition</th>\n",
       "      <th>rooms</th>\n",
       "      <th>ceiling_height</th>\n",
       "      <th>floors_total</th>\n",
       "      <th>living_area</th>\n",
       "      <th>floor</th>\n",
       "      <th>is_apartment</th>\n",
       "      <th>...</th>\n",
       "      <th>kitchen_area</th>\n",
       "      <th>balcony</th>\n",
       "      <th>locality_name</th>\n",
       "      <th>airports_nearest</th>\n",
       "      <th>cityCenters_nearest</th>\n",
       "      <th>parks_around3000</th>\n",
       "      <th>parks_nearest</th>\n",
       "      <th>ponds_around3000</th>\n",
       "      <th>ponds_nearest</th>\n",
       "      <th>days_exposition</th>\n",
       "    </tr>\n",
       "  </thead>\n",
       "  <tbody>\n",
       "    <tr>\n",
       "      <th>0</th>\n",
       "      <td>20</td>\n",
       "      <td>13000.0</td>\n",
       "      <td>108.0</td>\n",
       "      <td>2019-03-07</td>\n",
       "      <td>3</td>\n",
       "      <td>2.70</td>\n",
       "      <td>16</td>\n",
       "      <td>51.000000</td>\n",
       "      <td>8</td>\n",
       "      <td>False</td>\n",
       "      <td>...</td>\n",
       "      <td>25.00000</td>\n",
       "      <td>0</td>\n",
       "      <td>Санкт-Петербург</td>\n",
       "      <td>18863.0</td>\n",
       "      <td>16028.0</td>\n",
       "      <td>1</td>\n",
       "      <td>482.0</td>\n",
       "      <td>2</td>\n",
       "      <td>755.0</td>\n",
       "      <td>NaN</td>\n",
       "    </tr>\n",
       "    <tr>\n",
       "      <th>1</th>\n",
       "      <td>7</td>\n",
       "      <td>3350.0</td>\n",
       "      <td>40.4</td>\n",
       "      <td>2018-12-04</td>\n",
       "      <td>1</td>\n",
       "      <td>2.63</td>\n",
       "      <td>11</td>\n",
       "      <td>18.600000</td>\n",
       "      <td>1</td>\n",
       "      <td>False</td>\n",
       "      <td>...</td>\n",
       "      <td>11.00000</td>\n",
       "      <td>2</td>\n",
       "      <td>посёлок Шушары</td>\n",
       "      <td>12817.0</td>\n",
       "      <td>18603.0</td>\n",
       "      <td>0</td>\n",
       "      <td>NaN</td>\n",
       "      <td>0</td>\n",
       "      <td>NaN</td>\n",
       "      <td>81.0</td>\n",
       "    </tr>\n",
       "    <tr>\n",
       "      <th>2</th>\n",
       "      <td>10</td>\n",
       "      <td>5196.0</td>\n",
       "      <td>56.0</td>\n",
       "      <td>2015-08-20</td>\n",
       "      <td>2</td>\n",
       "      <td>2.70</td>\n",
       "      <td>5</td>\n",
       "      <td>34.300000</td>\n",
       "      <td>4</td>\n",
       "      <td>False</td>\n",
       "      <td>...</td>\n",
       "      <td>8.30000</td>\n",
       "      <td>0</td>\n",
       "      <td>Санкт-Петербург</td>\n",
       "      <td>21741.0</td>\n",
       "      <td>13933.0</td>\n",
       "      <td>1</td>\n",
       "      <td>90.0</td>\n",
       "      <td>2</td>\n",
       "      <td>574.0</td>\n",
       "      <td>558.0</td>\n",
       "    </tr>\n",
       "    <tr>\n",
       "      <th>3</th>\n",
       "      <td>0</td>\n",
       "      <td>64900.0</td>\n",
       "      <td>159.0</td>\n",
       "      <td>2015-07-24</td>\n",
       "      <td>3</td>\n",
       "      <td>2.70</td>\n",
       "      <td>14</td>\n",
       "      <td>47.374108</td>\n",
       "      <td>9</td>\n",
       "      <td>False</td>\n",
       "      <td>...</td>\n",
       "      <td>11.29292</td>\n",
       "      <td>0</td>\n",
       "      <td>Санкт-Петербург</td>\n",
       "      <td>28098.0</td>\n",
       "      <td>6800.0</td>\n",
       "      <td>2</td>\n",
       "      <td>84.0</td>\n",
       "      <td>3</td>\n",
       "      <td>234.0</td>\n",
       "      <td>424.0</td>\n",
       "    </tr>\n",
       "    <tr>\n",
       "      <th>4</th>\n",
       "      <td>2</td>\n",
       "      <td>10000.0</td>\n",
       "      <td>100.0</td>\n",
       "      <td>2018-06-19</td>\n",
       "      <td>2</td>\n",
       "      <td>3.03</td>\n",
       "      <td>14</td>\n",
       "      <td>32.000000</td>\n",
       "      <td>13</td>\n",
       "      <td>False</td>\n",
       "      <td>...</td>\n",
       "      <td>41.00000</td>\n",
       "      <td>0</td>\n",
       "      <td>Санкт-Петербург</td>\n",
       "      <td>31856.0</td>\n",
       "      <td>8098.0</td>\n",
       "      <td>2</td>\n",
       "      <td>112.0</td>\n",
       "      <td>1</td>\n",
       "      <td>48.0</td>\n",
       "      <td>121.0</td>\n",
       "    </tr>\n",
       "  </tbody>\n",
       "</table>\n",
       "<p>5 rows × 22 columns</p>\n",
       "</div>"
      ],
      "text/plain": [
       "   total_images  last_price_thousand  total_area first_day_exposition  rooms  \\\n",
       "0            20              13000.0       108.0           2019-03-07      3   \n",
       "1             7               3350.0        40.4           2018-12-04      1   \n",
       "2            10               5196.0        56.0           2015-08-20      2   \n",
       "3             0              64900.0       159.0           2015-07-24      3   \n",
       "4             2              10000.0       100.0           2018-06-19      2   \n",
       "\n",
       "   ceiling_height  floors_total  living_area  floor  is_apartment  ...  \\\n",
       "0            2.70            16    51.000000      8         False  ...   \n",
       "1            2.63            11    18.600000      1         False  ...   \n",
       "2            2.70             5    34.300000      4         False  ...   \n",
       "3            2.70            14    47.374108      9         False  ...   \n",
       "4            3.03            14    32.000000     13         False  ...   \n",
       "\n",
       "   kitchen_area  balcony    locality_name  airports_nearest  \\\n",
       "0      25.00000        0  Санкт-Петербург           18863.0   \n",
       "1      11.00000        2   посёлок Шушары           12817.0   \n",
       "2       8.30000        0  Санкт-Петербург           21741.0   \n",
       "3      11.29292        0  Санкт-Петербург           28098.0   \n",
       "4      41.00000        0  Санкт-Петербург           31856.0   \n",
       "\n",
       "  cityCenters_nearest  parks_around3000  parks_nearest  ponds_around3000  \\\n",
       "0             16028.0                 1          482.0                 2   \n",
       "1             18603.0                 0            NaN                 0   \n",
       "2             13933.0                 1           90.0                 2   \n",
       "3              6800.0                 2           84.0                 3   \n",
       "4              8098.0                 2          112.0                 1   \n",
       "\n",
       "   ponds_nearest  days_exposition  \n",
       "0          755.0              NaN  \n",
       "1            NaN             81.0  \n",
       "2          574.0            558.0  \n",
       "3          234.0            424.0  \n",
       "4           48.0            121.0  \n",
       "\n",
       "[5 rows x 22 columns]"
      ]
     },
     "execution_count": 20,
     "metadata": {},
     "output_type": "execute_result"
    }
   ],
   "source": [
    "data['last_price'] = data['last_price']/1000\n",
    "data.rename(columns = {'last_price': 'last_price_thousand'}, inplace=True)\n",
    "data.head(5)"
   ]
  },
  {
   "cell_type": "markdown",
   "metadata": {},
   "source": [
    "Проверим результат всех преобразований"
   ]
  },
  {
   "cell_type": "code",
   "execution_count": 21,
   "metadata": {},
   "outputs": [
    {
     "name": "stdout",
     "output_type": "stream",
     "text": [
      "<class 'pandas.core.frame.DataFrame'>\n",
      "Int64Index: 23565 entries, 0 to 23698\n",
      "Data columns (total 22 columns):\n",
      " #   Column                Non-Null Count  Dtype         \n",
      "---  ------                --------------  -----         \n",
      " 0   total_images          23565 non-null  int64         \n",
      " 1   last_price_thousand   23565 non-null  float64       \n",
      " 2   total_area            23565 non-null  float64       \n",
      " 3   first_day_exposition  23565 non-null  datetime64[ns]\n",
      " 4   rooms                 23565 non-null  int64         \n",
      " 5   ceiling_height        23565 non-null  float64       \n",
      " 6   floors_total          23565 non-null  int64         \n",
      " 7   living_area           23565 non-null  float64       \n",
      " 8   floor                 23565 non-null  int64         \n",
      " 9   is_apartment          23565 non-null  bool          \n",
      " 10  studio                23565 non-null  bool          \n",
      " 11  open_plan             23565 non-null  bool          \n",
      " 12  kitchen_area          23565 non-null  float64       \n",
      " 13  balcony               23565 non-null  int64         \n",
      " 14  locality_name         23565 non-null  object        \n",
      " 15  airports_nearest      18041 non-null  float64       \n",
      " 16  cityCenters_nearest   18187 non-null  float64       \n",
      " 17  parks_around3000      23565 non-null  int64         \n",
      " 18  parks_nearest         8030 non-null   float64       \n",
      " 19  ponds_around3000      23565 non-null  int64         \n",
      " 20  ponds_nearest         9036 non-null   float64       \n",
      " 21  days_exposition       20394 non-null  float64       \n",
      "dtypes: bool(3), datetime64[ns](1), float64(10), int64(7), object(1)\n",
      "memory usage: 3.7+ MB\n"
     ]
    }
   ],
   "source": [
    "data.isnull().sum()\n",
    "data.info()"
   ]
  },
  {
   "cell_type": "markdown",
   "metadata": {},
   "source": [
    "В датасете осталось **5 столбцов с пропущенными значениями**, которые самостоятельно изменить/дополнить/посчитать не смогу: из описания проекта следует, что имеется два типа данных: добавленные пользователем и картографические. \n",
    "К **картографическому** типу данных и  относятся необработанные столбцы: расстояния до центра города, аэропорта, ближайшего парка и водоема.\n",
    "Для заполнения пропусков, возможно, на этом этапе можно **обратиться к специалистам**, которые смогли бы подтянуть данные.\n",
    "\n",
    "что касается пропусков в столбце **days_exposition** то, полагаю, это актуальные объявления, по которым не было совершено еще сделки \"купля-продажа\"."
   ]
  },
  {
   "cell_type": "markdown",
   "metadata": {},
   "source": [
    "Проверим явные дубликаты"
   ]
  },
  {
   "cell_type": "code",
   "execution_count": 22,
   "metadata": {},
   "outputs": [
    {
     "data": {
      "text/plain": [
       "0"
      ]
     },
     "execution_count": 22,
     "metadata": {},
     "output_type": "execute_result"
    }
   ],
   "source": [
    "data.duplicated().sum()"
   ]
  },
  {
   "cell_type": "markdown",
   "metadata": {},
   "source": [
    "В столбце 'locality_name' проработаем неянвые дубликаты"
   ]
  },
  {
   "cell_type": "code",
   "execution_count": 23,
   "metadata": {
    "scrolled": false
   },
   "outputs": [
    {
     "name": "stdout",
     "output_type": "stream",
     "text": [
      "23201\n",
      "Санкт-Петербург      15651\n",
      "посёлок Мурино         520\n",
      "посёлок Шушары         439\n",
      "Всеволожск             398\n",
      "Пушкин                 369\n",
      "                     ...  \n",
      "поселок Гончарово        1\n",
      "поселок Рабитицы         1\n",
      "посёлок Левашово         1\n",
      "деревня Сижно            1\n",
      "поселок Гаврилово        1\n",
      "Name: locality_name, Length: 364, dtype: int64\n"
     ]
    }
   ],
   "source": [
    "print(data['locality_name'].duplicated().sum())\n",
    "print(data['locality_name'].value_counts())"
   ]
  },
  {
   "cell_type": "code",
   "execution_count": 24,
   "metadata": {},
   "outputs": [
    {
     "name": "stdout",
     "output_type": "stream",
     "text": [
      "23271\n",
      "санкт-петербург    15651\n",
      "мурино               586\n",
      "кудрово              470\n",
      "шушары               439\n",
      "всеволожск           398\n",
      "                   ...  \n",
      "терпилицы              1\n",
      "гладкое                1\n",
      "тесово-4               1\n",
      "алексеевка             1\n",
      "счастье                1\n",
      "Name: locality_name, Length: 294, dtype: int64\n"
     ]
    }
   ],
   "source": [
    "data['locality_name'] = data['locality_name'].str.lower() \n",
    "data['locality_name'] = data['locality_name'].str.replace('ё', 'е')\n",
    "\n",
    "#остаим в названии только имя собственное:\n",
    "for i in data['locality_name'].unique().tolist():\n",
    "    data.loc[data['locality_name'] == i, 'locality_name'] = i.split()[-1]\n",
    "    \n",
    "print(data['locality_name'].duplicated().sum())\n",
    "print(data['locality_name'].value_counts())"
   ]
  },
  {
   "cell_type": "markdown",
   "metadata": {},
   "source": [
    "Проработала **неявные дубликаты:** - заменила ё на е - отсекла от наименования все приписки типа \"деревня\", \"поселок\" и тд. как итог: датафрейм **сократился на 36** уникальных наименований."
   ]
  },
  {
   "cell_type": "markdown",
   "metadata": {},
   "source": [
    "Проверим датасет на наличие аномальных значений и возможность их заменить/удалить."
   ]
  },
  {
   "cell_type": "code",
   "execution_count": 25,
   "metadata": {},
   "outputs": [
    {
     "data": {
      "text/html": [
       "<div>\n",
       "<style scoped>\n",
       "    .dataframe tbody tr th:only-of-type {\n",
       "        vertical-align: middle;\n",
       "    }\n",
       "\n",
       "    .dataframe tbody tr th {\n",
       "        vertical-align: top;\n",
       "    }\n",
       "\n",
       "    .dataframe thead th {\n",
       "        text-align: right;\n",
       "    }\n",
       "</style>\n",
       "<table border=\"1\" class=\"dataframe\">\n",
       "  <thead>\n",
       "    <tr style=\"text-align: right;\">\n",
       "      <th></th>\n",
       "      <th>total_images</th>\n",
       "      <th>last_price_thousand</th>\n",
       "      <th>total_area</th>\n",
       "      <th>rooms</th>\n",
       "      <th>ceiling_height</th>\n",
       "      <th>floors_total</th>\n",
       "      <th>living_area</th>\n",
       "      <th>floor</th>\n",
       "      <th>kitchen_area</th>\n",
       "      <th>balcony</th>\n",
       "      <th>airports_nearest</th>\n",
       "      <th>cityCenters_nearest</th>\n",
       "      <th>parks_around3000</th>\n",
       "      <th>parks_nearest</th>\n",
       "      <th>ponds_around3000</th>\n",
       "      <th>ponds_nearest</th>\n",
       "      <th>days_exposition</th>\n",
       "    </tr>\n",
       "  </thead>\n",
       "  <tbody>\n",
       "    <tr>\n",
       "      <th>count</th>\n",
       "      <td>23565.000000</td>\n",
       "      <td>23565.000000</td>\n",
       "      <td>23565.000000</td>\n",
       "      <td>23565.000000</td>\n",
       "      <td>23565.000000</td>\n",
       "      <td>23565.000000</td>\n",
       "      <td>23565.000000</td>\n",
       "      <td>23565.000000</td>\n",
       "      <td>23565.000000</td>\n",
       "      <td>23565.000000</td>\n",
       "      <td>18041.000000</td>\n",
       "      <td>18187.000000</td>\n",
       "      <td>23565.000000</td>\n",
       "      <td>8030.000000</td>\n",
       "      <td>23565.000000</td>\n",
       "      <td>9036.000000</td>\n",
       "      <td>20394.000000</td>\n",
       "    </tr>\n",
       "    <tr>\n",
       "      <th>mean</th>\n",
       "      <td>9.878421</td>\n",
       "      <td>6540.058260</td>\n",
       "      <td>60.322824</td>\n",
       "      <td>2.078888</td>\n",
       "      <td>2.733882</td>\n",
       "      <td>10.675875</td>\n",
       "      <td>34.442454</td>\n",
       "      <td>5.878124</td>\n",
       "      <td>10.550293</td>\n",
       "      <td>0.593677</td>\n",
       "      <td>28797.082701</td>\n",
       "      <td>14232.870319</td>\n",
       "      <td>0.468831</td>\n",
       "      <td>490.580448</td>\n",
       "      <td>0.589900</td>\n",
       "      <td>518.289509</td>\n",
       "      <td>180.741395</td>\n",
       "    </tr>\n",
       "    <tr>\n",
       "      <th>std</th>\n",
       "      <td>5.681156</td>\n",
       "      <td>10910.934722</td>\n",
       "      <td>35.657060</td>\n",
       "      <td>1.066503</td>\n",
       "      <td>1.012187</td>\n",
       "      <td>6.594823</td>\n",
       "      <td>21.822424</td>\n",
       "      <td>4.871485</td>\n",
       "      <td>5.643765</td>\n",
       "      <td>0.960660</td>\n",
       "      <td>12632.499735</td>\n",
       "      <td>8631.156866</td>\n",
       "      <td>0.748403</td>\n",
       "      <td>341.572956</td>\n",
       "      <td>0.883966</td>\n",
       "      <td>278.009558</td>\n",
       "      <td>219.732782</td>\n",
       "    </tr>\n",
       "    <tr>\n",
       "      <th>min</th>\n",
       "      <td>0.000000</td>\n",
       "      <td>12.190000</td>\n",
       "      <td>12.000000</td>\n",
       "      <td>1.000000</td>\n",
       "      <td>1.000000</td>\n",
       "      <td>1.000000</td>\n",
       "      <td>2.000000</td>\n",
       "      <td>1.000000</td>\n",
       "      <td>1.300000</td>\n",
       "      <td>0.000000</td>\n",
       "      <td>0.000000</td>\n",
       "      <td>181.000000</td>\n",
       "      <td>0.000000</td>\n",
       "      <td>1.000000</td>\n",
       "      <td>0.000000</td>\n",
       "      <td>13.000000</td>\n",
       "      <td>1.000000</td>\n",
       "    </tr>\n",
       "    <tr>\n",
       "      <th>25%</th>\n",
       "      <td>6.000000</td>\n",
       "      <td>3400.000000</td>\n",
       "      <td>40.000000</td>\n",
       "      <td>1.000000</td>\n",
       "      <td>2.550000</td>\n",
       "      <td>5.000000</td>\n",
       "      <td>18.400000</td>\n",
       "      <td>2.000000</td>\n",
       "      <td>7.300000</td>\n",
       "      <td>0.000000</td>\n",
       "      <td>18565.000000</td>\n",
       "      <td>9277.000000</td>\n",
       "      <td>0.000000</td>\n",
       "      <td>288.000000</td>\n",
       "      <td>0.000000</td>\n",
       "      <td>293.000000</td>\n",
       "      <td>45.000000</td>\n",
       "    </tr>\n",
       "    <tr>\n",
       "      <th>50%</th>\n",
       "      <td>9.000000</td>\n",
       "      <td>4646.000000</td>\n",
       "      <td>52.000000</td>\n",
       "      <td>2.000000</td>\n",
       "      <td>2.700000</td>\n",
       "      <td>9.000000</td>\n",
       "      <td>30.300000</td>\n",
       "      <td>4.000000</td>\n",
       "      <td>9.544076</td>\n",
       "      <td>0.000000</td>\n",
       "      <td>26757.000000</td>\n",
       "      <td>13099.000000</td>\n",
       "      <td>0.000000</td>\n",
       "      <td>455.000000</td>\n",
       "      <td>0.000000</td>\n",
       "      <td>503.000000</td>\n",
       "      <td>95.000000</td>\n",
       "    </tr>\n",
       "    <tr>\n",
       "      <th>75%</th>\n",
       "      <td>14.000000</td>\n",
       "      <td>6790.000000</td>\n",
       "      <td>69.700000</td>\n",
       "      <td>3.000000</td>\n",
       "      <td>2.700000</td>\n",
       "      <td>16.000000</td>\n",
       "      <td>42.700000</td>\n",
       "      <td>8.000000</td>\n",
       "      <td>11.600000</td>\n",
       "      <td>1.000000</td>\n",
       "      <td>37273.000000</td>\n",
       "      <td>16310.000000</td>\n",
       "      <td>1.000000</td>\n",
       "      <td>612.000000</td>\n",
       "      <td>1.000000</td>\n",
       "      <td>730.000000</td>\n",
       "      <td>231.000000</td>\n",
       "    </tr>\n",
       "    <tr>\n",
       "      <th>max</th>\n",
       "      <td>50.000000</td>\n",
       "      <td>763000.000000</td>\n",
       "      <td>900.000000</td>\n",
       "      <td>19.000000</td>\n",
       "      <td>100.000000</td>\n",
       "      <td>60.000000</td>\n",
       "      <td>409.700000</td>\n",
       "      <td>33.000000</td>\n",
       "      <td>112.000000</td>\n",
       "      <td>5.000000</td>\n",
       "      <td>84869.000000</td>\n",
       "      <td>65968.000000</td>\n",
       "      <td>3.000000</td>\n",
       "      <td>3190.000000</td>\n",
       "      <td>3.000000</td>\n",
       "      <td>1344.000000</td>\n",
       "      <td>1580.000000</td>\n",
       "    </tr>\n",
       "  </tbody>\n",
       "</table>\n",
       "</div>"
      ],
      "text/plain": [
       "       total_images  last_price_thousand    total_area         rooms  \\\n",
       "count  23565.000000         23565.000000  23565.000000  23565.000000   \n",
       "mean       9.878421          6540.058260     60.322824      2.078888   \n",
       "std        5.681156         10910.934722     35.657060      1.066503   \n",
       "min        0.000000            12.190000     12.000000      1.000000   \n",
       "25%        6.000000          3400.000000     40.000000      1.000000   \n",
       "50%        9.000000          4646.000000     52.000000      2.000000   \n",
       "75%       14.000000          6790.000000     69.700000      3.000000   \n",
       "max       50.000000        763000.000000    900.000000     19.000000   \n",
       "\n",
       "       ceiling_height  floors_total   living_area         floor  kitchen_area  \\\n",
       "count    23565.000000  23565.000000  23565.000000  23565.000000  23565.000000   \n",
       "mean         2.733882     10.675875     34.442454      5.878124     10.550293   \n",
       "std          1.012187      6.594823     21.822424      4.871485      5.643765   \n",
       "min          1.000000      1.000000      2.000000      1.000000      1.300000   \n",
       "25%          2.550000      5.000000     18.400000      2.000000      7.300000   \n",
       "50%          2.700000      9.000000     30.300000      4.000000      9.544076   \n",
       "75%          2.700000     16.000000     42.700000      8.000000     11.600000   \n",
       "max        100.000000     60.000000    409.700000     33.000000    112.000000   \n",
       "\n",
       "            balcony  airports_nearest  cityCenters_nearest  parks_around3000  \\\n",
       "count  23565.000000      18041.000000         18187.000000      23565.000000   \n",
       "mean       0.593677      28797.082701         14232.870319          0.468831   \n",
       "std        0.960660      12632.499735          8631.156866          0.748403   \n",
       "min        0.000000          0.000000           181.000000          0.000000   \n",
       "25%        0.000000      18565.000000          9277.000000          0.000000   \n",
       "50%        0.000000      26757.000000         13099.000000          0.000000   \n",
       "75%        1.000000      37273.000000         16310.000000          1.000000   \n",
       "max        5.000000      84869.000000         65968.000000          3.000000   \n",
       "\n",
       "       parks_nearest  ponds_around3000  ponds_nearest  days_exposition  \n",
       "count    8030.000000      23565.000000    9036.000000     20394.000000  \n",
       "mean      490.580448          0.589900     518.289509       180.741395  \n",
       "std       341.572956          0.883966     278.009558       219.732782  \n",
       "min         1.000000          0.000000      13.000000         1.000000  \n",
       "25%       288.000000          0.000000     293.000000        45.000000  \n",
       "50%       455.000000          0.000000     503.000000        95.000000  \n",
       "75%       612.000000          1.000000     730.000000       231.000000  \n",
       "max      3190.000000          3.000000    1344.000000      1580.000000  "
      ]
     },
     "execution_count": 25,
     "metadata": {},
     "output_type": "execute_result"
    }
   ],
   "source": [
    "data.describe()"
   ]
  },
  {
   "cell_type": "code",
   "execution_count": 26,
   "metadata": {},
   "outputs": [
    {
     "data": {
      "text/plain": [
       "(12.0, 800000.0)"
      ]
     },
     "execution_count": 26,
     "metadata": {},
     "output_type": "execute_result"
    },
    {
     "data": {
      "image/png": "[encoded data removed]",
      "text/plain": [
       "<Figure size 432x288 with 1 Axes>"
      ]
     },
     "metadata": {
      "needs_background": "light"
     },
     "output_type": "display_data"
    }
   ],
   "source": [
    "plt.boxplot(data['last_price_thousand'])\n",
    "plt.ylim(12,800000)"
   ]
  },
  {
   "cell_type": "markdown",
   "metadata": {},
   "source": [
    "Видим, что стоимость одной квартиры аномально высокая. В объеме имеющегося датасета, думаю, будет разумно не тратить время на поиски-замены, а просто исключить из анализа."
   ]
  },
  {
   "cell_type": "code",
   "execution_count": 27,
   "metadata": {},
   "outputs": [],
   "source": [
    "data = data[((data['last_price_thousand'] != 763000.000000))]"
   ]
  },
  {
   "cell_type": "code",
   "execution_count": 28,
   "metadata": {},
   "outputs": [
    {
     "data": {
      "text/plain": [
       "(1.0, 40.0)"
      ]
     },
     "execution_count": 28,
     "metadata": {},
     "output_type": "execute_result"
    },
    {
     "data": {
      "image/png": "[encoded data removed]",
      "text/plain": [
       "<Figure size 432x288 with 1 Axes>"
      ]
     },
     "metadata": {
      "needs_background": "light"
     },
     "output_type": "display_data"
    }
   ],
   "source": [
    "plt.boxplot(data['ceiling_height'])\n",
    "plt.ylim(1,40)"
   ]
  },
  {
   "cell_type": "markdown",
   "metadata": {},
   "source": []
  },
  {
   "cell_type": "markdown",
   "metadata": {},
   "source": [
    "Со значениями высоты потолков что-то не так. При среднем в 2,7 видим, что значения находятся в диапазоне от 1 до 100м.\n",
    "а также в датасете присутствуют потолки выше 10 метров. Предполагаю, что в процессе заполнения данных пользователь перепутал ячейки и вместо высоты потолка было внесено значение другого параметра (13,85м больше похоже на площадь, чем высоту)\n",
    "Подобную ошибку можно недопустить в процессе заполнения путем присвоения ячейке ограничения: не может потолок быть высотой как 1 метр, так и 20, и 100 (если мы не говорим о каком-то супер элитном жилье...но это скорее всего будет не квартира).\n",
    "\n",
    "В интернете (ссылку прикрепляю) нашла статью с информацией о том, что высота потолков 4-7м для Питера - это ок.\n",
    "Поэтому, при прочих равных все, что выше 8м - заменю медианой относительно района.\n",
    "\n",
    "ссылка: https://asninfo.ru/comfortlive/210-samyye-bolshiye-kvartiry-sankt-peterburga"
   ]
  },
  {
   "cell_type": "code",
   "execution_count": 29,
   "metadata": {},
   "outputs": [],
   "source": [
    "for locality_name in data['locality_name'].unique():\n",
    "    median = data.loc[data['locality_name'] == locality_name, 'ceiling_height'].median()\n",
    "    data.loc[(data['ceiling_height'] >= 8) & (data['locality_name'] == locality_name), 'ceiling_height'] = median\n",
    "    data.loc[(data['ceiling_height'] <=1) & (data['locality_name'] == locality_name), 'ceiling_height'] = median\n",
    "    \n",
    "data.loc[data['ceiling_height'] >= 8, 'ceiling_height'] = data['ceiling_height'].median()\n",
    "data.loc[data['ceiling_height'] <= 1, 'ceiling_height'] = data['ceiling_height'].median()"
   ]
  },
  {
   "cell_type": "code",
   "execution_count": 30,
   "metadata": {},
   "outputs": [
    {
     "data": {
      "text/plain": [
       "(1.0, 7.0)"
      ]
     },
     "execution_count": 30,
     "metadata": {},
     "output_type": "execute_result"
    },
    {
     "data": {
      "image/png": "[encoded data removed]",
      "text/plain": [
       "<Figure size 432x288 with 1 Axes>"
      ]
     },
     "metadata": {
      "needs_background": "light"
     },
     "output_type": "display_data"
    }
   ],
   "source": [
    "plt.boxplot(data['ceiling_height'])\n",
    "plt.ylim(1,7)"
   ]
  },
  {
   "cell_type": "markdown",
   "metadata": {},
   "source": [
    "Стоит проверить столбец общее количество этажей в доме."
   ]
  },
  {
   "cell_type": "code",
   "execution_count": 31,
   "metadata": {},
   "outputs": [
    {
     "data": {
      "text/plain": [
       "(1.0, 60.0)"
      ]
     },
     "execution_count": 31,
     "metadata": {},
     "output_type": "execute_result"
    },
    {
     "data": {
      "image/png": "[encoded data removed]",
      "text/plain": [
       "<Figure size 432x288 with 1 Axes>"
      ]
     },
     "metadata": {
      "needs_background": "light"
     },
     "output_type": "display_data"
    }
   ],
   "source": [
    "plt.boxplot(data['floors_total'])\n",
    "plt.ylim(1,60)"
   ]
  },
  {
   "cell_type": "markdown",
   "metadata": {},
   "source": [
    "Вижу, что выбивающихся значения: 52 и 60 этажей в доме, посмотрим, что за они:"
   ]
  },
  {
   "cell_type": "code",
   "execution_count": 32,
   "metadata": {},
   "outputs": [
    {
     "name": "stdout",
     "output_type": "stream",
     "text": [
      "2253           кронштадт\n",
      "16731    санкт-петербург\n",
      "Name: locality_name, dtype: object\n"
     ]
    }
   ],
   "source": [
    "print(data.loc[data.loc[:,'floors_total']>50]['locality_name'])"
   ]
  },
  {
   "cell_type": "markdown",
   "metadata": {},
   "source": [
    "Дом с этажностью в 52 этажа в Санкт-Петербурге -ок.\n",
    "Кронштадт вызывает сомнения. Возможно, что лишний 0 был при заполнении и дом 6-этажный.\n",
    "Не хотелось бы гадать и, если нет возможности уточнить, то 1 строку удалим из анализа."
   ]
  },
  {
   "cell_type": "code",
   "execution_count": 33,
   "metadata": {},
   "outputs": [],
   "source": [
    "data = data[((data['floors_total'] != 60))]"
   ]
  },
  {
   "cell_type": "markdown",
   "metadata": {},
   "source": [
    "Сделаем проверку на наличие аномальных"
   ]
  },
  {
   "cell_type": "markdown",
   "metadata": {},
   "source": [
    "В данном блоке были **выполнены замены пропущенных значений:**\n",
    "    *удалены строки с пропущенными значениями, т.к. ими можно было пренебречь:*\n",
    "        - locality_name\n",
    "        - floors_total\n",
    "    *заменены логически:*\n",
    "        - is_apartment\n",
    "        - balcony\n",
    "        - parks_around3000 \n",
    "        - ponds_around3000\n",
    "    *заменены медианными и средними значениями:*\n",
    "        - ceiling_height\n",
    "        - living_area \n",
    "        - kitchen_area\n",
    "\n",
    "Причины пропусков вижу следующие:\n",
    "    - **отсутствие признака обязательного заполнения ячейки** (например, площадь кухни, высота потолка - это параметры, которые нельзя не знать);\n",
    "    - **отсутствие автоматического заполнения ячеек** (в датасете есть данные, которые могут заполняться автоматически при внесении, например, адреса);\n",
    "    - **человеческий фактор** (пропуск при заполнении, незнание, осознанный пропуск: человек посчитал, что строка \"airports_nearest\" не такой и важный)."
   ]
  },
  {
   "cell_type": "markdown",
   "metadata": {},
   "source": [
    "### Посчитайте и добавьте в таблицу новые столбцы"
   ]
  },
  {
   "cell_type": "markdown",
   "metadata": {},
   "source": [
    "Посчитаем **цену одного квадратного метра**"
   ]
  },
  {
   "cell_type": "code",
   "execution_count": 34,
   "metadata": {},
   "outputs": [],
   "source": [
    "data['sm_price'] = data['last_price_thousand'] / data['total_area']"
   ]
  },
  {
   "cell_type": "markdown",
   "metadata": {},
   "source": [
    "Добавим **день недели, месяц и год**  публикации объявления"
   ]
  },
  {
   "cell_type": "code",
   "execution_count": 35,
   "metadata": {},
   "outputs": [],
   "source": [
    "data['weekday'] = data['first_day_exposition'].dt.weekday\n",
    "data['month'] = data['first_day_exposition'].dt.month\n",
    "data['year'] = data['first_day_exposition'].dt.year"
   ]
  },
  {
   "cell_type": "markdown",
   "metadata": {},
   "source": [
    "Добавим **тип этажа** квартиры (значения — «первый», «последний», «другой»)"
   ]
  },
  {
   "cell_type": "code",
   "execution_count": 36,
   "metadata": {},
   "outputs": [],
   "source": [
    "def floor_group(floors):\n",
    "    if floors['floor'] == 1:\n",
    "        return 'первый'\n",
    "    elif floors['floor'] == floors['floors_total']:\n",
    "        return 'последний'\n",
    "    else:\n",
    "        return 'другой'\n",
    "data['floor_type'] = data.apply(floor_group, axis=1)"
   ]
  },
  {
   "cell_type": "markdown",
   "metadata": {},
   "source": [
    "Добавили **расстояние до центра города в километрах** (для обработки данных заменила пропуски на 0, затем перевела в километры)"
   ]
  },
  {
   "cell_type": "code",
   "execution_count": 37,
   "metadata": {},
   "outputs": [],
   "source": [
    "data['cityCenters_nearest'] = data['cityCenters_nearest'].fillna(value=0)\n",
    "data['cityCenters_distance'] = (data['cityCenters_nearest']/1000).astype(int)"
   ]
  },
  {
   "cell_type": "markdown",
   "metadata": {},
   "source": [
    "Обновим общую информацию о дополненном датасете:"
   ]
  },
  {
   "cell_type": "code",
   "execution_count": 38,
   "metadata": {
    "scrolled": true
   },
   "outputs": [
    {
     "name": "stdout",
     "output_type": "stream",
     "text": [
      "<class 'pandas.core.frame.DataFrame'>\n",
      "Int64Index: 23563 entries, 0 to 23698\n",
      "Data columns (total 28 columns):\n",
      " #   Column                Non-Null Count  Dtype         \n",
      "---  ------                --------------  -----         \n",
      " 0   total_images          23563 non-null  int64         \n",
      " 1   last_price_thousand   23563 non-null  float64       \n",
      " 2   total_area            23563 non-null  float64       \n",
      " 3   first_day_exposition  23563 non-null  datetime64[ns]\n",
      " 4   rooms                 23563 non-null  int64         \n",
      " 5   ceiling_height        23563 non-null  float64       \n",
      " 6   floors_total          23563 non-null  int64         \n",
      " 7   living_area           23563 non-null  float64       \n",
      " 8   floor                 23563 non-null  int64         \n",
      " 9   is_apartment          23563 non-null  bool          \n",
      " 10  studio                23563 non-null  bool          \n",
      " 11  open_plan             23563 non-null  bool          \n",
      " 12  kitchen_area          23563 non-null  float64       \n",
      " 13  balcony               23563 non-null  int64         \n",
      " 14  locality_name         23563 non-null  object        \n",
      " 15  airports_nearest      18039 non-null  float64       \n",
      " 16  cityCenters_nearest   23563 non-null  float64       \n",
      " 17  parks_around3000      23563 non-null  int64         \n",
      " 18  parks_nearest         8028 non-null   float64       \n",
      " 19  ponds_around3000      23563 non-null  int64         \n",
      " 20  ponds_nearest         9034 non-null   float64       \n",
      " 21  days_exposition       20392 non-null  float64       \n",
      " 22  sm_price              23563 non-null  float64       \n",
      " 23  weekday               23563 non-null  int64         \n",
      " 24  month                 23563 non-null  int64         \n",
      " 25  year                  23563 non-null  int64         \n",
      " 26  floor_type            23563 non-null  object        \n",
      " 27  cityCenters_distance  23563 non-null  int64         \n",
      "dtypes: bool(3), datetime64[ns](1), float64(11), int64(11), object(2)\n",
      "memory usage: 4.7+ MB\n"
     ]
    }
   ],
   "source": [
    "data.info()"
   ]
  },
  {
   "cell_type": "markdown",
   "metadata": {},
   "source": [
    "### Проведите исследовательский анализ данных"
   ]
  },
  {
   "cell_type": "markdown",
   "metadata": {},
   "source": [
    "Изучим следующие параметры: общая площадь, жилая площадь, площадь кухни, цена объекта, количество комнат, высота потолков, этаж квартиры, тип этажа квартиры («первый», «последний», «другой»), общее количество этажей в доме, расстояние до центра города в метрах, расстояние до ближайшего аэропорта, расстояние до ближайшего парка, день и месяц публикации объявления."
   ]
  },
  {
   "cell_type": "code",
   "execution_count": 39,
   "metadata": {},
   "outputs": [
    {
     "name": "stdout",
     "output_type": "stream",
     "text": [
      "count    23563.000000\n",
      "mean        60.309037\n",
      "std         35.589709\n",
      "min         12.000000\n",
      "25%         40.000000\n",
      "50%         52.000000\n",
      "75%         69.700000\n",
      "max        900.000000\n",
      "Name: total_area, dtype: float64\n"
     ]
    },
    {
     "data": {
      "image/png": "[encoded data removed]",
      "text/plain": [
       "<Figure size 432x288 with 1 Axes>"
      ]
     },
     "metadata": {
      "needs_background": "light"
     },
     "output_type": "display_data"
    }
   ],
   "source": [
    "print(data['total_area'].describe())\n",
    "data.hist('total_area', range = (0,150), bins=200)\n",
    "plt.show()"
   ]
  },
  {
   "cell_type": "markdown",
   "metadata": {},
   "source": [
    "Площади объектов недвижимости находятся в диапазоне от **12кв.м до 900кв.м.**\n",
    "Однако, только четверть предложений - это недвижимость с площадью более 69 кв.м., подавляющая часть предложений - это площадь от 40 до 69 кв.м."
   ]
  },
  {
   "cell_type": "code",
   "execution_count": 40,
   "metadata": {},
   "outputs": [
    {
     "name": "stdout",
     "output_type": "stream",
     "text": [
      "count     23563.000000\n",
      "mean       6508.070827\n",
      "std        9735.042439\n",
      "min          12.190000\n",
      "25%        3400.000000\n",
      "50%        4646.000000\n",
      "75%        6790.000000\n",
      "max      420000.000000\n",
      "Name: last_price_thousand, dtype: float64\n"
     ]
    },
    {
     "data": {
      "image/png": "[encoded data removed]",
      "text/plain": [
       "<Figure size 432x288 with 1 Axes>"
      ]
     },
     "metadata": {
      "needs_background": "light"
     },
     "output_type": "display_data"
    }
   ],
   "source": [
    "print(data['last_price_thousand'].describe())\n",
    "data.hist('last_price_thousand', range=(0,60000), bins=100)\n",
    "plt.show()"
   ]
  },
  {
   "cell_type": "markdown",
   "metadata": {},
   "source": [
    "Гистаграмма цен дублирует гистограму площадей: цена находится в прямой зависимости от площади недвижимости."
   ]
  },
  {
   "cell_type": "code",
   "execution_count": 41,
   "metadata": {},
   "outputs": [
    {
     "name": "stdout",
     "output_type": "stream",
     "text": [
      "count    23563.000000\n",
      "mean         2.078683\n",
      "std          1.066066\n",
      "min          1.000000\n",
      "25%          1.000000\n",
      "50%          2.000000\n",
      "75%          3.000000\n",
      "max         19.000000\n",
      "Name: rooms, dtype: float64\n"
     ]
    },
    {
     "data": {
      "text/plain": [
       "1     8198\n",
       "2     7896\n",
       "3     5779\n",
       "4     1172\n",
       "5      325\n",
       "6      104\n",
       "7       58\n",
       "8       12\n",
       "9        8\n",
       "10       3\n",
       "11       2\n",
       "14       2\n",
       "16       1\n",
       "19       1\n",
       "12       1\n",
       "15       1\n",
       "Name: rooms, dtype: int64"
      ]
     },
     "execution_count": 41,
     "metadata": {},
     "output_type": "execute_result"
    },
    {
     "data": {
      "image/png": "[encoded data removed]",
      "text/plain": [
       "<Figure size 432x288 with 1 Axes>"
      ]
     },
     "metadata": {
      "needs_background": "light"
     },
     "output_type": "display_data"
    }
   ],
   "source": [
    "print(data['rooms'].describe())\n",
    "data.hist('rooms', range=(0,19), bins=30) \n",
    "data['rooms'].value_counts()"
   ]
  },
  {
   "cell_type": "markdown",
   "metadata": {},
   "source": [
    "Число комнат в исследуемом датасете варьируется от 1 до 19.\n",
    "На гистограмме видно, что подавляющее большинство объявлений - это продажа 1, 2, 3 комнатных квартир."
   ]
  },
  {
   "cell_type": "code",
   "execution_count": 42,
   "metadata": {},
   "outputs": [
    {
     "name": "stdout",
     "output_type": "stream",
     "text": [
      "count    23563.000000\n",
      "mean         2.703716\n",
      "std          0.226160\n",
      "min          1.200000\n",
      "25%          2.550000\n",
      "50%          2.700000\n",
      "75%          2.700000\n",
      "max          6.000000\n",
      "Name: ceiling_height, dtype: float64\n"
     ]
    },
    {
     "data": {
      "image/png": "[encoded data removed]",
      "text/plain": [
       "<Figure size 432x288 with 1 Axes>"
      ]
     },
     "metadata": {
      "needs_background": "light"
     },
     "output_type": "display_data"
    }
   ],
   "source": [
    "print(data['ceiling_height'].describe())\n",
    "data.hist('ceiling_height', range=(1,5), bins=50) \n",
    "plt.show()"
   ]
  },
  {
   "cell_type": "markdown",
   "metadata": {},
   "source": [
    "Потолки у большинства объявлений имеет среднюю высоту потолков"
   ]
  },
  {
   "cell_type": "code",
   "execution_count": 43,
   "metadata": {},
   "outputs": [
    {
     "name": "stdout",
     "output_type": "stream",
     "text": [
      "count    23563.000000\n",
      "mean         5.878029\n",
      "std          4.871603\n",
      "min          1.000000\n",
      "25%          2.000000\n",
      "50%          4.000000\n",
      "75%          8.000000\n",
      "max         33.000000\n",
      "Name: floor, dtype: float64\n"
     ]
    },
    {
     "data": {
      "image/png": "[encoded data removed]",
      "text/plain": [
       "<Figure size 432x288 with 1 Axes>"
      ]
     },
     "metadata": {
      "needs_background": "light"
     },
     "output_type": "display_data"
    }
   ],
   "source": [
    "print(data['floor'].describe())\n",
    "data.hist('floor', range=(1,33), bins=50) \n",
    "plt.show()"
   ]
  },
  {
   "cell_type": "markdown",
   "metadata": {},
   "source": [
    "Подавляющее количество объектов недвижимости в объявлениях располагается ниже 8 этажа. Думаю, это связано  с тем, что в продаже большинство квартир - это старые постройки (могли бы увидеть, если  бы в датасете был столбец с информацией о годе постройки). "
   ]
  },
  {
   "cell_type": "code",
   "execution_count": 44,
   "metadata": {},
   "outputs": [
    {
     "name": "stdout",
     "output_type": "stream",
     "text": [
      "count      23563\n",
      "unique         3\n",
      "top       другой\n",
      "freq       17325\n",
      "Name: floor_type, dtype: object\n"
     ]
    },
    {
     "data": {
      "image/png": "[encoded data removed]",
      "text/plain": [
       "<Figure size 432x288 with 1 Axes>"
      ]
     },
     "metadata": {
      "needs_background": "light"
     },
     "output_type": "display_data"
    }
   ],
   "source": [
    "print(data['floor_type'].describe())\n",
    "data['floor_type'].hist()\n",
    "plt.show()"
   ]
  },
  {
   "cell_type": "markdown",
   "metadata": {},
   "source": [
    "Большинство квартир из объявлений находится не на первом и не на последнем этажах."
   ]
  },
  {
   "cell_type": "code",
   "execution_count": 45,
   "metadata": {},
   "outputs": [
    {
     "name": "stdout",
     "output_type": "stream",
     "text": [
      "count    23563.000000\n",
      "mean        10.673811\n",
      "std          6.587269\n",
      "min          1.000000\n",
      "25%          5.000000\n",
      "50%          9.000000\n",
      "75%         16.000000\n",
      "max         52.000000\n",
      "Name: floors_total, dtype: float64\n"
     ]
    },
    {
     "data": {
      "image/png": "[encoded data removed]",
      "text/plain": [
       "<Figure size 432x288 with 1 Axes>"
      ]
     },
     "metadata": {
      "needs_background": "light"
     },
     "output_type": "display_data"
    }
   ],
   "source": [
    "print(data['floors_total'].describe())\n",
    "data.hist('floors_total', range=(1, 60), bins=10) \n",
    "plt.show()"
   ]
  },
  {
   "cell_type": "markdown",
   "metadata": {},
   "source": [
    "Данная гистограмма подтверждает гипотезу о том, что в объявлениях подавляющее большинство квартир советской застройки, у которых этажность не превышает 9."
   ]
  },
  {
   "cell_type": "code",
   "execution_count": 46,
   "metadata": {},
   "outputs": [
    {
     "name": "stdout",
     "output_type": "stream",
     "text": [
      "count    23563.000000\n",
      "mean        10.600730\n",
      "std          9.524948\n",
      "min          0.000000\n",
      "25%          2.000000\n",
      "50%         11.000000\n",
      "75%         15.000000\n",
      "max         65.000000\n",
      "Name: cityCenters_distance, dtype: float64\n"
     ]
    },
    {
     "data": {
      "image/png": "[encoded data removed]",
      "text/plain": [
       "<Figure size 432x288 with 1 Axes>"
      ]
     },
     "metadata": {
      "needs_background": "light"
     },
     "output_type": "display_data"
    }
   ],
   "source": [
    "print(data['cityCenters_distance'].describe())\n",
    "data.hist('cityCenters_distance', range=(0, 66), bins=30) \n",
    "plt.show()"
   ]
  },
  {
   "cell_type": "markdown",
   "metadata": {},
   "source": [
    "На первый взгляд, подавляющее большинство квартир находится относительно близко к центру (~15км), однако, нельзя не отметить, что датасет содержит объявления не только по Санкт-Петербургу, но и соседних населенных пунктах, которые несоизмеримо меньше площади Санкт-Перербурга. Рассмотрим раздельно:"
   ]
  },
  {
   "cell_type": "code",
   "execution_count": 47,
   "metadata": {},
   "outputs": [
    {
     "data": {
      "image/png": "[encoded data removed]",
      "text/plain": [
       "<Figure size 432x288 with 1 Axes>"
      ]
     },
     "metadata": {
      "needs_background": "light"
     },
     "output_type": "display_data"
    },
    {
     "data": {
      "image/png": "[encoded data removed]",
      "text/plain": [
       "<Figure size 432x288 with 1 Axes>"
      ]
     },
     "metadata": {
      "needs_background": "light"
     },
     "output_type": "display_data"
    }
   ],
   "source": [
    "(data\n",
    "    .query('locality_name == \"санкт-петербург\"')\n",
    "    .hist('cityCenters_distance', range=(0, 30), bins=30) \n",
    ") \n",
    "\n",
    "(data\n",
    "    .query('locality_name != \"санкт-петербург\"')\n",
    "    .hist('cityCenters_distance', range=(0, 66), bins=30) \n",
    ") \n",
    "plt.show()"
   ]
  },
  {
   "cell_type": "markdown",
   "metadata": {},
   "source": [
    "Считаю, что гипотеза подтвердилась: в соседних населенных пунктах объекты недвижимости находятся в самом центре."
   ]
  },
  {
   "cell_type": "code",
   "execution_count": 48,
   "metadata": {},
   "outputs": [
    {
     "name": "stdout",
     "output_type": "stream",
     "text": [
      "count    18039.000000\n",
      "mean     28795.127113\n",
      "std      12629.838096\n",
      "min          0.000000\n",
      "25%      18561.000000\n",
      "50%      26757.000000\n",
      "75%      37273.000000\n",
      "max      84869.000000\n",
      "Name: airports_nearest, dtype: float64\n"
     ]
    },
    {
     "data": {
      "image/png": "[encoded data removed]",
      "text/plain": [
       "<Figure size 432x288 with 1 Axes>"
      ]
     },
     "metadata": {
      "needs_background": "light"
     },
     "output_type": "display_data"
    }
   ],
   "source": [
    "print(data['airports_nearest'].describe())\n",
    "data.hist('airports_nearest', range=(0, 85000), bins=30) \n",
    "plt.show()"
   ]
  },
  {
   "cell_type": "markdown",
   "metadata": {},
   "source": [
    "Большинство объектов недвижимости находится не более, чем в 40км от аэропорта."
   ]
  },
  {
   "cell_type": "code",
   "execution_count": 49,
   "metadata": {},
   "outputs": [
    {
     "name": "stdout",
     "output_type": "stream",
     "text": [
      "count    8028.000000\n",
      "mean      490.594046\n",
      "std       341.611197\n",
      "min         1.000000\n",
      "25%       288.000000\n",
      "50%       455.000000\n",
      "75%       612.000000\n",
      "max      3190.000000\n",
      "Name: parks_nearest, dtype: float64\n"
     ]
    },
    {
     "data": {
      "image/png": "[encoded data removed]",
      "text/plain": [
       "<Figure size 432x288 with 1 Axes>"
      ]
     },
     "metadata": {
      "needs_background": "light"
     },
     "output_type": "display_data"
    }
   ],
   "source": [
    "print(data['parks_nearest'].describe())\n",
    "data.hist('parks_nearest', range=(1, 3150), bins=30) \n",
    "plt.show()"
   ]
  },
  {
   "cell_type": "markdown",
   "metadata": {},
   "source": [
    "Близость к парку является положительным критерием при покупке квартиры. Однако, в нашем датасете данная графа требует дороботки и полного заполнения.\n",
    "По имеющимся данным можно отметить, что 75% квартир (из 8030 объявлений) находятся не далее, чем 612 метров от парка.\n",
    "Максимальное расстроение до парка более 3км"
   ]
  },
  {
   "cell_type": "code",
   "execution_count": 50,
   "metadata": {},
   "outputs": [
    {
     "name": "stdout",
     "output_type": "stream",
     "text": [
      "count    23563.000000\n",
      "mean         2.567245\n",
      "std          1.788283\n",
      "min          0.000000\n",
      "25%          1.000000\n",
      "50%          3.000000\n",
      "75%          4.000000\n",
      "max          6.000000\n",
      "Name: weekday, dtype: float64\n"
     ]
    },
    {
     "data": {
      "image/png": "[encoded data removed]",
      "text/plain": [
       "<Figure size 432x288 with 1 Axes>"
      ]
     },
     "metadata": {
      "needs_background": "light"
     },
     "output_type": "display_data"
    }
   ],
   "source": [
    "print(data['weekday'].describe())\n",
    "data.hist('weekday', range=(0,6), bins=7) \n",
    "c"
   ]
  },
  {
   "cell_type": "markdown",
   "metadata": {},
   "source": [
    "Из гистограммы видно, что объявления публиковались равномерно в течение рабочей недели. на выходных объявления публиковались почти в 2 раза меньше.\n",
    "Можно утверждать/предположить, что объявления публикуют не только частные лица/собственники, но и агенства недвижимости, у которых нормированный рабочий день (если можно так сказать)."
   ]
  },
  {
   "cell_type": "code",
   "execution_count": 51,
   "metadata": {},
   "outputs": [
    {
     "name": "stdout",
     "output_type": "stream",
     "text": [
      "count    23563.000000\n",
      "mean         6.401477\n",
      "std          3.493054\n",
      "min          1.000000\n",
      "25%          3.000000\n",
      "50%          6.000000\n",
      "75%         10.000000\n",
      "max         12.000000\n",
      "Name: month, dtype: float64\n"
     ]
    },
    {
     "data": {
      "image/png": "[encoded data removed]",
      "text/plain": [
       "<Figure size 432x288 with 1 Axes>"
      ]
     },
     "metadata": {
      "needs_background": "light"
     },
     "output_type": "display_data"
    }
   ],
   "source": [
    "print(data['month'].describe())\n",
    "data.hist('month', range=(0,12), bins=24) \n",
    "plt.show()"
   ]
  },
  {
   "cell_type": "markdown",
   "metadata": {},
   "source": [
    "С учетом того, что данные собраны за период с 2014 по 2019 год, можно сказать, что:\n",
    "    февраль, март, апрель - самые высокие месяцы по предложениям продажи квартир\n",
    "    январь, май - самые низкие месяцы."
   ]
  },
  {
   "cell_type": "markdown",
   "metadata": {},
   "source": [
    "Все исследуемые показатели имеют **нормальное распределение**."
   ]
  },
  {
   "cell_type": "code",
   "execution_count": 52,
   "metadata": {},
   "outputs": [
    {
     "name": "stdout",
     "output_type": "stream",
     "text": [
      "В среднем продажа квартиры занимает 181 дней\n",
      "Половина квартир в выборке была продана менее, чем за  95 дня\n",
      "count    20392.000000\n",
      "mean       180.749362\n",
      "std        219.741098\n",
      "min          1.000000\n",
      "25%         45.000000\n",
      "50%         95.000000\n",
      "75%        231.000000\n",
      "max       1580.000000\n",
      "Name: days_exposition, dtype: float64\n"
     ]
    },
    {
     "data": {
      "image/png": "[encoded data removed]",
      "text/plain": [
       "<Figure size 432x288 with 1 Axes>"
      ]
     },
     "metadata": {
      "needs_background": "light"
     },
     "output_type": "display_data"
    }
   ],
   "source": [
    "data.hist('days_exposition', bins=100) \n",
    "print('В среднем продажа квартиры занимает', round(data['days_exposition'].mean()), 'дней')\n",
    "print('Половина квартир в выборке была продана менее, чем за ',round(data['days_exposition'].median()), 'дня')\n",
    "print(data['days_exposition'].describe())"
   ]
  },
  {
   "cell_type": "markdown",
   "metadata": {},
   "source": [
    "Продажа квартиры в Санкт-Петербурге и соседних населённых пунктах занимает **180 дней**\n",
    "Половина квартир была продана за **95 дней**.\n",
    "\n",
    "Продажи можно считать быстрыми, если сделка \"купля-продажа\" была осуществена **до 45 дней** с момента размещения объявления, а продажи более **231 дня** — необычно долгими."
   ]
  },
  {
   "cell_type": "markdown",
   "metadata": {},
   "source": [
    "Изучим, какие факторы больше всего влияют на общую (полную) стоимость объекта"
   ]
  },
  {
   "cell_type": "code",
   "execution_count": 53,
   "metadata": {},
   "outputs": [
    {
     "data": {
      "image/png": "[encoded data removed]",
      "text/plain": [
       "<Figure size 432x288 with 1 Axes>"
      ]
     },
     "metadata": {
      "needs_background": "light"
     },
     "output_type": "display_data"
    }
   ],
   "source": [
    "data.plot(x='last_price_thousand', y='total_area', kind='scatter', alpha=0.3)\n",
    "plt.show()"
   ]
  },
  {
   "cell_type": "markdown",
   "metadata": {},
   "source": [
    "Видна прямая зависимость между общей площади и ценой на квартиру"
   ]
  },
  {
   "cell_type": "code",
   "execution_count": 54,
   "metadata": {},
   "outputs": [
    {
     "data": {
      "image/png": "[encoded data removed]",
      "text/plain": [
       "<Figure size 432x288 with 1 Axes>"
      ]
     },
     "metadata": {
      "needs_background": "light"
     },
     "output_type": "display_data"
    }
   ],
   "source": [
    "data.plot(x='last_price_thousand', y='living_area', kind='scatter', alpha=0.3) \n",
    "plt.show()"
   ]
  },
  {
   "cell_type": "markdown",
   "metadata": {},
   "source": [
    "Площадь кухни влияет на стоимость квартиры."
   ]
  },
  {
   "cell_type": "code",
   "execution_count": 55,
   "metadata": {
    "scrolled": true
   },
   "outputs": [
    {
     "data": {
      "image/png": "[encoded data removed]",
      "text/plain": [
       "<Figure size 432x288 with 1 Axes>"
      ]
     },
     "metadata": {
      "needs_background": "light"
     },
     "output_type": "display_data"
    }
   ],
   "source": [
    "data.plot(x='last_price_thousand', y='kitchen_area', kind='scatter', alpha=0.3) \n",
    "plt.show()"
   ]
  },
  {
   "cell_type": "code",
   "execution_count": 56,
   "metadata": {},
   "outputs": [
    {
     "data": {
      "image/png": "[encoded data removed]",
      "text/plain": [
       "<Figure size 432x288 with 1 Axes>"
      ]
     },
     "metadata": {
      "needs_background": "light"
     },
     "output_type": "display_data"
    }
   ],
   "source": [
    "data.plot(x='rooms', y='last_price_thousand', kind='scatter', alpha=0.3)\n",
    "plt.show()"
   ]
  },
  {
   "cell_type": "code",
   "execution_count": 57,
   "metadata": {
    "scrolled": true
   },
   "outputs": [
    {
     "data": {
      "image/png": "[encoded data removed]",
      "text/plain": [
       "<Figure size 432x288 with 1 Axes>"
      ]
     },
     "metadata": {
      "needs_background": "light"
     },
     "output_type": "display_data"
    }
   ],
   "source": [
    "data.plot(x='floor_type', y='last_price_thousand', kind='scatter', alpha=0.3) \n",
    "plt.show()"
   ]
  },
  {
   "cell_type": "code",
   "execution_count": 58,
   "metadata": {},
   "outputs": [
    {
     "data": {
      "image/png": "[encoded data removed]",
      "text/plain": [
       "<Figure size 432x288 with 1 Axes>"
      ]
     },
     "metadata": {
      "needs_background": "light"
     },
     "output_type": "display_data"
    }
   ],
   "source": [
    "data.plot(x='weekday', y='last_price_thousand', kind='scatter', alpha=0.3)\n",
    "plt.show()"
   ]
  },
  {
   "cell_type": "code",
   "execution_count": 59,
   "metadata": {},
   "outputs": [
    {
     "data": {
      "image/png": "[encoded data removed]",
      "text/plain": [
       "<Figure size 432x288 with 1 Axes>"
      ]
     },
     "metadata": {
      "needs_background": "light"
     },
     "output_type": "display_data"
    }
   ],
   "source": [
    "data.plot(x='month', y='last_price_thousand', kind='scatter', alpha=0.3) \n",
    "plt.show()"
   ]
  },
  {
   "cell_type": "code",
   "execution_count": 60,
   "metadata": {},
   "outputs": [
    {
     "data": {
      "image/png": "[encoded data removed]",
      "text/plain": [
       "<Figure size 432x288 with 1 Axes>"
      ]
     },
     "metadata": {
      "needs_background": "light"
     },
     "output_type": "display_data"
    }
   ],
   "source": [
    "data.plot(x='year', y='last_price_thousand', kind='scatter', alpha=0.3) \n",
    "plt.show()"
   ]
  },
  {
   "cell_type": "markdown",
   "metadata": {},
   "source": [
    "Построив графики, видно, что цена зависит в большей степени от общей площади квартиры.\n",
    "Чтобы отцифровать зависимость, предлагаю посмотреть на коэффициенты корреляции:"
   ]
  },
  {
   "cell_type": "code",
   "execution_count": 61,
   "metadata": {
    "scrolled": true
   },
   "outputs": [
    {
     "name": "stdout",
     "output_type": "stream",
     "text": [
      "Корреляция цены и общей площади 0.7025385859021818\n",
      "Корреляция цены и жилой площади 0.5923003004542302\n",
      "Корреляция цены и площади кухни 0.5068238044922528\n",
      "Корреляция цены и количества комнат 0.3941173077148042\n",
      "Корреляция цены и даты размещения -0.002962561394982542\n",
      "Корреляция цены и месяца размещения 0.000600681018216489\n",
      "Корреляция цены и года размещения -0.046857605525329284\n"
     ]
    }
   ],
   "source": [
    "print('Корреляция цены и общей площади', data['last_price_thousand'].corr(data['total_area']))\n",
    "print('Корреляция цены и жилой площади', data['last_price_thousand'].corr(data['living_area']))\n",
    "print('Корреляция цены и площади кухни', data['last_price_thousand'].corr(data['kitchen_area']))\n",
    "print('Корреляция цены и количества комнат', data['last_price_thousand'].corr(data['rooms']))\n",
    "print('Корреляция цены и даты размещения', data['last_price_thousand'].corr(data['weekday']))\n",
    "print('Корреляция цены и месяца размещения', data['last_price_thousand'].corr(data['month']))   \n",
    "print('Корреляция цены и года размещения', data['last_price_thousand'].corr(data['year']))"
   ]
  },
  {
   "cell_type": "markdown",
   "metadata": {},
   "source": [
    "Что и требовалось доказать: наблюдается высокая степень зависимости между полной стоимостью объекта и общей площади.\n",
    "Дата, месяц, год никак не влияют на стоимость квартиры.\n",
    "\n",
    "Посмотрим еще под другим ракурсом зависимость цены от количества комнат, типа этажа, даты, месяца и года размещения: построим сводные таблицы, в которых рассчитаем среднюю стоимость квадратного метра и сгруппируем по интересующим факторам"
   ]
  },
  {
   "cell_type": "code",
   "execution_count": 62,
   "metadata": {},
   "outputs": [
    {
     "data": {
      "image/png": "[encoded data removed]",
      "text/plain": [
       "<Figure size 432x288 with 1 Axes>"
      ]
     },
     "metadata": {
      "needs_background": "light"
     },
     "output_type": "display_data"
    }
   ],
   "source": [
    "rooms_pivot = data.pivot_table(index='rooms', values='sm_price', aggfunc='mean')\n",
    "rooms_pivot.columns = ['avg_sm_price']\n",
    "rooms_pivot.plot(y='avg_sm_price')\n",
    "plt.show()"
   ]
  },
  {
   "cell_type": "markdown",
   "metadata": {},
   "source": [
    " 12-комнатная квартира - самая дорогая в имеющимся датасете. Хочется посмотреть на нее, а именно причины, по которым стоимость квадратного метра в разы выше остальных."
   ]
  },
  {
   "cell_type": "code",
   "execution_count": 63,
   "metadata": {},
   "outputs": [
    {
     "name": "stdout",
     "output_type": "stream",
     "text": [
      "       total_images  last_price_thousand  total_area first_day_exposition  \\\n",
      "19540             8             420000.0       900.0           2017-12-06   \n",
      "\n",
      "       rooms  ceiling_height  floors_total  living_area  floor  is_apartment  \\\n",
      "19540     12             2.8            25        409.7     25         False   \n",
      "\n",
      "       ...  parks_nearest  ponds_around3000  ponds_nearest  days_exposition  \\\n",
      "19540  ...            NaN                 2          318.0            106.0   \n",
      "\n",
      "         sm_price  weekday  month  year  floor_type  cityCenters_distance  \n",
      "19540  466.666667        2     12  2017   последний                     7  \n",
      "\n",
      "[1 rows x 28 columns]\n"
     ]
    }
   ],
   "source": [
    "print(data.query('rooms == 12'))"
   ]
  },
  {
   "cell_type": "markdown",
   "metadata": {},
   "source": [
    "Центр города, 25 последний этаж, 900кв.м. - общая площадь, 409,7 - жилая, очень похоже, что данная квартира типа пентхаус (возможно, с бассейном и, уж точно, с подземной парковкой), нельзя не отметить, что это жилье можно отнести к эдитному."
   ]
  },
  {
   "cell_type": "code",
   "execution_count": 64,
   "metadata": {},
   "outputs": [
    {
     "data": {
      "image/png": "[encoded data removed]",
      "text/plain": [
       "<Figure size 432x288 with 1 Axes>"
      ]
     },
     "metadata": {
      "needs_background": "light"
     },
     "output_type": "display_data"
    }
   ],
   "source": [
    "floor_pivot = data.pivot_table(index='floor_type', values='sm_price', aggfunc='mean')\n",
    "floor_pivot.columns = ['avg_sm_price']\n",
    "floor_pivot.plot(y='avg_sm_price')\n",
    "plt.show()"
   ]
  },
  {
   "cell_type": "markdown",
   "metadata": {},
   "source": [
    "Ожидаемо, что квартиры на первом этаже - самые недорогие."
   ]
  },
  {
   "cell_type": "code",
   "execution_count": 65,
   "metadata": {},
   "outputs": [
    {
     "data": {
      "image/png": "[encoded data removed]",
      "text/plain": [
       "<Figure size 432x288 with 1 Axes>"
      ]
     },
     "metadata": {
      "needs_background": "light"
     },
     "output_type": "display_data"
    }
   ],
   "source": [
    "weekday_pivot = data.pivot_table(index='weekday', values='sm_price', aggfunc='mean')\n",
    "weekday_pivot.columns = ['sm_price']\n",
    "weekday_pivot.plot(y='sm_price')\n",
    "plt.show()"
   ]
  },
  {
   "cell_type": "markdown",
   "metadata": {},
   "source": [
    "По графику можно сказать, что средняя стоимость падает к концу недели, при пиковом значении в четверг.\n",
    "\n",
    "Но я бы не выдвигала какие-либо гипотезы по данной зависимости, так как считаю, что ее нет.\n",
    "Правильная оценка жилья (учет квардратного метра, расположения, наличия парковок, близость к метро, инфраструктура рядом) не позволит дню недели влиять на стоимость жилья."
   ]
  },
  {
   "cell_type": "code",
   "execution_count": 66,
   "metadata": {},
   "outputs": [
    {
     "data": {
      "image/png": "[encoded data removed]",
      "text/plain": [
       "<Figure size 432x288 with 1 Axes>"
      ]
     },
     "metadata": {
      "needs_background": "light"
     },
     "output_type": "display_data"
    }
   ],
   "source": [
    "month_pivot = data.pivot_table(index='month', values='sm_price', aggfunc='mean')\n",
    "month_pivot.columns = ['sm_price']\n",
    "month_pivot.plot(y='sm_price')\n",
    "plt.show()"
   ]
  },
  {
   "cell_type": "markdown",
   "metadata": {},
   "source": [
    "пиковый месяц по стоимости квадратного метра -это апрель, но, что, если посмотреть отдельно на Санкт-Петербург и на остальные."
   ]
  },
  {
   "cell_type": "code",
   "execution_count": 67,
   "metadata": {},
   "outputs": [
    {
     "data": {
      "text/plain": [
       "<AxesSubplot:xlabel='month'>"
      ]
     },
     "execution_count": 67,
     "metadata": {},
     "output_type": "execute_result"
    },
    {
     "data": {
      "image/png": "[encoded data removed]",
      "text/plain": [
       "<Figure size 432x288 with 1 Axes>"
      ]
     },
     "metadata": {
      "needs_background": "light"
     },
     "output_type": "display_data"
    },
    {
     "data": {
      "image/png": "[encoded data removed]",
      "text/plain": [
       "<Figure size 432x288 with 1 Axes>"
      ]
     },
     "metadata": {
      "needs_background": "light"
     },
     "output_type": "display_data"
    }
   ],
   "source": [
    "(data\n",
    "    .query('locality_name == \"санкт-петербург\"')\n",
    "    .pivot_table(index='month', values='sm_price', aggfunc='mean')\n",
    "    .plot(y='sm_price')\n",
    ") \n",
    "\n",
    "(data\n",
    "    .query('locality_name != \"санкт-петербург\"')\n",
    "    .pivot_table(index='month', values='sm_price', aggfunc='mean')\n",
    "    .plot(y='sm_price')\n",
    ") "
   ]
  },
  {
   "cell_type": "markdown",
   "metadata": {},
   "source": [
    "Апрель и декабрь - пики в Санкт-Петербурге по стоимости квартир. Возможно, в апреле (весной) хочется обновлений, улучшений жилищных условий, декабрь - время начинать \"новую жизнь\", время подарков.\n",
    "На самом деле, сложно рассуждать, так как не могу привести логические доводы. Возможно, просто стоит принять данную информацию и учесть при купле-продаже квартир."
   ]
  },
  {
   "cell_type": "code",
   "execution_count": 68,
   "metadata": {
    "scrolled": false
   },
   "outputs": [
    {
     "name": "stdout",
     "output_type": "stream",
     "text": [
      "        sm_price\n",
      "year            \n",
      "2014  124.302356\n",
      "2015  104.640330\n",
      "2016   98.291798\n",
      "2017   97.416325\n",
      "2018   97.764394\n",
      "2019  107.047268\n"
     ]
    },
    {
     "data": {
      "image/png": "[encoded data removed]",
      "text/plain": [
       "<Figure size 432x288 with 1 Axes>"
      ]
     },
     "metadata": {
      "needs_background": "light"
     },
     "output_type": "display_data"
    }
   ],
   "source": [
    "year_pivot = data.pivot_table(index='year', values='sm_price', aggfunc='mean')\n",
    "year_pivot.columns = ['sm_price']\n",
    "year_pivot.plot(y='sm_price')\n",
    "print(year_pivot)\n",
    "plt.show()"
   ]
  },
  {
   "cell_type": "markdown",
   "metadata": {},
   "source": [
    "Очень показательный график, я считаю.\n",
    "Средняя стоимость квадратного метра **упала со 124,3 до 97** за три года. Думаю, прежде всего это связано с обесцениванием российского рубля, а также с увеличением предложений в связи с внешнеполитической ситуацией.\n",
    "с 2018 года видим рост, но интересно будет посмотреть на динамику в 2019-2020 годах - время коронавируса и карантина, думаю, не прошли незаметно для рынка недвижимости."
   ]
  },
  {
   "cell_type": "code",
   "execution_count": 69,
   "metadata": {},
   "outputs": [
    {
     "name": "stdout",
     "output_type": "stream",
     "text": [
      "      last_price_thousand\n",
      "year                     \n",
      "2014         12046.600176\n",
      "2015          8595.668902\n",
      "2016          6829.116559\n",
      "2017          6489.831350\n",
      "2018          5954.319203\n",
      "2019          6779.323626\n"
     ]
    },
    {
     "data": {
      "image/png": "[encoded data removed]",
      "text/plain": [
       "<Figure size 432x288 with 1 Axes>"
      ]
     },
     "metadata": {
      "needs_background": "light"
     },
     "output_type": "display_data"
    },
    {
     "name": "stdout",
     "output_type": "stream",
     "text": [
      "      total_area\n",
      "year            \n",
      "2014   86.225956\n",
      "2015   71.584563\n",
      "2016   62.129938\n",
      "2017   60.655945\n",
      "2018   57.703331\n",
      "2019   59.475991\n"
     ]
    },
    {
     "data": {
      "image/png": "[encoded data removed]",
      "text/plain": [
       "<Figure size 432x288 with 1 Axes>"
      ]
     },
     "metadata": {
      "needs_background": "light"
     },
     "output_type": "display_data"
    }
   ],
   "source": [
    "year_pivot_n = data.pivot_table(index='year', values='last_price_thousand', aggfunc='mean')\n",
    "year_pivot_n.columns = ['last_price_thousand']\n",
    "year_pivot_n.plot(y='last_price_thousand')\n",
    "print(year_pivot_n)\n",
    "plt.show()\n",
    "\n",
    "area_pivot = data.pivot_table(index='year', values='total_area', aggfunc='mean')\n",
    "area_pivot.columns = ['total_area']\n",
    "area_pivot.plot(y='total_area')\n",
    "print(area_pivot)"
   ]
  },
  {
   "cell_type": "markdown",
   "metadata": {},
   "source": [
    "Посчитаем среднюю цену одного квадратного метра в 10 населённых пунктах с наибольшим числом объявлений"
   ]
  },
  {
   "cell_type": "code",
   "execution_count": 70,
   "metadata": {
    "scrolled": true
   },
   "outputs": [
    {
     "data": {
      "text/html": [
       "<div>\n",
       "<style scoped>\n",
       "    .dataframe tbody tr th:only-of-type {\n",
       "        vertical-align: middle;\n",
       "    }\n",
       "\n",
       "    .dataframe tbody tr th {\n",
       "        vertical-align: top;\n",
       "    }\n",
       "\n",
       "    .dataframe thead th {\n",
       "        text-align: right;\n",
       "    }\n",
       "</style>\n",
       "<table border=\"1\" class=\"dataframe\">\n",
       "  <thead>\n",
       "    <tr style=\"text-align: right;\">\n",
       "      <th></th>\n",
       "      <th>count</th>\n",
       "      <th>sm_price</th>\n",
       "    </tr>\n",
       "    <tr>\n",
       "      <th>locality_name</th>\n",
       "      <th></th>\n",
       "      <th></th>\n",
       "    </tr>\n",
       "  </thead>\n",
       "  <tbody>\n",
       "    <tr>\n",
       "      <th>санкт-петербург</th>\n",
       "      <td>15650</td>\n",
       "      <td>104.772401</td>\n",
       "    </tr>\n",
       "    <tr>\n",
       "      <th>мурино</th>\n",
       "      <td>586</td>\n",
       "      <td>86.250378</td>\n",
       "    </tr>\n",
       "    <tr>\n",
       "      <th>кудрово</th>\n",
       "      <td>470</td>\n",
       "      <td>95.555312</td>\n",
       "    </tr>\n",
       "    <tr>\n",
       "      <th>шушары</th>\n",
       "      <td>439</td>\n",
       "      <td>76.829268</td>\n",
       "    </tr>\n",
       "    <tr>\n",
       "      <th>всеволожск</th>\n",
       "      <td>398</td>\n",
       "      <td>65.789474</td>\n",
       "    </tr>\n",
       "    <tr>\n",
       "      <th>пушкин</th>\n",
       "      <td>369</td>\n",
       "      <td>100.000000</td>\n",
       "    </tr>\n",
       "    <tr>\n",
       "      <th>колпино</th>\n",
       "      <td>338</td>\n",
       "      <td>74.723748</td>\n",
       "    </tr>\n",
       "    <tr>\n",
       "      <th>парголово</th>\n",
       "      <td>327</td>\n",
       "      <td>91.642857</td>\n",
       "    </tr>\n",
       "    <tr>\n",
       "      <th>гатчина</th>\n",
       "      <td>307</td>\n",
       "      <td>67.796610</td>\n",
       "    </tr>\n",
       "    <tr>\n",
       "      <th>выборг</th>\n",
       "      <td>237</td>\n",
       "      <td>58.158320</td>\n",
       "    </tr>\n",
       "  </tbody>\n",
       "</table>\n",
       "</div>"
      ],
      "text/plain": [
       "                 count    sm_price\n",
       "locality_name                     \n",
       "санкт-петербург  15650  104.772401\n",
       "мурино             586   86.250378\n",
       "кудрово            470   95.555312\n",
       "шушары             439   76.829268\n",
       "всеволожск         398   65.789474\n",
       "пушкин             369  100.000000\n",
       "колпино            338   74.723748\n",
       "парголово          327   91.642857\n",
       "гатчина            307   67.796610\n",
       "выборг             237   58.158320"
      ]
     },
     "execution_count": 70,
     "metadata": {},
     "output_type": "execute_result"
    }
   ],
   "source": [
    "city = data.pivot_table(index='locality_name', values='sm_price', aggfunc=['count', 'median'])\n",
    "city.columns=['count', 'sm_price']\n",
    "city.sort_values(by='count', ascending=False).head(10)"
   ]
  },
  {
   "cell_type": "markdown",
   "metadata": {},
   "source": [
    "Был составле **ТОП10** населённых пунктов с наибольшим числом объявлений. Самым большим по количеству и по средней цене квадратного метра стал, ожидаемо, **Санкт-Перербург.**\n",
    "**Выборг**  занял последнее место в ТОП10 как по количеству объявлений, так и по цене."
   ]
  },
  {
   "cell_type": "markdown",
   "metadata": {},
   "source": [
    "Выделим квартиры в Санкт-Петербурге и вычислим среднюю цену каждого километра."
   ]
  },
  {
   "cell_type": "code",
   "execution_count": 71,
   "metadata": {},
   "outputs": [
    {
     "name": "stdout",
     "output_type": "stream",
     "text": [
      "                sm_price\n",
      "km_to_centre            \n",
      "0             187.324130\n",
      "1             166.603756\n",
      "2             146.662860\n",
      "3             126.127369\n",
      "4             137.413428\n",
      "5             146.978313\n",
      "6             152.277894\n",
      "7             141.399731\n",
      "8             120.539122\n",
      "9             110.027821\n",
      "10            111.490163\n",
      "11            106.618359\n",
      "12            110.130337\n",
      "13            107.140842\n",
      "14            104.979537\n",
      "15            101.859811\n",
      "16            100.083326\n",
      "17             94.666410\n",
      "18             94.814964\n",
      "19             95.434377\n",
      "20            107.046166\n",
      "21             91.492688\n",
      "22             88.714697\n",
      "23             92.720642\n",
      "24             82.440344\n",
      "25             90.436946\n",
      "26             75.171911\n",
      "27            132.115709\n",
      "28             81.840639\n",
      "29             62.482404\n"
     ]
    }
   ],
   "source": [
    "spb = data.query('(locality_name == \"санкт-петербург\") & (cityCenters_nearest >0)').copy()\n",
    "spb['km_to_centre'] = spb['cityCenters_distance']\n",
    "spb_pivot = spb.pivot_table(index='km_to_centre', values='sm_price', aggfunc='mean')\n",
    "print(spb_pivot)"
   ]
  },
  {
   "cell_type": "markdown",
   "metadata": {},
   "source": [
    "По выведенной таблице видно, что средняя стоимость квадрата в Санкт-Петербурге падает отдаляясь от центра. посмотрим на графике:"
   ]
  },
  {
   "cell_type": "code",
   "execution_count": 72,
   "metadata": {},
   "outputs": [
    {
     "name": "stdout",
     "output_type": "stream",
     "text": [
      "AxesSubplot(0.125,0.125;0.775x0.755)\n"
     ]
    },
    {
     "data": {
      "image/png": "[encoded data removed]",
      "text/plain": [
       "<Figure size 432x288 with 1 Axes>"
      ]
     },
     "metadata": {
      "needs_background": "light"
     },
     "output_type": "display_data"
    }
   ],
   "source": [
    "print(spb_pivot.plot(grid = True, title = 'Динамика изменения средней стоимости 1 кв.м в Санкт-Петербурге'));\n",
    "plt.show()"
   ]
  },
  {
   "cell_type": "markdown",
   "metadata": {},
   "source": [
    "Можно сказать, что удаленность от центра более 5 км влиет в меньшей степени, более 10 км - имеет незначительное влияение.\n",
    "Обозначим центр города - радиус в 5 км."
   ]
  },
  {
   "cell_type": "markdown",
   "metadata": {},
   "source": [
    "### Общий вывод"
   ]
  },
  {
   "cell_type": "markdown",
   "metadata": {},
   "source": [
    "    Для работы были получены данные сервиса Яндекс Недвижимость — архив объявлений за несколько лет о продаже квартир в Санкт-Петербурге и соседних населённых пунктах.\n",
    "    \n",
    "    На первом этапе была выполнена **предобработка данных**: заполнили пропуски данных, а также привели типа данных в соответсвующий тип. Для повышения качества содержания датасета были предложены рекомендации: автоматическое заполнение, присвоение ячейкам признака обязательного заполнения.\n",
    "    \n",
    "    На втором этапе выполнили расчеты и дополнили датасет:\n",
    "        цена одного квадратного метра;\n",
    "        день недели публикации объявления;\n",
    "        месяц публикации объявления;\n",
    "        год публикации объявления;\n",
    "        тип этажа квартиры;\n",
    "        расстояние до центра города в километрах.\n",
    "        \n",
    "    Третьим этапом был проведен исследовательский анализ: изучены следующие параметры объектов и построены гистограммы.\n",
    "        общая площадь;\n",
    "        жилая площадь;\n",
    "        площадь кухни;\n",
    "        цена объекта;\n",
    "        количество комнат;\n",
    "        высота потолков;\n",
    "        этаж квартиры;\n",
    "        тип этажа квартиры;\n",
    "        общее количество этажей в доме;\n",
    "        расстояние до центра города в метрах;\n",
    "        расстояние до ближайшего аэропорта;\n",
    "        расстояние до ближайшего парка;\n",
    "        день и месяц публикации объявления.\n",
    "    Наиболее значимые факторы для стоимости квартиры: это общая площадь и тип этажа. Но для более глубоко анализа считаю, что датасет можно дополнить данными: наличие парковки, инфраструктура (школа/сад/поликлиника/магазины), удаленность от метро, год постройки дома.\n",
    "\n",
    "    Далее был свормирован ТОП10 населённых пунктовс наибольшим числом объявлений: Санкт-Петербург и Выборг заняли первое и последнее место соответственно.\n",
    "    Также были выделены квартиры в Санкт-Петербурге и вычислена средняя цена каждого километра: можем сказать, что квартира в центре Санкт-Петербурга -это квартира, которая находится в радиусе 5 км, каждый дополнительный километр значительно влияет на стоимость квадратного метра."
   ]
  }
 ],
 "metadata": {
  "ExecuteTimeLog": [
   {
    "duration": 545,
    "start_time": "2022-11-01T14:08:06.571Z"
   },
   {
    "duration": 716,
    "start_time": "2022-11-03T08:18:13.112Z"
   },
   {
    "duration": 93,
    "start_time": "2022-11-03T08:21:06.312Z"
   },
   {
    "duration": 96,
    "start_time": "2022-11-03T08:21:20.566Z"
   },
   {
    "duration": 93,
    "start_time": "2022-11-03T08:24:11.948Z"
   },
   {
    "duration": 91,
    "start_time": "2022-11-03T08:25:09.717Z"
   },
   {
    "duration": 110,
    "start_time": "2022-11-03T08:25:28.886Z"
   },
   {
    "duration": 100,
    "start_time": "2022-11-03T08:25:37.091Z"
   },
   {
    "duration": 165,
    "start_time": "2022-11-03T08:27:04.771Z"
   },
   {
    "duration": 180,
    "start_time": "2022-11-03T08:33:35.302Z"
   },
   {
    "duration": 761,
    "start_time": "2022-11-04T08:11:58.253Z"
   },
   {
    "duration": 8,
    "start_time": "2022-11-04T08:12:05.322Z"
   },
   {
    "duration": 25,
    "start_time": "2022-11-04T08:23:46.640Z"
   },
   {
    "duration": 1818,
    "start_time": "2022-11-04T08:25:35.634Z"
   },
   {
    "duration": 44,
    "start_time": "2022-11-04T08:29:09.942Z"
   },
   {
    "duration": 1414,
    "start_time": "2022-11-04T08:29:45.066Z"
   },
   {
    "duration": 10,
    "start_time": "2022-11-04T08:31:03.183Z"
   },
   {
    "duration": 399,
    "start_time": "2022-11-04T08:45:59.032Z"
   },
   {
    "duration": 296,
    "start_time": "2022-11-04T08:46:26.173Z"
   },
   {
    "duration": 284,
    "start_time": "2022-11-04T08:46:33.793Z"
   },
   {
    "duration": 425,
    "start_time": "2022-11-04T08:46:44.385Z"
   },
   {
    "duration": 288,
    "start_time": "2022-11-04T08:50:38.451Z"
   },
   {
    "duration": 287,
    "start_time": "2022-11-04T08:50:48.529Z"
   },
   {
    "duration": 9,
    "start_time": "2022-11-04T09:04:32.872Z"
   },
   {
    "duration": 1387,
    "start_time": "2022-11-04T09:04:44.528Z"
   },
   {
    "duration": 13,
    "start_time": "2022-11-04T09:04:49.707Z"
   },
   {
    "duration": 422,
    "start_time": "2022-11-04T09:05:01.211Z"
   },
   {
    "duration": 1409,
    "start_time": "2022-11-04T09:12:06.589Z"
   },
   {
    "duration": 13,
    "start_time": "2022-11-04T09:12:11.084Z"
   },
   {
    "duration": 10,
    "start_time": "2022-11-04T09:12:14.737Z"
   },
   {
    "duration": 9,
    "start_time": "2022-11-04T09:21:26.906Z"
   },
   {
    "duration": 6,
    "start_time": "2022-11-04T09:41:14.133Z"
   },
   {
    "duration": 12,
    "start_time": "2022-11-04T09:42:34.429Z"
   },
   {
    "duration": 12,
    "start_time": "2022-11-04T09:42:43.572Z"
   },
   {
    "duration": 4,
    "start_time": "2022-11-04T09:44:19.672Z"
   },
   {
    "duration": 5,
    "start_time": "2022-11-04T09:48:00.590Z"
   },
   {
    "duration": 8,
    "start_time": "2022-11-04T09:48:06.330Z"
   },
   {
    "duration": 96,
    "start_time": "2022-11-04T10:35:26.718Z"
   },
   {
    "duration": 18,
    "start_time": "2022-11-04T10:35:42.902Z"
   },
   {
    "duration": 19,
    "start_time": "2022-11-04T10:37:36.329Z"
   },
   {
    "duration": 6,
    "start_time": "2022-11-04T10:41:55.477Z"
   },
   {
    "duration": 9,
    "start_time": "2022-11-04T10:42:01.551Z"
   },
   {
    "duration": 6,
    "start_time": "2022-11-04T10:48:34.266Z"
   },
   {
    "duration": 16,
    "start_time": "2022-11-04T10:48:54.215Z"
   },
   {
    "duration": 5,
    "start_time": "2022-11-04T10:49:10.726Z"
   },
   {
    "duration": 7,
    "start_time": "2022-11-04T11:20:27.236Z"
   },
   {
    "duration": 12,
    "start_time": "2022-11-04T11:20:31.198Z"
   },
   {
    "duration": 7,
    "start_time": "2022-11-04T11:21:17.735Z"
   },
   {
    "duration": 8,
    "start_time": "2022-11-04T11:26:06.978Z"
   },
   {
    "duration": 7,
    "start_time": "2022-11-04T11:26:14.025Z"
   },
   {
    "duration": 4,
    "start_time": "2022-11-04T11:26:20.502Z"
   },
   {
    "duration": 11,
    "start_time": "2022-11-04T11:26:48.974Z"
   },
   {
    "duration": 20,
    "start_time": "2022-11-04T11:28:37.841Z"
   },
   {
    "duration": 1395,
    "start_time": "2022-11-04T12:08:54.556Z"
   },
   {
    "duration": 9,
    "start_time": "2022-11-04T12:11:07.069Z"
   },
   {
    "duration": 14,
    "start_time": "2022-11-04T12:11:10.880Z"
   },
   {
    "duration": 17,
    "start_time": "2022-11-04T12:11:13.206Z"
   },
   {
    "duration": 5,
    "start_time": "2022-11-04T12:11:15.629Z"
   },
   {
    "duration": 19,
    "start_time": "2022-11-04T12:11:19.153Z"
   },
   {
    "duration": 8,
    "start_time": "2022-11-04T12:11:22.561Z"
   },
   {
    "duration": 8,
    "start_time": "2022-11-04T12:11:25.478Z"
   },
   {
    "duration": 15,
    "start_time": "2022-11-04T12:11:30.306Z"
   },
   {
    "duration": 24,
    "start_time": "2022-11-04T12:19:48.107Z"
   },
   {
    "duration": 2725,
    "start_time": "2022-11-07T07:28:59.688Z"
   },
   {
    "duration": 19,
    "start_time": "2022-11-07T07:29:02.415Z"
   },
   {
    "duration": 11,
    "start_time": "2022-11-07T07:29:02.436Z"
   },
   {
    "duration": 7,
    "start_time": "2022-11-07T07:29:02.449Z"
   },
   {
    "duration": 10,
    "start_time": "2022-11-07T07:29:02.457Z"
   },
   {
    "duration": 20,
    "start_time": "2022-11-07T07:29:02.468Z"
   },
   {
    "duration": 7,
    "start_time": "2022-11-07T07:29:02.489Z"
   },
   {
    "duration": 38,
    "start_time": "2022-11-07T07:29:02.498Z"
   },
   {
    "duration": 16,
    "start_time": "2022-11-07T07:29:02.538Z"
   },
   {
    "duration": 9,
    "start_time": "2022-11-07T07:29:02.556Z"
   },
   {
    "duration": 13,
    "start_time": "2022-11-07T07:29:16.868Z"
   },
   {
    "duration": 13,
    "start_time": "2022-11-07T07:38:30.092Z"
   },
   {
    "duration": 55,
    "start_time": "2022-11-07T07:38:57.865Z"
   },
   {
    "duration": 14,
    "start_time": "2022-11-07T07:39:13.376Z"
   },
   {
    "duration": 14,
    "start_time": "2022-11-07T07:40:20.826Z"
   },
   {
    "duration": 15,
    "start_time": "2022-11-07T07:42:14.542Z"
   },
   {
    "duration": 84,
    "start_time": "2022-11-07T07:43:30.468Z"
   },
   {
    "duration": 4,
    "start_time": "2022-11-07T07:44:21.731Z"
   },
   {
    "duration": 14,
    "start_time": "2022-11-07T07:46:41.333Z"
   },
   {
    "duration": 14,
    "start_time": "2022-11-07T07:46:52.048Z"
   },
   {
    "duration": 15,
    "start_time": "2022-11-07T08:03:45.017Z"
   },
   {
    "duration": 22,
    "start_time": "2022-11-07T08:07:11.619Z"
   },
   {
    "duration": 16,
    "start_time": "2022-11-07T08:07:23.441Z"
   },
   {
    "duration": 26,
    "start_time": "2022-11-07T08:08:18.430Z"
   },
   {
    "duration": 26,
    "start_time": "2022-11-07T08:08:46.611Z"
   },
   {
    "duration": 23,
    "start_time": "2022-11-07T08:09:01.322Z"
   },
   {
    "duration": 23,
    "start_time": "2022-11-07T08:09:40.978Z"
   },
   {
    "duration": 2250,
    "start_time": "2022-11-07T08:37:46.186Z"
   },
   {
    "duration": 14,
    "start_time": "2022-11-07T08:37:48.438Z"
   },
   {
    "duration": 14,
    "start_time": "2022-11-07T08:37:48.455Z"
   },
   {
    "duration": 9,
    "start_time": "2022-11-07T08:37:48.471Z"
   },
   {
    "duration": 11,
    "start_time": "2022-11-07T08:37:48.482Z"
   },
   {
    "duration": 51,
    "start_time": "2022-11-07T08:37:48.495Z"
   },
   {
    "duration": 7,
    "start_time": "2022-11-07T08:37:48.549Z"
   },
   {
    "duration": 14,
    "start_time": "2022-11-07T08:37:48.558Z"
   },
   {
    "duration": 26,
    "start_time": "2022-11-07T08:37:48.574Z"
   },
   {
    "duration": 85,
    "start_time": "2022-11-07T08:37:48.603Z"
   },
   {
    "duration": 9,
    "start_time": "2022-11-07T08:37:48.690Z"
   },
   {
    "duration": 19,
    "start_time": "2022-11-07T08:46:46.333Z"
   },
   {
    "duration": 18,
    "start_time": "2022-11-07T08:53:50.808Z"
   },
   {
    "duration": 2209,
    "start_time": "2022-11-07T08:54:32.893Z"
   },
   {
    "duration": 13,
    "start_time": "2022-11-07T08:54:35.105Z"
   },
   {
    "duration": 30,
    "start_time": "2022-11-07T08:54:35.119Z"
   },
   {
    "duration": 11,
    "start_time": "2022-11-07T08:54:35.152Z"
   },
   {
    "duration": 11,
    "start_time": "2022-11-07T08:54:35.164Z"
   },
   {
    "duration": 31,
    "start_time": "2022-11-07T08:54:35.177Z"
   },
   {
    "duration": 7,
    "start_time": "2022-11-07T08:54:35.210Z"
   },
   {
    "duration": 14,
    "start_time": "2022-11-07T08:54:35.219Z"
   },
   {
    "duration": 21,
    "start_time": "2022-11-07T08:54:35.241Z"
   },
   {
    "duration": 50,
    "start_time": "2022-11-07T08:54:35.265Z"
   },
   {
    "duration": 26,
    "start_time": "2022-11-07T08:54:35.317Z"
   },
   {
    "duration": 21,
    "start_time": "2022-11-07T08:54:35.348Z"
   },
   {
    "duration": 2321,
    "start_time": "2022-11-07T09:10:36.078Z"
   },
   {
    "duration": 10,
    "start_time": "2022-11-07T09:10:38.401Z"
   },
   {
    "duration": 27,
    "start_time": "2022-11-07T09:10:38.412Z"
   },
   {
    "duration": 8,
    "start_time": "2022-11-07T09:10:38.445Z"
   },
   {
    "duration": 9,
    "start_time": "2022-11-07T09:10:38.455Z"
   },
   {
    "duration": 19,
    "start_time": "2022-11-07T09:10:38.465Z"
   },
   {
    "duration": 5,
    "start_time": "2022-11-07T09:10:38.486Z"
   },
   {
    "duration": 27,
    "start_time": "2022-11-07T09:10:38.493Z"
   },
   {
    "duration": 43,
    "start_time": "2022-11-07T09:10:38.522Z"
   },
   {
    "duration": 51,
    "start_time": "2022-11-07T09:10:38.568Z"
   },
   {
    "duration": 14,
    "start_time": "2022-11-07T09:10:38.621Z"
   },
   {
    "duration": 37,
    "start_time": "2022-11-07T09:10:38.636Z"
   },
   {
    "duration": 3,
    "start_time": "2022-11-07T09:10:38.674Z"
   },
   {
    "duration": 7,
    "start_time": "2022-11-07T09:11:34.842Z"
   },
   {
    "duration": 13,
    "start_time": "2022-11-07T09:13:20.049Z"
   },
   {
    "duration": 12,
    "start_time": "2022-11-07T09:13:48.414Z"
   },
   {
    "duration": 15,
    "start_time": "2022-11-07T09:23:37.995Z"
   },
   {
    "duration": 1007,
    "start_time": "2022-11-07T09:24:07.559Z"
   },
   {
    "duration": 11,
    "start_time": "2022-11-07T09:24:48.749Z"
   },
   {
    "duration": 30,
    "start_time": "2022-11-07T09:25:00.370Z"
   },
   {
    "duration": 2270,
    "start_time": "2022-11-07T09:25:16.651Z"
   },
   {
    "duration": 15,
    "start_time": "2022-11-07T09:25:18.922Z"
   },
   {
    "duration": 20,
    "start_time": "2022-11-07T09:25:18.942Z"
   },
   {
    "duration": 6,
    "start_time": "2022-11-07T09:25:18.963Z"
   },
   {
    "duration": 9,
    "start_time": "2022-11-07T09:25:18.970Z"
   },
   {
    "duration": 22,
    "start_time": "2022-11-07T09:25:18.980Z"
   },
   {
    "duration": 6,
    "start_time": "2022-11-07T09:25:19.004Z"
   },
   {
    "duration": 12,
    "start_time": "2022-11-07T09:25:19.034Z"
   },
   {
    "duration": 21,
    "start_time": "2022-11-07T09:25:19.048Z"
   },
   {
    "duration": 73,
    "start_time": "2022-11-07T09:25:19.071Z"
   },
   {
    "duration": 9,
    "start_time": "2022-11-07T09:25:19.146Z"
   },
   {
    "duration": 22,
    "start_time": "2022-11-07T09:25:19.156Z"
   },
   {
    "duration": 4,
    "start_time": "2022-11-07T09:25:19.179Z"
   },
   {
    "duration": 18,
    "start_time": "2022-11-07T09:25:19.184Z"
   },
   {
    "duration": 51,
    "start_time": "2022-11-07T09:25:19.203Z"
   },
   {
    "duration": 330,
    "start_time": "2022-11-07T09:27:56.737Z"
   },
   {
    "duration": 357,
    "start_time": "2022-11-07T09:28:09.237Z"
   },
   {
    "duration": 2,
    "start_time": "2022-11-07T09:29:34.670Z"
   },
   {
    "duration": 401,
    "start_time": "2022-11-07T09:29:39.792Z"
   },
   {
    "duration": 53,
    "start_time": "2022-11-07T09:33:06.815Z"
   },
   {
    "duration": 87,
    "start_time": "2022-11-07T09:33:25.134Z"
   },
   {
    "duration": 9,
    "start_time": "2022-11-07T09:34:52.532Z"
   },
   {
    "duration": 6,
    "start_time": "2022-11-07T09:44:30.829Z"
   },
   {
    "duration": 18,
    "start_time": "2022-11-07T09:45:24.728Z"
   },
   {
    "duration": 1416,
    "start_time": "2022-11-07T11:45:56.519Z"
   },
   {
    "duration": 2482,
    "start_time": "2022-11-07T11:46:05.725Z"
   },
   {
    "duration": 10,
    "start_time": "2022-11-07T11:46:08.209Z"
   },
   {
    "duration": 19,
    "start_time": "2022-11-07T11:46:08.221Z"
   },
   {
    "duration": 6,
    "start_time": "2022-11-07T11:46:08.243Z"
   },
   {
    "duration": 8,
    "start_time": "2022-11-07T11:46:08.251Z"
   },
   {
    "duration": 22,
    "start_time": "2022-11-07T11:46:08.261Z"
   },
   {
    "duration": 6,
    "start_time": "2022-11-07T11:46:08.285Z"
   },
   {
    "duration": 12,
    "start_time": "2022-11-07T11:46:08.292Z"
   },
   {
    "duration": 21,
    "start_time": "2022-11-07T11:46:08.334Z"
   },
   {
    "duration": 51,
    "start_time": "2022-11-07T11:46:08.357Z"
   },
   {
    "duration": 26,
    "start_time": "2022-11-07T11:46:08.410Z"
   },
   {
    "duration": 19,
    "start_time": "2022-11-07T11:46:08.437Z"
   },
   {
    "duration": 4,
    "start_time": "2022-11-07T11:46:08.457Z"
   },
   {
    "duration": 18,
    "start_time": "2022-11-07T11:46:08.463Z"
   },
   {
    "duration": 395,
    "start_time": "2022-11-07T11:46:08.483Z"
   },
   {
    "duration": 6,
    "start_time": "2022-11-07T11:46:08.880Z"
   },
   {
    "duration": 868,
    "start_time": "2022-11-07T11:46:08.887Z"
   },
   {
    "duration": 315,
    "start_time": "2022-11-07T11:48:22.445Z"
   },
   {
    "duration": 271,
    "start_time": "2022-11-07T11:48:34.928Z"
   },
   {
    "duration": 3284,
    "start_time": "2022-11-09T11:27:27.124Z"
   },
   {
    "duration": 13,
    "start_time": "2022-11-09T11:27:30.411Z"
   },
   {
    "duration": 26,
    "start_time": "2022-11-09T11:27:30.427Z"
   },
   {
    "duration": 29,
    "start_time": "2022-11-09T11:27:30.456Z"
   },
   {
    "duration": 90,
    "start_time": "2022-11-09T11:27:30.486Z"
   },
   {
    "duration": 64,
    "start_time": "2022-11-09T11:27:30.579Z"
   },
   {
    "duration": 20,
    "start_time": "2022-11-09T11:27:30.645Z"
   },
   {
    "duration": 54,
    "start_time": "2022-11-09T11:27:30.666Z"
   },
   {
    "duration": 68,
    "start_time": "2022-11-09T11:27:30.722Z"
   },
   {
    "duration": 86,
    "start_time": "2022-11-09T11:27:30.793Z"
   },
   {
    "duration": 10,
    "start_time": "2022-11-09T11:27:30.881Z"
   },
   {
    "duration": 33,
    "start_time": "2022-11-09T11:27:30.894Z"
   },
   {
    "duration": 19,
    "start_time": "2022-11-09T11:27:30.930Z"
   },
   {
    "duration": 51,
    "start_time": "2022-11-09T11:27:30.951Z"
   },
   {
    "duration": 391,
    "start_time": "2022-11-09T11:27:31.004Z"
   },
   {
    "duration": 6,
    "start_time": "2022-11-09T11:27:31.398Z"
   },
   {
    "duration": 2646,
    "start_time": "2022-11-09T11:27:31.406Z"
   },
   {
    "duration": 6,
    "start_time": "2022-11-09T11:31:21.902Z"
   },
   {
    "duration": 11,
    "start_time": "2022-11-09T11:31:40.728Z"
   },
   {
    "duration": 11,
    "start_time": "2022-11-09T11:32:03.466Z"
   },
   {
    "duration": 47,
    "start_time": "2022-11-09T11:37:06.684Z"
   },
   {
    "duration": 7,
    "start_time": "2022-11-09T11:37:13.542Z"
   },
   {
    "duration": 5,
    "start_time": "2022-11-09T11:43:16.693Z"
   },
   {
    "duration": 9,
    "start_time": "2022-11-09T11:44:20.595Z"
   },
   {
    "duration": 7,
    "start_time": "2022-11-09T11:44:47.041Z"
   },
   {
    "duration": 6,
    "start_time": "2022-11-09T11:48:19.482Z"
   },
   {
    "duration": 5,
    "start_time": "2022-11-09T11:50:43.649Z"
   },
   {
    "duration": 132,
    "start_time": "2022-11-09T11:51:33.489Z"
   },
   {
    "duration": 9,
    "start_time": "2022-11-09T11:51:41.429Z"
   },
   {
    "duration": 19,
    "start_time": "2022-11-09T11:53:44.905Z"
   },
   {
    "duration": 39,
    "start_time": "2022-11-09T11:53:59.341Z"
   },
   {
    "duration": 28,
    "start_time": "2022-11-09T11:54:09.868Z"
   },
   {
    "duration": 30,
    "start_time": "2022-11-09T11:58:53.837Z"
   },
   {
    "duration": 13,
    "start_time": "2022-11-09T12:00:12.222Z"
   },
   {
    "duration": 5,
    "start_time": "2022-11-09T12:01:33.079Z"
   },
   {
    "duration": 2285,
    "start_time": "2022-11-09T12:01:53.732Z"
   },
   {
    "duration": 11,
    "start_time": "2022-11-09T12:01:56.020Z"
   },
   {
    "duration": 14,
    "start_time": "2022-11-09T12:01:56.033Z"
   },
   {
    "duration": 25,
    "start_time": "2022-11-09T12:01:56.049Z"
   },
   {
    "duration": 11,
    "start_time": "2022-11-09T12:01:56.077Z"
   },
   {
    "duration": 33,
    "start_time": "2022-11-09T12:01:56.091Z"
   },
   {
    "duration": 7,
    "start_time": "2022-11-09T12:01:56.126Z"
   },
   {
    "duration": 16,
    "start_time": "2022-11-09T12:01:56.135Z"
   },
   {
    "duration": 49,
    "start_time": "2022-11-09T12:01:56.153Z"
   },
   {
    "duration": 84,
    "start_time": "2022-11-09T12:01:56.204Z"
   },
   {
    "duration": 11,
    "start_time": "2022-11-09T12:01:56.290Z"
   },
   {
    "duration": 32,
    "start_time": "2022-11-09T12:01:56.303Z"
   },
   {
    "duration": 20,
    "start_time": "2022-11-09T12:01:56.336Z"
   },
   {
    "duration": 15,
    "start_time": "2022-11-09T12:01:56.360Z"
   },
   {
    "duration": 24,
    "start_time": "2022-11-09T12:01:56.377Z"
   },
   {
    "duration": 353,
    "start_time": "2022-11-09T12:01:56.403Z"
   },
   {
    "duration": 10,
    "start_time": "2022-11-09T12:01:56.758Z"
   },
   {
    "duration": 2427,
    "start_time": "2022-11-09T12:01:56.769Z"
   },
   {
    "duration": 141,
    "start_time": "2022-11-09T12:03:15.734Z"
   },
   {
    "duration": 15,
    "start_time": "2022-11-09T12:03:47.497Z"
   },
   {
    "duration": 5,
    "start_time": "2022-11-09T12:04:02.376Z"
   },
   {
    "duration": 10,
    "start_time": "2022-11-09T12:04:18.232Z"
   },
   {
    "duration": 9,
    "start_time": "2022-11-09T12:04:51.046Z"
   },
   {
    "duration": 15,
    "start_time": "2022-11-09T12:07:10.995Z"
   },
   {
    "duration": 38,
    "start_time": "2022-11-09T12:10:56.841Z"
   },
   {
    "duration": 52,
    "start_time": "2022-11-11T11:25:03.313Z"
   },
   {
    "duration": 2536,
    "start_time": "2022-11-11T11:25:08.975Z"
   },
   {
    "duration": 24,
    "start_time": "2022-11-11T11:25:11.514Z"
   },
   {
    "duration": 7,
    "start_time": "2022-11-11T11:25:11.540Z"
   },
   {
    "duration": 23,
    "start_time": "2022-11-11T11:25:11.549Z"
   },
   {
    "duration": 21,
    "start_time": "2022-11-11T11:25:11.574Z"
   },
   {
    "duration": 16,
    "start_time": "2022-11-11T11:25:11.597Z"
   },
   {
    "duration": 40,
    "start_time": "2022-11-11T11:25:11.615Z"
   },
   {
    "duration": 9,
    "start_time": "2022-11-11T11:25:11.657Z"
   },
   {
    "duration": 19,
    "start_time": "2022-11-11T11:25:11.668Z"
   },
   {
    "duration": 35,
    "start_time": "2022-11-11T11:25:11.689Z"
   },
   {
    "duration": 62,
    "start_time": "2022-11-11T11:25:11.726Z"
   },
   {
    "duration": 9,
    "start_time": "2022-11-11T11:25:11.790Z"
   },
   {
    "duration": 36,
    "start_time": "2022-11-11T11:25:11.801Z"
   },
   {
    "duration": 44,
    "start_time": "2022-11-11T11:25:11.839Z"
   },
   {
    "duration": 5,
    "start_time": "2022-11-11T11:25:11.885Z"
   },
   {
    "duration": 18,
    "start_time": "2022-11-11T11:25:11.892Z"
   },
   {
    "duration": 368,
    "start_time": "2022-11-11T11:25:11.912Z"
   },
   {
    "duration": 7,
    "start_time": "2022-11-11T11:25:12.281Z"
   },
   {
    "duration": 2552,
    "start_time": "2022-11-11T11:25:12.290Z"
   },
   {
    "duration": 8,
    "start_time": "2022-11-11T11:25:46.891Z"
   },
   {
    "duration": 2313,
    "start_time": "2022-11-11T11:58:54.658Z"
   },
   {
    "duration": 11,
    "start_time": "2022-11-11T11:58:56.973Z"
   },
   {
    "duration": 4,
    "start_time": "2022-11-11T11:58:56.986Z"
   },
   {
    "duration": 16,
    "start_time": "2022-11-11T11:58:56.992Z"
   },
   {
    "duration": 31,
    "start_time": "2022-11-11T11:58:57.010Z"
   },
   {
    "duration": 14,
    "start_time": "2022-11-11T11:58:57.044Z"
   },
   {
    "duration": 33,
    "start_time": "2022-11-11T11:58:57.060Z"
   },
   {
    "duration": 6,
    "start_time": "2022-11-11T11:58:57.095Z"
   },
   {
    "duration": 11,
    "start_time": "2022-11-11T11:58:57.103Z"
   },
   {
    "duration": 33,
    "start_time": "2022-11-11T11:58:57.117Z"
   },
   {
    "duration": 54,
    "start_time": "2022-11-11T11:58:57.151Z"
   },
   {
    "duration": 9,
    "start_time": "2022-11-11T11:58:57.207Z"
   },
   {
    "duration": 20,
    "start_time": "2022-11-11T11:58:57.237Z"
   },
   {
    "duration": 43,
    "start_time": "2022-11-11T11:58:57.259Z"
   },
   {
    "duration": 4,
    "start_time": "2022-11-11T11:58:57.303Z"
   },
   {
    "duration": 41,
    "start_time": "2022-11-11T11:58:57.309Z"
   },
   {
    "duration": 353,
    "start_time": "2022-11-11T11:58:57.352Z"
   },
   {
    "duration": 5,
    "start_time": "2022-11-11T11:58:57.707Z"
   },
   {
    "duration": 2543,
    "start_time": "2022-11-11T11:58:57.714Z"
   },
   {
    "duration": 1531,
    "start_time": "2022-11-11T11:59:51.628Z"
   },
   {
    "duration": 11,
    "start_time": "2022-11-11T11:59:58.039Z"
   },
   {
    "duration": 6,
    "start_time": "2022-11-11T12:00:01.618Z"
   },
   {
    "duration": 8,
    "start_time": "2022-11-11T12:00:18.329Z"
   },
   {
    "duration": 6,
    "start_time": "2022-11-11T12:02:11.396Z"
   },
   {
    "duration": 9,
    "start_time": "2022-11-11T12:05:18.914Z"
   },
   {
    "duration": 9,
    "start_time": "2022-11-11T12:07:42.994Z"
   },
   {
    "duration": 2346,
    "start_time": "2022-11-11T12:07:56.226Z"
   },
   {
    "duration": 12,
    "start_time": "2022-11-11T12:07:58.575Z"
   },
   {
    "duration": 9,
    "start_time": "2022-11-11T12:07:58.589Z"
   },
   {
    "duration": 5,
    "start_time": "2022-11-11T12:07:58.601Z"
   },
   {
    "duration": 37,
    "start_time": "2022-11-11T12:07:58.608Z"
   },
   {
    "duration": 13,
    "start_time": "2022-11-11T12:07:58.647Z"
   },
   {
    "duration": 5,
    "start_time": "2022-11-11T12:07:58.662Z"
   },
   {
    "duration": 8,
    "start_time": "2022-11-11T12:07:58.669Z"
   },
   {
    "duration": 20,
    "start_time": "2022-11-11T12:07:58.678Z"
   },
   {
    "duration": 41,
    "start_time": "2022-11-11T12:07:58.701Z"
   },
   {
    "duration": 7,
    "start_time": "2022-11-11T12:07:58.744Z"
   },
   {
    "duration": 20,
    "start_time": "2022-11-11T12:07:58.753Z"
   },
   {
    "duration": 91,
    "start_time": "2022-11-11T12:07:58.774Z"
   },
   {
    "duration": 11,
    "start_time": "2022-11-11T12:07:58.867Z"
   },
   {
    "duration": 20,
    "start_time": "2022-11-11T12:07:58.880Z"
   },
   {
    "duration": 65,
    "start_time": "2022-11-11T12:07:58.902Z"
   },
   {
    "duration": 5,
    "start_time": "2022-11-11T12:07:58.969Z"
   },
   {
    "duration": 16,
    "start_time": "2022-11-11T12:07:58.975Z"
   },
   {
    "duration": 352,
    "start_time": "2022-11-11T12:07:58.993Z"
   },
   {
    "duration": 6,
    "start_time": "2022-11-11T12:07:59.347Z"
   },
   {
    "duration": 2537,
    "start_time": "2022-11-11T12:07:59.355Z"
   },
   {
    "duration": 2320,
    "start_time": "2022-11-11T12:11:44.100Z"
   },
   {
    "duration": 20,
    "start_time": "2022-11-11T12:11:46.422Z"
   },
   {
    "duration": 8,
    "start_time": "2022-11-11T12:11:46.443Z"
   },
   {
    "duration": 5,
    "start_time": "2022-11-11T12:11:46.453Z"
   },
   {
    "duration": 7,
    "start_time": "2022-11-11T12:11:46.460Z"
   },
   {
    "duration": 5,
    "start_time": "2022-11-11T12:11:46.468Z"
   },
   {
    "duration": 7,
    "start_time": "2022-11-11T12:11:46.474Z"
   },
   {
    "duration": 5,
    "start_time": "2022-11-11T12:11:46.482Z"
   },
   {
    "duration": 4,
    "start_time": "2022-11-11T12:11:46.489Z"
   },
   {
    "duration": 4,
    "start_time": "2022-11-11T12:11:46.496Z"
   },
   {
    "duration": 39,
    "start_time": "2022-11-11T12:11:46.501Z"
   },
   {
    "duration": 6,
    "start_time": "2022-11-11T12:11:46.542Z"
   },
   {
    "duration": 5,
    "start_time": "2022-11-11T12:11:46.550Z"
   },
   {
    "duration": 5,
    "start_time": "2022-11-11T12:11:46.556Z"
   },
   {
    "duration": 4,
    "start_time": "2022-11-11T12:11:46.563Z"
   },
   {
    "duration": 6,
    "start_time": "2022-11-11T12:11:46.569Z"
   },
   {
    "duration": 5,
    "start_time": "2022-11-11T12:11:46.577Z"
   },
   {
    "duration": 6,
    "start_time": "2022-11-11T12:11:46.583Z"
   },
   {
    "duration": 5,
    "start_time": "2022-11-11T12:11:46.590Z"
   },
   {
    "duration": 5,
    "start_time": "2022-11-11T12:11:46.597Z"
   },
   {
    "duration": 2264,
    "start_time": "2022-11-11T12:12:41.797Z"
   },
   {
    "duration": 11,
    "start_time": "2022-11-11T12:12:44.064Z"
   },
   {
    "duration": 10,
    "start_time": "2022-11-11T12:12:44.077Z"
   },
   {
    "duration": 5,
    "start_time": "2022-11-11T12:12:44.090Z"
   },
   {
    "duration": 41,
    "start_time": "2022-11-11T12:12:44.097Z"
   },
   {
    "duration": 4,
    "start_time": "2022-11-11T12:12:44.140Z"
   },
   {
    "duration": 8,
    "start_time": "2022-11-11T12:12:44.146Z"
   },
   {
    "duration": 5,
    "start_time": "2022-11-11T12:12:44.156Z"
   },
   {
    "duration": 11,
    "start_time": "2022-11-11T12:12:44.164Z"
   },
   {
    "duration": 7,
    "start_time": "2022-11-11T12:12:44.177Z"
   },
   {
    "duration": 5,
    "start_time": "2022-11-11T12:12:44.185Z"
   },
   {
    "duration": 6,
    "start_time": "2022-11-11T12:12:44.191Z"
   },
   {
    "duration": 8,
    "start_time": "2022-11-11T12:12:44.199Z"
   },
   {
    "duration": 6,
    "start_time": "2022-11-11T12:12:44.209Z"
   },
   {
    "duration": 26,
    "start_time": "2022-11-11T12:12:44.216Z"
   },
   {
    "duration": 5,
    "start_time": "2022-11-11T12:12:44.244Z"
   },
   {
    "duration": 5,
    "start_time": "2022-11-11T12:12:44.251Z"
   },
   {
    "duration": 5,
    "start_time": "2022-11-11T12:12:44.258Z"
   },
   {
    "duration": 7,
    "start_time": "2022-11-11T12:12:44.265Z"
   },
   {
    "duration": 4,
    "start_time": "2022-11-11T12:12:44.274Z"
   },
   {
    "duration": 13,
    "start_time": "2022-11-11T12:13:15.315Z"
   },
   {
    "duration": 6,
    "start_time": "2022-11-11T12:13:56.404Z"
   },
   {
    "duration": 5,
    "start_time": "2022-11-11T12:13:56.513Z"
   },
   {
    "duration": 7,
    "start_time": "2022-11-11T12:17:42.917Z"
   },
   {
    "duration": 14,
    "start_time": "2022-11-11T12:20:35.758Z"
   },
   {
    "duration": 9,
    "start_time": "2022-11-11T12:23:46.327Z"
   },
   {
    "duration": 59,
    "start_time": "2022-11-11T12:25:57.021Z"
   },
   {
    "duration": 64,
    "start_time": "2022-11-11T12:31:01.773Z"
   },
   {
    "duration": 8,
    "start_time": "2022-11-11T12:31:34.234Z"
   },
   {
    "duration": 12,
    "start_time": "2022-11-11T12:38:18.041Z"
   },
   {
    "duration": 7,
    "start_time": "2022-11-11T12:38:23.923Z"
   },
   {
    "duration": 8,
    "start_time": "2022-11-11T12:38:58.716Z"
   },
   {
    "duration": 9,
    "start_time": "2022-11-11T12:39:13.302Z"
   },
   {
    "duration": 2250,
    "start_time": "2022-11-11T12:39:31.184Z"
   },
   {
    "duration": 10,
    "start_time": "2022-11-11T12:39:33.438Z"
   },
   {
    "duration": 8,
    "start_time": "2022-11-11T12:39:33.450Z"
   },
   {
    "duration": 16,
    "start_time": "2022-11-11T12:39:33.460Z"
   },
   {
    "duration": 17,
    "start_time": "2022-11-11T12:39:33.478Z"
   },
   {
    "duration": 28,
    "start_time": "2022-11-11T12:39:33.497Z"
   },
   {
    "duration": 10,
    "start_time": "2022-11-11T12:39:33.527Z"
   },
   {
    "duration": 58,
    "start_time": "2022-11-11T12:39:33.539Z"
   },
   {
    "duration": 6,
    "start_time": "2022-11-11T12:39:33.599Z"
   },
   {
    "duration": 16,
    "start_time": "2022-11-11T12:39:33.607Z"
   },
   {
    "duration": 23,
    "start_time": "2022-11-11T12:39:33.625Z"
   },
   {
    "duration": 20,
    "start_time": "2022-11-11T12:39:33.651Z"
   },
   {
    "duration": 8,
    "start_time": "2022-11-11T12:39:33.672Z"
   },
   {
    "duration": 25,
    "start_time": "2022-11-11T12:39:33.682Z"
   },
   {
    "duration": 6,
    "start_time": "2022-11-11T12:39:33.709Z"
   },
   {
    "duration": 31,
    "start_time": "2022-11-11T12:39:33.717Z"
   },
   {
    "duration": 15,
    "start_time": "2022-11-11T12:39:33.750Z"
   },
   {
    "duration": 13,
    "start_time": "2022-11-11T12:39:33.767Z"
   },
   {
    "duration": 10,
    "start_time": "2022-11-11T12:39:33.782Z"
   },
   {
    "duration": 10,
    "start_time": "2022-11-11T12:39:33.794Z"
   },
   {
    "duration": 24,
    "start_time": "2022-11-11T12:39:33.805Z"
   },
   {
    "duration": 28,
    "start_time": "2022-11-11T12:39:33.831Z"
   },
   {
    "duration": 2367,
    "start_time": "2022-11-11T12:41:57.530Z"
   },
   {
    "duration": 10,
    "start_time": "2022-11-11T12:41:59.899Z"
   },
   {
    "duration": 11,
    "start_time": "2022-11-11T12:41:59.910Z"
   },
   {
    "duration": 5,
    "start_time": "2022-11-11T12:41:59.938Z"
   },
   {
    "duration": 10,
    "start_time": "2022-11-11T12:41:59.945Z"
   },
   {
    "duration": 14,
    "start_time": "2022-11-11T12:41:59.957Z"
   },
   {
    "duration": 7,
    "start_time": "2022-11-11T12:41:59.972Z"
   },
   {
    "duration": 76,
    "start_time": "2022-11-11T12:41:59.981Z"
   },
   {
    "duration": 7,
    "start_time": "2022-11-11T12:42:00.059Z"
   },
   {
    "duration": 14,
    "start_time": "2022-11-11T12:42:00.069Z"
   },
   {
    "duration": 12,
    "start_time": "2022-11-11T12:42:00.085Z"
   },
   {
    "duration": 9,
    "start_time": "2022-11-11T12:42:00.099Z"
   },
   {
    "duration": 6,
    "start_time": "2022-11-11T12:42:00.110Z"
   },
   {
    "duration": 4,
    "start_time": "2022-11-11T12:42:00.136Z"
   },
   {
    "duration": 26,
    "start_time": "2022-11-11T12:42:00.141Z"
   },
   {
    "duration": 18,
    "start_time": "2022-11-11T12:42:00.169Z"
   },
   {
    "duration": 14,
    "start_time": "2022-11-11T12:42:00.189Z"
   },
   {
    "duration": 17,
    "start_time": "2022-11-11T12:42:00.205Z"
   },
   {
    "duration": 15,
    "start_time": "2022-11-11T12:42:00.224Z"
   },
   {
    "duration": 35,
    "start_time": "2022-11-11T12:42:00.241Z"
   },
   {
    "duration": 17,
    "start_time": "2022-11-11T12:42:00.278Z"
   },
   {
    "duration": 22,
    "start_time": "2022-11-11T12:42:00.297Z"
   },
   {
    "duration": 17,
    "start_time": "2022-11-11T12:42:00.321Z"
   },
   {
    "duration": 22,
    "start_time": "2022-11-11T12:47:24.012Z"
   },
   {
    "duration": 2214,
    "start_time": "2022-11-11T12:52:19.774Z"
   },
   {
    "duration": 16,
    "start_time": "2022-11-11T12:52:21.991Z"
   },
   {
    "duration": 29,
    "start_time": "2022-11-11T12:52:22.009Z"
   },
   {
    "duration": 7,
    "start_time": "2022-11-11T12:52:22.041Z"
   },
   {
    "duration": 13,
    "start_time": "2022-11-11T12:52:22.049Z"
   },
   {
    "duration": 16,
    "start_time": "2022-11-11T12:52:22.064Z"
   },
   {
    "duration": 11,
    "start_time": "2022-11-11T12:52:22.082Z"
   },
   {
    "duration": 94,
    "start_time": "2022-11-11T12:52:22.095Z"
   },
   {
    "duration": 7,
    "start_time": "2022-11-11T12:52:22.191Z"
   },
   {
    "duration": 11,
    "start_time": "2022-11-11T12:52:22.200Z"
   },
   {
    "duration": 26,
    "start_time": "2022-11-11T12:52:22.212Z"
   },
   {
    "duration": 6,
    "start_time": "2022-11-11T12:52:22.240Z"
   },
   {
    "duration": 21,
    "start_time": "2022-11-11T12:52:22.247Z"
   },
   {
    "duration": 75,
    "start_time": "2022-11-11T12:52:22.270Z"
   },
   {
    "duration": 0,
    "start_time": "2022-11-11T12:52:22.346Z"
   },
   {
    "duration": 0,
    "start_time": "2022-11-11T12:52:22.347Z"
   },
   {
    "duration": 0,
    "start_time": "2022-11-11T12:52:22.349Z"
   },
   {
    "duration": 0,
    "start_time": "2022-11-11T12:52:22.350Z"
   },
   {
    "duration": 0,
    "start_time": "2022-11-11T12:52:22.352Z"
   },
   {
    "duration": 0,
    "start_time": "2022-11-11T12:52:22.353Z"
   },
   {
    "duration": 0,
    "start_time": "2022-11-11T12:52:22.355Z"
   },
   {
    "duration": 0,
    "start_time": "2022-11-11T12:52:22.356Z"
   },
   {
    "duration": 2390,
    "start_time": "2022-11-11T12:53:05.904Z"
   },
   {
    "duration": 11,
    "start_time": "2022-11-11T12:53:08.297Z"
   },
   {
    "duration": 30,
    "start_time": "2022-11-11T12:53:08.309Z"
   },
   {
    "duration": 6,
    "start_time": "2022-11-11T12:53:08.342Z"
   },
   {
    "duration": 9,
    "start_time": "2022-11-11T12:53:08.350Z"
   },
   {
    "duration": 16,
    "start_time": "2022-11-11T12:53:08.361Z"
   },
   {
    "duration": 9,
    "start_time": "2022-11-11T12:53:08.378Z"
   },
   {
    "duration": 89,
    "start_time": "2022-11-11T12:53:08.390Z"
   },
   {
    "duration": 8,
    "start_time": "2022-11-11T12:53:08.481Z"
   },
   {
    "duration": 11,
    "start_time": "2022-11-11T12:53:08.492Z"
   },
   {
    "duration": 12,
    "start_time": "2022-11-11T12:53:08.505Z"
   },
   {
    "duration": 8,
    "start_time": "2022-11-11T12:53:08.538Z"
   },
   {
    "duration": 22,
    "start_time": "2022-11-11T12:53:08.548Z"
   },
   {
    "duration": 7,
    "start_time": "2022-11-11T12:53:08.572Z"
   },
   {
    "duration": 11,
    "start_time": "2022-11-11T12:53:08.581Z"
   },
   {
    "duration": 50,
    "start_time": "2022-11-11T12:53:08.593Z"
   },
   {
    "duration": 3,
    "start_time": "2022-11-11T12:53:08.645Z"
   },
   {
    "duration": 8,
    "start_time": "2022-11-11T12:53:08.650Z"
   },
   {
    "duration": 6,
    "start_time": "2022-11-11T12:53:08.659Z"
   },
   {
    "duration": 8,
    "start_time": "2022-11-11T12:53:08.666Z"
   },
   {
    "duration": 6,
    "start_time": "2022-11-11T12:53:08.675Z"
   },
   {
    "duration": 8,
    "start_time": "2022-11-11T12:53:31.148Z"
   },
   {
    "duration": 29,
    "start_time": "2022-11-11T12:59:38.031Z"
   },
   {
    "duration": 5,
    "start_time": "2022-11-11T13:03:24.502Z"
   },
   {
    "duration": 4,
    "start_time": "2022-11-11T13:03:37.333Z"
   },
   {
    "duration": 5,
    "start_time": "2022-11-11T13:03:58.438Z"
   },
   {
    "duration": 7,
    "start_time": "2022-11-11T13:10:45.597Z"
   },
   {
    "duration": 34,
    "start_time": "2022-11-11T13:10:58.416Z"
   },
   {
    "duration": 43,
    "start_time": "2022-11-11T13:11:24.127Z"
   },
   {
    "duration": 30,
    "start_time": "2022-11-11T13:11:34.897Z"
   },
   {
    "duration": 84,
    "start_time": "2022-11-11T14:09:11.528Z"
   },
   {
    "duration": 13,
    "start_time": "2022-11-11T14:09:58.602Z"
   },
   {
    "duration": 8,
    "start_time": "2022-11-11T14:10:16.384Z"
   },
   {
    "duration": 14,
    "start_time": "2022-11-11T14:10:46.555Z"
   },
   {
    "duration": 22,
    "start_time": "2022-11-11T14:15:55.829Z"
   },
   {
    "duration": 2296,
    "start_time": "2022-11-11T14:16:10.459Z"
   },
   {
    "duration": 11,
    "start_time": "2022-11-11T14:16:12.758Z"
   },
   {
    "duration": 19,
    "start_time": "2022-11-11T14:16:12.771Z"
   },
   {
    "duration": 20,
    "start_time": "2022-11-11T14:16:12.792Z"
   },
   {
    "duration": 24,
    "start_time": "2022-11-11T14:16:12.814Z"
   },
   {
    "duration": 21,
    "start_time": "2022-11-11T14:16:12.840Z"
   },
   {
    "duration": 15,
    "start_time": "2022-11-11T14:16:12.863Z"
   },
   {
    "duration": 16,
    "start_time": "2022-11-11T14:16:12.880Z"
   },
   {
    "duration": 62,
    "start_time": "2022-11-11T14:16:12.898Z"
   },
   {
    "duration": 6,
    "start_time": "2022-11-11T14:16:12.963Z"
   },
   {
    "duration": 13,
    "start_time": "2022-11-11T14:16:12.970Z"
   },
   {
    "duration": 7,
    "start_time": "2022-11-11T14:16:12.985Z"
   },
   {
    "duration": 7,
    "start_time": "2022-11-11T14:16:12.993Z"
   },
   {
    "duration": 47,
    "start_time": "2022-11-11T14:16:13.001Z"
   },
   {
    "duration": 6,
    "start_time": "2022-11-11T14:16:13.050Z"
   },
   {
    "duration": 8,
    "start_time": "2022-11-11T14:16:13.058Z"
   },
   {
    "duration": 11,
    "start_time": "2022-11-11T14:16:13.068Z"
   },
   {
    "duration": 18,
    "start_time": "2022-11-11T14:16:13.081Z"
   },
   {
    "duration": 40,
    "start_time": "2022-11-11T14:16:13.101Z"
   },
   {
    "duration": 3,
    "start_time": "2022-11-11T14:16:13.143Z"
   },
   {
    "duration": 11,
    "start_time": "2022-11-11T14:16:13.148Z"
   },
   {
    "duration": 9,
    "start_time": "2022-11-11T14:16:13.161Z"
   },
   {
    "duration": 9,
    "start_time": "2022-11-11T14:16:13.172Z"
   },
   {
    "duration": 5,
    "start_time": "2022-11-11T14:16:13.182Z"
   },
   {
    "duration": 12,
    "start_time": "2022-11-11T14:17:25.122Z"
   },
   {
    "duration": 6,
    "start_time": "2022-11-11T14:17:53.978Z"
   },
   {
    "duration": 5,
    "start_time": "2022-11-11T14:18:29.117Z"
   },
   {
    "duration": 11,
    "start_time": "2022-11-11T14:19:22.669Z"
   },
   {
    "duration": 5,
    "start_time": "2022-11-11T14:30:13.237Z"
   },
   {
    "duration": 12,
    "start_time": "2022-11-11T14:30:18.566Z"
   },
   {
    "duration": 2332,
    "start_time": "2022-11-11T14:31:25.109Z"
   },
   {
    "duration": 11,
    "start_time": "2022-11-11T14:31:27.442Z"
   },
   {
    "duration": 11,
    "start_time": "2022-11-11T14:31:27.454Z"
   },
   {
    "duration": 6,
    "start_time": "2022-11-11T14:31:27.467Z"
   },
   {
    "duration": 10,
    "start_time": "2022-11-11T14:31:27.474Z"
   },
   {
    "duration": 12,
    "start_time": "2022-11-11T14:31:27.486Z"
   },
   {
    "duration": 44,
    "start_time": "2022-11-11T14:31:27.500Z"
   },
   {
    "duration": 5,
    "start_time": "2022-11-11T14:31:27.546Z"
   },
   {
    "duration": 13,
    "start_time": "2022-11-11T14:31:27.554Z"
   },
   {
    "duration": 4,
    "start_time": "2022-11-11T14:31:27.570Z"
   },
   {
    "duration": 97,
    "start_time": "2022-11-11T14:31:27.576Z"
   },
   {
    "duration": 6,
    "start_time": "2022-11-11T14:31:27.675Z"
   },
   {
    "duration": 12,
    "start_time": "2022-11-11T14:31:27.683Z"
   },
   {
    "duration": 6,
    "start_time": "2022-11-11T14:31:27.697Z"
   },
   {
    "duration": 35,
    "start_time": "2022-11-11T14:31:27.705Z"
   },
   {
    "duration": 20,
    "start_time": "2022-11-11T14:31:27.742Z"
   },
   {
    "duration": 5,
    "start_time": "2022-11-11T14:31:27.764Z"
   },
   {
    "duration": 9,
    "start_time": "2022-11-11T14:31:27.771Z"
   },
   {
    "duration": 11,
    "start_time": "2022-11-11T14:31:27.781Z"
   },
   {
    "duration": 2,
    "start_time": "2022-11-11T14:31:27.794Z"
   },
   {
    "duration": 41,
    "start_time": "2022-11-11T14:31:27.798Z"
   },
   {
    "duration": 19,
    "start_time": "2022-11-11T14:31:27.841Z"
   },
   {
    "duration": 3,
    "start_time": "2022-11-11T14:31:27.862Z"
   },
   {
    "duration": 8,
    "start_time": "2022-11-11T14:31:27.866Z"
   },
   {
    "duration": 281,
    "start_time": "2022-11-11T15:05:29.256Z"
   },
   {
    "duration": 221,
    "start_time": "2022-11-11T15:07:14.237Z"
   },
   {
    "duration": 209,
    "start_time": "2022-11-11T15:08:33.853Z"
   },
   {
    "duration": 75,
    "start_time": "2022-11-11T15:15:16.845Z"
   },
   {
    "duration": 8,
    "start_time": "2022-11-11T15:15:49.737Z"
   },
   {
    "duration": 5,
    "start_time": "2022-11-11T15:15:55.169Z"
   },
   {
    "duration": 77,
    "start_time": "2022-11-11T15:17:34.300Z"
   },
   {
    "duration": 101,
    "start_time": "2022-11-11T15:19:28.548Z"
   },
   {
    "duration": 76,
    "start_time": "2022-11-11T15:19:39.114Z"
   },
   {
    "duration": 76,
    "start_time": "2022-11-11T15:20:18.693Z"
   },
   {
    "duration": 83,
    "start_time": "2022-11-11T15:20:54.946Z"
   },
   {
    "duration": 4,
    "start_time": "2022-11-11T15:21:20.284Z"
   },
   {
    "duration": 6,
    "start_time": "2022-11-11T15:22:46.091Z"
   },
   {
    "duration": 258,
    "start_time": "2022-11-11T15:25:37.863Z"
   },
   {
    "duration": 13,
    "start_time": "2022-11-11T15:26:12.792Z"
   },
   {
    "duration": 265,
    "start_time": "2022-11-11T15:26:29.772Z"
   },
   {
    "duration": 125,
    "start_time": "2022-11-11T15:29:11.313Z"
   },
   {
    "duration": 129,
    "start_time": "2022-11-11T15:29:20.578Z"
   },
   {
    "duration": 217,
    "start_time": "2022-11-11T15:29:37.984Z"
   },
   {
    "duration": 2351,
    "start_time": "2022-11-11T15:29:48.527Z"
   },
   {
    "duration": 11,
    "start_time": "2022-11-11T15:29:50.881Z"
   },
   {
    "duration": 10,
    "start_time": "2022-11-11T15:29:50.894Z"
   },
   {
    "duration": 32,
    "start_time": "2022-11-11T15:29:50.906Z"
   },
   {
    "duration": 7,
    "start_time": "2022-11-11T15:29:50.940Z"
   },
   {
    "duration": 18,
    "start_time": "2022-11-11T15:29:50.948Z"
   },
   {
    "duration": 15,
    "start_time": "2022-11-11T15:29:50.968Z"
   },
   {
    "duration": 17,
    "start_time": "2022-11-11T15:29:50.985Z"
   },
   {
    "duration": 22,
    "start_time": "2022-11-11T15:29:51.004Z"
   },
   {
    "duration": 5,
    "start_time": "2022-11-11T15:29:51.037Z"
   },
   {
    "duration": 53,
    "start_time": "2022-11-11T15:29:51.043Z"
   },
   {
    "duration": 9,
    "start_time": "2022-11-11T15:29:51.098Z"
   },
   {
    "duration": 35,
    "start_time": "2022-11-11T15:29:51.109Z"
   },
   {
    "duration": 7,
    "start_time": "2022-11-11T15:29:51.146Z"
   },
   {
    "duration": 5,
    "start_time": "2022-11-11T15:29:51.155Z"
   },
   {
    "duration": 19,
    "start_time": "2022-11-11T15:29:51.162Z"
   },
   {
    "duration": 7,
    "start_time": "2022-11-11T15:29:51.183Z"
   },
   {
    "duration": 12053,
    "start_time": "2022-11-11T15:29:51.192Z"
   },
   {
    "duration": 10,
    "start_time": "2022-11-11T15:30:03.247Z"
   },
   {
    "duration": 17,
    "start_time": "2022-11-11T15:30:03.259Z"
   },
   {
    "duration": 3,
    "start_time": "2022-11-11T15:30:03.277Z"
   },
   {
    "duration": 6,
    "start_time": "2022-11-11T15:30:03.282Z"
   },
   {
    "duration": 5,
    "start_time": "2022-11-11T15:30:03.290Z"
   },
   {
    "duration": 7,
    "start_time": "2022-11-11T15:30:03.297Z"
   },
   {
    "duration": 18,
    "start_time": "2022-11-11T15:30:03.306Z"
   },
   {
    "duration": 284,
    "start_time": "2022-11-11T15:31:40.290Z"
   },
   {
    "duration": 7,
    "start_time": "2022-11-11T15:32:15.646Z"
   },
   {
    "duration": 30,
    "start_time": "2022-11-11T15:36:29.573Z"
   },
   {
    "duration": 124,
    "start_time": "2022-11-11T15:38:36.789Z"
   },
   {
    "duration": 2367,
    "start_time": "2022-11-11T15:38:45.326Z"
   },
   {
    "duration": 10,
    "start_time": "2022-11-11T15:38:47.695Z"
   },
   {
    "duration": 8,
    "start_time": "2022-11-11T15:38:47.707Z"
   },
   {
    "duration": 6,
    "start_time": "2022-11-11T15:38:47.737Z"
   },
   {
    "duration": 10,
    "start_time": "2022-11-11T15:38:47.746Z"
   },
   {
    "duration": 13,
    "start_time": "2022-11-11T15:38:47.758Z"
   },
   {
    "duration": 15,
    "start_time": "2022-11-11T15:38:47.773Z"
   },
   {
    "duration": 7,
    "start_time": "2022-11-11T15:38:47.790Z"
   },
   {
    "duration": 46,
    "start_time": "2022-11-11T15:38:47.798Z"
   },
   {
    "duration": 4,
    "start_time": "2022-11-11T15:38:47.848Z"
   },
   {
    "duration": 50,
    "start_time": "2022-11-11T15:38:47.855Z"
   },
   {
    "duration": 7,
    "start_time": "2022-11-11T15:38:47.907Z"
   },
   {
    "duration": 10,
    "start_time": "2022-11-11T15:38:47.938Z"
   },
   {
    "duration": 14,
    "start_time": "2022-11-11T15:38:47.950Z"
   },
   {
    "duration": 8,
    "start_time": "2022-11-11T15:38:47.966Z"
   },
   {
    "duration": 21,
    "start_time": "2022-11-11T15:38:47.976Z"
   },
   {
    "duration": 6,
    "start_time": "2022-11-11T15:38:47.999Z"
   },
   {
    "duration": 34,
    "start_time": "2022-11-11T15:38:48.007Z"
   },
   {
    "duration": 292,
    "start_time": "2022-11-11T15:38:48.043Z"
   },
   {
    "duration": 9,
    "start_time": "2022-11-11T15:38:48.336Z"
   },
   {
    "duration": 3,
    "start_time": "2022-11-11T15:38:48.347Z"
   },
   {
    "duration": 5,
    "start_time": "2022-11-11T15:38:48.351Z"
   },
   {
    "duration": 6,
    "start_time": "2022-11-11T15:38:48.358Z"
   },
   {
    "duration": 6,
    "start_time": "2022-11-11T15:38:48.365Z"
   },
   {
    "duration": 8,
    "start_time": "2022-11-11T15:38:48.372Z"
   },
   {
    "duration": 31,
    "start_time": "2022-11-11T15:50:20.426Z"
   },
   {
    "duration": 47,
    "start_time": "2022-11-11T15:52:57.068Z"
   },
   {
    "duration": 40,
    "start_time": "2022-11-11T15:57:20.675Z"
   },
   {
    "duration": 36,
    "start_time": "2022-11-11T15:57:40.478Z"
   },
   {
    "duration": 38,
    "start_time": "2022-11-11T15:57:49.616Z"
   },
   {
    "duration": 6,
    "start_time": "2022-11-11T16:08:13.185Z"
   },
   {
    "duration": 43,
    "start_time": "2022-11-11T16:08:34.131Z"
   },
   {
    "duration": 54,
    "start_time": "2022-11-11T16:09:29.735Z"
   },
   {
    "duration": 50,
    "start_time": "2022-11-11T16:09:40.462Z"
   },
   {
    "duration": 38,
    "start_time": "2022-11-11T16:09:51.240Z"
   },
   {
    "duration": 2304,
    "start_time": "2022-11-11T16:10:00.106Z"
   },
   {
    "duration": 11,
    "start_time": "2022-11-11T16:10:02.412Z"
   },
   {
    "duration": 9,
    "start_time": "2022-11-11T16:10:02.437Z"
   },
   {
    "duration": 4,
    "start_time": "2022-11-11T16:10:02.448Z"
   },
   {
    "duration": 12,
    "start_time": "2022-11-11T16:10:02.454Z"
   },
   {
    "duration": 14,
    "start_time": "2022-11-11T16:10:02.467Z"
   },
   {
    "duration": 8,
    "start_time": "2022-11-11T16:10:02.483Z"
   },
   {
    "duration": 5,
    "start_time": "2022-11-11T16:10:02.493Z"
   },
   {
    "duration": 48,
    "start_time": "2022-11-11T16:10:02.500Z"
   },
   {
    "duration": 4,
    "start_time": "2022-11-11T16:10:02.551Z"
   },
   {
    "duration": 51,
    "start_time": "2022-11-11T16:10:02.557Z"
   },
   {
    "duration": 31,
    "start_time": "2022-11-11T16:10:02.609Z"
   },
   {
    "duration": 9,
    "start_time": "2022-11-11T16:10:02.642Z"
   },
   {
    "duration": 8,
    "start_time": "2022-11-11T16:10:02.653Z"
   },
   {
    "duration": 6,
    "start_time": "2022-11-11T16:10:02.663Z"
   },
   {
    "duration": 21,
    "start_time": "2022-11-11T16:10:02.670Z"
   },
   {
    "duration": 48,
    "start_time": "2022-11-11T16:10:02.693Z"
   },
   {
    "duration": 7,
    "start_time": "2022-11-11T16:10:02.743Z"
   },
   {
    "duration": 10,
    "start_time": "2022-11-11T16:10:02.752Z"
   },
   {
    "duration": 22,
    "start_time": "2022-11-11T16:10:02.763Z"
   },
   {
    "duration": 60,
    "start_time": "2022-11-11T16:10:02.786Z"
   },
   {
    "duration": 5,
    "start_time": "2022-11-11T16:10:02.848Z"
   },
   {
    "duration": 5,
    "start_time": "2022-11-11T16:10:02.855Z"
   },
   {
    "duration": 5,
    "start_time": "2022-11-11T16:10:02.861Z"
   },
   {
    "duration": 7,
    "start_time": "2022-11-11T16:10:02.867Z"
   },
   {
    "duration": 5,
    "start_time": "2022-11-11T16:10:02.876Z"
   },
   {
    "duration": 98,
    "start_time": "2022-11-11T16:13:57.943Z"
   },
   {
    "duration": 95,
    "start_time": "2022-11-11T16:14:28.547Z"
   },
   {
    "duration": 88,
    "start_time": "2022-11-11T16:14:52.092Z"
   },
   {
    "duration": 68,
    "start_time": "2022-11-11T16:18:41.971Z"
   },
   {
    "duration": 83,
    "start_time": "2022-11-11T16:19:06.050Z"
   },
   {
    "duration": 18,
    "start_time": "2022-11-11T16:19:43.210Z"
   },
   {
    "duration": 2304,
    "start_time": "2022-11-11T16:19:55.582Z"
   },
   {
    "duration": 11,
    "start_time": "2022-11-11T16:19:57.889Z"
   },
   {
    "duration": 9,
    "start_time": "2022-11-11T16:19:57.902Z"
   },
   {
    "duration": 28,
    "start_time": "2022-11-11T16:19:57.913Z"
   },
   {
    "duration": 7,
    "start_time": "2022-11-11T16:19:57.943Z"
   },
   {
    "duration": 15,
    "start_time": "2022-11-11T16:19:57.952Z"
   },
   {
    "duration": 9,
    "start_time": "2022-11-11T16:19:57.969Z"
   },
   {
    "duration": 6,
    "start_time": "2022-11-11T16:19:57.979Z"
   },
   {
    "duration": 12,
    "start_time": "2022-11-11T16:19:57.987Z"
   },
   {
    "duration": 5,
    "start_time": "2022-11-11T16:19:58.039Z"
   },
   {
    "duration": 51,
    "start_time": "2022-11-11T16:19:58.046Z"
   },
   {
    "duration": 6,
    "start_time": "2022-11-11T16:19:58.099Z"
   },
   {
    "duration": 31,
    "start_time": "2022-11-11T16:19:58.107Z"
   },
   {
    "duration": 7,
    "start_time": "2022-11-11T16:19:58.140Z"
   },
   {
    "duration": 14,
    "start_time": "2022-11-11T16:19:58.149Z"
   },
   {
    "duration": 21,
    "start_time": "2022-11-11T16:19:58.165Z"
   },
   {
    "duration": 7,
    "start_time": "2022-11-11T16:19:58.188Z"
   },
   {
    "duration": 40,
    "start_time": "2022-11-11T16:19:58.197Z"
   },
   {
    "duration": 10,
    "start_time": "2022-11-11T16:19:58.239Z"
   },
   {
    "duration": 27,
    "start_time": "2022-11-11T16:19:58.251Z"
   },
   {
    "duration": 113,
    "start_time": "2022-11-11T16:19:58.280Z"
   },
   {
    "duration": 0,
    "start_time": "2022-11-11T16:19:58.395Z"
   },
   {
    "duration": 0,
    "start_time": "2022-11-11T16:19:58.396Z"
   },
   {
    "duration": 0,
    "start_time": "2022-11-11T16:19:58.397Z"
   },
   {
    "duration": 0,
    "start_time": "2022-11-11T16:19:58.399Z"
   },
   {
    "duration": 0,
    "start_time": "2022-11-11T16:19:58.401Z"
   },
   {
    "duration": 15,
    "start_time": "2022-11-11T16:21:31.353Z"
   },
   {
    "duration": 2358,
    "start_time": "2022-11-11T16:24:03.852Z"
   },
   {
    "duration": 11,
    "start_time": "2022-11-11T16:24:06.212Z"
   },
   {
    "duration": 8,
    "start_time": "2022-11-11T16:24:06.238Z"
   },
   {
    "duration": 5,
    "start_time": "2022-11-11T16:24:06.249Z"
   },
   {
    "duration": 11,
    "start_time": "2022-11-11T16:24:06.255Z"
   },
   {
    "duration": 13,
    "start_time": "2022-11-11T16:24:06.267Z"
   },
   {
    "duration": 7,
    "start_time": "2022-11-11T16:24:06.282Z"
   },
   {
    "duration": 7,
    "start_time": "2022-11-11T16:24:06.291Z"
   },
   {
    "duration": 50,
    "start_time": "2022-11-11T16:24:06.300Z"
   },
   {
    "duration": 6,
    "start_time": "2022-11-11T16:24:06.353Z"
   },
   {
    "duration": 53,
    "start_time": "2022-11-11T16:24:06.360Z"
   },
   {
    "duration": 7,
    "start_time": "2022-11-11T16:24:06.414Z"
   },
   {
    "duration": 12,
    "start_time": "2022-11-11T16:24:06.439Z"
   },
   {
    "duration": 7,
    "start_time": "2022-11-11T16:24:06.453Z"
   },
   {
    "duration": 7,
    "start_time": "2022-11-11T16:24:06.462Z"
   },
   {
    "duration": 22,
    "start_time": "2022-11-11T16:24:06.471Z"
   },
   {
    "duration": 43,
    "start_time": "2022-11-11T16:24:06.495Z"
   },
   {
    "duration": 9,
    "start_time": "2022-11-11T16:24:06.540Z"
   },
   {
    "duration": 12,
    "start_time": "2022-11-11T16:24:06.550Z"
   },
   {
    "duration": 24,
    "start_time": "2022-11-11T16:24:06.564Z"
   },
   {
    "duration": 11,
    "start_time": "2022-11-11T16:24:06.590Z"
   },
   {
    "duration": 35,
    "start_time": "2022-11-11T16:24:06.603Z"
   },
   {
    "duration": 7,
    "start_time": "2022-11-11T16:24:06.641Z"
   },
   {
    "duration": 16,
    "start_time": "2022-11-11T16:24:06.650Z"
   },
   {
    "duration": 342,
    "start_time": "2022-11-11T16:24:06.668Z"
   },
   {
    "duration": 5,
    "start_time": "2022-11-11T16:24:07.012Z"
   },
   {
    "duration": 17,
    "start_time": "2022-11-11T16:26:13.750Z"
   },
   {
    "duration": 271,
    "start_time": "2022-11-11T16:34:51.192Z"
   },
   {
    "duration": 1244,
    "start_time": "2022-11-11T16:39:31.419Z"
   },
   {
    "duration": 283,
    "start_time": "2022-11-11T16:39:48.678Z"
   },
   {
    "duration": 28,
    "start_time": "2022-11-11T16:45:18.700Z"
   },
   {
    "duration": 350,
    "start_time": "2022-11-11T16:45:36.576Z"
   },
   {
    "duration": 190,
    "start_time": "2022-11-11T16:49:06.179Z"
   },
   {
    "duration": 213,
    "start_time": "2022-11-11T16:53:04.444Z"
   },
   {
    "duration": 45,
    "start_time": "2022-11-12T12:50:20.608Z"
   },
   {
    "duration": 2782,
    "start_time": "2022-11-12T12:50:28.527Z"
   },
   {
    "duration": 9,
    "start_time": "2022-11-12T12:50:31.312Z"
   },
   {
    "duration": 17,
    "start_time": "2022-11-12T12:50:31.330Z"
   },
   {
    "duration": 28,
    "start_time": "2022-11-12T12:50:31.348Z"
   },
   {
    "duration": 24,
    "start_time": "2022-11-12T12:50:31.378Z"
   },
   {
    "duration": 15,
    "start_time": "2022-11-12T12:50:31.403Z"
   },
   {
    "duration": 8,
    "start_time": "2022-11-12T12:50:31.419Z"
   },
   {
    "duration": 18,
    "start_time": "2022-11-12T12:50:31.429Z"
   },
   {
    "duration": 31,
    "start_time": "2022-11-12T12:50:31.449Z"
   },
   {
    "duration": 15,
    "start_time": "2022-11-12T12:50:31.481Z"
   },
   {
    "duration": 53,
    "start_time": "2022-11-12T12:50:31.498Z"
   },
   {
    "duration": 7,
    "start_time": "2022-11-12T12:50:31.553Z"
   },
   {
    "duration": 39,
    "start_time": "2022-11-12T12:50:31.561Z"
   },
   {
    "duration": 22,
    "start_time": "2022-11-12T12:50:31.604Z"
   },
   {
    "duration": 26,
    "start_time": "2022-11-12T12:50:31.628Z"
   },
   {
    "duration": 68,
    "start_time": "2022-11-12T12:50:31.656Z"
   },
   {
    "duration": 5,
    "start_time": "2022-11-12T12:50:31.725Z"
   },
   {
    "duration": 9,
    "start_time": "2022-11-12T12:50:31.732Z"
   },
   {
    "duration": 12,
    "start_time": "2022-11-12T12:50:31.742Z"
   },
   {
    "duration": 27,
    "start_time": "2022-11-12T12:50:31.755Z"
   },
   {
    "duration": 6,
    "start_time": "2022-11-12T12:50:31.784Z"
   },
   {
    "duration": 23,
    "start_time": "2022-11-12T12:50:31.792Z"
   },
   {
    "duration": 11,
    "start_time": "2022-11-12T12:50:31.829Z"
   },
   {
    "duration": 5,
    "start_time": "2022-11-12T12:50:31.842Z"
   },
   {
    "duration": 1006,
    "start_time": "2022-11-12T12:50:31.849Z"
   },
   {
    "duration": 0,
    "start_time": "2022-11-12T12:50:32.857Z"
   },
   {
    "duration": 0,
    "start_time": "2022-11-12T12:50:32.859Z"
   },
   {
    "duration": 0,
    "start_time": "2022-11-12T12:50:32.860Z"
   },
   {
    "duration": 0,
    "start_time": "2022-11-12T12:50:32.861Z"
   },
   {
    "duration": 0,
    "start_time": "2022-11-12T12:50:32.863Z"
   },
   {
    "duration": 0,
    "start_time": "2022-11-12T12:50:32.864Z"
   },
   {
    "duration": 0,
    "start_time": "2022-11-12T12:50:32.866Z"
   },
   {
    "duration": 0,
    "start_time": "2022-11-12T12:50:32.867Z"
   },
   {
    "duration": 0,
    "start_time": "2022-11-12T12:50:32.868Z"
   },
   {
    "duration": 2032,
    "start_time": "2022-11-12T12:52:56.935Z"
   },
   {
    "duration": 9,
    "start_time": "2022-11-12T12:52:58.969Z"
   },
   {
    "duration": 7,
    "start_time": "2022-11-12T12:52:58.979Z"
   },
   {
    "duration": 4,
    "start_time": "2022-11-12T12:52:58.989Z"
   },
   {
    "duration": 8,
    "start_time": "2022-11-12T12:52:58.994Z"
   },
   {
    "duration": 37,
    "start_time": "2022-11-12T12:52:59.003Z"
   },
   {
    "duration": 7,
    "start_time": "2022-11-12T12:52:59.041Z"
   },
   {
    "duration": 5,
    "start_time": "2022-11-12T12:52:59.049Z"
   },
   {
    "duration": 11,
    "start_time": "2022-11-12T12:52:59.055Z"
   },
   {
    "duration": 4,
    "start_time": "2022-11-12T12:52:59.068Z"
   },
   {
    "duration": 77,
    "start_time": "2022-11-12T12:52:59.073Z"
   },
   {
    "duration": 6,
    "start_time": "2022-11-12T12:52:59.151Z"
   },
   {
    "duration": 11,
    "start_time": "2022-11-12T12:52:59.159Z"
   },
   {
    "duration": 7,
    "start_time": "2022-11-12T12:52:59.171Z"
   },
   {
    "duration": 5,
    "start_time": "2022-11-12T12:52:59.180Z"
   },
   {
    "duration": 47,
    "start_time": "2022-11-12T12:52:59.186Z"
   },
   {
    "duration": 6,
    "start_time": "2022-11-12T12:52:59.235Z"
   },
   {
    "duration": 8,
    "start_time": "2022-11-12T12:52:59.243Z"
   },
   {
    "duration": 8,
    "start_time": "2022-11-12T12:52:59.252Z"
   },
   {
    "duration": 27,
    "start_time": "2022-11-12T12:52:59.261Z"
   },
   {
    "duration": 39,
    "start_time": "2022-11-12T12:52:59.290Z"
   },
   {
    "duration": 23,
    "start_time": "2022-11-12T12:52:59.331Z"
   },
   {
    "duration": 11,
    "start_time": "2022-11-12T12:52:59.355Z"
   },
   {
    "duration": 4,
    "start_time": "2022-11-12T12:52:59.367Z"
   },
   {
    "duration": 7,
    "start_time": "2022-11-12T12:52:59.372Z"
   },
   {
    "duration": 15,
    "start_time": "2022-11-12T12:52:59.380Z"
   },
   {
    "duration": 333,
    "start_time": "2022-11-12T12:52:59.396Z"
   },
   {
    "duration": 4,
    "start_time": "2022-11-12T12:52:59.732Z"
   },
   {
    "duration": 19,
    "start_time": "2022-11-12T12:52:59.738Z"
   },
   {
    "duration": 264,
    "start_time": "2022-11-12T12:52:59.759Z"
   },
   {
    "duration": 260,
    "start_time": "2022-11-12T12:53:00.025Z"
   },
   {
    "duration": 190,
    "start_time": "2022-11-12T12:53:00.287Z"
   },
   {
    "duration": 278,
    "start_time": "2022-11-12T12:53:00.479Z"
   },
   {
    "duration": 9,
    "start_time": "2022-11-12T12:53:00.758Z"
   },
   {
    "duration": 199,
    "start_time": "2022-11-12T12:53:26.791Z"
   },
   {
    "duration": 211,
    "start_time": "2022-11-12T12:53:43.794Z"
   },
   {
    "duration": 81,
    "start_time": "2022-11-12T13:03:01.842Z"
   },
   {
    "duration": 26,
    "start_time": "2022-11-12T13:04:02.571Z"
   },
   {
    "duration": 128,
    "start_time": "2022-11-12T13:09:06.066Z"
   },
   {
    "duration": 124,
    "start_time": "2022-11-12T13:11:33.339Z"
   },
   {
    "duration": 258,
    "start_time": "2022-11-12T13:13:35.068Z"
   },
   {
    "duration": 148,
    "start_time": "2022-11-12T13:13:54.151Z"
   },
   {
    "duration": 132,
    "start_time": "2022-11-12T13:19:23.052Z"
   },
   {
    "duration": 129,
    "start_time": "2022-11-12T13:20:37.776Z"
   },
   {
    "duration": 233,
    "start_time": "2022-11-12T13:21:02.600Z"
   },
   {
    "duration": 263,
    "start_time": "2022-11-12T13:21:11.938Z"
   },
   {
    "duration": 141,
    "start_time": "2022-11-12T13:22:57.366Z"
   },
   {
    "duration": 149,
    "start_time": "2022-11-12T13:23:08.252Z"
   },
   {
    "duration": 172,
    "start_time": "2022-11-12T13:36:09.590Z"
   },
   {
    "duration": 157,
    "start_time": "2022-11-12T13:36:20.602Z"
   },
   {
    "duration": 733,
    "start_time": "2022-11-12T13:38:59.013Z"
   },
   {
    "duration": 171,
    "start_time": "2022-11-12T13:39:12.913Z"
   },
   {
    "duration": 161,
    "start_time": "2022-11-12T13:39:27.277Z"
   },
   {
    "duration": 207,
    "start_time": "2022-11-12T13:47:54.981Z"
   },
   {
    "duration": 182,
    "start_time": "2022-11-12T13:48:03.395Z"
   },
   {
    "duration": 257,
    "start_time": "2022-11-12T13:56:02.216Z"
   },
   {
    "duration": 1940,
    "start_time": "2022-11-12T14:21:50.573Z"
   },
   {
    "duration": 17,
    "start_time": "2022-11-12T14:21:52.514Z"
   },
   {
    "duration": 7,
    "start_time": "2022-11-12T14:21:52.533Z"
   },
   {
    "duration": 4,
    "start_time": "2022-11-12T14:21:52.542Z"
   },
   {
    "duration": 7,
    "start_time": "2022-11-12T14:21:52.547Z"
   },
   {
    "duration": 16,
    "start_time": "2022-11-12T14:21:52.556Z"
   },
   {
    "duration": 7,
    "start_time": "2022-11-12T14:21:52.574Z"
   },
   {
    "duration": 9,
    "start_time": "2022-11-12T14:21:52.582Z"
   },
   {
    "duration": 47,
    "start_time": "2022-11-12T14:21:52.593Z"
   },
   {
    "duration": 3,
    "start_time": "2022-11-12T14:21:52.643Z"
   },
   {
    "duration": 49,
    "start_time": "2022-11-12T14:21:52.647Z"
   },
   {
    "duration": 5,
    "start_time": "2022-11-12T14:21:52.698Z"
   },
   {
    "duration": 26,
    "start_time": "2022-11-12T14:21:52.704Z"
   },
   {
    "duration": 6,
    "start_time": "2022-11-12T14:21:52.731Z"
   },
   {
    "duration": 9,
    "start_time": "2022-11-12T14:21:52.738Z"
   },
   {
    "duration": 17,
    "start_time": "2022-11-12T14:21:52.748Z"
   },
   {
    "duration": 6,
    "start_time": "2022-11-12T14:21:52.766Z"
   },
   {
    "duration": 13,
    "start_time": "2022-11-12T14:21:52.774Z"
   },
   {
    "duration": 15,
    "start_time": "2022-11-12T14:21:52.788Z"
   },
   {
    "duration": 39,
    "start_time": "2022-11-12T14:21:52.804Z"
   },
   {
    "duration": 8,
    "start_time": "2022-11-12T14:21:52.845Z"
   },
   {
    "duration": 22,
    "start_time": "2022-11-12T14:21:52.854Z"
   },
   {
    "duration": 10,
    "start_time": "2022-11-12T14:21:52.877Z"
   },
   {
    "duration": 4,
    "start_time": "2022-11-12T14:21:52.888Z"
   },
   {
    "duration": 37,
    "start_time": "2022-11-12T14:21:52.894Z"
   },
   {
    "duration": 13,
    "start_time": "2022-11-12T14:21:52.932Z"
   },
   {
    "duration": 319,
    "start_time": "2022-11-12T14:21:52.946Z"
   },
   {
    "duration": 4,
    "start_time": "2022-11-12T14:21:53.268Z"
   },
   {
    "duration": 14,
    "start_time": "2022-11-12T14:21:53.274Z"
   },
   {
    "duration": 233,
    "start_time": "2022-11-12T14:21:53.290Z"
   },
   {
    "duration": 252,
    "start_time": "2022-11-12T14:21:53.524Z"
   },
   {
    "duration": 196,
    "start_time": "2022-11-12T14:21:53.778Z"
   },
   {
    "duration": 288,
    "start_time": "2022-11-12T14:21:53.976Z"
   },
   {
    "duration": 180,
    "start_time": "2022-11-12T14:21:54.266Z"
   },
   {
    "duration": 133,
    "start_time": "2022-11-12T14:21:54.447Z"
   },
   {
    "duration": 125,
    "start_time": "2022-11-12T14:21:54.581Z"
   },
   {
    "duration": 204,
    "start_time": "2022-11-12T14:21:54.708Z"
   },
   {
    "duration": 218,
    "start_time": "2022-11-12T14:21:54.913Z"
   },
   {
    "duration": 171,
    "start_time": "2022-11-12T14:21:55.132Z"
   },
   {
    "duration": 161,
    "start_time": "2022-11-12T14:21:55.304Z"
   },
   {
    "duration": 230,
    "start_time": "2022-11-12T14:21:55.467Z"
   },
   {
    "duration": 131,
    "start_time": "2022-11-12T14:25:12.079Z"
   },
   {
    "duration": 211,
    "start_time": "2022-11-12T14:25:26.976Z"
   },
   {
    "duration": 14,
    "start_time": "2022-11-12T14:26:03.350Z"
   },
   {
    "duration": 158,
    "start_time": "2022-11-12T14:26:38.261Z"
   },
   {
    "duration": 15,
    "start_time": "2022-11-12T14:30:32.542Z"
   },
   {
    "duration": 14,
    "start_time": "2022-11-12T14:30:41.573Z"
   },
   {
    "duration": 15,
    "start_time": "2022-11-12T14:31:02.886Z"
   },
   {
    "duration": 12,
    "start_time": "2022-11-12T14:31:24.726Z"
   },
   {
    "duration": 2237,
    "start_time": "2022-11-12T14:31:30.631Z"
   },
   {
    "duration": 12,
    "start_time": "2022-11-12T14:31:32.870Z"
   },
   {
    "duration": 9,
    "start_time": "2022-11-12T14:31:32.883Z"
   },
   {
    "duration": 5,
    "start_time": "2022-11-12T14:31:32.894Z"
   },
   {
    "duration": 30,
    "start_time": "2022-11-12T14:31:32.901Z"
   },
   {
    "duration": 14,
    "start_time": "2022-11-12T14:31:32.933Z"
   },
   {
    "duration": 8,
    "start_time": "2022-11-12T14:31:32.949Z"
   },
   {
    "duration": 10,
    "start_time": "2022-11-12T14:31:32.958Z"
   },
   {
    "duration": 18,
    "start_time": "2022-11-12T14:31:32.970Z"
   },
   {
    "duration": 4,
    "start_time": "2022-11-12T14:31:32.990Z"
   },
   {
    "duration": 74,
    "start_time": "2022-11-12T14:31:32.996Z"
   },
   {
    "duration": 6,
    "start_time": "2022-11-12T14:31:33.071Z"
   },
   {
    "duration": 10,
    "start_time": "2022-11-12T14:31:33.079Z"
   },
   {
    "duration": 9,
    "start_time": "2022-11-12T14:31:33.090Z"
   },
   {
    "duration": 31,
    "start_time": "2022-11-12T14:31:33.101Z"
   },
   {
    "duration": 20,
    "start_time": "2022-11-12T14:31:33.134Z"
   },
   {
    "duration": 12,
    "start_time": "2022-11-12T14:31:33.156Z"
   },
   {
    "duration": 9,
    "start_time": "2022-11-12T14:31:33.169Z"
   },
   {
    "duration": 9,
    "start_time": "2022-11-12T14:31:33.180Z"
   },
   {
    "duration": 50,
    "start_time": "2022-11-12T14:31:33.190Z"
   },
   {
    "duration": 8,
    "start_time": "2022-11-12T14:31:33.241Z"
   },
   {
    "duration": 22,
    "start_time": "2022-11-12T14:31:33.251Z"
   },
   {
    "duration": 11,
    "start_time": "2022-11-12T14:31:33.275Z"
   },
   {
    "duration": 14,
    "start_time": "2022-11-12T14:31:33.288Z"
   },
   {
    "duration": 29,
    "start_time": "2022-11-12T14:31:33.304Z"
   },
   {
    "duration": 22,
    "start_time": "2022-11-12T14:31:33.335Z"
   },
   {
    "duration": 319,
    "start_time": "2022-11-12T14:31:33.359Z"
   },
   {
    "duration": 5,
    "start_time": "2022-11-12T14:31:33.682Z"
   },
   {
    "duration": 25,
    "start_time": "2022-11-12T14:31:33.688Z"
   },
   {
    "duration": 298,
    "start_time": "2022-11-12T14:31:33.715Z"
   },
   {
    "duration": 260,
    "start_time": "2022-11-12T14:31:34.015Z"
   },
   {
    "duration": 196,
    "start_time": "2022-11-12T14:31:34.276Z"
   },
   {
    "duration": 302,
    "start_time": "2022-11-12T14:31:34.474Z"
   },
   {
    "duration": 263,
    "start_time": "2022-11-12T14:31:34.778Z"
   },
   {
    "duration": 135,
    "start_time": "2022-11-12T14:31:35.043Z"
   },
   {
    "duration": 157,
    "start_time": "2022-11-12T14:31:35.180Z"
   },
   {
    "duration": 164,
    "start_time": "2022-11-12T14:31:35.339Z"
   },
   {
    "duration": 180,
    "start_time": "2022-11-12T14:31:35.505Z"
   },
   {
    "duration": 206,
    "start_time": "2022-11-12T14:31:35.687Z"
   },
   {
    "duration": 170,
    "start_time": "2022-11-12T14:31:35.894Z"
   },
   {
    "duration": 271,
    "start_time": "2022-11-12T14:31:36.065Z"
   },
   {
    "duration": 1090,
    "start_time": "2022-11-12T14:38:53.932Z"
   },
   {
    "duration": 7,
    "start_time": "2022-11-12T14:39:12.971Z"
   },
   {
    "duration": 4,
    "start_time": "2022-11-12T14:39:25.603Z"
   },
   {
    "duration": 6,
    "start_time": "2022-11-12T14:39:35.694Z"
   },
   {
    "duration": 13,
    "start_time": "2022-11-12T14:39:59.352Z"
   },
   {
    "duration": 22,
    "start_time": "2022-11-12T14:40:36.779Z"
   },
   {
    "duration": 7,
    "start_time": "2022-11-12T14:45:46.689Z"
   },
   {
    "duration": 171,
    "start_time": "2022-11-12T14:45:57.718Z"
   },
   {
    "duration": 266,
    "start_time": "2022-11-12T14:48:48.813Z"
   },
   {
    "duration": 192,
    "start_time": "2022-11-12T14:50:52.624Z"
   },
   {
    "duration": 178,
    "start_time": "2022-11-12T14:51:22.660Z"
   },
   {
    "duration": 174,
    "start_time": "2022-11-12T14:51:46.648Z"
   },
   {
    "duration": 179,
    "start_time": "2022-11-12T14:53:12.506Z"
   },
   {
    "duration": 189,
    "start_time": "2022-11-12T14:55:07.427Z"
   },
   {
    "duration": 165,
    "start_time": "2022-11-12T14:55:58.974Z"
   },
   {
    "duration": 179,
    "start_time": "2022-11-12T14:56:17.837Z"
   },
   {
    "duration": 107,
    "start_time": "2022-11-12T15:04:13.309Z"
   },
   {
    "duration": 10,
    "start_time": "2022-11-12T15:04:33.948Z"
   },
   {
    "duration": 785,
    "start_time": "2022-11-12T15:05:19.553Z"
   },
   {
    "duration": 13,
    "start_time": "2022-11-12T15:06:10.762Z"
   },
   {
    "duration": 282,
    "start_time": "2022-11-12T15:06:24.512Z"
   },
   {
    "duration": 13,
    "start_time": "2022-11-12T15:06:45.280Z"
   },
   {
    "duration": 8,
    "start_time": "2022-11-12T15:23:11.816Z"
   },
   {
    "duration": 23,
    "start_time": "2022-11-12T15:23:19.534Z"
   },
   {
    "duration": 15,
    "start_time": "2022-11-12T15:30:18.876Z"
   },
   {
    "duration": 18,
    "start_time": "2022-11-12T15:30:39.588Z"
   },
   {
    "duration": 13,
    "start_time": "2022-11-12T15:32:25.707Z"
   },
   {
    "duration": 8,
    "start_time": "2022-11-12T15:32:46.852Z"
   },
   {
    "duration": 9,
    "start_time": "2022-11-12T15:33:32.929Z"
   },
   {
    "duration": 8,
    "start_time": "2022-11-12T15:33:38.382Z"
   },
   {
    "duration": 10,
    "start_time": "2022-11-12T15:34:58.362Z"
   },
   {
    "duration": 12,
    "start_time": "2022-11-12T15:37:48.429Z"
   },
   {
    "duration": 13,
    "start_time": "2022-11-12T15:38:05.041Z"
   },
   {
    "duration": 2106,
    "start_time": "2022-11-12T15:39:43.415Z"
   },
   {
    "duration": 9,
    "start_time": "2022-11-12T15:39:45.529Z"
   },
   {
    "duration": 7,
    "start_time": "2022-11-12T15:39:45.539Z"
   },
   {
    "duration": 4,
    "start_time": "2022-11-12T15:39:45.547Z"
   },
   {
    "duration": 12,
    "start_time": "2022-11-12T15:39:45.553Z"
   },
   {
    "duration": 13,
    "start_time": "2022-11-12T15:39:45.566Z"
   },
   {
    "duration": 5,
    "start_time": "2022-11-12T15:39:45.580Z"
   },
   {
    "duration": 5,
    "start_time": "2022-11-12T15:39:45.586Z"
   },
   {
    "duration": 11,
    "start_time": "2022-11-12T15:39:45.592Z"
   },
   {
    "duration": 3,
    "start_time": "2022-11-12T15:39:45.630Z"
   },
   {
    "duration": 46,
    "start_time": "2022-11-12T15:39:45.635Z"
   },
   {
    "duration": 6,
    "start_time": "2022-11-12T15:39:45.683Z"
   },
   {
    "duration": 9,
    "start_time": "2022-11-12T15:39:45.690Z"
   },
   {
    "duration": 28,
    "start_time": "2022-11-12T15:39:45.702Z"
   },
   {
    "duration": 6,
    "start_time": "2022-11-12T15:39:45.731Z"
   },
   {
    "duration": 17,
    "start_time": "2022-11-12T15:39:45.738Z"
   },
   {
    "duration": 6,
    "start_time": "2022-11-12T15:39:45.757Z"
   },
   {
    "duration": 9,
    "start_time": "2022-11-12T15:39:45.765Z"
   },
   {
    "duration": 6,
    "start_time": "2022-11-12T15:39:45.775Z"
   },
   {
    "duration": 49,
    "start_time": "2022-11-12T15:39:45.783Z"
   },
   {
    "duration": 8,
    "start_time": "2022-11-12T15:39:45.834Z"
   },
   {
    "duration": 23,
    "start_time": "2022-11-12T15:39:45.843Z"
   },
   {
    "duration": 23,
    "start_time": "2022-11-12T15:39:45.867Z"
   },
   {
    "duration": 5,
    "start_time": "2022-11-12T15:39:45.892Z"
   },
   {
    "duration": 3,
    "start_time": "2022-11-12T15:39:45.930Z"
   },
   {
    "duration": 16,
    "start_time": "2022-11-12T15:39:45.934Z"
   },
   {
    "duration": 293,
    "start_time": "2022-11-12T15:39:45.951Z"
   },
   {
    "duration": 6,
    "start_time": "2022-11-12T15:39:46.246Z"
   },
   {
    "duration": 19,
    "start_time": "2022-11-12T15:39:46.253Z"
   },
   {
    "duration": 251,
    "start_time": "2022-11-12T15:39:46.274Z"
   },
   {
    "duration": 257,
    "start_time": "2022-11-12T15:39:46.529Z"
   },
   {
    "duration": 209,
    "start_time": "2022-11-12T15:39:46.788Z"
   },
   {
    "duration": 252,
    "start_time": "2022-11-12T15:39:46.998Z"
   },
   {
    "duration": 190,
    "start_time": "2022-11-12T15:39:47.252Z"
   },
   {
    "duration": 119,
    "start_time": "2022-11-12T15:39:47.443Z"
   },
   {
    "duration": 132,
    "start_time": "2022-11-12T15:39:47.563Z"
   },
   {
    "duration": 161,
    "start_time": "2022-11-12T15:39:47.697Z"
   },
   {
    "duration": 170,
    "start_time": "2022-11-12T15:39:47.860Z"
   },
   {
    "duration": 200,
    "start_time": "2022-11-12T15:39:48.032Z"
   },
   {
    "duration": 167,
    "start_time": "2022-11-12T15:39:48.235Z"
   },
   {
    "duration": 264,
    "start_time": "2022-11-12T15:39:48.405Z"
   },
   {
    "duration": 188,
    "start_time": "2022-11-12T15:39:48.671Z"
   },
   {
    "duration": 309,
    "start_time": "2022-11-12T15:39:48.861Z"
   },
   {
    "duration": 189,
    "start_time": "2022-11-12T15:39:49.172Z"
   },
   {
    "duration": 187,
    "start_time": "2022-11-12T15:39:49.362Z"
   },
   {
    "duration": 182,
    "start_time": "2022-11-12T15:39:49.550Z"
   },
   {
    "duration": 226,
    "start_time": "2022-11-12T15:39:49.733Z"
   },
   {
    "duration": 203,
    "start_time": "2022-11-12T15:39:49.961Z"
   },
   {
    "duration": 201,
    "start_time": "2022-11-12T15:39:50.165Z"
   },
   {
    "duration": 11,
    "start_time": "2022-11-12T15:39:50.368Z"
   },
   {
    "duration": 47,
    "start_time": "2022-11-12T15:39:50.380Z"
   },
   {
    "duration": 27,
    "start_time": "2022-11-12T15:39:50.428Z"
   },
   {
    "duration": 24,
    "start_time": "2022-11-12T15:40:34.627Z"
   },
   {
    "duration": 10,
    "start_time": "2022-11-12T15:41:15.679Z"
   },
   {
    "duration": 17,
    "start_time": "2022-11-12T15:41:42.932Z"
   },
   {
    "duration": 22,
    "start_time": "2022-11-12T15:42:03.382Z"
   },
   {
    "duration": 2656,
    "start_time": "2022-11-13T09:49:10.819Z"
   },
   {
    "duration": 9,
    "start_time": "2022-11-13T09:49:13.477Z"
   },
   {
    "duration": 8,
    "start_time": "2022-11-13T09:49:13.488Z"
   },
   {
    "duration": 6,
    "start_time": "2022-11-13T09:49:13.498Z"
   },
   {
    "duration": 8,
    "start_time": "2022-11-13T09:49:13.505Z"
   },
   {
    "duration": 52,
    "start_time": "2022-11-13T09:49:13.514Z"
   },
   {
    "duration": 7,
    "start_time": "2022-11-13T09:49:13.567Z"
   },
   {
    "duration": 7,
    "start_time": "2022-11-13T09:49:13.576Z"
   },
   {
    "duration": 10,
    "start_time": "2022-11-13T09:49:13.584Z"
   },
   {
    "duration": 3,
    "start_time": "2022-11-13T09:49:13.596Z"
   },
   {
    "duration": 72,
    "start_time": "2022-11-13T09:49:13.600Z"
   },
   {
    "duration": 5,
    "start_time": "2022-11-13T09:49:13.674Z"
   },
   {
    "duration": 10,
    "start_time": "2022-11-13T09:49:13.681Z"
   },
   {
    "duration": 12,
    "start_time": "2022-11-13T09:49:13.692Z"
   },
   {
    "duration": 5,
    "start_time": "2022-11-13T09:49:13.706Z"
   },
   {
    "duration": 46,
    "start_time": "2022-11-13T09:49:13.712Z"
   },
   {
    "duration": 6,
    "start_time": "2022-11-13T09:49:13.761Z"
   },
   {
    "duration": 12,
    "start_time": "2022-11-13T09:49:13.769Z"
   },
   {
    "duration": 6,
    "start_time": "2022-11-13T09:49:13.783Z"
   },
   {
    "duration": 34,
    "start_time": "2022-11-13T09:49:13.792Z"
   },
   {
    "duration": 35,
    "start_time": "2022-11-13T09:49:13.828Z"
   },
   {
    "duration": 27,
    "start_time": "2022-11-13T09:49:13.865Z"
   },
   {
    "duration": 37,
    "start_time": "2022-11-13T09:49:13.894Z"
   },
   {
    "duration": 8,
    "start_time": "2022-11-13T09:49:13.959Z"
   },
   {
    "duration": 10,
    "start_time": "2022-11-13T09:49:13.969Z"
   },
   {
    "duration": 17,
    "start_time": "2022-11-13T09:49:13.981Z"
   },
   {
    "duration": 325,
    "start_time": "2022-11-13T09:49:14.000Z"
   },
   {
    "duration": 5,
    "start_time": "2022-11-13T09:49:14.329Z"
   },
   {
    "duration": 29,
    "start_time": "2022-11-13T09:49:14.337Z"
   },
   {
    "duration": 336,
    "start_time": "2022-11-13T09:49:14.368Z"
   },
   {
    "duration": 349,
    "start_time": "2022-11-13T09:49:14.706Z"
   },
   {
    "duration": 321,
    "start_time": "2022-11-13T09:49:15.059Z"
   },
   {
    "duration": 216,
    "start_time": "2022-11-13T09:49:15.382Z"
   },
   {
    "duration": 213,
    "start_time": "2022-11-13T09:49:15.600Z"
   },
   {
    "duration": 179,
    "start_time": "2022-11-13T09:49:15.815Z"
   },
   {
    "duration": 149,
    "start_time": "2022-11-13T09:49:15.996Z"
   },
   {
    "duration": 211,
    "start_time": "2022-11-13T09:49:16.148Z"
   },
   {
    "duration": 205,
    "start_time": "2022-11-13T09:49:16.361Z"
   },
   {
    "duration": 192,
    "start_time": "2022-11-13T09:49:16.568Z"
   },
   {
    "duration": 181,
    "start_time": "2022-11-13T09:49:16.763Z"
   },
   {
    "duration": 333,
    "start_time": "2022-11-13T09:49:16.945Z"
   },
   {
    "duration": 191,
    "start_time": "2022-11-13T09:49:17.279Z"
   },
   {
    "duration": 200,
    "start_time": "2022-11-13T09:49:17.472Z"
   },
   {
    "duration": 186,
    "start_time": "2022-11-13T09:49:17.674Z"
   },
   {
    "duration": 192,
    "start_time": "2022-11-13T09:49:17.862Z"
   },
   {
    "duration": 182,
    "start_time": "2022-11-13T09:49:18.058Z"
   },
   {
    "duration": 180,
    "start_time": "2022-11-13T09:49:18.242Z"
   },
   {
    "duration": 205,
    "start_time": "2022-11-13T09:49:18.423Z"
   },
   {
    "duration": 198,
    "start_time": "2022-11-13T09:49:18.630Z"
   },
   {
    "duration": 14,
    "start_time": "2022-11-13T09:49:18.830Z"
   },
   {
    "duration": 44,
    "start_time": "2022-11-13T09:49:18.846Z"
   },
   {
    "duration": 20,
    "start_time": "2022-11-13T09:49:18.892Z"
   },
   {
    "duration": 143,
    "start_time": "2022-11-13T09:57:58.566Z"
   },
   {
    "duration": 119,
    "start_time": "2022-11-13T10:03:23.641Z"
   },
   {
    "duration": 19,
    "start_time": "2022-11-13T10:05:54.651Z"
   },
   {
    "duration": 297,
    "start_time": "2022-11-13T10:07:07.257Z"
   },
   {
    "duration": 180,
    "start_time": "2022-11-13T10:08:08.857Z"
   },
   {
    "duration": 137,
    "start_time": "2022-11-13T10:08:23.065Z"
   },
   {
    "duration": 122,
    "start_time": "2022-11-13T10:09:16.505Z"
   },
   {
    "duration": 132,
    "start_time": "2022-11-13T10:10:21.185Z"
   },
   {
    "duration": 9,
    "start_time": "2022-11-13T10:27:27.435Z"
   },
   {
    "duration": 12,
    "start_time": "2022-11-13T10:27:37.314Z"
   },
   {
    "duration": 14,
    "start_time": "2022-11-13T10:30:50.883Z"
   },
   {
    "duration": 12,
    "start_time": "2022-11-13T10:31:03.475Z"
   },
   {
    "duration": 15,
    "start_time": "2022-11-13T10:31:11.941Z"
   },
   {
    "duration": 115,
    "start_time": "2022-11-13T10:31:15.885Z"
   },
   {
    "duration": 133,
    "start_time": "2022-11-13T10:32:39.520Z"
   },
   {
    "duration": 132,
    "start_time": "2022-11-13T10:46:07.816Z"
   },
   {
    "duration": 119,
    "start_time": "2022-11-13T10:46:51.515Z"
   },
   {
    "duration": 228,
    "start_time": "2022-11-13T10:51:59.944Z"
   },
   {
    "duration": 135,
    "start_time": "2022-11-13T11:03:30.808Z"
   },
   {
    "duration": 285,
    "start_time": "2022-11-13T11:03:51.588Z"
   },
   {
    "duration": 132,
    "start_time": "2022-11-13T11:09:50.072Z"
   },
   {
    "duration": 321,
    "start_time": "2022-11-13T11:11:14.472Z"
   },
   {
    "duration": 128,
    "start_time": "2022-11-13T11:13:24.452Z"
   },
   {
    "duration": 7,
    "start_time": "2022-11-13T11:25:49.118Z"
   },
   {
    "duration": 22,
    "start_time": "2022-11-13T11:26:06.835Z"
   },
   {
    "duration": 7,
    "start_time": "2022-11-13T11:26:24.079Z"
   },
   {
    "duration": 7,
    "start_time": "2022-11-13T11:26:27.016Z"
   },
   {
    "duration": 16,
    "start_time": "2022-11-13T11:26:53.679Z"
   },
   {
    "duration": 18,
    "start_time": "2022-11-13T11:27:05.137Z"
   },
   {
    "duration": 139,
    "start_time": "2022-11-13T11:27:13.003Z"
   },
   {
    "duration": 22,
    "start_time": "2022-11-13T12:09:54.791Z"
   },
   {
    "duration": 129,
    "start_time": "2022-11-13T12:10:05.883Z"
   },
   {
    "duration": 289,
    "start_time": "2022-11-13T12:22:19.894Z"
   },
   {
    "duration": 322,
    "start_time": "2022-11-13T12:24:38.406Z"
   },
   {
    "duration": 309,
    "start_time": "2022-11-13T12:24:47.936Z"
   },
   {
    "duration": 2146,
    "start_time": "2022-11-13T12:28:47.392Z"
   },
   {
    "duration": 20,
    "start_time": "2022-11-13T12:28:49.540Z"
   },
   {
    "duration": 9,
    "start_time": "2022-11-13T12:28:49.561Z"
   },
   {
    "duration": 5,
    "start_time": "2022-11-13T12:28:49.572Z"
   },
   {
    "duration": 7,
    "start_time": "2022-11-13T12:28:49.579Z"
   },
   {
    "duration": 13,
    "start_time": "2022-11-13T12:28:49.588Z"
   },
   {
    "duration": 7,
    "start_time": "2022-11-13T12:28:49.602Z"
   },
   {
    "duration": 9,
    "start_time": "2022-11-13T12:28:49.611Z"
   },
   {
    "duration": 38,
    "start_time": "2022-11-13T12:28:49.621Z"
   },
   {
    "duration": 4,
    "start_time": "2022-11-13T12:28:49.662Z"
   },
   {
    "duration": 49,
    "start_time": "2022-11-13T12:28:49.667Z"
   },
   {
    "duration": 7,
    "start_time": "2022-11-13T12:28:49.718Z"
   },
   {
    "duration": 10,
    "start_time": "2022-11-13T12:28:49.726Z"
   },
   {
    "duration": 26,
    "start_time": "2022-11-13T12:28:49.738Z"
   },
   {
    "duration": 6,
    "start_time": "2022-11-13T12:28:49.766Z"
   },
   {
    "duration": 25,
    "start_time": "2022-11-13T12:28:49.773Z"
   },
   {
    "duration": 5,
    "start_time": "2022-11-13T12:28:49.799Z"
   },
   {
    "duration": 9,
    "start_time": "2022-11-13T12:28:49.806Z"
   },
   {
    "duration": 9,
    "start_time": "2022-11-13T12:28:49.817Z"
   },
   {
    "duration": 41,
    "start_time": "2022-11-13T12:28:49.827Z"
   },
   {
    "duration": 17,
    "start_time": "2022-11-13T12:28:49.870Z"
   },
   {
    "duration": 20,
    "start_time": "2022-11-13T12:28:49.889Z"
   },
   {
    "duration": 21,
    "start_time": "2022-11-13T12:28:49.911Z"
   },
   {
    "duration": 28,
    "start_time": "2022-11-13T12:28:49.933Z"
   },
   {
    "duration": 14,
    "start_time": "2022-11-13T12:28:49.962Z"
   },
   {
    "duration": 332,
    "start_time": "2022-11-13T12:28:49.977Z"
   },
   {
    "duration": 4,
    "start_time": "2022-11-13T12:28:50.311Z"
   },
   {
    "duration": 13,
    "start_time": "2022-11-13T12:28:50.319Z"
   },
   {
    "duration": 246,
    "start_time": "2022-11-13T12:28:50.333Z"
   },
   {
    "duration": 273,
    "start_time": "2022-11-13T12:28:50.580Z"
   },
   {
    "duration": 183,
    "start_time": "2022-11-13T12:28:50.858Z"
   },
   {
    "duration": 279,
    "start_time": "2022-11-13T12:28:51.043Z"
   },
   {
    "duration": 191,
    "start_time": "2022-11-13T12:28:51.323Z"
   },
   {
    "duration": 128,
    "start_time": "2022-11-13T12:28:51.516Z"
   },
   {
    "duration": 141,
    "start_time": "2022-11-13T12:28:51.645Z"
   },
   {
    "duration": 163,
    "start_time": "2022-11-13T12:28:51.788Z"
   },
   {
    "duration": 321,
    "start_time": "2022-11-13T12:28:51.958Z"
   },
   {
    "duration": 161,
    "start_time": "2022-11-13T12:28:52.280Z"
   },
   {
    "duration": 176,
    "start_time": "2022-11-13T12:28:52.442Z"
   },
   {
    "duration": 172,
    "start_time": "2022-11-13T12:28:52.619Z"
   },
   {
    "duration": 339,
    "start_time": "2022-11-13T12:28:52.792Z"
   },
   {
    "duration": 188,
    "start_time": "2022-11-13T12:28:53.133Z"
   },
   {
    "duration": 187,
    "start_time": "2022-11-13T12:28:53.322Z"
   },
   {
    "duration": 182,
    "start_time": "2022-11-13T12:28:53.510Z"
   },
   {
    "duration": 188,
    "start_time": "2022-11-13T12:28:53.694Z"
   },
   {
    "duration": 171,
    "start_time": "2022-11-13T12:28:53.884Z"
   },
   {
    "duration": 183,
    "start_time": "2022-11-13T12:28:54.056Z"
   },
   {
    "duration": 193,
    "start_time": "2022-11-13T12:28:54.241Z"
   },
   {
    "duration": 183,
    "start_time": "2022-11-13T12:28:54.435Z"
   },
   {
    "duration": 12,
    "start_time": "2022-11-13T12:28:54.619Z"
   },
   {
    "duration": 181,
    "start_time": "2022-11-13T12:28:54.632Z"
   },
   {
    "duration": 18,
    "start_time": "2022-11-13T12:28:54.814Z"
   },
   {
    "duration": 152,
    "start_time": "2022-11-13T12:28:54.834Z"
   },
   {
    "duration": 139,
    "start_time": "2022-11-13T12:28:54.988Z"
   },
   {
    "duration": 135,
    "start_time": "2022-11-13T12:28:55.128Z"
   },
   {
    "duration": 266,
    "start_time": "2022-11-13T12:28:55.265Z"
   },
   {
    "duration": 133,
    "start_time": "2022-11-13T12:28:55.533Z"
   },
   {
    "duration": 22,
    "start_time": "2022-11-13T12:28:55.668Z"
   },
   {
    "duration": 18,
    "start_time": "2022-11-13T12:28:55.692Z"
   },
   {
    "duration": 150,
    "start_time": "2022-11-13T12:28:55.712Z"
   },
   {
    "duration": 2095,
    "start_time": "2022-11-13T12:29:30.602Z"
   },
   {
    "duration": 9,
    "start_time": "2022-11-13T12:29:32.699Z"
   },
   {
    "duration": 9,
    "start_time": "2022-11-13T12:29:32.709Z"
   },
   {
    "duration": 4,
    "start_time": "2022-11-13T12:29:32.720Z"
   },
   {
    "duration": 6,
    "start_time": "2022-11-13T12:29:32.726Z"
   },
   {
    "duration": 35,
    "start_time": "2022-11-13T12:29:32.733Z"
   },
   {
    "duration": 6,
    "start_time": "2022-11-13T12:29:32.770Z"
   },
   {
    "duration": 8,
    "start_time": "2022-11-13T12:29:32.778Z"
   },
   {
    "duration": 11,
    "start_time": "2022-11-13T12:29:32.787Z"
   },
   {
    "duration": 4,
    "start_time": "2022-11-13T12:29:32.800Z"
   },
   {
    "duration": 74,
    "start_time": "2022-11-13T12:29:32.806Z"
   },
   {
    "duration": 6,
    "start_time": "2022-11-13T12:29:32.881Z"
   },
   {
    "duration": 10,
    "start_time": "2022-11-13T12:29:32.889Z"
   },
   {
    "duration": 6,
    "start_time": "2022-11-13T12:29:32.902Z"
   },
   {
    "duration": 9,
    "start_time": "2022-11-13T12:29:32.909Z"
   },
   {
    "duration": 43,
    "start_time": "2022-11-13T12:29:32.919Z"
   },
   {
    "duration": 5,
    "start_time": "2022-11-13T12:29:32.964Z"
   },
   {
    "duration": 13,
    "start_time": "2022-11-13T12:29:32.971Z"
   },
   {
    "duration": 6,
    "start_time": "2022-11-13T12:29:32.985Z"
   },
   {
    "duration": 25,
    "start_time": "2022-11-13T12:29:32.993Z"
   },
   {
    "duration": 41,
    "start_time": "2022-11-13T12:29:33.019Z"
   },
   {
    "duration": 25,
    "start_time": "2022-11-13T12:29:33.062Z"
   },
   {
    "duration": 25,
    "start_time": "2022-11-13T12:29:33.090Z"
   },
   {
    "duration": 4,
    "start_time": "2022-11-13T12:29:33.117Z"
   },
   {
    "duration": 43,
    "start_time": "2022-11-13T12:29:33.122Z"
   },
   {
    "duration": 328,
    "start_time": "2022-11-13T12:29:33.166Z"
   },
   {
    "duration": 5,
    "start_time": "2022-11-13T12:29:33.496Z"
   },
   {
    "duration": 16,
    "start_time": "2022-11-13T12:29:33.502Z"
   },
   {
    "duration": 280,
    "start_time": "2022-11-13T12:29:33.520Z"
   },
   {
    "duration": 276,
    "start_time": "2022-11-13T12:29:33.802Z"
   },
   {
    "duration": 192,
    "start_time": "2022-11-13T12:29:34.081Z"
   },
   {
    "duration": 271,
    "start_time": "2022-11-13T12:29:34.275Z"
   },
   {
    "duration": 258,
    "start_time": "2022-11-13T12:29:34.548Z"
   },
   {
    "duration": 129,
    "start_time": "2022-11-13T12:29:34.808Z"
   },
   {
    "duration": 135,
    "start_time": "2022-11-13T12:29:34.939Z"
   },
   {
    "duration": 190,
    "start_time": "2022-11-13T12:29:35.076Z"
   },
   {
    "duration": 313,
    "start_time": "2022-11-13T12:29:35.268Z"
   },
   {
    "duration": 166,
    "start_time": "2022-11-13T12:29:35.583Z"
   },
   {
    "duration": 169,
    "start_time": "2022-11-13T12:29:35.751Z"
   },
   {
    "duration": 143,
    "start_time": "2022-11-13T12:29:35.922Z"
   },
   {
    "duration": 325,
    "start_time": "2022-11-13T12:29:36.069Z"
   },
   {
    "duration": 178,
    "start_time": "2022-11-13T12:29:36.395Z"
   },
   {
    "duration": 203,
    "start_time": "2022-11-13T12:29:36.575Z"
   },
   {
    "duration": 186,
    "start_time": "2022-11-13T12:29:36.779Z"
   },
   {
    "duration": 180,
    "start_time": "2022-11-13T12:29:36.966Z"
   },
   {
    "duration": 180,
    "start_time": "2022-11-13T12:29:37.148Z"
   },
   {
    "duration": 180,
    "start_time": "2022-11-13T12:29:37.330Z"
   },
   {
    "duration": 181,
    "start_time": "2022-11-13T12:29:37.512Z"
   },
   {
    "duration": 184,
    "start_time": "2022-11-13T12:29:37.694Z"
   },
   {
    "duration": 11,
    "start_time": "2022-11-13T12:29:37.880Z"
   },
   {
    "duration": 154,
    "start_time": "2022-11-13T12:29:37.893Z"
   },
   {
    "duration": 18,
    "start_time": "2022-11-13T12:29:38.049Z"
   },
   {
    "duration": 121,
    "start_time": "2022-11-13T12:29:38.069Z"
   },
   {
    "duration": 134,
    "start_time": "2022-11-13T12:29:38.192Z"
   },
   {
    "duration": 132,
    "start_time": "2022-11-13T12:29:38.327Z"
   },
   {
    "duration": 299,
    "start_time": "2022-11-13T12:29:38.460Z"
   },
   {
    "duration": 134,
    "start_time": "2022-11-13T12:29:38.761Z"
   },
   {
    "duration": 23,
    "start_time": "2022-11-13T12:29:38.896Z"
   },
   {
    "duration": 38,
    "start_time": "2022-11-13T12:29:38.921Z"
   },
   {
    "duration": 129,
    "start_time": "2022-11-13T12:29:38.961Z"
   },
   {
    "duration": 2416,
    "start_time": "2022-11-13T13:29:11.655Z"
   },
   {
    "duration": 9,
    "start_time": "2022-11-13T13:29:14.073Z"
   },
   {
    "duration": 8,
    "start_time": "2022-11-13T13:29:14.084Z"
   },
   {
    "duration": 5,
    "start_time": "2022-11-13T13:29:14.094Z"
   },
   {
    "duration": 10,
    "start_time": "2022-11-13T13:29:14.101Z"
   },
   {
    "duration": 14,
    "start_time": "2022-11-13T13:29:14.112Z"
   },
   {
    "duration": 37,
    "start_time": "2022-11-13T13:29:14.127Z"
   },
   {
    "duration": 23,
    "start_time": "2022-11-13T13:29:14.165Z"
   },
   {
    "duration": 27,
    "start_time": "2022-11-13T13:29:14.189Z"
   },
   {
    "duration": 10,
    "start_time": "2022-11-13T13:29:14.219Z"
   },
   {
    "duration": 56,
    "start_time": "2022-11-13T13:29:14.230Z"
   },
   {
    "duration": 6,
    "start_time": "2022-11-13T13:29:14.288Z"
   },
   {
    "duration": 26,
    "start_time": "2022-11-13T13:29:14.296Z"
   },
   {
    "duration": 23,
    "start_time": "2022-11-13T13:29:14.324Z"
   },
   {
    "duration": 26,
    "start_time": "2022-11-13T13:29:14.349Z"
   },
   {
    "duration": 31,
    "start_time": "2022-11-13T13:29:14.377Z"
   },
   {
    "duration": 10,
    "start_time": "2022-11-13T13:29:14.409Z"
   },
   {
    "duration": 14,
    "start_time": "2022-11-13T13:29:14.420Z"
   },
   {
    "duration": 9,
    "start_time": "2022-11-13T13:29:14.436Z"
   },
   {
    "duration": 28,
    "start_time": "2022-11-13T13:29:14.446Z"
   },
   {
    "duration": 18,
    "start_time": "2022-11-13T13:29:14.475Z"
   },
   {
    "duration": 27,
    "start_time": "2022-11-13T13:29:14.495Z"
   },
   {
    "duration": 38,
    "start_time": "2022-11-13T13:29:14.524Z"
   },
   {
    "duration": 18,
    "start_time": "2022-11-13T13:29:14.564Z"
   },
   {
    "duration": 40,
    "start_time": "2022-11-13T13:29:14.584Z"
   },
   {
    "duration": 383,
    "start_time": "2022-11-13T13:29:14.627Z"
   },
   {
    "duration": 6,
    "start_time": "2022-11-13T13:29:15.012Z"
   },
   {
    "duration": 27,
    "start_time": "2022-11-13T13:29:15.023Z"
   },
   {
    "duration": 266,
    "start_time": "2022-11-13T13:29:15.052Z"
   },
   {
    "duration": 269,
    "start_time": "2022-11-13T13:29:15.320Z"
   },
   {
    "duration": 253,
    "start_time": "2022-11-13T13:29:15.592Z"
   },
   {
    "duration": 204,
    "start_time": "2022-11-13T13:29:15.847Z"
   },
   {
    "duration": 200,
    "start_time": "2022-11-13T13:29:16.053Z"
   },
   {
    "duration": 136,
    "start_time": "2022-11-13T13:29:16.254Z"
   },
   {
    "duration": 139,
    "start_time": "2022-11-13T13:29:16.391Z"
   },
   {
    "duration": 214,
    "start_time": "2022-11-13T13:29:16.531Z"
   },
   {
    "duration": 327,
    "start_time": "2022-11-13T13:29:16.747Z"
   },
   {
    "duration": 162,
    "start_time": "2022-11-13T13:29:17.076Z"
   },
   {
    "duration": 170,
    "start_time": "2022-11-13T13:29:17.240Z"
   },
   {
    "duration": 222,
    "start_time": "2022-11-13T13:29:17.411Z"
   },
   {
    "duration": 239,
    "start_time": "2022-11-13T13:29:17.635Z"
   },
   {
    "duration": 186,
    "start_time": "2022-11-13T13:29:17.875Z"
   },
   {
    "duration": 224,
    "start_time": "2022-11-13T13:29:18.062Z"
   },
   {
    "duration": 190,
    "start_time": "2022-11-13T13:29:18.288Z"
   },
   {
    "duration": 191,
    "start_time": "2022-11-13T13:29:18.480Z"
   },
   {
    "duration": 186,
    "start_time": "2022-11-13T13:29:18.673Z"
   },
   {
    "duration": 179,
    "start_time": "2022-11-13T13:29:18.861Z"
   },
   {
    "duration": 195,
    "start_time": "2022-11-13T13:29:19.041Z"
   },
   {
    "duration": 181,
    "start_time": "2022-11-13T13:29:19.239Z"
   },
   {
    "duration": 12,
    "start_time": "2022-11-13T13:29:19.422Z"
   },
   {
    "duration": 145,
    "start_time": "2022-11-13T13:29:19.435Z"
   },
   {
    "duration": 14,
    "start_time": "2022-11-13T13:29:19.581Z"
   },
   {
    "duration": 129,
    "start_time": "2022-11-13T13:29:19.597Z"
   },
   {
    "duration": 125,
    "start_time": "2022-11-13T13:29:19.727Z"
   },
   {
    "duration": 127,
    "start_time": "2022-11-13T13:29:19.858Z"
   },
   {
    "duration": 280,
    "start_time": "2022-11-13T13:29:19.987Z"
   },
   {
    "duration": 237,
    "start_time": "2022-11-13T13:29:20.269Z"
   },
   {
    "duration": 24,
    "start_time": "2022-11-13T13:29:20.507Z"
   },
   {
    "duration": 31,
    "start_time": "2022-11-13T13:29:20.532Z"
   },
   {
    "duration": 132,
    "start_time": "2022-11-13T13:29:20.565Z"
   },
   {
    "duration": 21,
    "start_time": "2022-11-13T13:37:05.250Z"
   },
   {
    "duration": 169,
    "start_time": "2022-11-13T13:41:13.708Z"
   },
   {
    "duration": 137,
    "start_time": "2022-11-13T13:41:16.467Z"
   },
   {
    "duration": 49,
    "start_time": "2022-11-18T06:36:06.708Z"
   },
   {
    "duration": 2546,
    "start_time": "2022-11-18T06:36:16.805Z"
   },
   {
    "duration": 7,
    "start_time": "2022-11-18T06:36:21.361Z"
   },
   {
    "duration": 2364,
    "start_time": "2022-11-18T06:47:17.661Z"
   },
   {
    "duration": 9,
    "start_time": "2022-11-18T06:47:20.027Z"
   },
   {
    "duration": 8,
    "start_time": "2022-11-18T06:47:20.050Z"
   },
   {
    "duration": 11,
    "start_time": "2022-11-18T06:47:20.060Z"
   },
   {
    "duration": 11,
    "start_time": "2022-11-18T06:47:20.073Z"
   },
   {
    "duration": 13,
    "start_time": "2022-11-18T06:47:20.086Z"
   },
   {
    "duration": 8,
    "start_time": "2022-11-18T06:47:20.101Z"
   },
   {
    "duration": 5,
    "start_time": "2022-11-18T06:47:20.110Z"
   },
   {
    "duration": 41,
    "start_time": "2022-11-18T06:47:20.117Z"
   },
   {
    "duration": 5,
    "start_time": "2022-11-18T06:47:20.161Z"
   },
   {
    "duration": 58,
    "start_time": "2022-11-18T06:47:20.167Z"
   },
   {
    "duration": 6,
    "start_time": "2022-11-18T06:47:20.227Z"
   },
   {
    "duration": 25,
    "start_time": "2022-11-18T06:47:20.235Z"
   },
   {
    "duration": 7,
    "start_time": "2022-11-18T06:47:20.261Z"
   },
   {
    "duration": 5,
    "start_time": "2022-11-18T06:47:20.270Z"
   },
   {
    "duration": 20,
    "start_time": "2022-11-18T06:47:20.276Z"
   },
   {
    "duration": 6,
    "start_time": "2022-11-18T06:47:20.298Z"
   },
   {
    "duration": 46,
    "start_time": "2022-11-18T06:47:20.306Z"
   },
   {
    "duration": 5,
    "start_time": "2022-11-18T06:47:20.354Z"
   },
   {
    "duration": 29,
    "start_time": "2022-11-18T06:47:20.360Z"
   },
   {
    "duration": 17,
    "start_time": "2022-11-18T06:47:20.390Z"
   },
   {
    "duration": 48,
    "start_time": "2022-11-18T06:47:20.408Z"
   },
   {
    "duration": 26,
    "start_time": "2022-11-18T06:47:20.457Z"
   },
   {
    "duration": 5,
    "start_time": "2022-11-18T06:47:20.485Z"
   },
   {
    "duration": 18,
    "start_time": "2022-11-18T06:47:20.491Z"
   },
   {
    "duration": 367,
    "start_time": "2022-11-18T06:47:20.510Z"
   },
   {
    "duration": 5,
    "start_time": "2022-11-18T06:47:20.878Z"
   },
   {
    "duration": 22,
    "start_time": "2022-11-18T06:47:20.888Z"
   },
   {
    "duration": 286,
    "start_time": "2022-11-18T06:47:20.911Z"
   },
   {
    "duration": 271,
    "start_time": "2022-11-18T06:47:21.199Z"
   },
   {
    "duration": 208,
    "start_time": "2022-11-18T06:47:21.472Z"
   },
   {
    "duration": 311,
    "start_time": "2022-11-18T06:47:21.683Z"
   },
   {
    "duration": 222,
    "start_time": "2022-11-18T06:47:21.996Z"
   },
   {
    "duration": 148,
    "start_time": "2022-11-18T06:47:22.220Z"
   },
   {
    "duration": 157,
    "start_time": "2022-11-18T06:47:22.370Z"
   },
   {
    "duration": 196,
    "start_time": "2022-11-18T06:47:22.529Z"
   },
   {
    "duration": 376,
    "start_time": "2022-11-18T06:47:22.727Z"
   },
   {
    "duration": 193,
    "start_time": "2022-11-18T06:47:23.105Z"
   },
   {
    "duration": 193,
    "start_time": "2022-11-18T06:47:23.299Z"
   },
   {
    "duration": 170,
    "start_time": "2022-11-18T06:47:23.493Z"
   },
   {
    "duration": 376,
    "start_time": "2022-11-18T06:47:23.665Z"
   },
   {
    "duration": 220,
    "start_time": "2022-11-18T06:47:24.050Z"
   },
   {
    "duration": 235,
    "start_time": "2022-11-18T06:47:24.272Z"
   },
   {
    "duration": 210,
    "start_time": "2022-11-18T06:47:24.509Z"
   },
   {
    "duration": 208,
    "start_time": "2022-11-18T06:47:24.720Z"
   },
   {
    "duration": 212,
    "start_time": "2022-11-18T06:47:24.929Z"
   },
   {
    "duration": 215,
    "start_time": "2022-11-18T06:47:25.143Z"
   },
   {
    "duration": 202,
    "start_time": "2022-11-18T06:47:25.360Z"
   },
   {
    "duration": 213,
    "start_time": "2022-11-18T06:47:25.564Z"
   },
   {
    "duration": 14,
    "start_time": "2022-11-18T06:47:25.779Z"
   },
   {
    "duration": 168,
    "start_time": "2022-11-18T06:47:25.794Z"
   },
   {
    "duration": 17,
    "start_time": "2022-11-18T06:47:25.964Z"
   },
   {
    "duration": 141,
    "start_time": "2022-11-18T06:47:25.983Z"
   },
   {
    "duration": 161,
    "start_time": "2022-11-18T06:47:26.126Z"
   },
   {
    "duration": 136,
    "start_time": "2022-11-18T06:47:26.289Z"
   },
   {
    "duration": 326,
    "start_time": "2022-11-18T06:47:26.428Z"
   },
   {
    "duration": 151,
    "start_time": "2022-11-18T06:47:26.756Z"
   },
   {
    "duration": 52,
    "start_time": "2022-11-18T06:47:26.909Z"
   },
   {
    "duration": 29,
    "start_time": "2022-11-18T06:47:26.963Z"
   },
   {
    "duration": 195,
    "start_time": "2022-11-18T06:47:26.994Z"
   },
   {
    "duration": 2398,
    "start_time": "2022-11-18T06:48:47.098Z"
   },
   {
    "duration": 11,
    "start_time": "2022-11-18T06:48:49.498Z"
   },
   {
    "duration": 8,
    "start_time": "2022-11-18T06:48:49.511Z"
   },
   {
    "duration": 29,
    "start_time": "2022-11-18T06:48:49.522Z"
   },
   {
    "duration": 8,
    "start_time": "2022-11-18T06:48:49.553Z"
   },
   {
    "duration": 17,
    "start_time": "2022-11-18T06:48:49.563Z"
   },
   {
    "duration": 12,
    "start_time": "2022-11-18T06:48:49.584Z"
   },
   {
    "duration": 8,
    "start_time": "2022-11-18T06:48:49.598Z"
   },
   {
    "duration": 18,
    "start_time": "2022-11-18T06:48:49.608Z"
   },
   {
    "duration": 24,
    "start_time": "2022-11-18T06:48:49.650Z"
   },
   {
    "duration": 69,
    "start_time": "2022-11-18T06:48:49.677Z"
   },
   {
    "duration": 8,
    "start_time": "2022-11-18T06:48:49.748Z"
   },
   {
    "duration": 47,
    "start_time": "2022-11-18T06:48:49.759Z"
   },
   {
    "duration": 9,
    "start_time": "2022-11-18T06:48:49.808Z"
   },
   {
    "duration": 10,
    "start_time": "2022-11-18T06:48:49.819Z"
   },
   {
    "duration": 23,
    "start_time": "2022-11-18T06:48:49.831Z"
   },
   {
    "duration": 8,
    "start_time": "2022-11-18T06:48:49.856Z"
   },
   {
    "duration": 31,
    "start_time": "2022-11-18T06:48:49.866Z"
   },
   {
    "duration": 12,
    "start_time": "2022-11-18T06:48:49.899Z"
   },
   {
    "duration": 43,
    "start_time": "2022-11-18T06:48:49.913Z"
   },
   {
    "duration": 20,
    "start_time": "2022-11-18T06:48:49.959Z"
   },
   {
    "duration": 25,
    "start_time": "2022-11-18T06:48:49.981Z"
   },
   {
    "duration": 63,
    "start_time": "2022-11-18T06:48:50.009Z"
   },
   {
    "duration": 6,
    "start_time": "2022-11-18T06:48:50.074Z"
   },
   {
    "duration": 21,
    "start_time": "2022-11-18T06:48:50.082Z"
   },
   {
    "duration": 399,
    "start_time": "2022-11-18T06:48:50.105Z"
   },
   {
    "duration": 7,
    "start_time": "2022-11-18T06:48:50.505Z"
   },
   {
    "duration": 20,
    "start_time": "2022-11-18T06:48:50.516Z"
   },
   {
    "duration": 294,
    "start_time": "2022-11-18T06:48:50.550Z"
   },
   {
    "duration": 278,
    "start_time": "2022-11-18T06:48:50.846Z"
   },
   {
    "duration": 229,
    "start_time": "2022-11-18T06:48:51.126Z"
   },
   {
    "duration": 318,
    "start_time": "2022-11-18T06:48:51.358Z"
   },
   {
    "duration": 229,
    "start_time": "2022-11-18T06:48:51.678Z"
   },
   {
    "duration": 146,
    "start_time": "2022-11-18T06:48:51.908Z"
   },
   {
    "duration": 182,
    "start_time": "2022-11-18T06:48:52.056Z"
   },
   {
    "duration": 191,
    "start_time": "2022-11-18T06:48:52.240Z"
   },
   {
    "duration": 358,
    "start_time": "2022-11-18T06:48:52.433Z"
   },
   {
    "duration": 185,
    "start_time": "2022-11-18T06:48:52.792Z"
   },
   {
    "duration": 195,
    "start_time": "2022-11-18T06:48:52.979Z"
   },
   {
    "duration": 165,
    "start_time": "2022-11-18T06:48:53.175Z"
   },
   {
    "duration": 425,
    "start_time": "2022-11-18T06:48:53.342Z"
   },
   {
    "duration": 218,
    "start_time": "2022-11-18T06:48:53.769Z"
   },
   {
    "duration": 242,
    "start_time": "2022-11-18T06:48:53.990Z"
   },
   {
    "duration": 240,
    "start_time": "2022-11-18T06:48:54.235Z"
   },
   {
    "duration": 213,
    "start_time": "2022-11-18T06:48:54.477Z"
   },
   {
    "duration": 225,
    "start_time": "2022-11-18T06:48:54.692Z"
   },
   {
    "duration": 250,
    "start_time": "2022-11-18T06:48:54.919Z"
   },
   {
    "duration": 265,
    "start_time": "2022-11-18T06:48:55.171Z"
   },
   {
    "duration": 224,
    "start_time": "2022-11-18T06:48:55.438Z"
   },
   {
    "duration": 15,
    "start_time": "2022-11-18T06:48:55.664Z"
   },
   {
    "duration": 177,
    "start_time": "2022-11-18T06:48:55.681Z"
   },
   {
    "duration": 25,
    "start_time": "2022-11-18T06:48:55.860Z"
   },
   {
    "duration": 164,
    "start_time": "2022-11-18T06:48:55.887Z"
   },
   {
    "duration": 174,
    "start_time": "2022-11-18T06:48:56.053Z"
   },
   {
    "duration": 146,
    "start_time": "2022-11-18T06:48:56.231Z"
   },
   {
    "duration": 313,
    "start_time": "2022-11-18T06:48:56.380Z"
   },
   {
    "duration": 158,
    "start_time": "2022-11-18T06:48:56.695Z"
   },
   {
    "duration": 26,
    "start_time": "2022-11-18T06:48:56.855Z"
   },
   {
    "duration": 34,
    "start_time": "2022-11-18T06:48:56.883Z"
   },
   {
    "duration": 189,
    "start_time": "2022-11-18T06:48:56.919Z"
   },
   {
    "duration": 2155,
    "start_time": "2022-11-18T06:49:45.099Z"
   },
   {
    "duration": 10,
    "start_time": "2022-11-18T06:49:47.255Z"
   },
   {
    "duration": 10,
    "start_time": "2022-11-18T06:49:47.267Z"
   },
   {
    "duration": 4,
    "start_time": "2022-11-18T06:49:47.279Z"
   },
   {
    "duration": 7,
    "start_time": "2022-11-18T06:49:47.285Z"
   },
   {
    "duration": 11,
    "start_time": "2022-11-18T06:49:47.294Z"
   },
   {
    "duration": 7,
    "start_time": "2022-11-18T06:49:47.307Z"
   },
   {
    "duration": 42,
    "start_time": "2022-11-18T06:49:47.315Z"
   },
   {
    "duration": 11,
    "start_time": "2022-11-18T06:49:47.358Z"
   },
   {
    "duration": 4,
    "start_time": "2022-11-18T06:49:47.372Z"
   },
   {
    "duration": 50,
    "start_time": "2022-11-18T06:49:47.378Z"
   },
   {
    "duration": 24,
    "start_time": "2022-11-18T06:49:47.430Z"
   },
   {
    "duration": 10,
    "start_time": "2022-11-18T06:49:47.456Z"
   },
   {
    "duration": 9,
    "start_time": "2022-11-18T06:49:47.467Z"
   },
   {
    "duration": 5,
    "start_time": "2022-11-18T06:49:47.478Z"
   },
   {
    "duration": 19,
    "start_time": "2022-11-18T06:49:47.485Z"
   },
   {
    "duration": 5,
    "start_time": "2022-11-18T06:49:47.506Z"
   },
   {
    "duration": 40,
    "start_time": "2022-11-18T06:49:47.513Z"
   },
   {
    "duration": 8,
    "start_time": "2022-11-18T06:49:47.555Z"
   },
   {
    "duration": 28,
    "start_time": "2022-11-18T06:49:47.565Z"
   },
   {
    "duration": 17,
    "start_time": "2022-11-18T06:49:47.594Z"
   },
   {
    "duration": 47,
    "start_time": "2022-11-18T06:49:47.612Z"
   },
   {
    "duration": 23,
    "start_time": "2022-11-18T06:49:47.661Z"
   },
   {
    "duration": 4,
    "start_time": "2022-11-18T06:49:47.685Z"
   },
   {
    "duration": 17,
    "start_time": "2022-11-18T06:49:47.691Z"
   },
   {
    "duration": 364,
    "start_time": "2022-11-18T06:49:47.710Z"
   },
   {
    "duration": 4,
    "start_time": "2022-11-18T06:49:48.076Z"
   },
   {
    "duration": 17,
    "start_time": "2022-11-18T06:49:48.084Z"
   },
   {
    "duration": 316,
    "start_time": "2022-11-18T06:49:48.103Z"
   },
   {
    "duration": 269,
    "start_time": "2022-11-18T06:49:48.420Z"
   },
   {
    "duration": 210,
    "start_time": "2022-11-18T06:49:48.690Z"
   },
   {
    "duration": 334,
    "start_time": "2022-11-18T06:49:48.902Z"
   },
   {
    "duration": 246,
    "start_time": "2022-11-18T06:49:49.238Z"
   },
   {
    "duration": 178,
    "start_time": "2022-11-18T06:49:49.486Z"
   },
   {
    "duration": 191,
    "start_time": "2022-11-18T06:49:49.666Z"
   },
   {
    "duration": 210,
    "start_time": "2022-11-18T06:49:49.859Z"
   },
   {
    "duration": 417,
    "start_time": "2022-11-18T06:49:50.072Z"
   },
   {
    "duration": 233,
    "start_time": "2022-11-18T06:49:50.492Z"
   },
   {
    "duration": 215,
    "start_time": "2022-11-18T06:49:50.727Z"
   },
   {
    "duration": 179,
    "start_time": "2022-11-18T06:49:50.951Z"
   },
   {
    "duration": 380,
    "start_time": "2022-11-18T06:49:51.132Z"
   },
   {
    "duration": 221,
    "start_time": "2022-11-18T06:49:51.513Z"
   },
   {
    "duration": 239,
    "start_time": "2022-11-18T06:49:51.736Z"
   },
   {
    "duration": 224,
    "start_time": "2022-11-18T06:49:51.977Z"
   },
   {
    "duration": 233,
    "start_time": "2022-11-18T06:49:52.202Z"
   },
   {
    "duration": 210,
    "start_time": "2022-11-18T06:49:52.437Z"
   },
   {
    "duration": 215,
    "start_time": "2022-11-18T06:49:52.650Z"
   },
   {
    "duration": 216,
    "start_time": "2022-11-18T06:49:52.866Z"
   },
   {
    "duration": 215,
    "start_time": "2022-11-18T06:49:53.084Z"
   },
   {
    "duration": 14,
    "start_time": "2022-11-18T06:49:53.301Z"
   },
   {
    "duration": 172,
    "start_time": "2022-11-18T06:49:53.316Z"
   },
   {
    "duration": 16,
    "start_time": "2022-11-18T06:49:53.489Z"
   },
   {
    "duration": 144,
    "start_time": "2022-11-18T06:49:53.507Z"
   },
   {
    "duration": 155,
    "start_time": "2022-11-18T06:49:53.652Z"
   },
   {
    "duration": 144,
    "start_time": "2022-11-18T06:49:53.809Z"
   },
   {
    "duration": 314,
    "start_time": "2022-11-18T06:49:53.955Z"
   },
   {
    "duration": 143,
    "start_time": "2022-11-18T06:49:54.271Z"
   },
   {
    "duration": 37,
    "start_time": "2022-11-18T06:49:54.415Z"
   },
   {
    "duration": 21,
    "start_time": "2022-11-18T06:49:54.453Z"
   },
   {
    "duration": 166,
    "start_time": "2022-11-18T06:49:54.475Z"
   },
   {
    "duration": 1688,
    "start_time": "2022-11-18T06:52:50.045Z"
   },
   {
    "duration": 102,
    "start_time": "2022-11-18T06:57:10.924Z"
   },
   {
    "duration": 1860,
    "start_time": "2022-11-18T07:55:09.105Z"
   },
   {
    "duration": 75,
    "start_time": "2022-11-18T07:56:06.654Z"
   },
   {
    "duration": 64,
    "start_time": "2022-11-18T07:56:52.166Z"
   },
   {
    "duration": 80,
    "start_time": "2022-11-18T08:08:21.991Z"
   },
   {
    "duration": 71,
    "start_time": "2022-11-18T08:08:32.778Z"
   },
   {
    "duration": 76,
    "start_time": "2022-11-18T08:17:46.720Z"
   },
   {
    "duration": 1243,
    "start_time": "2022-11-18T08:19:06.028Z"
   },
   {
    "duration": 23,
    "start_time": "2022-11-18T08:23:06.214Z"
   },
   {
    "duration": 30,
    "start_time": "2022-11-18T08:28:36.073Z"
   },
   {
    "duration": 25,
    "start_time": "2022-11-18T08:28:51.647Z"
   },
   {
    "duration": 7,
    "start_time": "2022-11-18T08:28:58.952Z"
   },
   {
    "duration": 10,
    "start_time": "2022-11-18T08:29:54.873Z"
   },
   {
    "duration": 43,
    "start_time": "2022-11-18T08:31:19.838Z"
   },
   {
    "duration": 13,
    "start_time": "2022-11-18T08:31:26.043Z"
   },
   {
    "duration": 205,
    "start_time": "2022-11-18T08:42:12.873Z"
   },
   {
    "duration": 656,
    "start_time": "2022-11-18T08:43:52.283Z"
   },
   {
    "duration": 2414,
    "start_time": "2022-11-18T08:47:41.167Z"
   },
   {
    "duration": 88,
    "start_time": "2022-11-18T08:47:43.584Z"
   },
   {
    "duration": 10,
    "start_time": "2022-11-18T08:47:43.674Z"
   },
   {
    "duration": 6,
    "start_time": "2022-11-18T08:47:43.687Z"
   },
   {
    "duration": 8,
    "start_time": "2022-11-18T08:47:43.695Z"
   },
   {
    "duration": 46,
    "start_time": "2022-11-18T08:47:43.705Z"
   },
   {
    "duration": 8,
    "start_time": "2022-11-18T08:47:43.753Z"
   },
   {
    "duration": 12,
    "start_time": "2022-11-18T08:47:43.764Z"
   },
   {
    "duration": 19,
    "start_time": "2022-11-18T08:47:43.778Z"
   },
   {
    "duration": 4,
    "start_time": "2022-11-18T08:47:43.801Z"
   },
   {
    "duration": 76,
    "start_time": "2022-11-18T08:47:43.807Z"
   },
   {
    "duration": 7,
    "start_time": "2022-11-18T08:47:43.885Z"
   },
   {
    "duration": 14,
    "start_time": "2022-11-18T08:47:43.894Z"
   },
   {
    "duration": 9,
    "start_time": "2022-11-18T08:47:43.910Z"
   },
   {
    "duration": 8,
    "start_time": "2022-11-18T08:47:43.950Z"
   },
   {
    "duration": 23,
    "start_time": "2022-11-18T08:47:43.960Z"
   },
   {
    "duration": 7,
    "start_time": "2022-11-18T08:47:43.985Z"
   },
   {
    "duration": 10,
    "start_time": "2022-11-18T08:47:43.994Z"
   },
   {
    "duration": 9,
    "start_time": "2022-11-18T08:47:44.006Z"
   },
   {
    "duration": 63,
    "start_time": "2022-11-18T08:47:44.016Z"
   },
   {
    "duration": 27,
    "start_time": "2022-11-18T08:47:44.081Z"
   },
   {
    "duration": 66,
    "start_time": "2022-11-18T08:47:44.110Z"
   },
   {
    "duration": 38,
    "start_time": "2022-11-18T08:47:44.178Z"
   },
   {
    "duration": 15,
    "start_time": "2022-11-18T08:47:44.218Z"
   },
   {
    "duration": 653,
    "start_time": "2022-11-18T08:47:44.236Z"
   },
   {
    "duration": 5,
    "start_time": "2022-11-18T08:47:44.890Z"
   },
   {
    "duration": 16,
    "start_time": "2022-11-18T08:47:44.897Z"
   },
   {
    "duration": 365,
    "start_time": "2022-11-18T08:47:44.917Z"
   },
   {
    "duration": 6,
    "start_time": "2022-11-18T08:47:45.285Z"
   },
   {
    "duration": 18,
    "start_time": "2022-11-18T08:47:45.293Z"
   },
   {
    "duration": 305,
    "start_time": "2022-11-18T08:47:45.313Z"
   },
   {
    "duration": 400,
    "start_time": "2022-11-18T08:47:45.621Z"
   },
   {
    "duration": 228,
    "start_time": "2022-11-18T08:47:46.023Z"
   },
   {
    "duration": 241,
    "start_time": "2022-11-18T08:47:46.253Z"
   },
   {
    "duration": 230,
    "start_time": "2022-11-18T08:47:46.495Z"
   },
   {
    "duration": 175,
    "start_time": "2022-11-18T08:47:46.727Z"
   },
   {
    "duration": 177,
    "start_time": "2022-11-18T08:47:46.904Z"
   },
   {
    "duration": 206,
    "start_time": "2022-11-18T08:47:47.083Z"
   },
   {
    "duration": 399,
    "start_time": "2022-11-18T08:47:47.290Z"
   },
   {
    "duration": 207,
    "start_time": "2022-11-18T08:47:47.691Z"
   },
   {
    "duration": 309,
    "start_time": "2022-11-18T08:47:47.900Z"
   },
   {
    "duration": 192,
    "start_time": "2022-11-18T08:47:48.212Z"
   },
   {
    "duration": 280,
    "start_time": "2022-11-18T08:47:48.405Z"
   },
   {
    "duration": 228,
    "start_time": "2022-11-18T08:47:48.687Z"
   },
   {
    "duration": 263,
    "start_time": "2022-11-18T08:47:48.917Z"
   },
   {
    "duration": 295,
    "start_time": "2022-11-18T08:47:49.182Z"
   },
   {
    "duration": 346,
    "start_time": "2022-11-18T08:47:49.479Z"
   },
   {
    "duration": 232,
    "start_time": "2022-11-18T08:47:49.827Z"
   },
   {
    "duration": 248,
    "start_time": "2022-11-18T08:47:50.062Z"
   },
   {
    "duration": 211,
    "start_time": "2022-11-18T08:47:50.312Z"
   },
   {
    "duration": 326,
    "start_time": "2022-11-18T08:47:50.525Z"
   },
   {
    "duration": 16,
    "start_time": "2022-11-18T08:47:50.853Z"
   },
   {
    "duration": 218,
    "start_time": "2022-11-18T08:47:50.872Z"
   },
   {
    "duration": 17,
    "start_time": "2022-11-18T08:47:51.092Z"
   },
   {
    "duration": 158,
    "start_time": "2022-11-18T08:47:51.111Z"
   },
   {
    "duration": 170,
    "start_time": "2022-11-18T08:47:51.271Z"
   },
   {
    "duration": 157,
    "start_time": "2022-11-18T08:47:51.443Z"
   },
   {
    "duration": 362,
    "start_time": "2022-11-18T08:47:51.602Z"
   },
   {
    "duration": 188,
    "start_time": "2022-11-18T08:47:51.966Z"
   },
   {
    "duration": 28,
    "start_time": "2022-11-18T08:47:52.157Z"
   },
   {
    "duration": 33,
    "start_time": "2022-11-18T08:47:52.188Z"
   },
   {
    "duration": 202,
    "start_time": "2022-11-18T08:47:52.224Z"
   },
   {
    "duration": 599,
    "start_time": "2022-11-18T08:48:34.721Z"
   },
   {
    "duration": 594,
    "start_time": "2022-11-18T08:48:45.056Z"
   },
   {
    "duration": 1235,
    "start_time": "2022-11-18T08:54:57.224Z"
   },
   {
    "duration": 9,
    "start_time": "2022-11-18T08:55:07.966Z"
   },
   {
    "duration": 7,
    "start_time": "2022-11-18T09:22:30.569Z"
   },
   {
    "duration": 20,
    "start_time": "2022-11-18T09:22:37.133Z"
   },
   {
    "duration": 2223,
    "start_time": "2022-11-18T09:22:54.684Z"
   },
   {
    "duration": 68,
    "start_time": "2022-11-18T09:22:56.909Z"
   },
   {
    "duration": 11,
    "start_time": "2022-11-18T09:22:56.978Z"
   },
   {
    "duration": 8,
    "start_time": "2022-11-18T09:22:56.991Z"
   },
   {
    "duration": 13,
    "start_time": "2022-11-18T09:22:57.001Z"
   },
   {
    "duration": 11,
    "start_time": "2022-11-18T09:22:57.015Z"
   },
   {
    "duration": 29,
    "start_time": "2022-11-18T09:22:57.028Z"
   },
   {
    "duration": 7,
    "start_time": "2022-11-18T09:22:57.058Z"
   },
   {
    "duration": 18,
    "start_time": "2022-11-18T09:22:57.066Z"
   },
   {
    "duration": 4,
    "start_time": "2022-11-18T09:22:57.087Z"
   },
   {
    "duration": 75,
    "start_time": "2022-11-18T09:22:57.093Z"
   },
   {
    "duration": 7,
    "start_time": "2022-11-18T09:22:57.169Z"
   },
   {
    "duration": 29,
    "start_time": "2022-11-18T09:22:57.178Z"
   },
   {
    "duration": 8,
    "start_time": "2022-11-18T09:22:57.209Z"
   },
   {
    "duration": 7,
    "start_time": "2022-11-18T09:22:57.219Z"
   },
   {
    "duration": 32,
    "start_time": "2022-11-18T09:22:57.228Z"
   },
   {
    "duration": 8,
    "start_time": "2022-11-18T09:22:57.262Z"
   },
   {
    "duration": 12,
    "start_time": "2022-11-18T09:22:57.271Z"
   },
   {
    "duration": 14,
    "start_time": "2022-11-18T09:22:57.284Z"
   },
   {
    "duration": 29,
    "start_time": "2022-11-18T09:22:57.300Z"
   },
   {
    "duration": 8,
    "start_time": "2022-11-18T09:22:57.350Z"
   },
   {
    "duration": 18,
    "start_time": "2022-11-18T09:22:57.360Z"
   },
   {
    "duration": 22,
    "start_time": "2022-11-18T09:22:57.380Z"
   },
   {
    "duration": 61,
    "start_time": "2022-11-18T09:22:57.404Z"
   },
   {
    "duration": 10,
    "start_time": "2022-11-18T09:22:57.466Z"
   },
   {
    "duration": 638,
    "start_time": "2022-11-18T09:22:57.478Z"
   },
   {
    "duration": 4,
    "start_time": "2022-11-18T09:22:58.117Z"
   },
   {
    "duration": 27,
    "start_time": "2022-11-18T09:22:58.124Z"
   },
   {
    "duration": 332,
    "start_time": "2022-11-18T09:22:58.152Z"
   },
   {
    "duration": 6,
    "start_time": "2022-11-18T09:22:58.486Z"
   },
   {
    "duration": 21,
    "start_time": "2022-11-18T09:22:58.493Z"
   },
   {
    "duration": 279,
    "start_time": "2022-11-18T09:22:58.516Z"
   },
   {
    "duration": 349,
    "start_time": "2022-11-18T09:22:58.797Z"
   },
   {
    "duration": 209,
    "start_time": "2022-11-18T09:22:59.150Z"
   },
   {
    "duration": 231,
    "start_time": "2022-11-18T09:22:59.361Z"
   },
   {
    "duration": 279,
    "start_time": "2022-11-18T09:22:59.594Z"
   },
   {
    "duration": 157,
    "start_time": "2022-11-18T09:22:59.876Z"
   },
   {
    "duration": 164,
    "start_time": "2022-11-18T09:23:00.035Z"
   },
   {
    "duration": 192,
    "start_time": "2022-11-18T09:23:00.201Z"
   },
   {
    "duration": 409,
    "start_time": "2022-11-18T09:23:00.395Z"
   },
   {
    "duration": 229,
    "start_time": "2022-11-18T09:23:00.806Z"
   },
   {
    "duration": 286,
    "start_time": "2022-11-18T09:23:01.037Z"
   },
   {
    "duration": 177,
    "start_time": "2022-11-18T09:23:01.325Z"
   },
   {
    "duration": 279,
    "start_time": "2022-11-18T09:23:01.504Z"
   },
   {
    "duration": 235,
    "start_time": "2022-11-18T09:23:01.785Z"
   },
   {
    "duration": 215,
    "start_time": "2022-11-18T09:23:02.023Z"
   },
   {
    "duration": 200,
    "start_time": "2022-11-18T09:23:02.250Z"
   },
   {
    "duration": 229,
    "start_time": "2022-11-18T09:23:02.452Z"
   },
   {
    "duration": 201,
    "start_time": "2022-11-18T09:23:02.683Z"
   },
   {
    "duration": 211,
    "start_time": "2022-11-18T09:23:02.885Z"
   },
   {
    "duration": 211,
    "start_time": "2022-11-18T09:23:03.097Z"
   },
   {
    "duration": 299,
    "start_time": "2022-11-18T09:23:03.309Z"
   },
   {
    "duration": 14,
    "start_time": "2022-11-18T09:23:03.609Z"
   },
   {
    "duration": 174,
    "start_time": "2022-11-18T09:23:03.626Z"
   },
   {
    "duration": 21,
    "start_time": "2022-11-18T09:23:03.802Z"
   },
   {
    "duration": 168,
    "start_time": "2022-11-18T09:23:03.825Z"
   },
   {
    "duration": 167,
    "start_time": "2022-11-18T09:23:03.996Z"
   },
   {
    "duration": 186,
    "start_time": "2022-11-18T09:23:04.165Z"
   },
   {
    "duration": 315,
    "start_time": "2022-11-18T09:23:04.352Z"
   },
   {
    "duration": 148,
    "start_time": "2022-11-18T09:23:04.669Z"
   },
   {
    "duration": 44,
    "start_time": "2022-11-18T09:23:04.819Z"
   },
   {
    "duration": 28,
    "start_time": "2022-11-18T09:23:04.864Z"
   },
   {
    "duration": 192,
    "start_time": "2022-11-18T09:23:04.894Z"
   },
   {
    "duration": 139,
    "start_time": "2022-11-18T09:25:03.219Z"
   },
   {
    "duration": 11,
    "start_time": "2022-11-18T09:27:38.699Z"
   },
   {
    "duration": 66,
    "start_time": "2022-11-18T09:29:53.084Z"
   },
   {
    "duration": 15,
    "start_time": "2022-11-18T09:30:02.645Z"
   },
   {
    "duration": 2293,
    "start_time": "2022-11-18T09:30:10.082Z"
   },
   {
    "duration": 63,
    "start_time": "2022-11-18T09:30:12.377Z"
   },
   {
    "duration": 10,
    "start_time": "2022-11-18T09:30:12.450Z"
   },
   {
    "duration": 18,
    "start_time": "2022-11-18T09:30:12.462Z"
   },
   {
    "duration": 10,
    "start_time": "2022-11-18T09:30:12.482Z"
   },
   {
    "duration": 23,
    "start_time": "2022-11-18T09:30:12.493Z"
   },
   {
    "duration": 8,
    "start_time": "2022-11-18T09:30:12.518Z"
   },
   {
    "duration": 23,
    "start_time": "2022-11-18T09:30:12.528Z"
   },
   {
    "duration": 14,
    "start_time": "2022-11-18T09:30:12.553Z"
   },
   {
    "duration": 5,
    "start_time": "2022-11-18T09:30:12.571Z"
   },
   {
    "duration": 76,
    "start_time": "2022-11-18T09:30:12.578Z"
   },
   {
    "duration": 7,
    "start_time": "2022-11-18T09:30:12.657Z"
   },
   {
    "duration": 13,
    "start_time": "2022-11-18T09:30:12.666Z"
   },
   {
    "duration": 9,
    "start_time": "2022-11-18T09:30:12.680Z"
   },
   {
    "duration": 6,
    "start_time": "2022-11-18T09:30:12.691Z"
   },
   {
    "duration": 24,
    "start_time": "2022-11-18T09:30:12.698Z"
   },
   {
    "duration": 9,
    "start_time": "2022-11-18T09:30:12.751Z"
   },
   {
    "duration": 12,
    "start_time": "2022-11-18T09:30:12.762Z"
   },
   {
    "duration": 9,
    "start_time": "2022-11-18T09:30:12.776Z"
   },
   {
    "duration": 32,
    "start_time": "2022-11-18T09:30:12.786Z"
   },
   {
    "duration": 43,
    "start_time": "2022-11-18T09:30:12.819Z"
   },
   {
    "duration": 20,
    "start_time": "2022-11-18T09:30:12.864Z"
   },
   {
    "duration": 31,
    "start_time": "2022-11-18T09:30:12.886Z"
   },
   {
    "duration": 37,
    "start_time": "2022-11-18T09:30:12.919Z"
   },
   {
    "duration": 671,
    "start_time": "2022-11-18T09:30:12.958Z"
   },
   {
    "duration": 5,
    "start_time": "2022-11-18T09:30:13.630Z"
   },
   {
    "duration": 25,
    "start_time": "2022-11-18T09:30:13.636Z"
   },
   {
    "duration": 349,
    "start_time": "2022-11-18T09:30:13.665Z"
   },
   {
    "duration": 5,
    "start_time": "2022-11-18T09:30:14.016Z"
   },
   {
    "duration": 27,
    "start_time": "2022-11-18T09:30:14.023Z"
   },
   {
    "duration": 274,
    "start_time": "2022-11-18T09:30:14.052Z"
   },
   {
    "duration": 365,
    "start_time": "2022-11-18T09:30:14.328Z"
   },
   {
    "duration": 202,
    "start_time": "2022-11-18T09:30:14.695Z"
   },
   {
    "duration": 227,
    "start_time": "2022-11-18T09:30:14.898Z"
   },
   {
    "duration": 221,
    "start_time": "2022-11-18T09:30:15.127Z"
   },
   {
    "duration": 146,
    "start_time": "2022-11-18T09:30:15.349Z"
   },
   {
    "duration": 153,
    "start_time": "2022-11-18T09:30:15.497Z"
   },
   {
    "duration": 188,
    "start_time": "2022-11-18T09:30:15.652Z"
   },
   {
    "duration": 403,
    "start_time": "2022-11-18T09:30:15.842Z"
   },
   {
    "duration": 191,
    "start_time": "2022-11-18T09:30:16.250Z"
   },
   {
    "duration": 272,
    "start_time": "2022-11-18T09:30:16.443Z"
   },
   {
    "duration": 164,
    "start_time": "2022-11-18T09:30:16.716Z"
   },
   {
    "duration": 271,
    "start_time": "2022-11-18T09:30:16.881Z"
   },
   {
    "duration": 202,
    "start_time": "2022-11-18T09:30:17.154Z"
   },
   {
    "duration": 223,
    "start_time": "2022-11-18T09:30:17.358Z"
   },
   {
    "duration": 202,
    "start_time": "2022-11-18T09:30:17.583Z"
   },
   {
    "duration": 213,
    "start_time": "2022-11-18T09:30:17.786Z"
   },
   {
    "duration": 198,
    "start_time": "2022-11-18T09:30:18.001Z"
   },
   {
    "duration": 205,
    "start_time": "2022-11-18T09:30:18.201Z"
   },
   {
    "duration": 205,
    "start_time": "2022-11-18T09:30:18.408Z"
   },
   {
    "duration": 298,
    "start_time": "2022-11-18T09:30:18.615Z"
   },
   {
    "duration": 13,
    "start_time": "2022-11-18T09:30:18.916Z"
   },
   {
    "duration": 176,
    "start_time": "2022-11-18T09:30:18.931Z"
   },
   {
    "duration": 21,
    "start_time": "2022-11-18T09:30:19.109Z"
   },
   {
    "duration": 184,
    "start_time": "2022-11-18T09:30:19.133Z"
   },
   {
    "duration": 154,
    "start_time": "2022-11-18T09:30:19.319Z"
   },
   {
    "duration": 177,
    "start_time": "2022-11-18T09:30:19.476Z"
   },
   {
    "duration": 436,
    "start_time": "2022-11-18T09:30:19.655Z"
   },
   {
    "duration": 162,
    "start_time": "2022-11-18T09:30:20.093Z"
   },
   {
    "duration": 24,
    "start_time": "2022-11-18T09:30:20.257Z"
   },
   {
    "duration": 25,
    "start_time": "2022-11-18T09:30:20.283Z"
   },
   {
    "duration": 182,
    "start_time": "2022-11-18T09:30:20.310Z"
   },
   {
    "duration": 770,
    "start_time": "2022-11-18T09:42:13.889Z"
   },
   {
    "duration": 911,
    "start_time": "2022-11-18T09:42:39.254Z"
   },
   {
    "duration": 765,
    "start_time": "2022-11-18T09:42:51.095Z"
   },
   {
    "duration": 824,
    "start_time": "2022-11-18T09:43:54.215Z"
   },
   {
    "duration": 775,
    "start_time": "2022-11-18T09:44:00.553Z"
   },
   {
    "duration": 2296,
    "start_time": "2022-11-18T09:51:37.876Z"
   },
   {
    "duration": 78,
    "start_time": "2022-11-18T09:51:40.174Z"
   },
   {
    "duration": 9,
    "start_time": "2022-11-18T09:51:40.254Z"
   },
   {
    "duration": 4,
    "start_time": "2022-11-18T09:51:40.265Z"
   },
   {
    "duration": 10,
    "start_time": "2022-11-18T09:51:40.271Z"
   },
   {
    "duration": 15,
    "start_time": "2022-11-18T09:51:40.283Z"
   },
   {
    "duration": 9,
    "start_time": "2022-11-18T09:51:40.299Z"
   },
   {
    "duration": 42,
    "start_time": "2022-11-18T09:51:40.310Z"
   },
   {
    "duration": 13,
    "start_time": "2022-11-18T09:51:40.354Z"
   },
   {
    "duration": 5,
    "start_time": "2022-11-18T09:51:40.371Z"
   },
   {
    "duration": 51,
    "start_time": "2022-11-18T09:51:40.378Z"
   },
   {
    "duration": 7,
    "start_time": "2022-11-18T09:51:40.451Z"
   },
   {
    "duration": 10,
    "start_time": "2022-11-18T09:51:40.460Z"
   },
   {
    "duration": 6,
    "start_time": "2022-11-18T09:51:40.472Z"
   },
   {
    "duration": 5,
    "start_time": "2022-11-18T09:51:40.480Z"
   },
   {
    "duration": 18,
    "start_time": "2022-11-18T09:51:40.487Z"
   },
   {
    "duration": 44,
    "start_time": "2022-11-18T09:51:40.507Z"
   },
   {
    "duration": 11,
    "start_time": "2022-11-18T09:51:40.552Z"
   },
   {
    "duration": 6,
    "start_time": "2022-11-18T09:51:40.564Z"
   },
   {
    "duration": 32,
    "start_time": "2022-11-18T09:51:40.572Z"
   },
   {
    "duration": 19,
    "start_time": "2022-11-18T09:51:40.606Z"
   },
   {
    "duration": 47,
    "start_time": "2022-11-18T09:51:40.627Z"
   },
   {
    "duration": 37,
    "start_time": "2022-11-18T09:51:40.676Z"
   },
   {
    "duration": 16,
    "start_time": "2022-11-18T09:51:40.715Z"
   },
   {
    "duration": 647,
    "start_time": "2022-11-18T09:51:40.751Z"
   },
   {
    "duration": 639,
    "start_time": "2022-11-18T09:51:41.400Z"
   },
   {
    "duration": 11,
    "start_time": "2022-11-18T09:51:42.041Z"
   },
   {
    "duration": 23,
    "start_time": "2022-11-18T09:51:42.057Z"
   },
   {
    "duration": 348,
    "start_time": "2022-11-18T09:51:42.082Z"
   },
   {
    "duration": 5,
    "start_time": "2022-11-18T09:51:42.432Z"
   },
   {
    "duration": 26,
    "start_time": "2022-11-18T09:51:42.439Z"
   },
   {
    "duration": 336,
    "start_time": "2022-11-18T09:51:42.467Z"
   },
   {
    "duration": 277,
    "start_time": "2022-11-18T09:51:42.805Z"
   },
   {
    "duration": 211,
    "start_time": "2022-11-18T09:51:43.084Z"
   },
   {
    "duration": 230,
    "start_time": "2022-11-18T09:51:43.297Z"
   },
   {
    "duration": 212,
    "start_time": "2022-11-18T09:51:43.529Z"
   },
   {
    "duration": 151,
    "start_time": "2022-11-18T09:51:43.743Z"
   },
   {
    "duration": 155,
    "start_time": "2022-11-18T09:51:43.895Z"
   },
   {
    "duration": 189,
    "start_time": "2022-11-18T09:51:44.052Z"
   },
   {
    "duration": 447,
    "start_time": "2022-11-18T09:51:44.243Z"
   },
   {
    "duration": 189,
    "start_time": "2022-11-18T09:51:44.692Z"
   },
   {
    "duration": 199,
    "start_time": "2022-11-18T09:51:44.882Z"
   },
   {
    "duration": 179,
    "start_time": "2022-11-18T09:51:45.082Z"
   },
   {
    "duration": 279,
    "start_time": "2022-11-18T09:51:45.262Z"
   },
   {
    "duration": 211,
    "start_time": "2022-11-18T09:51:45.550Z"
   },
   {
    "duration": 231,
    "start_time": "2022-11-18T09:51:45.762Z"
   },
   {
    "duration": 236,
    "start_time": "2022-11-18T09:51:45.995Z"
   },
   {
    "duration": 221,
    "start_time": "2022-11-18T09:51:46.233Z"
   },
   {
    "duration": 301,
    "start_time": "2022-11-18T09:51:46.456Z"
   },
   {
    "duration": 222,
    "start_time": "2022-11-18T09:51:46.758Z"
   },
   {
    "duration": 212,
    "start_time": "2022-11-18T09:51:46.982Z"
   },
   {
    "duration": 220,
    "start_time": "2022-11-18T09:51:47.195Z"
   },
   {
    "duration": 14,
    "start_time": "2022-11-18T09:51:47.416Z"
   },
   {
    "duration": 190,
    "start_time": "2022-11-18T09:51:47.432Z"
   },
   {
    "duration": 17,
    "start_time": "2022-11-18T09:51:47.623Z"
   },
   {
    "duration": 147,
    "start_time": "2022-11-18T09:51:47.650Z"
   },
   {
    "duration": 163,
    "start_time": "2022-11-18T09:51:47.799Z"
   },
   {
    "duration": 157,
    "start_time": "2022-11-18T09:51:47.964Z"
   },
   {
    "duration": 316,
    "start_time": "2022-11-18T09:51:48.123Z"
   },
   {
    "duration": 167,
    "start_time": "2022-11-18T09:51:48.441Z"
   },
   {
    "duration": 24,
    "start_time": "2022-11-18T09:51:48.609Z"
   },
   {
    "duration": 32,
    "start_time": "2022-11-18T09:51:48.635Z"
   },
   {
    "duration": 167,
    "start_time": "2022-11-18T09:51:48.668Z"
   },
   {
    "duration": 75,
    "start_time": "2022-11-18T09:53:48.785Z"
   },
   {
    "duration": 780,
    "start_time": "2022-11-18T10:01:02.645Z"
   },
   {
    "duration": 927,
    "start_time": "2022-11-18T10:01:40.608Z"
   },
   {
    "duration": 856,
    "start_time": "2022-11-18T10:04:20.328Z"
   },
   {
    "duration": 11,
    "start_time": "2022-11-18T10:08:01.180Z"
   },
   {
    "duration": 1123,
    "start_time": "2022-11-18T10:09:30.939Z"
   },
   {
    "duration": 9,
    "start_time": "2022-11-18T10:31:07.080Z"
   },
   {
    "duration": 92,
    "start_time": "2022-11-18T10:31:13.175Z"
   },
   {
    "duration": 114,
    "start_time": "2022-11-18T10:31:19.188Z"
   },
   {
    "duration": 40,
    "start_time": "2022-11-18T10:33:42.405Z"
   },
   {
    "duration": 2379,
    "start_time": "2022-11-18T10:37:18.708Z"
   },
   {
    "duration": 76,
    "start_time": "2022-11-18T10:37:21.089Z"
   },
   {
    "duration": 9,
    "start_time": "2022-11-18T10:37:21.167Z"
   },
   {
    "duration": 26,
    "start_time": "2022-11-18T10:37:21.178Z"
   },
   {
    "duration": 42,
    "start_time": "2022-11-18T10:37:21.206Z"
   },
   {
    "duration": 39,
    "start_time": "2022-11-18T10:37:21.250Z"
   },
   {
    "duration": 30,
    "start_time": "2022-11-18T10:37:21.291Z"
   },
   {
    "duration": 20,
    "start_time": "2022-11-18T10:37:21.324Z"
   },
   {
    "duration": 27,
    "start_time": "2022-11-18T10:37:21.345Z"
   },
   {
    "duration": 14,
    "start_time": "2022-11-18T10:37:21.375Z"
   },
   {
    "duration": 68,
    "start_time": "2022-11-18T10:37:21.391Z"
   },
   {
    "duration": 7,
    "start_time": "2022-11-18T10:37:21.461Z"
   },
   {
    "duration": 46,
    "start_time": "2022-11-18T10:37:21.469Z"
   },
   {
    "duration": 46,
    "start_time": "2022-11-18T10:37:21.516Z"
   },
   {
    "duration": 36,
    "start_time": "2022-11-18T10:37:21.564Z"
   },
   {
    "duration": 45,
    "start_time": "2022-11-18T10:37:21.603Z"
   },
   {
    "duration": 8,
    "start_time": "2022-11-18T10:37:21.650Z"
   },
   {
    "duration": 35,
    "start_time": "2022-11-18T10:37:21.660Z"
   },
   {
    "duration": 26,
    "start_time": "2022-11-18T10:37:21.696Z"
   },
   {
    "duration": 55,
    "start_time": "2022-11-18T10:37:21.724Z"
   },
   {
    "duration": 16,
    "start_time": "2022-11-18T10:37:21.781Z"
   },
   {
    "duration": 32,
    "start_time": "2022-11-18T10:37:21.799Z"
   },
   {
    "duration": 16,
    "start_time": "2022-11-18T10:37:21.832Z"
   },
   {
    "duration": 701,
    "start_time": "2022-11-18T10:37:21.851Z"
   },
   {
    "duration": 104,
    "start_time": "2022-11-18T10:37:22.553Z"
   },
   {
    "duration": 5,
    "start_time": "2022-11-18T10:37:22.659Z"
   },
   {
    "duration": 27,
    "start_time": "2022-11-18T10:37:22.666Z"
   },
   {
    "duration": 352,
    "start_time": "2022-11-18T10:37:22.698Z"
   },
   {
    "duration": 6,
    "start_time": "2022-11-18T10:37:23.051Z"
   },
   {
    "duration": 18,
    "start_time": "2022-11-18T10:37:23.058Z"
   },
   {
    "duration": 284,
    "start_time": "2022-11-18T10:37:23.078Z"
   },
   {
    "duration": 404,
    "start_time": "2022-11-18T10:37:23.364Z"
   },
   {
    "duration": 219,
    "start_time": "2022-11-18T10:37:23.770Z"
   },
   {
    "duration": 254,
    "start_time": "2022-11-18T10:37:23.991Z"
   },
   {
    "duration": 216,
    "start_time": "2022-11-18T10:37:24.247Z"
   },
   {
    "duration": 146,
    "start_time": "2022-11-18T10:37:24.465Z"
   },
   {
    "duration": 166,
    "start_time": "2022-11-18T10:37:24.612Z"
   },
   {
    "duration": 181,
    "start_time": "2022-11-18T10:37:24.780Z"
   },
   {
    "duration": 362,
    "start_time": "2022-11-18T10:37:24.963Z"
   },
   {
    "duration": 311,
    "start_time": "2022-11-18T10:37:25.327Z"
   },
   {
    "duration": 205,
    "start_time": "2022-11-18T10:37:25.640Z"
   },
   {
    "duration": 186,
    "start_time": "2022-11-18T10:37:25.847Z"
   },
   {
    "duration": 291,
    "start_time": "2022-11-18T10:37:26.035Z"
   },
   {
    "duration": 228,
    "start_time": "2022-11-18T10:37:26.328Z"
   },
   {
    "duration": 247,
    "start_time": "2022-11-18T10:37:26.558Z"
   },
   {
    "duration": 209,
    "start_time": "2022-11-18T10:37:26.807Z"
   },
   {
    "duration": 222,
    "start_time": "2022-11-18T10:37:27.018Z"
   },
   {
    "duration": 201,
    "start_time": "2022-11-18T10:37:27.241Z"
   },
   {
    "duration": 218,
    "start_time": "2022-11-18T10:37:27.444Z"
   },
   {
    "duration": 297,
    "start_time": "2022-11-18T10:37:27.664Z"
   },
   {
    "duration": 214,
    "start_time": "2022-11-18T10:37:27.963Z"
   },
   {
    "duration": 16,
    "start_time": "2022-11-18T10:37:28.179Z"
   },
   {
    "duration": 168,
    "start_time": "2022-11-18T10:37:28.197Z"
   },
   {
    "duration": 18,
    "start_time": "2022-11-18T10:37:28.367Z"
   },
   {
    "duration": 152,
    "start_time": "2022-11-18T10:37:28.386Z"
   },
   {
    "duration": 154,
    "start_time": "2022-11-18T10:37:28.540Z"
   },
   {
    "duration": 148,
    "start_time": "2022-11-18T10:37:28.696Z"
   },
   {
    "duration": 306,
    "start_time": "2022-11-18T10:37:28.845Z"
   },
   {
    "duration": 170,
    "start_time": "2022-11-18T10:37:29.154Z"
   },
   {
    "duration": 31,
    "start_time": "2022-11-18T10:37:29.326Z"
   },
   {
    "duration": 21,
    "start_time": "2022-11-18T10:37:29.359Z"
   },
   {
    "duration": 202,
    "start_time": "2022-11-18T10:37:29.381Z"
   },
   {
    "duration": 91,
    "start_time": "2022-11-18T10:40:55.905Z"
   },
   {
    "duration": 138,
    "start_time": "2022-11-18T10:43:09.945Z"
   },
   {
    "duration": 15,
    "start_time": "2022-11-18T10:44:41.595Z"
   },
   {
    "duration": 35,
    "start_time": "2022-11-18T10:58:23.232Z"
   },
   {
    "duration": 92,
    "start_time": "2022-11-18T10:58:43.500Z"
   },
   {
    "duration": 1339,
    "start_time": "2022-11-18T10:59:36.999Z"
   },
   {
    "duration": 121,
    "start_time": "2022-11-18T10:59:43.945Z"
   },
   {
    "duration": 101,
    "start_time": "2022-11-18T11:00:42.925Z"
   },
   {
    "duration": 8,
    "start_time": "2022-11-18T11:14:33.678Z"
   },
   {
    "duration": 120,
    "start_time": "2022-11-18T11:14:49.639Z"
   },
   {
    "duration": 87,
    "start_time": "2022-11-18T11:15:03.344Z"
   },
   {
    "duration": 8,
    "start_time": "2022-11-18T11:17:03.156Z"
   },
   {
    "duration": 7,
    "start_time": "2022-11-18T11:17:13.440Z"
   },
   {
    "duration": 99,
    "start_time": "2022-11-18T11:21:22.760Z"
   },
   {
    "duration": 2272,
    "start_time": "2022-11-18T14:00:44.322Z"
   },
   {
    "duration": 67,
    "start_time": "2022-11-18T14:00:46.597Z"
   },
   {
    "duration": 8,
    "start_time": "2022-11-18T14:00:46.666Z"
   },
   {
    "duration": 1269,
    "start_time": "2022-11-18T14:00:46.676Z"
   },
   {
    "duration": 5,
    "start_time": "2022-11-18T14:00:47.947Z"
   },
   {
    "duration": 17,
    "start_time": "2022-11-18T14:00:47.954Z"
   },
   {
    "duration": 6,
    "start_time": "2022-11-18T14:00:47.973Z"
   },
   {
    "duration": 7,
    "start_time": "2022-11-18T14:00:47.981Z"
   },
   {
    "duration": 9,
    "start_time": "2022-11-18T14:00:47.989Z"
   },
   {
    "duration": 4,
    "start_time": "2022-11-18T14:00:48.000Z"
   },
   {
    "duration": 72,
    "start_time": "2022-11-18T14:00:48.005Z"
   },
   {
    "duration": 6,
    "start_time": "2022-11-18T14:00:48.079Z"
   },
   {
    "duration": 9,
    "start_time": "2022-11-18T14:00:48.087Z"
   },
   {
    "duration": 6,
    "start_time": "2022-11-18T14:00:48.097Z"
   },
   {
    "duration": 5,
    "start_time": "2022-11-18T14:00:48.104Z"
   },
   {
    "duration": 38,
    "start_time": "2022-11-18T14:00:48.111Z"
   },
   {
    "duration": 7,
    "start_time": "2022-11-18T14:00:48.150Z"
   },
   {
    "duration": 8,
    "start_time": "2022-11-18T14:00:48.158Z"
   },
   {
    "duration": 6,
    "start_time": "2022-11-18T14:00:48.168Z"
   },
   {
    "duration": 28,
    "start_time": "2022-11-18T14:00:48.175Z"
   },
   {
    "duration": 40,
    "start_time": "2022-11-18T14:00:48.205Z"
   },
   {
    "duration": 18,
    "start_time": "2022-11-18T14:00:48.247Z"
   },
   {
    "duration": 7,
    "start_time": "2022-11-18T14:00:48.267Z"
   },
   {
    "duration": 664,
    "start_time": "2022-11-18T14:00:48.276Z"
   },
   {
    "duration": 77,
    "start_time": "2022-11-18T14:00:48.942Z"
   },
   {
    "duration": 130,
    "start_time": "2022-11-18T14:00:49.021Z"
   },
   {
    "duration": 5,
    "start_time": "2022-11-18T14:00:49.153Z"
   },
   {
    "duration": 118,
    "start_time": "2022-11-18T14:00:49.163Z"
   },
   {
    "duration": 5,
    "start_time": "2022-11-18T14:00:49.283Z"
   },
   {
    "duration": 25,
    "start_time": "2022-11-18T14:00:49.290Z"
   },
   {
    "duration": 19,
    "start_time": "2022-11-18T14:00:49.317Z"
   },
   {
    "duration": 310,
    "start_time": "2022-11-18T14:00:49.337Z"
   },
   {
    "duration": 5,
    "start_time": "2022-11-18T14:00:49.650Z"
   },
   {
    "duration": 14,
    "start_time": "2022-11-18T14:00:49.657Z"
   },
   {
    "duration": 339,
    "start_time": "2022-11-18T14:00:49.673Z"
   },
   {
    "duration": 240,
    "start_time": "2022-11-18T14:00:50.013Z"
   },
   {
    "duration": 184,
    "start_time": "2022-11-18T14:00:50.255Z"
   },
   {
    "duration": 200,
    "start_time": "2022-11-18T14:00:50.441Z"
   },
   {
    "duration": 196,
    "start_time": "2022-11-18T14:00:50.643Z"
   },
   {
    "duration": 130,
    "start_time": "2022-11-18T14:00:50.840Z"
   },
   {
    "duration": 134,
    "start_time": "2022-11-18T14:00:50.972Z"
   },
   {
    "duration": 174,
    "start_time": "2022-11-18T14:00:51.107Z"
   },
   {
    "duration": 329,
    "start_time": "2022-11-18T14:00:51.283Z"
   },
   {
    "duration": 240,
    "start_time": "2022-11-18T14:00:51.614Z"
   },
   {
    "duration": 175,
    "start_time": "2022-11-18T14:00:51.856Z"
   },
   {
    "duration": 148,
    "start_time": "2022-11-18T14:00:52.033Z"
   },
   {
    "duration": 236,
    "start_time": "2022-11-18T14:00:52.183Z"
   },
   {
    "duration": 170,
    "start_time": "2022-11-18T14:00:52.421Z"
   },
   {
    "duration": 188,
    "start_time": "2022-11-18T14:00:52.593Z"
   },
   {
    "duration": 168,
    "start_time": "2022-11-18T14:00:52.783Z"
   },
   {
    "duration": 167,
    "start_time": "2022-11-18T14:00:52.953Z"
   },
   {
    "duration": 158,
    "start_time": "2022-11-18T14:00:53.122Z"
   },
   {
    "duration": 166,
    "start_time": "2022-11-18T14:00:53.281Z"
   },
   {
    "duration": 261,
    "start_time": "2022-11-18T14:00:53.449Z"
   },
   {
    "duration": 181,
    "start_time": "2022-11-18T14:00:53.712Z"
   },
   {
    "duration": 12,
    "start_time": "2022-11-18T14:00:53.895Z"
   },
   {
    "duration": 150,
    "start_time": "2022-11-18T14:00:53.909Z"
   },
   {
    "duration": 15,
    "start_time": "2022-11-18T14:00:54.060Z"
   },
   {
    "duration": 137,
    "start_time": "2022-11-18T14:00:54.077Z"
   },
   {
    "duration": 137,
    "start_time": "2022-11-18T14:00:54.216Z"
   },
   {
    "duration": 129,
    "start_time": "2022-11-18T14:00:54.354Z"
   },
   {
    "duration": 265,
    "start_time": "2022-11-18T14:00:54.484Z"
   },
   {
    "duration": 131,
    "start_time": "2022-11-18T14:00:54.750Z"
   },
   {
    "duration": 22,
    "start_time": "2022-11-18T14:00:54.882Z"
   },
   {
    "duration": 36,
    "start_time": "2022-11-18T14:00:54.906Z"
   },
   {
    "duration": 141,
    "start_time": "2022-11-18T14:00:54.943Z"
   },
   {
    "duration": 1084,
    "start_time": "2022-11-18T14:02:03.686Z"
   },
   {
    "duration": 2088,
    "start_time": "2022-11-18T14:02:21.840Z"
   },
   {
    "duration": 52,
    "start_time": "2022-11-18T14:02:23.937Z"
   },
   {
    "duration": 7,
    "start_time": "2022-11-18T14:02:23.991Z"
   },
   {
    "duration": 1261,
    "start_time": "2022-11-18T14:02:24.000Z"
   },
   {
    "duration": 6,
    "start_time": "2022-11-18T14:02:25.263Z"
   },
   {
    "duration": 15,
    "start_time": "2022-11-18T14:02:25.271Z"
   },
   {
    "duration": 10,
    "start_time": "2022-11-18T14:02:25.287Z"
   },
   {
    "duration": 6,
    "start_time": "2022-11-18T14:02:25.299Z"
   },
   {
    "duration": 32,
    "start_time": "2022-11-18T14:02:25.306Z"
   },
   {
    "duration": 4,
    "start_time": "2022-11-18T14:02:25.341Z"
   },
   {
    "duration": 45,
    "start_time": "2022-11-18T14:02:25.347Z"
   },
   {
    "duration": 6,
    "start_time": "2022-11-18T14:02:25.394Z"
   },
   {
    "duration": 10,
    "start_time": "2022-11-18T14:02:25.402Z"
   },
   {
    "duration": 25,
    "start_time": "2022-11-18T14:02:25.413Z"
   },
   {
    "duration": 6,
    "start_time": "2022-11-18T14:02:25.439Z"
   },
   {
    "duration": 17,
    "start_time": "2022-11-18T14:02:25.447Z"
   },
   {
    "duration": 7,
    "start_time": "2022-11-18T14:02:25.465Z"
   },
   {
    "duration": 7,
    "start_time": "2022-11-18T14:02:25.473Z"
   },
   {
    "duration": 9,
    "start_time": "2022-11-18T14:02:25.481Z"
   },
   {
    "duration": 54,
    "start_time": "2022-11-18T14:02:25.492Z"
   },
   {
    "duration": 14,
    "start_time": "2022-11-18T14:02:25.548Z"
   },
   {
    "duration": 17,
    "start_time": "2022-11-18T14:02:25.564Z"
   },
   {
    "duration": 7,
    "start_time": "2022-11-18T14:02:25.583Z"
   },
   {
    "duration": 626,
    "start_time": "2022-11-18T14:02:25.591Z"
   },
   {
    "duration": 68,
    "start_time": "2022-11-18T14:02:26.219Z"
   },
   {
    "duration": 103,
    "start_time": "2022-11-18T14:02:26.289Z"
   },
   {
    "duration": 5,
    "start_time": "2022-11-18T14:02:26.394Z"
   },
   {
    "duration": 105,
    "start_time": "2022-11-18T14:02:26.403Z"
   },
   {
    "duration": 5,
    "start_time": "2022-11-18T14:02:26.510Z"
   },
   {
    "duration": 20,
    "start_time": "2022-11-18T14:02:26.517Z"
   },
   {
    "duration": 11,
    "start_time": "2022-11-18T14:02:26.539Z"
   },
   {
    "duration": 300,
    "start_time": "2022-11-18T14:02:26.552Z"
   },
   {
    "duration": 5,
    "start_time": "2022-11-18T14:02:26.854Z"
   },
   {
    "duration": 15,
    "start_time": "2022-11-18T14:02:26.860Z"
   },
   {
    "duration": 331,
    "start_time": "2022-11-18T14:02:26.876Z"
   },
   {
    "duration": 239,
    "start_time": "2022-11-18T14:02:27.209Z"
   },
   {
    "duration": 180,
    "start_time": "2022-11-18T14:02:27.449Z"
   },
   {
    "duration": 184,
    "start_time": "2022-11-18T14:02:27.631Z"
   },
   {
    "duration": 193,
    "start_time": "2022-11-18T14:02:27.816Z"
   },
   {
    "duration": 129,
    "start_time": "2022-11-18T14:02:28.010Z"
   },
   {
    "duration": 137,
    "start_time": "2022-11-18T14:02:28.140Z"
   },
   {
    "duration": 160,
    "start_time": "2022-11-18T14:02:28.279Z"
   },
   {
    "duration": 303,
    "start_time": "2022-11-18T14:02:28.441Z"
   },
   {
    "duration": 282,
    "start_time": "2022-11-18T14:02:28.746Z"
   },
   {
    "duration": 167,
    "start_time": "2022-11-18T14:02:29.030Z"
   },
   {
    "duration": 155,
    "start_time": "2022-11-18T14:02:29.199Z"
   },
   {
    "duration": 251,
    "start_time": "2022-11-18T14:02:29.357Z"
   },
   {
    "duration": 177,
    "start_time": "2022-11-18T14:02:29.610Z"
   },
   {
    "duration": 179,
    "start_time": "2022-11-18T14:02:29.788Z"
   },
   {
    "duration": 169,
    "start_time": "2022-11-18T14:02:29.968Z"
   },
   {
    "duration": 181,
    "start_time": "2022-11-18T14:02:30.138Z"
   },
   {
    "duration": 162,
    "start_time": "2022-11-18T14:02:30.321Z"
   },
   {
    "duration": 192,
    "start_time": "2022-11-18T14:02:30.484Z"
   },
   {
    "duration": 253,
    "start_time": "2022-11-18T14:02:30.678Z"
   },
   {
    "duration": 179,
    "start_time": "2022-11-18T14:02:30.932Z"
   },
   {
    "duration": 13,
    "start_time": "2022-11-18T14:02:31.113Z"
   },
   {
    "duration": 147,
    "start_time": "2022-11-18T14:02:31.138Z"
   },
   {
    "duration": 16,
    "start_time": "2022-11-18T14:02:31.287Z"
   },
   {
    "duration": 132,
    "start_time": "2022-11-18T14:02:31.305Z"
   },
   {
    "duration": 132,
    "start_time": "2022-11-18T14:02:31.438Z"
   },
   {
    "duration": 132,
    "start_time": "2022-11-18T14:02:31.572Z"
   },
   {
    "duration": 296,
    "start_time": "2022-11-18T14:02:31.706Z"
   },
   {
    "duration": 127,
    "start_time": "2022-11-18T14:02:32.004Z"
   },
   {
    "duration": 22,
    "start_time": "2022-11-18T14:02:32.136Z"
   },
   {
    "duration": 17,
    "start_time": "2022-11-18T14:02:32.160Z"
   },
   {
    "duration": 159,
    "start_time": "2022-11-18T14:02:32.179Z"
   },
   {
    "duration": 1002,
    "start_time": "2022-11-18T14:20:21.178Z"
   },
   {
    "duration": 5,
    "start_time": "2022-11-18T14:20:48.380Z"
   },
   {
    "duration": 89,
    "start_time": "2022-11-18T14:21:21.499Z"
   },
   {
    "duration": 97,
    "start_time": "2022-11-18T14:21:31.046Z"
   },
   {
    "duration": 1050,
    "start_time": "2022-11-18T14:23:31.889Z"
   },
   {
    "duration": 91,
    "start_time": "2022-11-18T14:23:34.328Z"
   },
   {
    "duration": 947,
    "start_time": "2022-11-18T14:23:50.001Z"
   },
   {
    "duration": 98,
    "start_time": "2022-11-18T14:23:54.303Z"
   },
   {
    "duration": 88,
    "start_time": "2022-11-18T14:25:00.533Z"
   },
   {
    "duration": 1498,
    "start_time": "2022-11-18T14:25:44.936Z"
   },
   {
    "duration": 85,
    "start_time": "2022-11-18T14:25:49.230Z"
   },
   {
    "duration": 1467,
    "start_time": "2022-11-18T14:26:17.026Z"
   },
   {
    "duration": 84,
    "start_time": "2022-11-18T14:26:19.147Z"
   },
   {
    "duration": 5,
    "start_time": "2022-11-18T14:26:53.759Z"
   },
   {
    "duration": 189,
    "start_time": "2022-11-18T14:28:22.455Z"
   },
   {
    "duration": 83,
    "start_time": "2022-11-18T14:29:55.036Z"
   },
   {
    "duration": 16,
    "start_time": "2022-11-18T14:32:25.965Z"
   },
   {
    "duration": 74,
    "start_time": "2022-11-18T14:37:09.684Z"
   },
   {
    "duration": 9,
    "start_time": "2022-11-18T14:37:20.727Z"
   },
   {
    "duration": 17,
    "start_time": "2022-11-18T14:43:09.294Z"
   },
   {
    "duration": 16,
    "start_time": "2022-11-18T14:43:42.053Z"
   },
   {
    "duration": 76,
    "start_time": "2022-11-18T14:48:23.544Z"
   },
   {
    "duration": 16,
    "start_time": "2022-11-18T14:48:30.121Z"
   },
   {
    "duration": 3,
    "start_time": "2022-11-18T14:55:22.651Z"
   },
   {
    "duration": 11,
    "start_time": "2022-11-18T14:55:28.466Z"
   },
   {
    "duration": 16,
    "start_time": "2022-11-18T14:55:42.308Z"
   },
   {
    "duration": 15,
    "start_time": "2022-11-18T14:57:22.203Z"
   },
   {
    "duration": 14,
    "start_time": "2022-11-18T14:59:36.719Z"
   },
   {
    "duration": 6,
    "start_time": "2022-11-18T15:03:09.837Z"
   },
   {
    "duration": 17,
    "start_time": "2022-11-18T15:11:16.407Z"
   },
   {
    "duration": 1325,
    "start_time": "2022-11-18T15:11:40.039Z"
   },
   {
    "duration": 16,
    "start_time": "2022-11-18T15:11:55.316Z"
   },
   {
    "duration": 6,
    "start_time": "2022-11-18T15:13:15.709Z"
   },
   {
    "duration": 7,
    "start_time": "2022-11-18T15:13:47.212Z"
   },
   {
    "duration": 17,
    "start_time": "2022-11-18T15:22:24.100Z"
   },
   {
    "duration": 18,
    "start_time": "2022-11-18T15:22:42.636Z"
   },
   {
    "duration": 16,
    "start_time": "2022-11-18T15:25:05.547Z"
   },
   {
    "duration": 16,
    "start_time": "2022-11-18T15:25:27.110Z"
   },
   {
    "duration": 16,
    "start_time": "2022-11-18T15:25:44.093Z"
   },
   {
    "duration": 13,
    "start_time": "2022-11-18T15:26:29.193Z"
   },
   {
    "duration": 2145,
    "start_time": "2022-11-18T15:27:10.011Z"
   },
   {
    "duration": 57,
    "start_time": "2022-11-18T15:27:12.158Z"
   },
   {
    "duration": 25,
    "start_time": "2022-11-18T15:27:12.217Z"
   },
   {
    "duration": 1252,
    "start_time": "2022-11-18T15:27:12.245Z"
   },
   {
    "duration": 7,
    "start_time": "2022-11-18T15:27:13.499Z"
   },
   {
    "duration": 30,
    "start_time": "2022-11-18T15:27:13.508Z"
   },
   {
    "duration": 8,
    "start_time": "2022-11-18T15:27:13.540Z"
   },
   {
    "duration": 6,
    "start_time": "2022-11-18T15:27:13.550Z"
   },
   {
    "duration": 10,
    "start_time": "2022-11-18T15:27:13.558Z"
   },
   {
    "duration": 3,
    "start_time": "2022-11-18T15:27:13.572Z"
   },
   {
    "duration": 83,
    "start_time": "2022-11-18T15:27:13.577Z"
   },
   {
    "duration": 7,
    "start_time": "2022-11-18T15:27:13.662Z"
   },
   {
    "duration": 9,
    "start_time": "2022-11-18T15:27:13.671Z"
   },
   {
    "duration": 8,
    "start_time": "2022-11-18T15:27:13.682Z"
   },
   {
    "duration": 6,
    "start_time": "2022-11-18T15:27:13.691Z"
   },
   {
    "duration": 48,
    "start_time": "2022-11-18T15:27:13.699Z"
   },
   {
    "duration": 7,
    "start_time": "2022-11-18T15:27:13.749Z"
   },
   {
    "duration": 9,
    "start_time": "2022-11-18T15:27:13.757Z"
   },
   {
    "duration": 7,
    "start_time": "2022-11-18T15:27:13.767Z"
   },
   {
    "duration": 25,
    "start_time": "2022-11-18T15:27:13.776Z"
   },
   {
    "duration": 44,
    "start_time": "2022-11-18T15:27:13.803Z"
   },
   {
    "duration": 20,
    "start_time": "2022-11-18T15:27:13.849Z"
   },
   {
    "duration": 8,
    "start_time": "2022-11-18T15:27:13.871Z"
   },
   {
    "duration": 627,
    "start_time": "2022-11-18T15:27:13.881Z"
   },
   {
    "duration": 71,
    "start_time": "2022-11-18T15:27:14.509Z"
   },
   {
    "duration": 106,
    "start_time": "2022-11-18T15:27:14.582Z"
   },
   {
    "duration": 5,
    "start_time": "2022-11-18T15:27:14.690Z"
   },
   {
    "duration": 104,
    "start_time": "2022-11-18T15:27:14.698Z"
   },
   {
    "duration": 1539,
    "start_time": "2022-11-18T15:27:14.804Z"
   },
   {
    "duration": 102,
    "start_time": "2022-11-18T15:27:16.345Z"
   },
   {
    "duration": 92,
    "start_time": "2022-11-18T15:27:16.449Z"
   },
   {
    "duration": 5,
    "start_time": "2022-11-18T15:27:16.543Z"
   },
   {
    "duration": 9,
    "start_time": "2022-11-18T15:27:16.549Z"
   },
   {
    "duration": 4,
    "start_time": "2022-11-18T15:27:16.560Z"
   },
   {
    "duration": 18,
    "start_time": "2022-11-18T15:27:16.565Z"
   },
   {
    "duration": 412,
    "start_time": "2022-11-18T15:27:16.585Z"
   },
   {
    "duration": 4,
    "start_time": "2022-11-18T15:27:16.999Z"
   },
   {
    "duration": 37,
    "start_time": "2022-11-18T15:27:17.005Z"
   },
   {
    "duration": 245,
    "start_time": "2022-11-18T15:27:17.043Z"
   },
   {
    "duration": 241,
    "start_time": "2022-11-18T15:27:17.290Z"
   },
   {
    "duration": 186,
    "start_time": "2022-11-18T15:27:17.532Z"
   },
   {
    "duration": 211,
    "start_time": "2022-11-18T15:27:17.720Z"
   },
   {
    "duration": 191,
    "start_time": "2022-11-18T15:27:17.937Z"
   },
   {
    "duration": 135,
    "start_time": "2022-11-18T15:27:18.130Z"
   },
   {
    "duration": 132,
    "start_time": "2022-11-18T15:27:18.267Z"
   },
   {
    "duration": 163,
    "start_time": "2022-11-18T15:27:18.401Z"
   },
   {
    "duration": 425,
    "start_time": "2022-11-18T15:27:18.565Z"
   },
   {
    "duration": 181,
    "start_time": "2022-11-18T15:27:18.991Z"
   },
   {
    "duration": 160,
    "start_time": "2022-11-18T15:27:19.174Z"
   },
   {
    "duration": 141,
    "start_time": "2022-11-18T15:27:19.336Z"
   },
   {
    "duration": 245,
    "start_time": "2022-11-18T15:27:19.479Z"
   },
   {
    "duration": 167,
    "start_time": "2022-11-18T15:27:19.725Z"
   },
   {
    "duration": 187,
    "start_time": "2022-11-18T15:27:19.894Z"
   },
   {
    "duration": 164,
    "start_time": "2022-11-18T15:27:20.083Z"
   },
   {
    "duration": 181,
    "start_time": "2022-11-18T15:27:20.248Z"
   },
   {
    "duration": 237,
    "start_time": "2022-11-18T15:27:20.430Z"
   },
   {
    "duration": 171,
    "start_time": "2022-11-18T15:27:20.668Z"
   },
   {
    "duration": 165,
    "start_time": "2022-11-18T15:27:20.840Z"
   },
   {
    "duration": 176,
    "start_time": "2022-11-18T15:27:21.007Z"
   },
   {
    "duration": 12,
    "start_time": "2022-11-18T15:27:21.185Z"
   },
   {
    "duration": 156,
    "start_time": "2022-11-18T15:27:21.198Z"
   },
   {
    "duration": 15,
    "start_time": "2022-11-18T15:27:21.356Z"
   },
   {
    "duration": 130,
    "start_time": "2022-11-18T15:27:21.372Z"
   },
   {
    "duration": 135,
    "start_time": "2022-11-18T15:27:21.504Z"
   },
   {
    "duration": 132,
    "start_time": "2022-11-18T15:27:21.640Z"
   },
   {
    "duration": 291,
    "start_time": "2022-11-18T15:27:21.773Z"
   },
   {
    "duration": 139,
    "start_time": "2022-11-18T15:27:22.065Z"
   },
   {
    "duration": 33,
    "start_time": "2022-11-18T15:27:22.205Z"
   },
   {
    "duration": 19,
    "start_time": "2022-11-18T15:27:22.240Z"
   },
   {
    "duration": 152,
    "start_time": "2022-11-18T15:27:22.261Z"
   },
   {
    "duration": 8,
    "start_time": "2022-11-18T15:42:52.178Z"
   },
   {
    "duration": 8,
    "start_time": "2022-11-18T15:43:23.084Z"
   },
   {
    "duration": 91,
    "start_time": "2022-11-18T15:47:04.235Z"
   },
   {
    "duration": 8,
    "start_time": "2022-11-18T15:47:39.253Z"
   },
   {
    "duration": 70,
    "start_time": "2022-11-18T15:47:58.148Z"
   },
   {
    "duration": 8,
    "start_time": "2022-11-18T15:50:57.598Z"
   },
   {
    "duration": 72,
    "start_time": "2022-11-18T15:55:30.190Z"
   },
   {
    "duration": 2100,
    "start_time": "2022-11-18T15:55:58.813Z"
   },
   {
    "duration": 65,
    "start_time": "2022-11-18T15:56:00.915Z"
   },
   {
    "duration": 8,
    "start_time": "2022-11-18T15:56:00.982Z"
   },
   {
    "duration": 1319,
    "start_time": "2022-11-18T15:56:00.992Z"
   },
   {
    "duration": 6,
    "start_time": "2022-11-18T15:56:02.313Z"
   },
   {
    "duration": 26,
    "start_time": "2022-11-18T15:56:02.321Z"
   },
   {
    "duration": 7,
    "start_time": "2022-11-18T15:56:02.349Z"
   },
   {
    "duration": 8,
    "start_time": "2022-11-18T15:56:02.358Z"
   },
   {
    "duration": 11,
    "start_time": "2022-11-18T15:56:02.368Z"
   },
   {
    "duration": 3,
    "start_time": "2022-11-18T15:56:02.382Z"
   },
   {
    "duration": 63,
    "start_time": "2022-11-18T15:56:02.387Z"
   },
   {
    "duration": 5,
    "start_time": "2022-11-18T15:56:02.452Z"
   },
   {
    "duration": 10,
    "start_time": "2022-11-18T15:56:02.459Z"
   },
   {
    "duration": 6,
    "start_time": "2022-11-18T15:56:02.471Z"
   },
   {
    "duration": 5,
    "start_time": "2022-11-18T15:56:02.479Z"
   },
   {
    "duration": 17,
    "start_time": "2022-11-18T15:56:02.485Z"
   },
   {
    "duration": 37,
    "start_time": "2022-11-18T15:56:02.504Z"
   },
   {
    "duration": 11,
    "start_time": "2022-11-18T15:56:02.543Z"
   },
   {
    "duration": 7,
    "start_time": "2022-11-18T15:56:02.556Z"
   },
   {
    "duration": 26,
    "start_time": "2022-11-18T15:56:02.565Z"
   },
   {
    "duration": 16,
    "start_time": "2022-11-18T15:56:02.593Z"
   },
   {
    "duration": 40,
    "start_time": "2022-11-18T15:56:02.611Z"
   },
   {
    "duration": 8,
    "start_time": "2022-11-18T15:56:02.652Z"
   },
   {
    "duration": 601,
    "start_time": "2022-11-18T15:56:02.661Z"
   },
   {
    "duration": 62,
    "start_time": "2022-11-18T15:56:03.263Z"
   },
   {
    "duration": 118,
    "start_time": "2022-11-18T15:56:03.327Z"
   },
   {
    "duration": 6,
    "start_time": "2022-11-18T15:56:03.447Z"
   },
   {
    "duration": 109,
    "start_time": "2022-11-18T15:56:03.456Z"
   },
   {
    "duration": 1611,
    "start_time": "2022-11-18T15:56:03.567Z"
   },
   {
    "duration": 94,
    "start_time": "2022-11-18T15:56:05.180Z"
   },
   {
    "duration": 95,
    "start_time": "2022-11-18T15:56:05.276Z"
   },
   {
    "duration": 5,
    "start_time": "2022-11-18T15:56:05.372Z"
   },
   {
    "duration": 11,
    "start_time": "2022-11-18T15:56:05.379Z"
   },
   {
    "duration": 5,
    "start_time": "2022-11-18T15:56:05.392Z"
   },
   {
    "duration": 14,
    "start_time": "2022-11-18T15:56:05.398Z"
   },
   {
    "duration": 86,
    "start_time": "2022-11-18T15:56:05.414Z"
   },
   {
    "duration": 0,
    "start_time": "2022-11-18T15:56:05.502Z"
   },
   {
    "duration": 0,
    "start_time": "2022-11-18T15:56:05.503Z"
   },
   {
    "duration": 0,
    "start_time": "2022-11-18T15:56:05.504Z"
   },
   {
    "duration": 0,
    "start_time": "2022-11-18T15:56:05.505Z"
   },
   {
    "duration": 0,
    "start_time": "2022-11-18T15:56:05.505Z"
   },
   {
    "duration": 0,
    "start_time": "2022-11-18T15:56:05.506Z"
   },
   {
    "duration": 0,
    "start_time": "2022-11-18T15:56:05.507Z"
   },
   {
    "duration": 0,
    "start_time": "2022-11-18T15:56:05.508Z"
   },
   {
    "duration": 0,
    "start_time": "2022-11-18T15:56:05.509Z"
   },
   {
    "duration": 0,
    "start_time": "2022-11-18T15:56:05.510Z"
   },
   {
    "duration": 0,
    "start_time": "2022-11-18T15:56:05.511Z"
   },
   {
    "duration": 0,
    "start_time": "2022-11-18T15:56:05.512Z"
   },
   {
    "duration": 0,
    "start_time": "2022-11-18T15:56:05.512Z"
   },
   {
    "duration": 0,
    "start_time": "2022-11-18T15:56:05.513Z"
   },
   {
    "duration": 0,
    "start_time": "2022-11-18T15:56:05.538Z"
   },
   {
    "duration": 0,
    "start_time": "2022-11-18T15:56:05.539Z"
   },
   {
    "duration": 0,
    "start_time": "2022-11-18T15:56:05.540Z"
   },
   {
    "duration": 0,
    "start_time": "2022-11-18T15:56:05.541Z"
   },
   {
    "duration": 0,
    "start_time": "2022-11-18T15:56:05.542Z"
   },
   {
    "duration": 0,
    "start_time": "2022-11-18T15:56:05.543Z"
   },
   {
    "duration": 0,
    "start_time": "2022-11-18T15:56:05.544Z"
   },
   {
    "duration": 0,
    "start_time": "2022-11-18T15:56:05.545Z"
   },
   {
    "duration": 0,
    "start_time": "2022-11-18T15:56:05.546Z"
   },
   {
    "duration": 0,
    "start_time": "2022-11-18T15:56:05.547Z"
   },
   {
    "duration": 0,
    "start_time": "2022-11-18T15:56:05.548Z"
   },
   {
    "duration": 0,
    "start_time": "2022-11-18T15:56:05.549Z"
   },
   {
    "duration": 0,
    "start_time": "2022-11-18T15:56:05.549Z"
   },
   {
    "duration": 0,
    "start_time": "2022-11-18T15:56:05.550Z"
   },
   {
    "duration": 0,
    "start_time": "2022-11-18T15:56:05.551Z"
   },
   {
    "duration": 0,
    "start_time": "2022-11-18T15:56:05.552Z"
   },
   {
    "duration": 0,
    "start_time": "2022-11-18T15:56:05.553Z"
   },
   {
    "duration": 0,
    "start_time": "2022-11-18T15:56:05.553Z"
   },
   {
    "duration": 0,
    "start_time": "2022-11-18T15:56:05.554Z"
   },
   {
    "duration": 0,
    "start_time": "2022-11-18T15:56:05.555Z"
   },
   {
    "duration": 0,
    "start_time": "2022-11-18T15:56:05.556Z"
   },
   {
    "duration": 2122,
    "start_time": "2022-11-18T15:57:27.186Z"
   },
   {
    "duration": 63,
    "start_time": "2022-11-18T15:57:29.310Z"
   },
   {
    "duration": 8,
    "start_time": "2022-11-18T15:57:29.374Z"
   },
   {
    "duration": 1290,
    "start_time": "2022-11-18T15:57:29.384Z"
   },
   {
    "duration": 6,
    "start_time": "2022-11-18T15:57:30.676Z"
   },
   {
    "duration": 32,
    "start_time": "2022-11-18T15:57:30.684Z"
   },
   {
    "duration": 29,
    "start_time": "2022-11-18T15:57:30.717Z"
   },
   {
    "duration": 32,
    "start_time": "2022-11-18T15:57:30.748Z"
   },
   {
    "duration": 32,
    "start_time": "2022-11-18T15:57:30.782Z"
   },
   {
    "duration": 26,
    "start_time": "2022-11-18T15:57:30.816Z"
   },
   {
    "duration": 59,
    "start_time": "2022-11-18T15:57:30.844Z"
   },
   {
    "duration": 6,
    "start_time": "2022-11-18T15:57:30.904Z"
   },
   {
    "duration": 35,
    "start_time": "2022-11-18T15:57:30.911Z"
   },
   {
    "duration": 24,
    "start_time": "2022-11-18T15:57:30.948Z"
   },
   {
    "duration": 19,
    "start_time": "2022-11-18T15:57:30.974Z"
   },
   {
    "duration": 40,
    "start_time": "2022-11-18T15:57:30.994Z"
   },
   {
    "duration": 17,
    "start_time": "2022-11-18T15:57:31.035Z"
   },
   {
    "duration": 15,
    "start_time": "2022-11-18T15:57:31.053Z"
   },
   {
    "duration": 17,
    "start_time": "2022-11-18T15:57:31.070Z"
   },
   {
    "duration": 46,
    "start_time": "2022-11-18T15:57:31.089Z"
   },
   {
    "duration": 23,
    "start_time": "2022-11-18T15:57:31.136Z"
   },
   {
    "duration": 31,
    "start_time": "2022-11-18T15:57:31.160Z"
   },
   {
    "duration": 30,
    "start_time": "2022-11-18T15:57:31.193Z"
   },
   {
    "duration": 591,
    "start_time": "2022-11-18T15:57:31.225Z"
   },
   {
    "duration": 72,
    "start_time": "2022-11-18T15:57:31.818Z"
   },
   {
    "duration": 110,
    "start_time": "2022-11-18T15:57:31.892Z"
   },
   {
    "duration": 6,
    "start_time": "2022-11-18T15:57:32.004Z"
   },
   {
    "duration": 116,
    "start_time": "2022-11-18T15:57:32.015Z"
   },
   {
    "duration": 1612,
    "start_time": "2022-11-18T15:57:32.133Z"
   },
   {
    "duration": 118,
    "start_time": "2022-11-18T15:57:33.747Z"
   },
   {
    "duration": 105,
    "start_time": "2022-11-18T15:57:33.867Z"
   },
   {
    "duration": 5,
    "start_time": "2022-11-18T15:57:33.974Z"
   },
   {
    "duration": 14,
    "start_time": "2022-11-18T15:57:33.981Z"
   },
   {
    "duration": 8,
    "start_time": "2022-11-18T15:57:33.997Z"
   },
   {
    "duration": 24,
    "start_time": "2022-11-18T15:57:34.007Z"
   },
   {
    "duration": 9,
    "start_time": "2022-11-18T15:57:34.033Z"
   },
   {
    "duration": 400,
    "start_time": "2022-11-18T15:57:34.044Z"
   },
   {
    "duration": 6,
    "start_time": "2022-11-18T15:57:34.445Z"
   },
   {
    "duration": 27,
    "start_time": "2022-11-18T15:57:34.453Z"
   },
   {
    "duration": 251,
    "start_time": "2022-11-18T15:57:34.481Z"
   },
   {
    "duration": 250,
    "start_time": "2022-11-18T15:57:34.737Z"
   },
   {
    "duration": 184,
    "start_time": "2022-11-18T15:57:34.989Z"
   },
   {
    "duration": 198,
    "start_time": "2022-11-18T15:57:35.174Z"
   },
   {
    "duration": 192,
    "start_time": "2022-11-18T15:57:35.374Z"
   },
   {
    "duration": 134,
    "start_time": "2022-11-18T15:57:35.568Z"
   },
   {
    "duration": 144,
    "start_time": "2022-11-18T15:57:35.703Z"
   },
   {
    "duration": 175,
    "start_time": "2022-11-18T15:57:35.849Z"
   },
   {
    "duration": 385,
    "start_time": "2022-11-18T15:57:36.025Z"
   },
   {
    "duration": 158,
    "start_time": "2022-11-18T15:57:36.412Z"
   },
   {
    "duration": 171,
    "start_time": "2022-11-18T15:57:36.572Z"
   },
   {
    "duration": 147,
    "start_time": "2022-11-18T15:57:36.745Z"
   },
   {
    "duration": 248,
    "start_time": "2022-11-18T15:57:36.894Z"
   },
   {
    "duration": 177,
    "start_time": "2022-11-18T15:57:37.144Z"
   },
   {
    "duration": 184,
    "start_time": "2022-11-18T15:57:37.323Z"
   },
   {
    "duration": 173,
    "start_time": "2022-11-18T15:57:37.509Z"
   },
   {
    "duration": 185,
    "start_time": "2022-11-18T15:57:37.684Z"
   },
   {
    "duration": 259,
    "start_time": "2022-11-18T15:57:37.871Z"
   },
   {
    "duration": 172,
    "start_time": "2022-11-18T15:57:38.136Z"
   },
   {
    "duration": 167,
    "start_time": "2022-11-18T15:57:38.309Z"
   },
   {
    "duration": 175,
    "start_time": "2022-11-18T15:57:38.478Z"
   },
   {
    "duration": 12,
    "start_time": "2022-11-18T15:57:38.655Z"
   },
   {
    "duration": 168,
    "start_time": "2022-11-18T15:57:38.669Z"
   },
   {
    "duration": 22,
    "start_time": "2022-11-18T15:57:38.839Z"
   },
   {
    "duration": 166,
    "start_time": "2022-11-18T15:57:38.864Z"
   },
   {
    "duration": 130,
    "start_time": "2022-11-18T15:57:39.037Z"
   },
   {
    "duration": 129,
    "start_time": "2022-11-18T15:57:39.169Z"
   },
   {
    "duration": 270,
    "start_time": "2022-11-18T15:57:39.299Z"
   },
   {
    "duration": 136,
    "start_time": "2022-11-18T15:57:39.571Z"
   },
   {
    "duration": 31,
    "start_time": "2022-11-18T15:57:39.708Z"
   },
   {
    "duration": 21,
    "start_time": "2022-11-18T15:57:39.741Z"
   },
   {
    "duration": 157,
    "start_time": "2022-11-18T15:57:39.763Z"
   },
   {
    "duration": 255,
    "start_time": "2022-11-18T15:58:00.669Z"
   },
   {
    "duration": 342,
    "start_time": "2022-11-18T15:59:10.387Z"
   },
   {
    "duration": 269,
    "start_time": "2022-11-18T16:00:25.587Z"
   },
   {
    "duration": 462,
    "start_time": "2022-11-18T16:00:36.778Z"
   },
   {
    "duration": 474,
    "start_time": "2022-11-18T16:00:58.863Z"
   },
   {
    "duration": 515,
    "start_time": "2022-11-18T16:01:08.755Z"
   },
   {
    "duration": 125,
    "start_time": "2022-11-18T16:04:45.926Z"
   },
   {
    "duration": 129,
    "start_time": "2022-11-18T16:04:56.308Z"
   },
   {
    "duration": 139,
    "start_time": "2022-11-18T16:05:02.946Z"
   },
   {
    "duration": 140,
    "start_time": "2022-11-18T16:05:51.890Z"
   },
   {
    "duration": 149,
    "start_time": "2022-11-18T16:08:06.563Z"
   },
   {
    "duration": 239,
    "start_time": "2022-11-18T16:08:24.893Z"
   },
   {
    "duration": 176,
    "start_time": "2022-11-18T16:08:42.813Z"
   },
   {
    "duration": 145,
    "start_time": "2022-11-18T16:09:01.456Z"
   },
   {
    "duration": 138,
    "start_time": "2022-11-18T16:09:31.270Z"
   },
   {
    "duration": 160,
    "start_time": "2022-11-18T16:17:24.967Z"
   },
   {
    "duration": 282,
    "start_time": "2022-11-18T16:17:56.571Z"
   },
   {
    "duration": 143,
    "start_time": "2022-11-18T16:29:55.236Z"
   },
   {
    "duration": 132,
    "start_time": "2022-11-18T16:30:56.637Z"
   },
   {
    "duration": 2142,
    "start_time": "2022-11-18T16:32:30.325Z"
   },
   {
    "duration": 68,
    "start_time": "2022-11-18T16:32:32.469Z"
   },
   {
    "duration": 8,
    "start_time": "2022-11-18T16:32:32.539Z"
   },
   {
    "duration": 1319,
    "start_time": "2022-11-18T16:32:32.549Z"
   },
   {
    "duration": 7,
    "start_time": "2022-11-18T16:32:33.870Z"
   },
   {
    "duration": 15,
    "start_time": "2022-11-18T16:32:33.878Z"
   },
   {
    "duration": 6,
    "start_time": "2022-11-18T16:32:33.895Z"
   },
   {
    "duration": 4,
    "start_time": "2022-11-18T16:32:33.903Z"
   },
   {
    "duration": 37,
    "start_time": "2022-11-18T16:32:33.909Z"
   },
   {
    "duration": 3,
    "start_time": "2022-11-18T16:32:33.949Z"
   },
   {
    "duration": 45,
    "start_time": "2022-11-18T16:32:33.954Z"
   },
   {
    "duration": 6,
    "start_time": "2022-11-18T16:32:34.000Z"
   },
   {
    "duration": 16,
    "start_time": "2022-11-18T16:32:34.007Z"
   },
   {
    "duration": 17,
    "start_time": "2022-11-18T16:32:34.025Z"
   },
   {
    "duration": 6,
    "start_time": "2022-11-18T16:32:34.044Z"
   },
   {
    "duration": 18,
    "start_time": "2022-11-18T16:32:34.052Z"
   },
   {
    "duration": 6,
    "start_time": "2022-11-18T16:32:34.071Z"
   },
   {
    "duration": 7,
    "start_time": "2022-11-18T16:32:34.078Z"
   },
   {
    "duration": 6,
    "start_time": "2022-11-18T16:32:34.086Z"
   },
   {
    "duration": 57,
    "start_time": "2022-11-18T16:32:34.093Z"
   },
   {
    "duration": 20,
    "start_time": "2022-11-18T16:32:34.152Z"
   },
   {
    "duration": 19,
    "start_time": "2022-11-18T16:32:34.174Z"
   },
   {
    "duration": 10,
    "start_time": "2022-11-18T16:32:34.195Z"
   },
   {
    "duration": 625,
    "start_time": "2022-11-18T16:32:34.207Z"
   },
   {
    "duration": 61,
    "start_time": "2022-11-18T16:32:34.836Z"
   },
   {
    "duration": 108,
    "start_time": "2022-11-18T16:32:34.899Z"
   },
   {
    "duration": 6,
    "start_time": "2022-11-18T16:32:35.008Z"
   },
   {
    "duration": 110,
    "start_time": "2022-11-18T16:32:35.018Z"
   },
   {
    "duration": 1786,
    "start_time": "2022-11-18T16:32:35.137Z"
   },
   {
    "duration": 86,
    "start_time": "2022-11-18T16:32:36.924Z"
   },
   {
    "duration": 92,
    "start_time": "2022-11-18T16:32:37.012Z"
   },
   {
    "duration": 6,
    "start_time": "2022-11-18T16:32:37.105Z"
   },
   {
    "duration": 10,
    "start_time": "2022-11-18T16:32:37.112Z"
   },
   {
    "duration": 17,
    "start_time": "2022-11-18T16:32:37.123Z"
   },
   {
    "duration": 12,
    "start_time": "2022-11-18T16:32:37.142Z"
   },
   {
    "duration": 2,
    "start_time": "2022-11-18T16:32:37.156Z"
   },
   {
    "duration": 409,
    "start_time": "2022-11-18T16:32:37.160Z"
   },
   {
    "duration": 5,
    "start_time": "2022-11-18T16:32:37.571Z"
   },
   {
    "duration": 17,
    "start_time": "2022-11-18T16:32:37.577Z"
   },
   {
    "duration": 393,
    "start_time": "2022-11-18T16:32:37.595Z"
   },
   {
    "duration": 247,
    "start_time": "2022-11-18T16:32:37.990Z"
   },
   {
    "duration": 165,
    "start_time": "2022-11-18T16:32:38.239Z"
   },
   {
    "duration": 181,
    "start_time": "2022-11-18T16:32:38.405Z"
   },
   {
    "duration": 187,
    "start_time": "2022-11-18T16:32:38.587Z"
   },
   {
    "duration": 154,
    "start_time": "2022-11-18T16:32:38.776Z"
   },
   {
    "duration": 138,
    "start_time": "2022-11-18T16:32:38.936Z"
   },
   {
    "duration": 236,
    "start_time": "2022-11-18T16:32:39.076Z"
   },
   {
    "duration": 307,
    "start_time": "2022-11-18T16:32:39.315Z"
   },
   {
    "duration": 168,
    "start_time": "2022-11-18T16:32:39.624Z"
   },
   {
    "duration": 166,
    "start_time": "2022-11-18T16:32:39.794Z"
   },
   {
    "duration": 141,
    "start_time": "2022-11-18T16:32:39.962Z"
   },
   {
    "duration": 152,
    "start_time": "2022-11-18T16:32:40.105Z"
   },
   {
    "duration": 235,
    "start_time": "2022-11-18T16:32:40.258Z"
   },
   {
    "duration": 169,
    "start_time": "2022-11-18T16:32:40.494Z"
   },
   {
    "duration": 182,
    "start_time": "2022-11-18T16:32:40.665Z"
   },
   {
    "duration": 249,
    "start_time": "2022-11-18T16:32:40.849Z"
   },
   {
    "duration": 173,
    "start_time": "2022-11-18T16:32:41.099Z"
   },
   {
    "duration": 149,
    "start_time": "2022-11-18T16:32:41.273Z"
   },
   {
    "duration": 165,
    "start_time": "2022-11-18T16:32:41.423Z"
   },
   {
    "duration": 170,
    "start_time": "2022-11-18T16:32:41.589Z"
   },
   {
    "duration": 177,
    "start_time": "2022-11-18T16:32:41.761Z"
   },
   {
    "duration": 12,
    "start_time": "2022-11-18T16:32:41.939Z"
   },
   {
    "duration": 146,
    "start_time": "2022-11-18T16:32:41.953Z"
   },
   {
    "duration": 14,
    "start_time": "2022-11-18T16:32:42.101Z"
   },
   {
    "duration": 125,
    "start_time": "2022-11-18T16:32:42.116Z"
   },
   {
    "duration": 130,
    "start_time": "2022-11-18T16:32:42.242Z"
   },
   {
    "duration": 125,
    "start_time": "2022-11-18T16:32:42.373Z"
   },
   {
    "duration": 273,
    "start_time": "2022-11-18T16:32:42.500Z"
   },
   {
    "duration": 137,
    "start_time": "2022-11-18T16:32:42.775Z"
   },
   {
    "duration": 133,
    "start_time": "2022-11-18T16:32:42.914Z"
   },
   {
    "duration": 22,
    "start_time": "2022-11-18T16:32:43.048Z"
   },
   {
    "duration": 19,
    "start_time": "2022-11-18T16:32:43.071Z"
   },
   {
    "duration": 160,
    "start_time": "2022-11-18T16:32:43.091Z"
   },
   {
    "duration": 597,
    "start_time": "2022-11-18T16:40:42.880Z"
   },
   {
    "duration": 135,
    "start_time": "2022-11-18T16:40:57.213Z"
   },
   {
    "duration": 132,
    "start_time": "2022-11-18T16:45:43.065Z"
   },
   {
    "duration": 142,
    "start_time": "2022-11-18T16:47:54.810Z"
   },
   {
    "duration": 218,
    "start_time": "2022-11-18T16:48:51.527Z"
   },
   {
    "duration": 112,
    "start_time": "2022-11-18T16:49:19.148Z"
   },
   {
    "duration": 148,
    "start_time": "2022-11-18T17:10:35.933Z"
   },
   {
    "duration": 274,
    "start_time": "2022-11-18T17:11:10.937Z"
   },
   {
    "duration": 303,
    "start_time": "2022-11-18T17:11:48.825Z"
   },
   {
    "duration": 254,
    "start_time": "2022-11-18T17:12:44.452Z"
   },
   {
    "duration": 23,
    "start_time": "2022-11-18T17:14:49.599Z"
   },
   {
    "duration": 2090,
    "start_time": "2022-11-18T17:17:11.108Z"
   },
   {
    "duration": 61,
    "start_time": "2022-11-18T17:17:13.200Z"
   },
   {
    "duration": 7,
    "start_time": "2022-11-18T17:17:13.263Z"
   },
   {
    "duration": 1294,
    "start_time": "2022-11-18T17:17:13.271Z"
   },
   {
    "duration": 7,
    "start_time": "2022-11-18T17:17:14.567Z"
   },
   {
    "duration": 14,
    "start_time": "2022-11-18T17:17:14.575Z"
   },
   {
    "duration": 7,
    "start_time": "2022-11-18T17:17:14.590Z"
   },
   {
    "duration": 6,
    "start_time": "2022-11-18T17:17:14.598Z"
   },
   {
    "duration": 34,
    "start_time": "2022-11-18T17:17:14.606Z"
   },
   {
    "duration": 4,
    "start_time": "2022-11-18T17:17:14.642Z"
   },
   {
    "duration": 44,
    "start_time": "2022-11-18T17:17:14.648Z"
   },
   {
    "duration": 6,
    "start_time": "2022-11-18T17:17:14.693Z"
   },
   {
    "duration": 11,
    "start_time": "2022-11-18T17:17:14.701Z"
   },
   {
    "duration": 28,
    "start_time": "2022-11-18T17:17:14.713Z"
   },
   {
    "duration": 5,
    "start_time": "2022-11-18T17:17:14.743Z"
   },
   {
    "duration": 17,
    "start_time": "2022-11-18T17:17:14.750Z"
   },
   {
    "duration": 5,
    "start_time": "2022-11-18T17:17:14.768Z"
   },
   {
    "duration": 15,
    "start_time": "2022-11-18T17:17:14.775Z"
   },
   {
    "duration": 6,
    "start_time": "2022-11-18T17:17:14.792Z"
   },
   {
    "duration": 50,
    "start_time": "2022-11-18T17:17:14.799Z"
   },
   {
    "duration": 14,
    "start_time": "2022-11-18T17:17:14.851Z"
   },
   {
    "duration": 19,
    "start_time": "2022-11-18T17:17:14.867Z"
   },
   {
    "duration": 7,
    "start_time": "2022-11-18T17:17:14.887Z"
   },
   {
    "duration": 607,
    "start_time": "2022-11-18T17:17:14.896Z"
   },
   {
    "duration": 70,
    "start_time": "2022-11-18T17:17:15.505Z"
   },
   {
    "duration": 108,
    "start_time": "2022-11-18T17:17:15.577Z"
   },
   {
    "duration": 6,
    "start_time": "2022-11-18T17:17:15.686Z"
   },
   {
    "duration": 113,
    "start_time": "2022-11-18T17:17:15.695Z"
   },
   {
    "duration": 1516,
    "start_time": "2022-11-18T17:17:15.811Z"
   },
   {
    "duration": 94,
    "start_time": "2022-11-18T17:17:17.328Z"
   },
   {
    "duration": 92,
    "start_time": "2022-11-18T17:17:17.424Z"
   },
   {
    "duration": 19,
    "start_time": "2022-11-18T17:17:17.518Z"
   },
   {
    "duration": 9,
    "start_time": "2022-11-18T17:17:17.539Z"
   },
   {
    "duration": 4,
    "start_time": "2022-11-18T17:17:17.549Z"
   },
   {
    "duration": 15,
    "start_time": "2022-11-18T17:17:17.555Z"
   },
   {
    "duration": 3,
    "start_time": "2022-11-18T17:17:17.571Z"
   },
   {
    "duration": 412,
    "start_time": "2022-11-18T17:17:17.575Z"
   },
   {
    "duration": 5,
    "start_time": "2022-11-18T17:17:17.988Z"
   },
   {
    "duration": 18,
    "start_time": "2022-11-18T17:17:17.994Z"
   },
   {
    "duration": 366,
    "start_time": "2022-11-18T17:17:18.014Z"
   },
   {
    "duration": 242,
    "start_time": "2022-11-18T17:17:18.382Z"
   },
   {
    "duration": 195,
    "start_time": "2022-11-18T17:17:18.625Z"
   },
   {
    "duration": 217,
    "start_time": "2022-11-18T17:17:18.822Z"
   },
   {
    "duration": 203,
    "start_time": "2022-11-18T17:17:19.041Z"
   },
   {
    "duration": 127,
    "start_time": "2022-11-18T17:17:19.246Z"
   },
   {
    "duration": 138,
    "start_time": "2022-11-18T17:17:19.374Z"
   },
   {
    "duration": 244,
    "start_time": "2022-11-18T17:17:19.513Z"
   },
   {
    "duration": 317,
    "start_time": "2022-11-18T17:17:19.758Z"
   },
   {
    "duration": 171,
    "start_time": "2022-11-18T17:17:20.076Z"
   },
   {
    "duration": 173,
    "start_time": "2022-11-18T17:17:20.249Z"
   },
   {
    "duration": 155,
    "start_time": "2022-11-18T17:17:20.423Z"
   },
   {
    "duration": 157,
    "start_time": "2022-11-18T17:17:20.580Z"
   },
   {
    "duration": 255,
    "start_time": "2022-11-18T17:17:20.739Z"
   },
   {
    "duration": 170,
    "start_time": "2022-11-18T17:17:20.996Z"
   },
   {
    "duration": 187,
    "start_time": "2022-11-18T17:17:21.167Z"
   },
   {
    "duration": 262,
    "start_time": "2022-11-18T17:17:21.355Z"
   },
   {
    "duration": 178,
    "start_time": "2022-11-18T17:17:21.618Z"
   },
   {
    "duration": 170,
    "start_time": "2022-11-18T17:17:21.797Z"
   },
   {
    "duration": 180,
    "start_time": "2022-11-18T17:17:21.969Z"
   },
   {
    "duration": 168,
    "start_time": "2022-11-18T17:17:22.151Z"
   },
   {
    "duration": 182,
    "start_time": "2022-11-18T17:17:22.320Z"
   },
   {
    "duration": 13,
    "start_time": "2022-11-18T17:17:22.504Z"
   },
   {
    "duration": 151,
    "start_time": "2022-11-18T17:17:22.519Z"
   },
   {
    "duration": 14,
    "start_time": "2022-11-18T17:17:22.672Z"
   },
   {
    "duration": 135,
    "start_time": "2022-11-18T17:17:22.688Z"
   },
   {
    "duration": 130,
    "start_time": "2022-11-18T17:17:22.824Z"
   },
   {
    "duration": 129,
    "start_time": "2022-11-18T17:17:22.955Z"
   },
   {
    "duration": 270,
    "start_time": "2022-11-18T17:17:23.085Z"
   },
   {
    "duration": 144,
    "start_time": "2022-11-18T17:17:23.357Z"
   },
   {
    "duration": 291,
    "start_time": "2022-11-18T17:17:23.503Z"
   },
   {
    "duration": 27,
    "start_time": "2022-11-18T17:17:23.796Z"
   },
   {
    "duration": 23,
    "start_time": "2022-11-18T17:17:23.837Z"
   },
   {
    "duration": 170,
    "start_time": "2022-11-18T17:17:23.862Z"
   },
   {
    "duration": 2157,
    "start_time": "2022-11-18T17:21:57.575Z"
   },
   {
    "duration": 1912,
    "start_time": "2022-11-18T17:22:09.155Z"
   },
   {
    "duration": 2152,
    "start_time": "2022-11-18T17:22:18.021Z"
   },
   {
    "duration": 64,
    "start_time": "2022-11-18T17:22:20.175Z"
   },
   {
    "duration": 8,
    "start_time": "2022-11-18T17:22:20.241Z"
   },
   {
    "duration": 2667,
    "start_time": "2022-11-18T17:22:20.251Z"
   },
   {
    "duration": 6,
    "start_time": "2022-11-18T17:22:22.920Z"
   },
   {
    "duration": 15,
    "start_time": "2022-11-18T17:22:22.938Z"
   },
   {
    "duration": 11,
    "start_time": "2022-11-18T17:22:22.954Z"
   },
   {
    "duration": 5,
    "start_time": "2022-11-18T17:22:22.966Z"
   },
   {
    "duration": 10,
    "start_time": "2022-11-18T17:22:22.973Z"
   },
   {
    "duration": 4,
    "start_time": "2022-11-18T17:22:22.985Z"
   },
   {
    "duration": 74,
    "start_time": "2022-11-18T17:22:22.990Z"
   },
   {
    "duration": 6,
    "start_time": "2022-11-18T17:22:23.066Z"
   },
   {
    "duration": 14,
    "start_time": "2022-11-18T17:22:23.074Z"
   },
   {
    "duration": 7,
    "start_time": "2022-11-18T17:22:23.090Z"
   },
   {
    "duration": 6,
    "start_time": "2022-11-18T17:22:23.098Z"
   },
   {
    "duration": 44,
    "start_time": "2022-11-18T17:22:23.106Z"
   },
   {
    "duration": 7,
    "start_time": "2022-11-18T17:22:23.152Z"
   },
   {
    "duration": 10,
    "start_time": "2022-11-18T17:22:23.160Z"
   },
   {
    "duration": 11,
    "start_time": "2022-11-18T17:22:23.172Z"
   },
   {
    "duration": 26,
    "start_time": "2022-11-18T17:22:23.185Z"
   },
   {
    "duration": 38,
    "start_time": "2022-11-18T17:22:23.213Z"
   },
   {
    "duration": 20,
    "start_time": "2022-11-18T17:22:23.253Z"
   },
   {
    "duration": 8,
    "start_time": "2022-11-18T17:22:23.275Z"
   },
   {
    "duration": 640,
    "start_time": "2022-11-18T17:22:23.285Z"
   },
   {
    "duration": 78,
    "start_time": "2022-11-18T17:22:23.926Z"
   },
   {
    "duration": 112,
    "start_time": "2022-11-18T17:22:24.006Z"
   },
   {
    "duration": 20,
    "start_time": "2022-11-18T17:22:24.120Z"
   },
   {
    "duration": 112,
    "start_time": "2022-11-18T17:22:24.145Z"
   },
   {
    "duration": 1547,
    "start_time": "2022-11-18T17:22:24.259Z"
   },
   {
    "duration": 106,
    "start_time": "2022-11-18T17:22:25.807Z"
   },
   {
    "duration": 93,
    "start_time": "2022-11-18T17:22:25.915Z"
   },
   {
    "duration": 5,
    "start_time": "2022-11-18T17:22:26.010Z"
   },
   {
    "duration": 20,
    "start_time": "2022-11-18T17:22:26.017Z"
   },
   {
    "duration": 4,
    "start_time": "2022-11-18T17:22:26.039Z"
   },
   {
    "duration": 16,
    "start_time": "2022-11-18T17:22:26.044Z"
   },
   {
    "duration": 2,
    "start_time": "2022-11-18T17:22:26.061Z"
   },
   {
    "duration": 394,
    "start_time": "2022-11-18T17:22:26.065Z"
   },
   {
    "duration": 6,
    "start_time": "2022-11-18T17:22:26.461Z"
   },
   {
    "duration": 17,
    "start_time": "2022-11-18T17:22:26.469Z"
   },
   {
    "duration": 365,
    "start_time": "2022-11-18T17:22:26.488Z"
   },
   {
    "duration": 246,
    "start_time": "2022-11-18T17:22:26.855Z"
   },
   {
    "duration": 189,
    "start_time": "2022-11-18T17:22:27.102Z"
   },
   {
    "duration": 203,
    "start_time": "2022-11-18T17:22:27.293Z"
   },
   {
    "duration": 207,
    "start_time": "2022-11-18T17:22:27.498Z"
   },
   {
    "duration": 145,
    "start_time": "2022-11-18T17:22:27.707Z"
   },
   {
    "duration": 137,
    "start_time": "2022-11-18T17:22:27.853Z"
   },
   {
    "duration": 247,
    "start_time": "2022-11-18T17:22:27.992Z"
   },
   {
    "duration": 334,
    "start_time": "2022-11-18T17:22:28.241Z"
   },
   {
    "duration": 162,
    "start_time": "2022-11-18T17:22:28.577Z"
   },
   {
    "duration": 200,
    "start_time": "2022-11-18T17:22:28.741Z"
   },
   {
    "duration": 153,
    "start_time": "2022-11-18T17:22:28.942Z"
   },
   {
    "duration": 150,
    "start_time": "2022-11-18T17:22:29.097Z"
   },
   {
    "duration": 249,
    "start_time": "2022-11-18T17:22:29.249Z"
   },
   {
    "duration": 177,
    "start_time": "2022-11-18T17:22:29.500Z"
   },
   {
    "duration": 186,
    "start_time": "2022-11-18T17:22:29.679Z"
   },
   {
    "duration": 262,
    "start_time": "2022-11-18T17:22:29.867Z"
   },
   {
    "duration": 180,
    "start_time": "2022-11-18T17:22:30.131Z"
   },
   {
    "duration": 164,
    "start_time": "2022-11-18T17:22:30.313Z"
   },
   {
    "duration": 181,
    "start_time": "2022-11-18T17:22:30.479Z"
   },
   {
    "duration": 175,
    "start_time": "2022-11-18T17:22:30.662Z"
   },
   {
    "duration": 177,
    "start_time": "2022-11-18T17:22:30.839Z"
   },
   {
    "duration": 20,
    "start_time": "2022-11-18T17:22:31.018Z"
   },
   {
    "duration": 149,
    "start_time": "2022-11-18T17:22:31.040Z"
   },
   {
    "duration": 15,
    "start_time": "2022-11-18T17:22:31.190Z"
   },
   {
    "duration": 128,
    "start_time": "2022-11-18T17:22:31.207Z"
   },
   {
    "duration": 136,
    "start_time": "2022-11-18T17:22:31.337Z"
   },
   {
    "duration": 136,
    "start_time": "2022-11-18T17:22:31.474Z"
   },
   {
    "duration": 274,
    "start_time": "2022-11-18T17:22:31.612Z"
   },
   {
    "duration": 137,
    "start_time": "2022-11-18T17:22:31.887Z"
   },
   {
    "duration": 274,
    "start_time": "2022-11-18T17:22:32.026Z"
   },
   {
    "duration": 22,
    "start_time": "2022-11-18T17:22:32.301Z"
   },
   {
    "duration": 32,
    "start_time": "2022-11-18T17:22:32.324Z"
   },
   {
    "duration": 156,
    "start_time": "2022-11-18T17:22:32.358Z"
   },
   {
    "duration": 269,
    "start_time": "2022-11-18T17:25:27.370Z"
   },
   {
    "duration": 4,
    "start_time": "2022-11-18T18:14:29.911Z"
   },
   {
    "duration": 6,
    "start_time": "2022-11-18T18:14:50.090Z"
   },
   {
    "duration": 10,
    "start_time": "2022-11-18T18:15:23.841Z"
   },
   {
    "duration": 10,
    "start_time": "2022-11-18T18:16:01.790Z"
   },
   {
    "duration": 219,
    "start_time": "2022-11-18T18:16:12.897Z"
   },
   {
    "duration": 131,
    "start_time": "2022-11-18T18:16:28.385Z"
   },
   {
    "duration": 6,
    "start_time": "2022-11-18T18:18:53.186Z"
   },
   {
    "duration": 2114,
    "start_time": "2022-11-18T18:19:29.580Z"
   },
   {
    "duration": 63,
    "start_time": "2022-11-18T18:19:31.696Z"
   },
   {
    "duration": 7,
    "start_time": "2022-11-18T18:19:31.761Z"
   },
   {
    "duration": 2603,
    "start_time": "2022-11-18T18:19:31.770Z"
   },
   {
    "duration": 7,
    "start_time": "2022-11-18T18:19:34.374Z"
   },
   {
    "duration": 14,
    "start_time": "2022-11-18T18:19:34.383Z"
   },
   {
    "duration": 7,
    "start_time": "2022-11-18T18:19:34.399Z"
   },
   {
    "duration": 5,
    "start_time": "2022-11-18T18:19:34.407Z"
   },
   {
    "duration": 32,
    "start_time": "2022-11-18T18:19:34.413Z"
   },
   {
    "duration": 4,
    "start_time": "2022-11-18T18:19:34.447Z"
   },
   {
    "duration": 48,
    "start_time": "2022-11-18T18:19:34.452Z"
   },
   {
    "duration": 6,
    "start_time": "2022-11-18T18:19:34.502Z"
   },
   {
    "duration": 34,
    "start_time": "2022-11-18T18:19:34.509Z"
   },
   {
    "duration": 6,
    "start_time": "2022-11-18T18:19:34.544Z"
   },
   {
    "duration": 4,
    "start_time": "2022-11-18T18:19:34.552Z"
   },
   {
    "duration": 21,
    "start_time": "2022-11-18T18:19:34.558Z"
   },
   {
    "duration": 7,
    "start_time": "2022-11-18T18:19:34.580Z"
   },
   {
    "duration": 8,
    "start_time": "2022-11-18T18:19:34.588Z"
   },
   {
    "duration": 6,
    "start_time": "2022-11-18T18:19:34.598Z"
   },
   {
    "duration": 57,
    "start_time": "2022-11-18T18:19:34.605Z"
   },
   {
    "duration": 15,
    "start_time": "2022-11-18T18:19:34.664Z"
   },
   {
    "duration": 19,
    "start_time": "2022-11-18T18:19:34.680Z"
   },
   {
    "duration": 8,
    "start_time": "2022-11-18T18:19:34.701Z"
   },
   {
    "duration": 632,
    "start_time": "2022-11-18T18:19:34.710Z"
   },
   {
    "duration": 63,
    "start_time": "2022-11-18T18:19:35.344Z"
   },
   {
    "duration": 108,
    "start_time": "2022-11-18T18:19:35.409Z"
   },
   {
    "duration": 18,
    "start_time": "2022-11-18T18:19:35.519Z"
   },
   {
    "duration": 98,
    "start_time": "2022-11-18T18:19:35.541Z"
   },
   {
    "duration": 1490,
    "start_time": "2022-11-18T18:19:35.640Z"
   },
   {
    "duration": 89,
    "start_time": "2022-11-18T18:19:37.131Z"
   },
   {
    "duration": 92,
    "start_time": "2022-11-18T18:19:37.222Z"
   },
   {
    "duration": 21,
    "start_time": "2022-11-18T18:19:37.316Z"
   },
   {
    "duration": 8,
    "start_time": "2022-11-18T18:19:37.339Z"
   },
   {
    "duration": 4,
    "start_time": "2022-11-18T18:19:37.348Z"
   },
   {
    "duration": 12,
    "start_time": "2022-11-18T18:19:37.354Z"
   },
   {
    "duration": 395,
    "start_time": "2022-11-18T18:19:37.368Z"
   },
   {
    "duration": 5,
    "start_time": "2022-11-18T18:19:37.765Z"
   },
   {
    "duration": 14,
    "start_time": "2022-11-18T18:19:37.771Z"
   },
   {
    "duration": 377,
    "start_time": "2022-11-18T18:19:37.786Z"
   },
   {
    "duration": 239,
    "start_time": "2022-11-18T18:19:38.165Z"
   },
   {
    "duration": 186,
    "start_time": "2022-11-18T18:19:38.406Z"
   },
   {
    "duration": 186,
    "start_time": "2022-11-18T18:19:38.594Z"
   },
   {
    "duration": 216,
    "start_time": "2022-11-18T18:19:38.781Z"
   },
   {
    "duration": 125,
    "start_time": "2022-11-18T18:19:38.999Z"
   },
   {
    "duration": 146,
    "start_time": "2022-11-18T18:19:39.125Z"
   },
   {
    "duration": 241,
    "start_time": "2022-11-18T18:19:39.272Z"
   },
   {
    "duration": 324,
    "start_time": "2022-11-18T18:19:39.515Z"
   },
   {
    "duration": 166,
    "start_time": "2022-11-18T18:19:39.841Z"
   },
   {
    "duration": 177,
    "start_time": "2022-11-18T18:19:40.008Z"
   },
   {
    "duration": 165,
    "start_time": "2022-11-18T18:19:40.187Z"
   },
   {
    "duration": 157,
    "start_time": "2022-11-18T18:19:40.354Z"
   },
   {
    "duration": 248,
    "start_time": "2022-11-18T18:19:40.512Z"
   },
   {
    "duration": 168,
    "start_time": "2022-11-18T18:19:40.762Z"
   },
   {
    "duration": 219,
    "start_time": "2022-11-18T18:19:40.931Z"
   },
   {
    "duration": 261,
    "start_time": "2022-11-18T18:19:41.151Z"
   },
   {
    "duration": 277,
    "start_time": "2022-11-18T18:19:41.414Z"
   },
   {
    "duration": 225,
    "start_time": "2022-11-18T18:19:41.693Z"
   },
   {
    "duration": 173,
    "start_time": "2022-11-18T18:19:41.919Z"
   },
   {
    "duration": 170,
    "start_time": "2022-11-18T18:19:42.094Z"
   },
   {
    "duration": 171,
    "start_time": "2022-11-18T18:19:42.266Z"
   },
   {
    "duration": 13,
    "start_time": "2022-11-18T18:19:42.439Z"
   },
   {
    "duration": 150,
    "start_time": "2022-11-18T18:19:42.453Z"
   },
   {
    "duration": 16,
    "start_time": "2022-11-18T18:19:42.604Z"
   },
   {
    "duration": 126,
    "start_time": "2022-11-18T18:19:42.622Z"
   },
   {
    "duration": 141,
    "start_time": "2022-11-18T18:19:42.750Z"
   },
   {
    "duration": 120,
    "start_time": "2022-11-18T18:19:42.892Z"
   },
   {
    "duration": 273,
    "start_time": "2022-11-18T18:19:43.013Z"
   },
   {
    "duration": 132,
    "start_time": "2022-11-18T18:19:43.288Z"
   },
   {
    "duration": 18,
    "start_time": "2022-11-18T18:19:43.421Z"
   },
   {
    "duration": 22,
    "start_time": "2022-11-18T18:19:43.440Z"
   },
   {
    "duration": 19,
    "start_time": "2022-11-18T18:19:43.463Z"
   },
   {
    "duration": 156,
    "start_time": "2022-11-18T18:19:43.484Z"
   },
   {
    "duration": 134,
    "start_time": "2022-11-18T18:22:06.211Z"
   },
   {
    "duration": 139,
    "start_time": "2022-11-18T18:23:07.814Z"
   },
   {
    "duration": 147,
    "start_time": "2022-11-18T18:26:09.788Z"
   },
   {
    "duration": 143,
    "start_time": "2022-11-18T18:30:29.071Z"
   },
   {
    "duration": 230,
    "start_time": "2022-11-18T18:31:56.360Z"
   },
   {
    "duration": 263,
    "start_time": "2022-11-18T18:33:12.404Z"
   },
   {
    "duration": 16,
    "start_time": "2022-11-18T18:40:04.978Z"
   },
   {
    "duration": 16,
    "start_time": "2022-11-18T18:59:17.857Z"
   },
   {
    "duration": 2273,
    "start_time": "2022-11-18T19:05:43.209Z"
   },
   {
    "duration": 67,
    "start_time": "2022-11-18T19:05:45.484Z"
   },
   {
    "duration": 8,
    "start_time": "2022-11-18T19:05:45.552Z"
   },
   {
    "duration": 2887,
    "start_time": "2022-11-18T19:05:45.562Z"
   },
   {
    "duration": 6,
    "start_time": "2022-11-18T19:05:48.451Z"
   },
   {
    "duration": 24,
    "start_time": "2022-11-18T19:05:48.459Z"
   },
   {
    "duration": 10,
    "start_time": "2022-11-18T19:05:48.484Z"
   },
   {
    "duration": 6,
    "start_time": "2022-11-18T19:05:48.495Z"
   },
   {
    "duration": 11,
    "start_time": "2022-11-18T19:05:48.503Z"
   },
   {
    "duration": 4,
    "start_time": "2022-11-18T19:05:48.539Z"
   },
   {
    "duration": 55,
    "start_time": "2022-11-18T19:05:48.544Z"
   },
   {
    "duration": 7,
    "start_time": "2022-11-18T19:05:48.600Z"
   },
   {
    "duration": 9,
    "start_time": "2022-11-18T19:05:48.609Z"
   },
   {
    "duration": 23,
    "start_time": "2022-11-18T19:05:48.619Z"
   },
   {
    "duration": 5,
    "start_time": "2022-11-18T19:05:48.644Z"
   },
   {
    "duration": 18,
    "start_time": "2022-11-18T19:05:48.651Z"
   },
   {
    "duration": 6,
    "start_time": "2022-11-18T19:05:48.670Z"
   },
   {
    "duration": 8,
    "start_time": "2022-11-18T19:05:48.677Z"
   },
   {
    "duration": 10,
    "start_time": "2022-11-18T19:05:48.686Z"
   },
   {
    "duration": 57,
    "start_time": "2022-11-18T19:05:48.698Z"
   },
   {
    "duration": 16,
    "start_time": "2022-11-18T19:05:48.757Z"
   },
   {
    "duration": 20,
    "start_time": "2022-11-18T19:05:48.774Z"
   },
   {
    "duration": 13,
    "start_time": "2022-11-18T19:05:48.797Z"
   },
   {
    "duration": 648,
    "start_time": "2022-11-18T19:05:48.838Z"
   },
   {
    "duration": 76,
    "start_time": "2022-11-18T19:05:49.488Z"
   },
   {
    "duration": 115,
    "start_time": "2022-11-18T19:05:49.565Z"
   },
   {
    "duration": 5,
    "start_time": "2022-11-18T19:05:49.682Z"
   },
   {
    "duration": 112,
    "start_time": "2022-11-18T19:05:49.691Z"
   },
   {
    "duration": 1605,
    "start_time": "2022-11-18T19:05:49.804Z"
   },
   {
    "duration": 101,
    "start_time": "2022-11-18T19:05:51.411Z"
   },
   {
    "duration": 103,
    "start_time": "2022-11-18T19:05:51.513Z"
   },
   {
    "duration": 6,
    "start_time": "2022-11-18T19:05:51.617Z"
   },
   {
    "duration": 19,
    "start_time": "2022-11-18T19:05:51.624Z"
   },
   {
    "duration": 4,
    "start_time": "2022-11-18T19:05:51.645Z"
   },
   {
    "duration": 15,
    "start_time": "2022-11-18T19:05:51.651Z"
   },
   {
    "duration": 443,
    "start_time": "2022-11-18T19:05:51.667Z"
   },
   {
    "duration": 5,
    "start_time": "2022-11-18T19:05:52.112Z"
   },
   {
    "duration": 30,
    "start_time": "2022-11-18T19:05:52.119Z"
   },
   {
    "duration": 377,
    "start_time": "2022-11-18T19:05:52.151Z"
   },
   {
    "duration": 267,
    "start_time": "2022-11-18T19:05:52.530Z"
   },
   {
    "duration": 201,
    "start_time": "2022-11-18T19:05:52.799Z"
   },
   {
    "duration": 205,
    "start_time": "2022-11-18T19:05:53.002Z"
   },
   {
    "duration": 204,
    "start_time": "2022-11-18T19:05:53.208Z"
   },
   {
    "duration": 147,
    "start_time": "2022-11-18T19:05:53.413Z"
   },
   {
    "duration": 147,
    "start_time": "2022-11-18T19:05:53.562Z"
   },
   {
    "duration": 263,
    "start_time": "2022-11-18T19:05:53.711Z"
   },
   {
    "duration": 367,
    "start_time": "2022-11-18T19:05:53.976Z"
   },
   {
    "duration": 185,
    "start_time": "2022-11-18T19:05:54.344Z"
   },
   {
    "duration": 180,
    "start_time": "2022-11-18T19:05:54.531Z"
   },
   {
    "duration": 157,
    "start_time": "2022-11-18T19:05:54.712Z"
   },
   {
    "duration": 176,
    "start_time": "2022-11-18T19:05:54.871Z"
   },
   {
    "duration": 258,
    "start_time": "2022-11-18T19:05:55.049Z"
   },
   {
    "duration": 184,
    "start_time": "2022-11-18T19:05:55.309Z"
   },
   {
    "duration": 191,
    "start_time": "2022-11-18T19:05:55.495Z"
   },
   {
    "duration": 289,
    "start_time": "2022-11-18T19:05:55.687Z"
   },
   {
    "duration": 192,
    "start_time": "2022-11-18T19:05:55.978Z"
   },
   {
    "duration": 177,
    "start_time": "2022-11-18T19:05:56.171Z"
   },
   {
    "duration": 192,
    "start_time": "2022-11-18T19:05:56.350Z"
   },
   {
    "duration": 192,
    "start_time": "2022-11-18T19:05:56.543Z"
   },
   {
    "duration": 184,
    "start_time": "2022-11-18T19:05:56.738Z"
   },
   {
    "duration": 20,
    "start_time": "2022-11-18T19:05:56.923Z"
   },
   {
    "duration": 153,
    "start_time": "2022-11-18T19:05:56.945Z"
   },
   {
    "duration": 16,
    "start_time": "2022-11-18T19:05:57.100Z"
   },
   {
    "duration": 141,
    "start_time": "2022-11-18T19:05:57.118Z"
   },
   {
    "duration": 143,
    "start_time": "2022-11-18T19:05:57.261Z"
   },
   {
    "duration": 143,
    "start_time": "2022-11-18T19:05:57.405Z"
   },
   {
    "duration": 303,
    "start_time": "2022-11-18T19:05:57.550Z"
   },
   {
    "duration": 143,
    "start_time": "2022-11-18T19:05:57.855Z"
   },
   {
    "duration": 301,
    "start_time": "2022-11-18T19:05:58.000Z"
   },
   {
    "duration": 36,
    "start_time": "2022-11-18T19:05:58.303Z"
   },
   {
    "duration": 21,
    "start_time": "2022-11-18T19:05:58.341Z"
   },
   {
    "duration": 178,
    "start_time": "2022-11-18T19:05:58.364Z"
   },
   {
    "duration": 2170,
    "start_time": "2022-11-18T19:06:45.370Z"
   },
   {
    "duration": 60,
    "start_time": "2022-11-18T19:06:47.542Z"
   },
   {
    "duration": 9,
    "start_time": "2022-11-18T19:06:47.603Z"
   },
   {
    "duration": 2829,
    "start_time": "2022-11-18T19:06:47.614Z"
   },
   {
    "duration": 7,
    "start_time": "2022-11-18T19:06:50.445Z"
   },
   {
    "duration": 17,
    "start_time": "2022-11-18T19:06:50.454Z"
   },
   {
    "duration": 8,
    "start_time": "2022-11-18T19:06:50.473Z"
   },
   {
    "duration": 5,
    "start_time": "2022-11-18T19:06:50.483Z"
   },
   {
    "duration": 13,
    "start_time": "2022-11-18T19:06:50.490Z"
   },
   {
    "duration": 34,
    "start_time": "2022-11-18T19:06:50.505Z"
   },
   {
    "duration": 47,
    "start_time": "2022-11-18T19:06:50.541Z"
   },
   {
    "duration": 7,
    "start_time": "2022-11-18T19:06:50.589Z"
   },
   {
    "duration": 10,
    "start_time": "2022-11-18T19:06:50.597Z"
   },
   {
    "duration": 29,
    "start_time": "2022-11-18T19:06:50.609Z"
   },
   {
    "duration": 5,
    "start_time": "2022-11-18T19:06:50.640Z"
   },
   {
    "duration": 20,
    "start_time": "2022-11-18T19:06:50.646Z"
   },
   {
    "duration": 6,
    "start_time": "2022-11-18T19:06:50.667Z"
   },
   {
    "duration": 9,
    "start_time": "2022-11-18T19:06:50.674Z"
   },
   {
    "duration": 7,
    "start_time": "2022-11-18T19:06:50.685Z"
   },
   {
    "duration": 53,
    "start_time": "2022-11-18T19:06:50.693Z"
   },
   {
    "duration": 18,
    "start_time": "2022-11-18T19:06:50.748Z"
   },
   {
    "duration": 20,
    "start_time": "2022-11-18T19:06:50.768Z"
   },
   {
    "duration": 8,
    "start_time": "2022-11-18T19:06:50.790Z"
   },
   {
    "duration": 650,
    "start_time": "2022-11-18T19:06:50.800Z"
   },
   {
    "duration": 66,
    "start_time": "2022-11-18T19:06:51.451Z"
   },
   {
    "duration": 120,
    "start_time": "2022-11-18T19:06:51.519Z"
   },
   {
    "duration": 2,
    "start_time": "2022-11-18T19:06:51.641Z"
   },
   {
    "duration": 118,
    "start_time": "2022-11-18T19:06:51.646Z"
   },
   {
    "duration": 1575,
    "start_time": "2022-11-18T19:06:51.767Z"
   },
   {
    "duration": 108,
    "start_time": "2022-11-18T19:06:53.343Z"
   },
   {
    "duration": 99,
    "start_time": "2022-11-18T19:06:53.453Z"
   },
   {
    "duration": 6,
    "start_time": "2022-11-18T19:06:53.554Z"
   },
   {
    "duration": 20,
    "start_time": "2022-11-18T19:06:53.562Z"
   },
   {
    "duration": 25,
    "start_time": "2022-11-18T19:06:53.584Z"
   },
   {
    "duration": 21,
    "start_time": "2022-11-18T19:06:53.611Z"
   },
   {
    "duration": 426,
    "start_time": "2022-11-18T19:06:53.634Z"
   },
   {
    "duration": 6,
    "start_time": "2022-11-18T19:06:54.062Z"
   },
   {
    "duration": 36,
    "start_time": "2022-11-18T19:06:54.070Z"
   },
   {
    "duration": 386,
    "start_time": "2022-11-18T19:06:54.108Z"
   },
   {
    "duration": 258,
    "start_time": "2022-11-18T19:06:54.496Z"
   },
   {
    "duration": 198,
    "start_time": "2022-11-18T19:06:54.756Z"
   },
   {
    "duration": 210,
    "start_time": "2022-11-18T19:06:54.956Z"
   },
   {
    "duration": 204,
    "start_time": "2022-11-18T19:06:55.168Z"
   },
   {
    "duration": 135,
    "start_time": "2022-11-18T19:06:55.374Z"
   },
   {
    "duration": 149,
    "start_time": "2022-11-18T19:06:55.511Z"
   },
   {
    "duration": 280,
    "start_time": "2022-11-18T19:06:55.662Z"
   },
   {
    "duration": 343,
    "start_time": "2022-11-18T19:06:55.944Z"
   },
   {
    "duration": 186,
    "start_time": "2022-11-18T19:06:56.289Z"
   },
   {
    "duration": 181,
    "start_time": "2022-11-18T19:06:56.477Z"
   },
   {
    "duration": 160,
    "start_time": "2022-11-18T19:06:56.660Z"
   },
   {
    "duration": 174,
    "start_time": "2022-11-18T19:06:56.822Z"
   },
   {
    "duration": 259,
    "start_time": "2022-11-18T19:06:56.998Z"
   },
   {
    "duration": 207,
    "start_time": "2022-11-18T19:06:57.258Z"
   },
   {
    "duration": 212,
    "start_time": "2022-11-18T19:06:57.467Z"
   },
   {
    "duration": 301,
    "start_time": "2022-11-18T19:06:57.681Z"
   },
   {
    "duration": 204,
    "start_time": "2022-11-18T19:06:57.984Z"
   },
   {
    "duration": 191,
    "start_time": "2022-11-18T19:06:58.190Z"
   },
   {
    "duration": 208,
    "start_time": "2022-11-18T19:06:58.383Z"
   },
   {
    "duration": 199,
    "start_time": "2022-11-18T19:06:58.593Z"
   },
   {
    "duration": 221,
    "start_time": "2022-11-18T19:06:58.794Z"
   },
   {
    "duration": 23,
    "start_time": "2022-11-18T19:06:59.017Z"
   },
   {
    "duration": 152,
    "start_time": "2022-11-18T19:06:59.042Z"
   },
   {
    "duration": 16,
    "start_time": "2022-11-18T19:06:59.196Z"
   },
   {
    "duration": 133,
    "start_time": "2022-11-18T19:06:59.214Z"
   },
   {
    "duration": 147,
    "start_time": "2022-11-18T19:06:59.348Z"
   },
   {
    "duration": 143,
    "start_time": "2022-11-18T19:06:59.497Z"
   },
   {
    "duration": 301,
    "start_time": "2022-11-18T19:06:59.642Z"
   },
   {
    "duration": 144,
    "start_time": "2022-11-18T19:06:59.944Z"
   },
   {
    "duration": 286,
    "start_time": "2022-11-18T19:07:00.090Z"
   },
   {
    "duration": 26,
    "start_time": "2022-11-18T19:07:00.377Z"
   },
   {
    "duration": 43,
    "start_time": "2022-11-18T19:07:00.405Z"
   },
   {
    "duration": 174,
    "start_time": "2022-11-18T19:07:00.450Z"
   },
   {
    "duration": 398,
    "start_time": "2022-11-18T19:08:41.724Z"
   },
   {
    "duration": 8,
    "start_time": "2022-11-18T19:13:27.502Z"
   },
   {
    "duration": 271,
    "start_time": "2022-11-18T19:13:46.382Z"
   },
   {
    "duration": 2210,
    "start_time": "2022-11-18T19:15:04.062Z"
   },
   {
    "duration": 71,
    "start_time": "2022-11-18T19:15:06.274Z"
   },
   {
    "duration": 8,
    "start_time": "2022-11-18T19:15:06.346Z"
   },
   {
    "duration": 2693,
    "start_time": "2022-11-18T19:15:06.356Z"
   },
   {
    "duration": 6,
    "start_time": "2022-11-18T19:15:09.051Z"
   },
   {
    "duration": 25,
    "start_time": "2022-11-18T19:15:09.059Z"
   },
   {
    "duration": 9,
    "start_time": "2022-11-18T19:15:09.085Z"
   },
   {
    "duration": 7,
    "start_time": "2022-11-18T19:15:09.096Z"
   },
   {
    "duration": 37,
    "start_time": "2022-11-18T19:15:09.104Z"
   },
   {
    "duration": 4,
    "start_time": "2022-11-18T19:15:09.145Z"
   },
   {
    "duration": 48,
    "start_time": "2022-11-18T19:15:09.151Z"
   },
   {
    "duration": 5,
    "start_time": "2022-11-18T19:15:09.201Z"
   },
   {
    "duration": 10,
    "start_time": "2022-11-18T19:15:09.208Z"
   },
   {
    "duration": 6,
    "start_time": "2022-11-18T19:15:09.238Z"
   },
   {
    "duration": 5,
    "start_time": "2022-11-18T19:15:09.246Z"
   },
   {
    "duration": 17,
    "start_time": "2022-11-18T19:15:09.252Z"
   },
   {
    "duration": 7,
    "start_time": "2022-11-18T19:15:09.270Z"
   },
   {
    "duration": 9,
    "start_time": "2022-11-18T19:15:09.278Z"
   },
   {
    "duration": 5,
    "start_time": "2022-11-18T19:15:09.288Z"
   },
   {
    "duration": 62,
    "start_time": "2022-11-18T19:15:09.294Z"
   },
   {
    "duration": 15,
    "start_time": "2022-11-18T19:15:09.358Z"
   },
   {
    "duration": 19,
    "start_time": "2022-11-18T19:15:09.375Z"
   },
   {
    "duration": 7,
    "start_time": "2022-11-18T19:15:09.395Z"
   },
   {
    "duration": 612,
    "start_time": "2022-11-18T19:15:09.404Z"
   },
   {
    "duration": 70,
    "start_time": "2022-11-18T19:15:10.018Z"
   },
   {
    "duration": 105,
    "start_time": "2022-11-18T19:15:10.089Z"
   },
   {
    "duration": 6,
    "start_time": "2022-11-18T19:15:10.195Z"
   },
   {
    "duration": 107,
    "start_time": "2022-11-18T19:15:10.204Z"
   },
   {
    "duration": 1528,
    "start_time": "2022-11-18T19:15:10.312Z"
   },
   {
    "duration": 96,
    "start_time": "2022-11-18T19:15:11.841Z"
   },
   {
    "duration": 80,
    "start_time": "2022-11-18T19:15:11.939Z"
   },
   {
    "duration": 22,
    "start_time": "2022-11-18T19:15:12.020Z"
   },
   {
    "duration": 10,
    "start_time": "2022-11-18T19:15:12.043Z"
   },
   {
    "duration": 5,
    "start_time": "2022-11-18T19:15:12.054Z"
   },
   {
    "duration": 15,
    "start_time": "2022-11-18T19:15:12.060Z"
   },
   {
    "duration": 396,
    "start_time": "2022-11-18T19:15:12.077Z"
   },
   {
    "duration": 5,
    "start_time": "2022-11-18T19:15:12.474Z"
   },
   {
    "duration": 38,
    "start_time": "2022-11-18T19:15:12.480Z"
   },
   {
    "duration": 390,
    "start_time": "2022-11-18T19:15:12.520Z"
   },
   {
    "duration": 257,
    "start_time": "2022-11-18T19:15:12.912Z"
   },
   {
    "duration": 189,
    "start_time": "2022-11-18T19:15:13.171Z"
   },
   {
    "duration": 200,
    "start_time": "2022-11-18T19:15:13.362Z"
   },
   {
    "duration": 209,
    "start_time": "2022-11-18T19:15:13.564Z"
   },
   {
    "duration": 142,
    "start_time": "2022-11-18T19:15:13.775Z"
   },
   {
    "duration": 145,
    "start_time": "2022-11-18T19:15:13.919Z"
   },
   {
    "duration": 260,
    "start_time": "2022-11-18T19:15:14.066Z"
   },
   {
    "duration": 326,
    "start_time": "2022-11-18T19:15:14.328Z"
   },
   {
    "duration": 164,
    "start_time": "2022-11-18T19:15:14.655Z"
   },
   {
    "duration": 178,
    "start_time": "2022-11-18T19:15:14.821Z"
   },
   {
    "duration": 151,
    "start_time": "2022-11-18T19:15:15.001Z"
   },
   {
    "duration": 160,
    "start_time": "2022-11-18T19:15:15.153Z"
   },
   {
    "duration": 246,
    "start_time": "2022-11-18T19:15:15.314Z"
   },
   {
    "duration": 172,
    "start_time": "2022-11-18T19:15:15.562Z"
   },
   {
    "duration": 195,
    "start_time": "2022-11-18T19:15:15.738Z"
   },
   {
    "duration": 269,
    "start_time": "2022-11-18T19:15:15.935Z"
   },
   {
    "duration": 176,
    "start_time": "2022-11-18T19:15:16.206Z"
   },
   {
    "duration": 162,
    "start_time": "2022-11-18T19:15:16.383Z"
   },
   {
    "duration": 178,
    "start_time": "2022-11-18T19:15:16.547Z"
   },
   {
    "duration": 171,
    "start_time": "2022-11-18T19:15:16.727Z"
   },
   {
    "duration": 175,
    "start_time": "2022-11-18T19:15:16.900Z"
   },
   {
    "duration": 13,
    "start_time": "2022-11-18T19:15:17.077Z"
   },
   {
    "duration": 162,
    "start_time": "2022-11-18T19:15:17.092Z"
   },
   {
    "duration": 15,
    "start_time": "2022-11-18T19:15:17.255Z"
   },
   {
    "duration": 128,
    "start_time": "2022-11-18T19:15:17.272Z"
   },
   {
    "duration": 141,
    "start_time": "2022-11-18T19:15:17.401Z"
   },
   {
    "duration": 135,
    "start_time": "2022-11-18T19:15:17.544Z"
   },
   {
    "duration": 287,
    "start_time": "2022-11-18T19:15:17.680Z"
   },
   {
    "duration": 144,
    "start_time": "2022-11-18T19:15:17.969Z"
   },
   {
    "duration": 265,
    "start_time": "2022-11-18T19:15:18.114Z"
   },
   {
    "duration": 22,
    "start_time": "2022-11-18T19:15:18.381Z"
   },
   {
    "duration": 38,
    "start_time": "2022-11-18T19:15:18.405Z"
   },
   {
    "duration": 157,
    "start_time": "2022-11-18T19:15:18.445Z"
   },
   {
    "duration": 71,
    "start_time": "2022-11-18T19:25:09.305Z"
   },
   {
    "duration": 10,
    "start_time": "2022-11-18T19:26:16.666Z"
   },
   {
    "duration": 9,
    "start_time": "2022-11-18T19:28:15.581Z"
   },
   {
    "duration": 2210,
    "start_time": "2022-11-18T19:32:02.842Z"
   },
   {
    "duration": 58,
    "start_time": "2022-11-18T19:32:05.054Z"
   },
   {
    "duration": 25,
    "start_time": "2022-11-18T19:32:05.113Z"
   },
   {
    "duration": 2736,
    "start_time": "2022-11-18T19:32:05.141Z"
   },
   {
    "duration": 7,
    "start_time": "2022-11-18T19:32:07.879Z"
   },
   {
    "duration": 17,
    "start_time": "2022-11-18T19:32:07.887Z"
   },
   {
    "duration": 7,
    "start_time": "2022-11-18T19:32:07.905Z"
   },
   {
    "duration": 26,
    "start_time": "2022-11-18T19:32:07.914Z"
   },
   {
    "duration": 12,
    "start_time": "2022-11-18T19:32:07.941Z"
   },
   {
    "duration": 10,
    "start_time": "2022-11-18T19:32:07.955Z"
   },
   {
    "duration": 49,
    "start_time": "2022-11-18T19:32:07.967Z"
   },
   {
    "duration": 6,
    "start_time": "2022-11-18T19:32:08.018Z"
   },
   {
    "duration": 8,
    "start_time": "2022-11-18T19:32:08.039Z"
   },
   {
    "duration": 6,
    "start_time": "2022-11-18T19:32:08.049Z"
   },
   {
    "duration": 5,
    "start_time": "2022-11-18T19:32:08.056Z"
   },
   {
    "duration": 16,
    "start_time": "2022-11-18T19:32:08.062Z"
   },
   {
    "duration": 6,
    "start_time": "2022-11-18T19:32:08.080Z"
   },
   {
    "duration": 8,
    "start_time": "2022-11-18T19:32:08.087Z"
   },
   {
    "duration": 41,
    "start_time": "2022-11-18T19:32:08.096Z"
   },
   {
    "duration": 27,
    "start_time": "2022-11-18T19:32:08.139Z"
   },
   {
    "duration": 18,
    "start_time": "2022-11-18T19:32:08.168Z"
   },
   {
    "duration": 20,
    "start_time": "2022-11-18T19:32:08.188Z"
   },
   {
    "duration": 9,
    "start_time": "2022-11-18T19:32:08.237Z"
   },
   {
    "duration": 635,
    "start_time": "2022-11-18T19:32:08.248Z"
   },
   {
    "duration": 76,
    "start_time": "2022-11-18T19:32:08.887Z"
   },
   {
    "duration": 109,
    "start_time": "2022-11-18T19:32:08.965Z"
   },
   {
    "duration": 6,
    "start_time": "2022-11-18T19:32:09.075Z"
   },
   {
    "duration": 107,
    "start_time": "2022-11-18T19:32:09.085Z"
   },
   {
    "duration": 1488,
    "start_time": "2022-11-18T19:32:09.193Z"
   },
   {
    "duration": 93,
    "start_time": "2022-11-18T19:32:10.682Z"
   },
   {
    "duration": 96,
    "start_time": "2022-11-18T19:32:10.777Z"
   },
   {
    "duration": 5,
    "start_time": "2022-11-18T19:32:10.875Z"
   },
   {
    "duration": 14,
    "start_time": "2022-11-18T19:32:10.882Z"
   },
   {
    "duration": 4,
    "start_time": "2022-11-18T19:32:10.898Z"
   },
   {
    "duration": 15,
    "start_time": "2022-11-18T19:32:10.903Z"
   },
   {
    "duration": 399,
    "start_time": "2022-11-18T19:32:10.920Z"
   },
   {
    "duration": 5,
    "start_time": "2022-11-18T19:32:11.321Z"
   },
   {
    "duration": 29,
    "start_time": "2022-11-18T19:32:11.328Z"
   },
   {
    "duration": 350,
    "start_time": "2022-11-18T19:32:11.359Z"
   },
   {
    "duration": 250,
    "start_time": "2022-11-18T19:32:11.711Z"
   },
   {
    "duration": 184,
    "start_time": "2022-11-18T19:32:11.962Z"
   },
   {
    "duration": 192,
    "start_time": "2022-11-18T19:32:12.148Z"
   },
   {
    "duration": 198,
    "start_time": "2022-11-18T19:32:12.341Z"
   },
   {
    "duration": 137,
    "start_time": "2022-11-18T19:32:12.541Z"
   },
   {
    "duration": 143,
    "start_time": "2022-11-18T19:32:12.679Z"
   },
   {
    "duration": 247,
    "start_time": "2022-11-18T19:32:12.823Z"
   },
   {
    "duration": 325,
    "start_time": "2022-11-18T19:32:13.072Z"
   },
   {
    "duration": 169,
    "start_time": "2022-11-18T19:32:13.398Z"
   },
   {
    "duration": 181,
    "start_time": "2022-11-18T19:32:13.568Z"
   },
   {
    "duration": 166,
    "start_time": "2022-11-18T19:32:13.751Z"
   },
   {
    "duration": 164,
    "start_time": "2022-11-18T19:32:13.919Z"
   },
   {
    "duration": 269,
    "start_time": "2022-11-18T19:32:14.084Z"
   },
   {
    "duration": 175,
    "start_time": "2022-11-18T19:32:14.354Z"
   },
   {
    "duration": 185,
    "start_time": "2022-11-18T19:32:14.531Z"
   },
   {
    "duration": 268,
    "start_time": "2022-11-18T19:32:14.718Z"
   },
   {
    "duration": 186,
    "start_time": "2022-11-18T19:32:14.988Z"
   },
   {
    "duration": 162,
    "start_time": "2022-11-18T19:32:15.175Z"
   },
   {
    "duration": 188,
    "start_time": "2022-11-18T19:32:15.339Z"
   },
   {
    "duration": 189,
    "start_time": "2022-11-18T19:32:15.528Z"
   },
   {
    "duration": 188,
    "start_time": "2022-11-18T19:32:15.718Z"
   },
   {
    "duration": 12,
    "start_time": "2022-11-18T19:32:15.907Z"
   },
   {
    "duration": 152,
    "start_time": "2022-11-18T19:32:15.921Z"
   },
   {
    "duration": 15,
    "start_time": "2022-11-18T19:32:16.075Z"
   },
   {
    "duration": 134,
    "start_time": "2022-11-18T19:32:16.092Z"
   },
   {
    "duration": 135,
    "start_time": "2022-11-18T19:32:16.228Z"
   },
   {
    "duration": 142,
    "start_time": "2022-11-18T19:32:16.365Z"
   },
   {
    "duration": 285,
    "start_time": "2022-11-18T19:32:16.510Z"
   },
   {
    "duration": 140,
    "start_time": "2022-11-18T19:32:16.797Z"
   },
   {
    "duration": 272,
    "start_time": "2022-11-18T19:32:16.939Z"
   },
   {
    "duration": 36,
    "start_time": "2022-11-18T19:32:17.213Z"
   },
   {
    "duration": 34,
    "start_time": "2022-11-18T19:32:17.251Z"
   },
   {
    "duration": 150,
    "start_time": "2022-11-18T19:32:17.287Z"
   },
   {
    "duration": 465,
    "start_time": "2022-11-18T19:33:58.875Z"
   },
   {
    "duration": 347,
    "start_time": "2022-11-18T19:34:18.793Z"
   },
   {
    "duration": 228,
    "start_time": "2022-11-18T19:34:25.046Z"
   },
   {
    "duration": 172,
    "start_time": "2022-11-18T19:34:39.328Z"
   },
   {
    "duration": 172,
    "start_time": "2022-11-18T19:34:45.303Z"
   },
   {
    "duration": 119,
    "start_time": "2022-11-18T19:34:51.125Z"
   },
   {
    "duration": 123,
    "start_time": "2022-11-18T19:35:06.809Z"
   },
   {
    "duration": 156,
    "start_time": "2022-11-18T19:35:13.522Z"
   },
   {
    "duration": 430,
    "start_time": "2022-11-18T19:35:20.427Z"
   },
   {
    "duration": 157,
    "start_time": "2022-11-18T19:35:29.029Z"
   },
   {
    "duration": 171,
    "start_time": "2022-11-18T19:35:33.787Z"
   },
   {
    "duration": 134,
    "start_time": "2022-11-18T19:35:38.552Z"
   },
   {
    "duration": 155,
    "start_time": "2022-11-18T19:35:43.749Z"
   },
   {
    "duration": 156,
    "start_time": "2022-11-18T19:35:52.381Z"
   },
   {
    "duration": 169,
    "start_time": "2022-11-18T19:36:08.829Z"
   },
   {
    "duration": 160,
    "start_time": "2022-11-18T19:36:32.909Z"
   },
   {
    "duration": 171,
    "start_time": "2022-11-18T19:36:44.096Z"
   },
   {
    "duration": 155,
    "start_time": "2022-11-18T19:36:51.313Z"
   },
   {
    "duration": 161,
    "start_time": "2022-11-18T19:37:08.534Z"
   },
   {
    "duration": 170,
    "start_time": "2022-11-18T19:37:13.997Z"
   },
   {
    "duration": 160,
    "start_time": "2022-11-18T19:37:19.461Z"
   },
   {
    "duration": 273,
    "start_time": "2022-11-18T19:37:23.810Z"
   },
   {
    "duration": 144,
    "start_time": "2022-11-18T19:37:28.564Z"
   },
   {
    "duration": 157,
    "start_time": "2022-11-18T19:37:33.025Z"
   },
   {
    "duration": 162,
    "start_time": "2022-11-18T19:37:37.913Z"
   },
   {
    "duration": 159,
    "start_time": "2022-11-18T19:37:42.743Z"
   },
   {
    "duration": 2047,
    "start_time": "2022-11-18T19:38:12.059Z"
   },
   {
    "duration": 67,
    "start_time": "2022-11-18T19:38:14.108Z"
   },
   {
    "duration": 7,
    "start_time": "2022-11-18T19:38:14.177Z"
   },
   {
    "duration": 2619,
    "start_time": "2022-11-18T19:38:14.186Z"
   },
   {
    "duration": 6,
    "start_time": "2022-11-18T19:38:16.807Z"
   },
   {
    "duration": 24,
    "start_time": "2022-11-18T19:38:16.815Z"
   },
   {
    "duration": 7,
    "start_time": "2022-11-18T19:38:16.841Z"
   },
   {
    "duration": 5,
    "start_time": "2022-11-18T19:38:16.849Z"
   },
   {
    "duration": 11,
    "start_time": "2022-11-18T19:38:16.856Z"
   },
   {
    "duration": 4,
    "start_time": "2022-11-18T19:38:16.870Z"
   },
   {
    "duration": 78,
    "start_time": "2022-11-18T19:38:16.875Z"
   },
   {
    "duration": 6,
    "start_time": "2022-11-18T19:38:16.955Z"
   },
   {
    "duration": 8,
    "start_time": "2022-11-18T19:38:16.963Z"
   },
   {
    "duration": 6,
    "start_time": "2022-11-18T19:38:16.973Z"
   },
   {
    "duration": 5,
    "start_time": "2022-11-18T19:38:16.980Z"
   },
   {
    "duration": 17,
    "start_time": "2022-11-18T19:38:16.986Z"
   },
   {
    "duration": 35,
    "start_time": "2022-11-18T19:38:17.005Z"
   },
   {
    "duration": 7,
    "start_time": "2022-11-18T19:38:17.041Z"
   },
   {
    "duration": 5,
    "start_time": "2022-11-18T19:38:17.050Z"
   },
   {
    "duration": 27,
    "start_time": "2022-11-18T19:38:17.057Z"
   },
   {
    "duration": 16,
    "start_time": "2022-11-18T19:38:17.085Z"
   },
   {
    "duration": 47,
    "start_time": "2022-11-18T19:38:17.103Z"
   },
   {
    "duration": 9,
    "start_time": "2022-11-18T19:38:17.152Z"
   },
   {
    "duration": 595,
    "start_time": "2022-11-18T19:38:17.163Z"
   },
   {
    "duration": 78,
    "start_time": "2022-11-18T19:38:17.760Z"
   },
   {
    "duration": 113,
    "start_time": "2022-11-18T19:38:17.840Z"
   },
   {
    "duration": 6,
    "start_time": "2022-11-18T19:38:17.955Z"
   },
   {
    "duration": 114,
    "start_time": "2022-11-18T19:38:17.966Z"
   },
   {
    "duration": 1488,
    "start_time": "2022-11-18T19:38:18.082Z"
   },
   {
    "duration": 99,
    "start_time": "2022-11-18T19:38:19.571Z"
   },
   {
    "duration": 91,
    "start_time": "2022-11-18T19:38:19.672Z"
   },
   {
    "duration": 5,
    "start_time": "2022-11-18T19:38:19.765Z"
   },
   {
    "duration": 9,
    "start_time": "2022-11-18T19:38:19.772Z"
   },
   {
    "duration": 4,
    "start_time": "2022-11-18T19:38:19.783Z"
   },
   {
    "duration": 13,
    "start_time": "2022-11-18T19:38:19.789Z"
   },
   {
    "duration": 408,
    "start_time": "2022-11-18T19:38:19.803Z"
   },
   {
    "duration": 6,
    "start_time": "2022-11-18T19:38:20.212Z"
   },
   {
    "duration": 25,
    "start_time": "2022-11-18T19:38:20.219Z"
   },
   {
    "duration": 361,
    "start_time": "2022-11-18T19:38:20.245Z"
   },
   {
    "duration": 237,
    "start_time": "2022-11-18T19:38:20.608Z"
   },
   {
    "duration": 173,
    "start_time": "2022-11-18T19:38:20.847Z"
   },
   {
    "duration": 184,
    "start_time": "2022-11-18T19:38:21.021Z"
   },
   {
    "duration": 181,
    "start_time": "2022-11-18T19:38:21.207Z"
   },
   {
    "duration": 121,
    "start_time": "2022-11-18T19:38:21.389Z"
   },
   {
    "duration": 130,
    "start_time": "2022-11-18T19:38:21.512Z"
   },
   {
    "duration": 248,
    "start_time": "2022-11-18T19:38:21.644Z"
   },
   {
    "duration": 305,
    "start_time": "2022-11-18T19:38:21.894Z"
   },
   {
    "duration": 156,
    "start_time": "2022-11-18T19:38:22.201Z"
   },
   {
    "duration": 172,
    "start_time": "2022-11-18T19:38:22.358Z"
   },
   {
    "duration": 145,
    "start_time": "2022-11-18T19:38:22.532Z"
   },
   {
    "duration": 147,
    "start_time": "2022-11-18T19:38:22.679Z"
   },
   {
    "duration": 231,
    "start_time": "2022-11-18T19:38:22.828Z"
   },
   {
    "duration": 159,
    "start_time": "2022-11-18T19:38:23.061Z"
   },
   {
    "duration": 169,
    "start_time": "2022-11-18T19:38:23.222Z"
   },
   {
    "duration": 237,
    "start_time": "2022-11-18T19:38:23.393Z"
   },
   {
    "duration": 170,
    "start_time": "2022-11-18T19:38:23.632Z"
   },
   {
    "duration": 161,
    "start_time": "2022-11-18T19:38:23.804Z"
   },
   {
    "duration": 165,
    "start_time": "2022-11-18T19:38:23.966Z"
   },
   {
    "duration": 180,
    "start_time": "2022-11-18T19:38:24.132Z"
   },
   {
    "duration": 162,
    "start_time": "2022-11-18T19:38:24.313Z"
   },
   {
    "duration": 12,
    "start_time": "2022-11-18T19:38:24.476Z"
   },
   {
    "duration": 149,
    "start_time": "2022-11-18T19:38:24.490Z"
   },
   {
    "duration": 14,
    "start_time": "2022-11-18T19:38:24.641Z"
   },
   {
    "duration": 130,
    "start_time": "2022-11-18T19:38:24.657Z"
   },
   {
    "duration": 150,
    "start_time": "2022-11-18T19:38:24.789Z"
   },
   {
    "duration": 129,
    "start_time": "2022-11-18T19:38:24.940Z"
   },
   {
    "duration": 277,
    "start_time": "2022-11-18T19:38:25.071Z"
   },
   {
    "duration": 192,
    "start_time": "2022-11-18T19:38:25.350Z"
   },
   {
    "duration": 284,
    "start_time": "2022-11-18T19:38:25.543Z"
   },
   {
    "duration": 25,
    "start_time": "2022-11-18T19:38:25.839Z"
   },
   {
    "duration": 17,
    "start_time": "2022-11-18T19:38:25.865Z"
   },
   {
    "duration": 163,
    "start_time": "2022-11-18T19:38:25.884Z"
   },
   {
    "duration": 142,
    "start_time": "2022-11-18T19:47:49.332Z"
   },
   {
    "duration": 119,
    "start_time": "2022-11-18T19:48:29.940Z"
   },
   {
    "duration": 2009,
    "start_time": "2022-11-18T19:52:15.873Z"
   },
   {
    "duration": 65,
    "start_time": "2022-11-18T19:52:17.883Z"
   },
   {
    "duration": 8,
    "start_time": "2022-11-18T19:52:17.949Z"
   },
   {
    "duration": 2583,
    "start_time": "2022-11-18T19:52:17.959Z"
   },
   {
    "duration": 6,
    "start_time": "2022-11-18T19:52:20.544Z"
   },
   {
    "duration": 13,
    "start_time": "2022-11-18T19:52:20.551Z"
   },
   {
    "duration": 7,
    "start_time": "2022-11-18T19:52:20.565Z"
   },
   {
    "duration": 5,
    "start_time": "2022-11-18T19:52:20.573Z"
   },
   {
    "duration": 11,
    "start_time": "2022-11-18T19:52:20.579Z"
   },
   {
    "duration": 4,
    "start_time": "2022-11-18T19:52:20.592Z"
   },
   {
    "duration": 76,
    "start_time": "2022-11-18T19:52:20.597Z"
   },
   {
    "duration": 6,
    "start_time": "2022-11-18T19:52:20.674Z"
   },
   {
    "duration": 11,
    "start_time": "2022-11-18T19:52:20.681Z"
   },
   {
    "duration": 8,
    "start_time": "2022-11-18T19:52:20.693Z"
   },
   {
    "duration": 5,
    "start_time": "2022-11-18T19:52:20.703Z"
   },
   {
    "duration": 41,
    "start_time": "2022-11-18T19:52:20.709Z"
   },
   {
    "duration": 6,
    "start_time": "2022-11-18T19:52:20.752Z"
   },
   {
    "duration": 19,
    "start_time": "2022-11-18T19:52:20.759Z"
   },
   {
    "duration": 8,
    "start_time": "2022-11-18T19:52:20.779Z"
   },
   {
    "duration": 27,
    "start_time": "2022-11-18T19:52:20.788Z"
   },
   {
    "duration": 24,
    "start_time": "2022-11-18T19:52:20.817Z"
   },
   {
    "duration": 19,
    "start_time": "2022-11-18T19:52:20.842Z"
   },
   {
    "duration": 8,
    "start_time": "2022-11-18T19:52:20.862Z"
   },
   {
    "duration": 600,
    "start_time": "2022-11-18T19:52:20.871Z"
   },
   {
    "duration": 82,
    "start_time": "2022-11-18T19:52:21.472Z"
   },
   {
    "duration": 110,
    "start_time": "2022-11-18T19:52:21.555Z"
   },
   {
    "duration": 5,
    "start_time": "2022-11-18T19:52:21.667Z"
   },
   {
    "duration": 103,
    "start_time": "2022-11-18T19:52:21.676Z"
   },
   {
    "duration": 1476,
    "start_time": "2022-11-18T19:52:21.780Z"
   },
   {
    "duration": 94,
    "start_time": "2022-11-18T19:52:23.258Z"
   },
   {
    "duration": 90,
    "start_time": "2022-11-18T19:52:23.354Z"
   },
   {
    "duration": 5,
    "start_time": "2022-11-18T19:52:23.445Z"
   },
   {
    "duration": 11,
    "start_time": "2022-11-18T19:52:23.452Z"
   },
   {
    "duration": 5,
    "start_time": "2022-11-18T19:52:23.465Z"
   },
   {
    "duration": 14,
    "start_time": "2022-11-18T19:52:23.471Z"
   },
   {
    "duration": 427,
    "start_time": "2022-11-18T19:52:23.486Z"
   },
   {
    "duration": 5,
    "start_time": "2022-11-18T19:52:23.915Z"
   },
   {
    "duration": 28,
    "start_time": "2022-11-18T19:52:23.922Z"
   },
   {
    "duration": 370,
    "start_time": "2022-11-18T19:52:23.952Z"
   },
   {
    "duration": 237,
    "start_time": "2022-11-18T19:52:24.323Z"
   },
   {
    "duration": 186,
    "start_time": "2022-11-18T19:52:24.561Z"
   },
   {
    "duration": 191,
    "start_time": "2022-11-18T19:52:24.748Z"
   },
   {
    "duration": 183,
    "start_time": "2022-11-18T19:52:24.941Z"
   },
   {
    "duration": 124,
    "start_time": "2022-11-18T19:52:25.126Z"
   },
   {
    "duration": 127,
    "start_time": "2022-11-18T19:52:25.251Z"
   },
   {
    "duration": 259,
    "start_time": "2022-11-18T19:52:25.380Z"
   },
   {
    "duration": 345,
    "start_time": "2022-11-18T19:52:25.641Z"
   },
   {
    "duration": 161,
    "start_time": "2022-11-18T19:52:25.988Z"
   },
   {
    "duration": 166,
    "start_time": "2022-11-18T19:52:26.151Z"
   },
   {
    "duration": 138,
    "start_time": "2022-11-18T19:52:26.319Z"
   },
   {
    "duration": 149,
    "start_time": "2022-11-18T19:52:26.459Z"
   },
   {
    "duration": 237,
    "start_time": "2022-11-18T19:52:26.609Z"
   },
   {
    "duration": 159,
    "start_time": "2022-11-18T19:52:26.847Z"
   },
   {
    "duration": 176,
    "start_time": "2022-11-18T19:52:27.007Z"
   },
   {
    "duration": 242,
    "start_time": "2022-11-18T19:52:27.185Z"
   },
   {
    "duration": 166,
    "start_time": "2022-11-18T19:52:27.429Z"
   },
   {
    "duration": 161,
    "start_time": "2022-11-18T19:52:27.596Z"
   },
   {
    "duration": 173,
    "start_time": "2022-11-18T19:52:27.759Z"
   },
   {
    "duration": 173,
    "start_time": "2022-11-18T19:52:27.936Z"
   },
   {
    "duration": 161,
    "start_time": "2022-11-18T19:52:28.111Z"
   },
   {
    "duration": 12,
    "start_time": "2022-11-18T19:52:28.273Z"
   },
   {
    "duration": 147,
    "start_time": "2022-11-18T19:52:28.287Z"
   },
   {
    "duration": 14,
    "start_time": "2022-11-18T19:52:28.436Z"
   },
   {
    "duration": 129,
    "start_time": "2022-11-18T19:52:28.452Z"
   },
   {
    "duration": 133,
    "start_time": "2022-11-18T19:52:28.582Z"
   },
   {
    "duration": 149,
    "start_time": "2022-11-18T19:52:28.716Z"
   },
   {
    "duration": 297,
    "start_time": "2022-11-18T19:52:28.867Z"
   },
   {
    "duration": 204,
    "start_time": "2022-11-18T19:52:29.166Z"
   },
   {
    "duration": 289,
    "start_time": "2022-11-18T19:52:29.372Z"
   },
   {
    "duration": 24,
    "start_time": "2022-11-18T19:52:29.662Z"
   },
   {
    "duration": 17,
    "start_time": "2022-11-18T19:52:29.687Z"
   },
   {
    "duration": 182,
    "start_time": "2022-11-18T19:52:29.706Z"
   },
   {
    "duration": 2046,
    "start_time": "2022-11-18T20:01:20.676Z"
   },
   {
    "duration": 63,
    "start_time": "2022-11-18T20:01:22.724Z"
   },
   {
    "duration": 7,
    "start_time": "2022-11-18T20:01:22.789Z"
   },
   {
    "duration": 2618,
    "start_time": "2022-11-18T20:01:22.798Z"
   },
   {
    "duration": 6,
    "start_time": "2022-11-18T20:01:25.417Z"
   },
   {
    "duration": 24,
    "start_time": "2022-11-18T20:01:25.425Z"
   },
   {
    "duration": 6,
    "start_time": "2022-11-18T20:01:25.451Z"
   },
   {
    "duration": 5,
    "start_time": "2022-11-18T20:01:25.459Z"
   },
   {
    "duration": 12,
    "start_time": "2022-11-18T20:01:25.465Z"
   },
   {
    "duration": 4,
    "start_time": "2022-11-18T20:01:25.479Z"
   },
   {
    "duration": 69,
    "start_time": "2022-11-18T20:01:25.484Z"
   },
   {
    "duration": 6,
    "start_time": "2022-11-18T20:01:25.555Z"
   },
   {
    "duration": 8,
    "start_time": "2022-11-18T20:01:25.563Z"
   },
   {
    "duration": 6,
    "start_time": "2022-11-18T20:01:25.573Z"
   },
   {
    "duration": 5,
    "start_time": "2022-11-18T20:01:25.581Z"
   },
   {
    "duration": 22,
    "start_time": "2022-11-18T20:01:25.587Z"
   },
   {
    "duration": 32,
    "start_time": "2022-11-18T20:01:25.611Z"
   },
   {
    "duration": 8,
    "start_time": "2022-11-18T20:01:25.645Z"
   },
   {
    "duration": 7,
    "start_time": "2022-11-18T20:01:25.654Z"
   },
   {
    "duration": 25,
    "start_time": "2022-11-18T20:01:25.663Z"
   },
   {
    "duration": 14,
    "start_time": "2022-11-18T20:01:25.690Z"
   },
   {
    "duration": 47,
    "start_time": "2022-11-18T20:01:25.706Z"
   },
   {
    "duration": 8,
    "start_time": "2022-11-18T20:01:25.754Z"
   },
   {
    "duration": 604,
    "start_time": "2022-11-18T20:01:25.764Z"
   },
   {
    "duration": 68,
    "start_time": "2022-11-18T20:01:26.370Z"
   },
   {
    "duration": 99,
    "start_time": "2022-11-18T20:01:26.440Z"
   },
   {
    "duration": 5,
    "start_time": "2022-11-18T20:01:26.541Z"
   },
   {
    "duration": 110,
    "start_time": "2022-11-18T20:01:26.550Z"
   },
   {
    "duration": 1525,
    "start_time": "2022-11-18T20:01:26.662Z"
   },
   {
    "duration": 90,
    "start_time": "2022-11-18T20:01:28.189Z"
   },
   {
    "duration": 89,
    "start_time": "2022-11-18T20:01:28.281Z"
   },
   {
    "duration": 6,
    "start_time": "2022-11-18T20:01:28.372Z"
   },
   {
    "duration": 8,
    "start_time": "2022-11-18T20:01:28.379Z"
   },
   {
    "duration": 4,
    "start_time": "2022-11-18T20:01:28.389Z"
   },
   {
    "duration": 13,
    "start_time": "2022-11-18T20:01:28.395Z"
   },
   {
    "duration": 394,
    "start_time": "2022-11-18T20:01:28.409Z"
   },
   {
    "duration": 7,
    "start_time": "2022-11-18T20:01:28.805Z"
   },
   {
    "duration": 23,
    "start_time": "2022-11-18T20:01:28.816Z"
   },
   {
    "duration": 375,
    "start_time": "2022-11-18T20:01:28.841Z"
   },
   {
    "duration": 233,
    "start_time": "2022-11-18T20:01:29.218Z"
   },
   {
    "duration": 182,
    "start_time": "2022-11-18T20:01:29.453Z"
   },
   {
    "duration": 178,
    "start_time": "2022-11-18T20:01:29.636Z"
   },
   {
    "duration": 183,
    "start_time": "2022-11-18T20:01:29.815Z"
   },
   {
    "duration": 128,
    "start_time": "2022-11-18T20:01:30.000Z"
   },
   {
    "duration": 137,
    "start_time": "2022-11-18T20:01:30.129Z"
   },
   {
    "duration": 253,
    "start_time": "2022-11-18T20:01:30.268Z"
   },
   {
    "duration": 311,
    "start_time": "2022-11-18T20:01:30.523Z"
   },
   {
    "duration": 154,
    "start_time": "2022-11-18T20:01:30.837Z"
   },
   {
    "duration": 173,
    "start_time": "2022-11-18T20:01:30.993Z"
   },
   {
    "duration": 140,
    "start_time": "2022-11-18T20:01:31.168Z"
   },
   {
    "duration": 162,
    "start_time": "2022-11-18T20:01:31.310Z"
   },
   {
    "duration": 242,
    "start_time": "2022-11-18T20:01:31.474Z"
   },
   {
    "duration": 158,
    "start_time": "2022-11-18T20:01:31.718Z"
   },
   {
    "duration": 166,
    "start_time": "2022-11-18T20:01:31.878Z"
   },
   {
    "duration": 248,
    "start_time": "2022-11-18T20:01:32.046Z"
   },
   {
    "duration": 171,
    "start_time": "2022-11-18T20:01:32.295Z"
   },
   {
    "duration": 157,
    "start_time": "2022-11-18T20:01:32.468Z"
   },
   {
    "duration": 167,
    "start_time": "2022-11-18T20:01:32.627Z"
   },
   {
    "duration": 159,
    "start_time": "2022-11-18T20:01:32.795Z"
   },
   {
    "duration": 163,
    "start_time": "2022-11-18T20:01:32.957Z"
   },
   {
    "duration": 22,
    "start_time": "2022-11-18T20:01:33.122Z"
   },
   {
    "duration": 149,
    "start_time": "2022-11-18T20:01:33.146Z"
   },
   {
    "duration": 15,
    "start_time": "2022-11-18T20:01:33.297Z"
   },
   {
    "duration": 125,
    "start_time": "2022-11-18T20:01:33.313Z"
   },
   {
    "duration": 125,
    "start_time": "2022-11-18T20:01:33.439Z"
   },
   {
    "duration": 136,
    "start_time": "2022-11-18T20:01:33.567Z"
   },
   {
    "duration": 286,
    "start_time": "2022-11-18T20:01:33.705Z"
   },
   {
    "duration": 220,
    "start_time": "2022-11-18T20:01:33.993Z"
   },
   {
    "duration": 261,
    "start_time": "2022-11-18T20:01:34.214Z"
   },
   {
    "duration": 21,
    "start_time": "2022-11-18T20:01:34.477Z"
   },
   {
    "duration": 16,
    "start_time": "2022-11-18T20:01:34.499Z"
   },
   {
    "duration": 169,
    "start_time": "2022-11-18T20:01:34.517Z"
   },
   {
    "duration": 1905,
    "start_time": "2022-11-19T10:52:35.425Z"
   },
   {
    "duration": 54,
    "start_time": "2022-11-19T10:52:37.332Z"
   },
   {
    "duration": 7,
    "start_time": "2022-11-19T10:52:37.387Z"
   },
   {
    "duration": 2310,
    "start_time": "2022-11-19T10:52:37.395Z"
   },
   {
    "duration": 5,
    "start_time": "2022-11-19T10:52:39.713Z"
   },
   {
    "duration": 13,
    "start_time": "2022-11-19T10:52:39.719Z"
   },
   {
    "duration": 6,
    "start_time": "2022-11-19T10:52:39.733Z"
   },
   {
    "duration": 5,
    "start_time": "2022-11-19T10:52:39.740Z"
   },
   {
    "duration": 10,
    "start_time": "2022-11-19T10:52:39.746Z"
   },
   {
    "duration": 3,
    "start_time": "2022-11-19T10:52:39.758Z"
   },
   {
    "duration": 70,
    "start_time": "2022-11-19T10:52:39.762Z"
   },
   {
    "duration": 5,
    "start_time": "2022-11-19T10:52:39.834Z"
   },
   {
    "duration": 8,
    "start_time": "2022-11-19T10:52:39.840Z"
   },
   {
    "duration": 5,
    "start_time": "2022-11-19T10:52:39.849Z"
   },
   {
    "duration": 4,
    "start_time": "2022-11-19T10:52:39.855Z"
   },
   {
    "duration": 14,
    "start_time": "2022-11-19T10:52:39.861Z"
   },
   {
    "duration": 38,
    "start_time": "2022-11-19T10:52:39.877Z"
   },
   {
    "duration": 7,
    "start_time": "2022-11-19T10:52:39.916Z"
   },
   {
    "duration": 7,
    "start_time": "2022-11-19T10:52:39.925Z"
   },
   {
    "duration": 24,
    "start_time": "2022-11-19T10:52:39.933Z"
   },
   {
    "duration": 13,
    "start_time": "2022-11-19T10:52:39.959Z"
   },
   {
    "duration": 17,
    "start_time": "2022-11-19T10:52:39.973Z"
   },
   {
    "duration": 7,
    "start_time": "2022-11-19T10:52:40.012Z"
   },
   {
    "duration": 610,
    "start_time": "2022-11-19T10:52:40.021Z"
   },
   {
    "duration": 57,
    "start_time": "2022-11-19T10:52:40.633Z"
   },
   {
    "duration": 97,
    "start_time": "2022-11-19T10:52:40.692Z"
   },
   {
    "duration": 5,
    "start_time": "2022-11-19T10:52:40.790Z"
   },
   {
    "duration": 84,
    "start_time": "2022-11-19T10:52:40.812Z"
   },
   {
    "duration": 1382,
    "start_time": "2022-11-19T10:52:40.898Z"
   },
   {
    "duration": 81,
    "start_time": "2022-11-19T10:52:42.281Z"
   },
   {
    "duration": 85,
    "start_time": "2022-11-19T10:52:42.363Z"
   },
   {
    "duration": 4,
    "start_time": "2022-11-19T10:52:42.450Z"
   },
   {
    "duration": 9,
    "start_time": "2022-11-19T10:52:42.455Z"
   },
   {
    "duration": 3,
    "start_time": "2022-11-19T10:52:42.466Z"
   },
   {
    "duration": 13,
    "start_time": "2022-11-19T10:52:42.470Z"
   },
   {
    "duration": 365,
    "start_time": "2022-11-19T10:52:42.484Z"
   },
   {
    "duration": 5,
    "start_time": "2022-11-19T10:52:42.850Z"
   },
   {
    "duration": 14,
    "start_time": "2022-11-19T10:52:42.856Z"
   },
   {
    "duration": 361,
    "start_time": "2022-11-19T10:52:42.871Z"
   },
   {
    "duration": 233,
    "start_time": "2022-11-19T10:52:43.234Z"
   },
   {
    "duration": 165,
    "start_time": "2022-11-19T10:52:43.468Z"
   },
   {
    "duration": 173,
    "start_time": "2022-11-19T10:52:43.634Z"
   },
   {
    "duration": 174,
    "start_time": "2022-11-19T10:52:43.808Z"
   },
   {
    "duration": 112,
    "start_time": "2022-11-19T10:52:43.984Z"
   },
   {
    "duration": 119,
    "start_time": "2022-11-19T10:52:44.098Z"
   },
   {
    "duration": 222,
    "start_time": "2022-11-19T10:52:44.218Z"
   },
   {
    "duration": 301,
    "start_time": "2022-11-19T10:52:44.442Z"
   },
   {
    "duration": 154,
    "start_time": "2022-11-19T10:52:44.745Z"
   },
   {
    "duration": 161,
    "start_time": "2022-11-19T10:52:44.901Z"
   },
   {
    "duration": 165,
    "start_time": "2022-11-19T10:52:45.063Z"
   },
   {
    "duration": 150,
    "start_time": "2022-11-19T10:52:45.230Z"
   },
   {
    "duration": 238,
    "start_time": "2022-11-19T10:52:45.381Z"
   },
   {
    "duration": 148,
    "start_time": "2022-11-19T10:52:45.620Z"
   },
   {
    "duration": 168,
    "start_time": "2022-11-19T10:52:45.770Z"
   },
   {
    "duration": 226,
    "start_time": "2022-11-19T10:52:45.939Z"
   },
   {
    "duration": 159,
    "start_time": "2022-11-19T10:52:46.166Z"
   },
   {
    "duration": 142,
    "start_time": "2022-11-19T10:52:46.327Z"
   },
   {
    "duration": 149,
    "start_time": "2022-11-19T10:52:46.470Z"
   },
   {
    "duration": 144,
    "start_time": "2022-11-19T10:52:46.620Z"
   },
   {
    "duration": 155,
    "start_time": "2022-11-19T10:52:46.766Z"
   },
   {
    "duration": 17,
    "start_time": "2022-11-19T10:52:46.923Z"
   },
   {
    "duration": 139,
    "start_time": "2022-11-19T10:52:46.942Z"
   },
   {
    "duration": 14,
    "start_time": "2022-11-19T10:52:47.082Z"
   },
   {
    "duration": 116,
    "start_time": "2022-11-19T10:52:47.097Z"
   },
   {
    "duration": 118,
    "start_time": "2022-11-19T10:52:47.214Z"
   },
   {
    "duration": 120,
    "start_time": "2022-11-19T10:52:47.333Z"
   },
   {
    "duration": 250,
    "start_time": "2022-11-19T10:52:47.454Z"
   },
   {
    "duration": 177,
    "start_time": "2022-11-19T10:52:47.705Z"
   },
   {
    "duration": 257,
    "start_time": "2022-11-19T10:52:47.883Z"
   },
   {
    "duration": 21,
    "start_time": "2022-11-19T10:52:48.141Z"
   },
   {
    "duration": 15,
    "start_time": "2022-11-19T10:52:48.163Z"
   },
   {
    "duration": 158,
    "start_time": "2022-11-19T10:52:48.180Z"
   }
  ],
  "kernelspec": {
   "display_name": "Python 3",
   "language": "python",
   "name": "python3"
  },
  "language_info": {
   "codemirror_mode": {
    "name": "ipython",
    "version": 3
   },
   "file_extension": ".py",
   "mimetype": "text/x-python",
   "name": "python",
   "nbconvert_exporter": "python",
   "pygments_lexer": "ipython3",
   "version": "3.7.0"
  },
  "toc": {
   "base_numbering": 1,
   "nav_menu": {},
   "number_sections": true,
   "sideBar": true,
   "skip_h1_title": true,
   "title_cell": "Table of Contents",
   "title_sidebar": "Contents",
   "toc_cell": false,
   "toc_position": {
    "height": "525.6px",
    "left": "202px",
    "top": "514.325px",
    "width": "286.075px"
   },
   "toc_section_display": true,
   "toc_window_display": true
  }
 },
 "nbformat": 4,
 "nbformat_minor": 2
}
